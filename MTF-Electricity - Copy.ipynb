{
 "cells": [
  {
   "cell_type": "markdown",
   "metadata": {
    "ExecuteTime": {
     "end_time": "2020-12-22T00:00:12.111205Z",
     "start_time": "2020-12-22T00:00:12.104208Z"
    }
   },
   "source": [
    "0 MTF for elecricity"
   ]
  },
  {
   "cell_type": "code",
   "execution_count": 6,
   "metadata": {
    "ExecuteTime": {
     "end_time": "2020-12-22T17:18:19.023757Z",
     "start_time": "2020-12-22T17:18:19.012758Z"
    }
   },
   "outputs": [],
   "source": [
    "import numpy as np\n",
    "import pandas as pd\n",
    "import matplotlib.pyplot as plt\n",
    "from matplotlib.pyplot import pie, axis, show\n",
    "import seaborn as sns\n",
    "sns.set_style('darkgrid')\n",
    "import warnings\n",
    "warnings.filterwarnings(\"ignore\")\n",
    "import math\n",
    "import plotly.express as px"
   ]
  },
  {
   "cell_type": "markdown",
   "metadata": {},
   "source": [
    "## Importing the dataset"
   ]
  },
  {
   "cell_type": "code",
   "execution_count": 7,
   "metadata": {
    "ExecuteTime": {
     "end_time": "2020-12-22T17:18:19.070763Z",
     "start_time": "2020-12-22T17:18:19.028763Z"
    }
   },
   "outputs": [
    {
     "data": {
      "text/plain": [
       "(3295, 43)"
      ]
     },
     "execution_count": 7,
     "metadata": {},
     "output_type": "execute_result"
    }
   ],
   "source": [
    "df = pd.read_csv('Main_dataset.csv')\n",
    "df.shape"
   ]
  },
  {
   "cell_type": "markdown",
   "metadata": {
    "ExecuteTime": {
     "end_time": "2020-12-22T00:01:32.467079Z",
     "start_time": "2020-12-22T00:01:32.456077Z"
    }
   },
   "source": [
    "## Analysing different Attributes\n",
    "\n",
    "Attributes which are analysed for MTF_Rwanda_Questionnaire_Household: \n",
    "\n",
    "1. Capacity\n",
    "2. Availability\n",
    "3. Reliability\n",
    "4. Quality\n",
    "5. Affordability - not collected in this report\n",
    "6. legality\n",
    "7. Health and safety"
   ]
  },
  {
   "cell_type": "code",
   "execution_count": 8,
   "metadata": {
    "ExecuteTime": {
     "end_time": "2020-12-22T17:18:19.085757Z",
     "start_time": "2020-12-22T17:18:19.076760Z"
    }
   },
   "outputs": [
    {
     "data": {
      "text/plain": [
       "Index(['Unnamed: 0', 'C22', 'C64', 'C88', 'C117', 'C119A', 'C26A', 'C26B',\n",
       "       'C68A', 'C68B', 'C107A', 'C107B', 'C127', 'C137A', 'C137B', 'C172A',\n",
       "       'C172B', 'C27A', 'C27B', 'C69A', 'C69B', 'C108A', 'C108B', 'C138A',\n",
       "       'C138B', 'C173A', 'C173B', 'C29A', 'C29B', 'C71A', 'C71B', 'C39', 'C81',\n",
       "       'C110', 'C140', 'C17', 'C57', 'C41', 'C83', 'C112', 'C130', 'C142',\n",
       "       'C175'],\n",
       "      dtype='object')"
      ]
     },
     "execution_count": 8,
     "metadata": {},
     "output_type": "execute_result"
    }
   ],
   "source": [
    "df.columns"
   ]
  },
  {
   "cell_type": "markdown",
   "metadata": {},
   "source": [
    "# Attribute: Capacity"
   ]
  },
  {
   "cell_type": "markdown",
   "metadata": {},
   "source": [
    "To find out the power capacity, we need to know the different sources of power available. From our dataset:\n",
    "    \n",
    "1. C22: Power available from the national grid\n",
    "2. C64: Power available from the mini grid\n",
    "3. C88: Power available from the generator set\n",
    "4. C117: Power available from the inverter\n",
    "5. C119: Power available from the batteries\n",
    "6. C151: Power available from solar panel (Not present in the dataset but is there in the survey)\n",
    "7. C154: Power available from solar batteries (Not present in the dataset but is there in the survey)\n",
    "8. Other source: Pico-Hyro (power capacity question not mentioned in the survey)"
   ]
  },
  {
   "cell_type": "code",
   "execution_count": 9,
   "metadata": {
    "ExecuteTime": {
     "end_time": "2020-12-22T17:18:19.116753Z",
     "start_time": "2020-12-22T17:18:19.092759Z"
    }
   },
   "outputs": [],
   "source": [
    "df_capacity = df[['C22', 'C64','C88','C117','C119A']]"
   ]
  },
  {
   "cell_type": "code",
   "execution_count": 10,
   "metadata": {
    "ExecuteTime": {
     "end_time": "2020-12-22T17:18:19.131759Z",
     "start_time": "2020-12-22T17:18:19.121761Z"
    }
   },
   "outputs": [],
   "source": [
    "# renaming the columns\n",
    "df_capacity.columns = ['National_Grid', 'Mini_Grid','Generator','Inverter','Battery']"
   ]
  },
  {
   "cell_type": "markdown",
   "metadata": {},
   "source": [
    "## Total_capacity\n",
    "Total capacity is the sum of capacities of all the power sources.\n",
    "\n",
    "1. Page 14 of MTF Energy Access Country Diagnostic report confirms that the average monthly household consumption of electricity is 20.8 kWh nationwide, 29.2 kWh in urban areas, and 9.9 kWh in rural areas. This means that the values recorded in the MTF survey for capacity are in kWh.\n",
    "\n",
    "2. 26.8% of households households have been assessed as having basic access to electricity supply. The remaining 73.2% have no electricity source"
   ]
  },
  {
   "cell_type": "code",
   "execution_count": 11,
   "metadata": {
    "ExecuteTime": {
     "end_time": "2020-12-22T17:18:19.402761Z",
     "start_time": "2020-12-22T17:18:19.136762Z"
    }
   },
   "outputs": [],
   "source": [
    "lst=[]\n",
    "for i in range(df_capacity.shape[0]):\n",
    "    temp=0\n",
    "    for j in range(df_capacity.shape[1]):\n",
    "        if math.isnan(df_capacity.iat[i,j]):\n",
    "            temp = temp\n",
    "        else:\n",
    "            temp = temp + df_capacity.iat[i,j]\n",
    "    lst.append(temp)\n",
    "\n",
    "# adding list to dataframe\n",
    "df_capacity[\"Total_Capacity_in_kWh_month\"] = lst"
   ]
  },
  {
   "cell_type": "code",
   "execution_count": 12,
   "metadata": {
    "ExecuteTime": {
     "end_time": "2020-12-22T17:18:19.450755Z",
     "start_time": "2020-12-22T17:18:19.408761Z"
    }
   },
   "outputs": [
    {
     "data": {
      "text/html": [
       "<div>\n",
       "<style scoped>\n",
       "    .dataframe tbody tr th:only-of-type {\n",
       "        vertical-align: middle;\n",
       "    }\n",
       "\n",
       "    .dataframe tbody tr th {\n",
       "        vertical-align: top;\n",
       "    }\n",
       "\n",
       "    .dataframe thead th {\n",
       "        text-align: right;\n",
       "    }\n",
       "</style>\n",
       "<table border=\"1\" class=\"dataframe\">\n",
       "  <thead>\n",
       "    <tr style=\"text-align: right;\">\n",
       "      <th></th>\n",
       "      <th>National_Grid</th>\n",
       "      <th>Mini_Grid</th>\n",
       "      <th>Generator</th>\n",
       "      <th>Inverter</th>\n",
       "      <th>Battery</th>\n",
       "      <th>Total_Capacity_in_kWh_month</th>\n",
       "    </tr>\n",
       "  </thead>\n",
       "  <tbody>\n",
       "    <tr>\n",
       "      <th>50</th>\n",
       "      <td>NaN</td>\n",
       "      <td>NaN</td>\n",
       "      <td>NaN</td>\n",
       "      <td>NaN</td>\n",
       "      <td>NaN</td>\n",
       "      <td>0.00</td>\n",
       "    </tr>\n",
       "    <tr>\n",
       "      <th>51</th>\n",
       "      <td>NaN</td>\n",
       "      <td>NaN</td>\n",
       "      <td>NaN</td>\n",
       "      <td>NaN</td>\n",
       "      <td>NaN</td>\n",
       "      <td>0.00</td>\n",
       "    </tr>\n",
       "    <tr>\n",
       "      <th>52</th>\n",
       "      <td>NaN</td>\n",
       "      <td>NaN</td>\n",
       "      <td>NaN</td>\n",
       "      <td>NaN</td>\n",
       "      <td>NaN</td>\n",
       "      <td>0.00</td>\n",
       "    </tr>\n",
       "    <tr>\n",
       "      <th>53</th>\n",
       "      <td>NaN</td>\n",
       "      <td>NaN</td>\n",
       "      <td>NaN</td>\n",
       "      <td>NaN</td>\n",
       "      <td>NaN</td>\n",
       "      <td>0.00</td>\n",
       "    </tr>\n",
       "    <tr>\n",
       "      <th>54</th>\n",
       "      <td>NaN</td>\n",
       "      <td>NaN</td>\n",
       "      <td>NaN</td>\n",
       "      <td>NaN</td>\n",
       "      <td>NaN</td>\n",
       "      <td>0.00</td>\n",
       "    </tr>\n",
       "    <tr>\n",
       "      <th>55</th>\n",
       "      <td>18.60</td>\n",
       "      <td>NaN</td>\n",
       "      <td>NaN</td>\n",
       "      <td>NaN</td>\n",
       "      <td>NaN</td>\n",
       "      <td>18.60</td>\n",
       "    </tr>\n",
       "    <tr>\n",
       "      <th>56</th>\n",
       "      <td>20.93</td>\n",
       "      <td>NaN</td>\n",
       "      <td>NaN</td>\n",
       "      <td>NaN</td>\n",
       "      <td>NaN</td>\n",
       "      <td>20.93</td>\n",
       "    </tr>\n",
       "    <tr>\n",
       "      <th>57</th>\n",
       "      <td>4.65</td>\n",
       "      <td>NaN</td>\n",
       "      <td>NaN</td>\n",
       "      <td>NaN</td>\n",
       "      <td>NaN</td>\n",
       "      <td>4.65</td>\n",
       "    </tr>\n",
       "    <tr>\n",
       "      <th>58</th>\n",
       "      <td>4.65</td>\n",
       "      <td>NaN</td>\n",
       "      <td>NaN</td>\n",
       "      <td>NaN</td>\n",
       "      <td>NaN</td>\n",
       "      <td>4.65</td>\n",
       "    </tr>\n",
       "    <tr>\n",
       "      <th>59</th>\n",
       "      <td>NaN</td>\n",
       "      <td>NaN</td>\n",
       "      <td>NaN</td>\n",
       "      <td>NaN</td>\n",
       "      <td>NaN</td>\n",
       "      <td>0.00</td>\n",
       "    </tr>\n",
       "  </tbody>\n",
       "</table>\n",
       "</div>"
      ],
      "text/plain": [
       "    National_Grid  Mini_Grid  Generator  Inverter  Battery  \\\n",
       "50            NaN        NaN        NaN       NaN      NaN   \n",
       "51            NaN        NaN        NaN       NaN      NaN   \n",
       "52            NaN        NaN        NaN       NaN      NaN   \n",
       "53            NaN        NaN        NaN       NaN      NaN   \n",
       "54            NaN        NaN        NaN       NaN      NaN   \n",
       "55          18.60        NaN        NaN       NaN      NaN   \n",
       "56          20.93        NaN        NaN       NaN      NaN   \n",
       "57           4.65        NaN        NaN       NaN      NaN   \n",
       "58           4.65        NaN        NaN       NaN      NaN   \n",
       "59            NaN        NaN        NaN       NaN      NaN   \n",
       "\n",
       "    Total_Capacity_in_kWh_month  \n",
       "50                         0.00  \n",
       "51                         0.00  \n",
       "52                         0.00  \n",
       "53                         0.00  \n",
       "54                         0.00  \n",
       "55                        18.60  \n",
       "56                        20.93  \n",
       "57                         4.65  \n",
       "58                         4.65  \n",
       "59                         0.00  "
      ]
     },
     "execution_count": 12,
     "metadata": {},
     "output_type": "execute_result"
    }
   ],
   "source": [
    "df_capacity[50:60]"
   ]
  },
  {
   "cell_type": "markdown",
   "metadata": {},
   "source": [
    "The power capacity units provided in the dataset are in monthly kWh. However, for TIER analysis the units are in daily Wh consumption. Therefore, dividing the dataset by 30 and multiplying it by 1000."
   ]
  },
  {
   "cell_type": "code",
   "execution_count": 13,
   "metadata": {
    "ExecuteTime": {
     "end_time": "2020-12-22T17:18:19.481759Z",
     "start_time": "2020-12-22T17:18:19.456757Z"
    }
   },
   "outputs": [],
   "source": [
    "df_capacity[\"Total_Capacity_in_W\"] = df_capacity[\"Total_Capacity_in_kWh_month\"].apply(lambda x: x if math.isnan(x) else (x*1000)/30)"
   ]
  },
  {
   "cell_type": "code",
   "execution_count": 14,
   "metadata": {
    "ExecuteTime": {
     "end_time": "2020-12-22T17:18:19.496759Z",
     "start_time": "2020-12-22T17:18:19.485759Z"
    }
   },
   "outputs": [],
   "source": [
    "# Replacing 0 values again with NaN\n",
    "df_capacity[\"Total_Capacity_in_W\"].replace(0, np.nan, inplace=True)\n",
    "#df_capacity[\"Total_Capacity_in_W\"]"
   ]
  },
  {
   "cell_type": "code",
   "execution_count": 15,
   "metadata": {
    "ExecuteTime": {
     "end_time": "2020-12-22T17:18:19.512757Z",
     "start_time": "2020-12-22T17:18:19.500759Z"
    }
   },
   "outputs": [],
   "source": [
    "#Replacing NaN values with \"Missing_data\" \n",
    "df_capacity[\"Total_Capacity_in_W\"] = df_capacity[\"Total_Capacity_in_W\"].apply(lambda x: \"Missing_data\" if math.isnan(x) else x)"
   ]
  },
  {
   "cell_type": "markdown",
   "metadata": {
    "ExecuteTime": {
     "end_time": "2020-12-22T00:25:11.254237Z",
     "start_time": "2020-12-22T00:25:11.249235Z"
    }
   },
   "source": [
    "### Calculating the tier level"
   ]
  },
  {
   "cell_type": "code",
   "execution_count": 16,
   "metadata": {
    "ExecuteTime": {
     "end_time": "2020-12-22T17:18:19.544757Z",
     "start_time": "2020-12-22T17:18:19.518758Z"
    }
   },
   "outputs": [],
   "source": [
    "def fun_E_capacity(Total_Capacity):\n",
    "    if Total_Capacity == 'Missing_data':\n",
    "        return 0\n",
    "    elif Total_Capacity<3:\n",
    "        return 0\n",
    "    elif 3 <= Total_Capacity < 50:\n",
    "        return 1\n",
    "    elif 50 <= Total_Capacity < 200:\n",
    "        return 2\n",
    "    elif 200 <= Total_Capacity < 800:\n",
    "        return 3\n",
    "    elif 800 <= Total_Capacity < 2000:\n",
    "        return 4\n",
    "    else:\n",
    "        return 5\n",
    "    \n",
    "func = np.vectorize(fun_E_capacity)\n",
    "df_capacity[\"E_capacity\"] = func(df_capacity[\"Total_Capacity_in_W\"])\n",
    "#df_capacity[\"E_capacity\"] "
   ]
  },
  {
   "cell_type": "code",
   "execution_count": 17,
   "metadata": {
    "ExecuteTime": {
     "end_time": "2020-12-22T17:18:20.332753Z",
     "start_time": "2020-12-22T17:18:19.549766Z"
    }
   },
   "outputs": [
    {
     "data": {
      "text/plain": [
       "Text(0.5, 1.0, 'TIER levels based on power capacity')"
      ]
     },
     "execution_count": 17,
     "metadata": {},
     "output_type": "execute_result"
    },
    {
     "data": {
      "image/png": "[encoded data removed]",
      "text/plain": [
       "<Figure size 1296x432 with 2 Axes>"
      ]
     },
     "metadata": {},
     "output_type": "display_data"
    }
   ],
   "source": [
    "#Pie plot\n",
    "f,ax=plt.subplots(1,2, figsize=(18,6))\n",
    "df_capacity[\"E_capacity\"].value_counts().plot.pie( autopct='%1.0f%%',ax=ax[0])\n",
    "ax[0].set_title('TIER levels based on power capacity')\n",
    "\n",
    "#Boxplot\n",
    "sns.countplot('E_capacity',data=df_capacity,ax=ax[1])\n",
    "ax[1].set_title('TIER levels based on power capacity')"
   ]
  },
  {
   "cell_type": "code",
   "execution_count": 18,
   "metadata": {
    "ExecuteTime": {
     "end_time": "2020-12-22T17:18:20.348755Z",
     "start_time": "2020-12-22T17:18:20.337755Z"
    }
   },
   "outputs": [],
   "source": [
    "#sns.pairplot(df_capacity)"
   ]
  },
  {
   "cell_type": "markdown",
   "metadata": {},
   "source": [
    "# Attribute: Availabilty"
   ]
  },
  {
   "cell_type": "markdown",
   "metadata": {},
   "source": [
    "## Availability: Day and night"
   ]
  },
  {
   "cell_type": "markdown",
   "metadata": {},
   "source": [
    "Methodology:\n",
    "\n",
    "To understand the attribute more carefully, features from every power souce have been taekn into consideration; \n",
    "\n",
    "* C26A represents the hours of electricity available each day and night from the national grid in the worst months. \n",
    "* Whereas, C26B represents the hours of electricity available each day and night from  the national grid in the typical months.\n",
    "* C68A represents the hours of electricity available each day and night from the mini grid in the worst months.\n",
    "* Whereas, C68B represents the hours of electricity available each day and night from  the mini grid in the typical months.\n",
    "* C107A represents the hours of electricity available each day and night from the generator set in the worst months.\n",
    "* Whereas, C107B represents the hours of electricity available each day and night from  the generator set in the typical months.\n",
    "* C127 represents the hours of electricity available each day from the rechargeable battery.\n",
    "* C137A represents the hours of electricity available each day and night from pico-hydro in the worst months.\n",
    "* Whereas, C137B represents the hours of electricity available each day and night from  pico-hydro in the typical months.\n",
    "* C172A represents the hours of electricity available each day and night from  main solar based devices in the worst months.\n",
    "* Whereas, C172B represents the hours of electricity available each day and night from  main solar based devices in the typical months."
   ]
  },
  {
   "cell_type": "code",
   "execution_count": 19,
   "metadata": {
    "ExecuteTime": {
     "end_time": "2020-12-22T17:18:20.363761Z",
     "start_time": "2020-12-22T17:18:20.352760Z"
    }
   },
   "outputs": [],
   "source": [
    "df_availablity_day= df[['C26A','C26B','C68A','C68B','C107A','C107B','C127','C137A','C137B','C172A','C172B']]"
   ]
  },
  {
   "cell_type": "code",
   "execution_count": 20,
   "metadata": {
    "ExecuteTime": {
     "end_time": "2020-12-22T17:18:20.379759Z",
     "start_time": "2020-12-22T17:18:20.368758Z"
    }
   },
   "outputs": [],
   "source": [
    "df_availablity_day.columns = ['National_grid_Worst', 'National_grid_Typical','Mini_grid_Worst','Mini_grid_Typical','Generator_set_Worst','Generator_set_Typical','Battery','Pico_hydro_Worst','Pico_hydro_Typical','Solar_device_Worst','Solar_device_Typical']"
   ]
  },
  {
   "cell_type": "markdown",
   "metadata": {
    "ExecuteTime": {
     "end_time": "2020-12-22T11:23:54.490065Z",
     "start_time": "2020-12-22T11:23:54.466062Z"
    }
   },
   "source": [
    "### Day Total-Availability\n",
    "\n",
    "In this step Total availabilty for all the power sources has been analysed. Taking the worst months into consideration, the missing values in \"worst\" months have been added from the \"typical\" months. This is done as the World bank takes the worst condition into account for enery access assessment."
   ]
  },
  {
   "cell_type": "code",
   "execution_count": 21,
   "metadata": {
    "ExecuteTime": {
     "end_time": "2020-12-22T17:18:20.425753Z",
     "start_time": "2020-12-22T17:18:20.384756Z"
    }
   },
   "outputs": [],
   "source": [
    "#National Grid\n",
    "df_availablity_day['National_grid_Total'] = df_availablity_day.National_grid_Worst.fillna(value=df_availablity_day.National_grid_Typical)\n",
    "\n",
    "#National Grid\n",
    "df_availablity_day['Mini_grid_Total'] = df_availablity_day.Mini_grid_Worst.fillna(value=df_availablity_day.Mini_grid_Typical)\n",
    "\n",
    "#Generator Set\n",
    "df_availablity_day['Generator_set_Total'] = df_availablity_day.Generator_set_Worst.fillna(value=df_availablity_day.Generator_set_Typical)\n",
    "\n",
    "#Pico Hydro\n",
    "df_availablity_day['Pico_hydro_Total'] = df_availablity_day.Pico_hydro_Worst.fillna(value=df_availablity_day.Pico_hydro_Typical)\n",
    "\n",
    "#Solar Devicce\n",
    "df_availablity_day['Solar_device_Total'] = df_availablity_day.Solar_device_Worst.fillna(value=df_availablity_day.Solar_device_Typical)\n",
    "\n",
    "\n",
    "#Taking only the total values into consideration\n",
    "df_av_day=df_availablity_day[['National_grid_Total','Mini_grid_Total','Generator_set_Total','Pico_hydro_Total','Solar_device_Total','Battery']]"
   ]
  },
  {
   "cell_type": "code",
   "execution_count": 22,
   "metadata": {
    "ExecuteTime": {
     "end_time": "2020-12-22T17:18:20.455754Z",
     "start_time": "2020-12-22T17:18:20.429760Z"
    }
   },
   "outputs": [],
   "source": [
    "#Changing the string variables into float/int\n",
    "df_av_day=df_av_day.replace(to_replace=\"Don't know\",value=0)\n",
    "df_av_day= df_av_day.apply(pd.to_numeric, errors='coerce')"
   ]
  },
  {
   "cell_type": "markdown",
   "metadata": {},
   "source": [
    "### Day Calculating the tiel level"
   ]
  },
  {
   "cell_type": "code",
   "execution_count": 23,
   "metadata": {
    "ExecuteTime": {
     "end_time": "2020-12-22T17:18:20.738755Z",
     "start_time": "2020-12-22T17:18:20.461781Z"
    }
   },
   "outputs": [],
   "source": [
    "lst=[]\n",
    "for i in range(df_av_day.shape[0]):\n",
    "    temp=0\n",
    "    for j in range(df_av_day.shape[1]):\n",
    "        if math.isnan(df_av_day.iat[i,j]):\n",
    "            temp = temp\n",
    "        else:\n",
    "            temp = temp + df_av_day.iat[i,j]\n",
    "    lst.append(temp)\n",
    "\n",
    "# adding list to dataframe\n",
    "df_av_day[\"Total_availability\"] = lst"
   ]
  },
  {
   "cell_type": "code",
   "execution_count": 24,
   "metadata": {
    "ExecuteTime": {
     "end_time": "2020-12-22T17:18:20.753759Z",
     "start_time": "2020-12-22T17:18:20.748762Z"
    }
   },
   "outputs": [],
   "source": [
    "#df_av_day"
   ]
  },
  {
   "cell_type": "code",
   "execution_count": 25,
   "metadata": {
    "ExecuteTime": {
     "end_time": "2020-12-22T17:18:20.784757Z",
     "start_time": "2020-12-22T17:18:20.762759Z"
    }
   },
   "outputs": [],
   "source": [
    "df_av_day['Total_availability'] = df_av_day.replace(np.nan, 'Missing_data', regex=True)"
   ]
  },
  {
   "cell_type": "code",
   "execution_count": 26,
   "metadata": {
    "ExecuteTime": {
     "end_time": "2020-12-22T17:18:20.815756Z",
     "start_time": "2020-12-22T17:18:20.788759Z"
    }
   },
   "outputs": [],
   "source": [
    "# AVAILABILITY: Day\n",
    "#Note: conditions for TIER 1 and 2 are the same\n",
    "\n",
    "def fun_E_availability(Total_availability):\n",
    "    if Total_availability == 'Missing_data':\n",
    "        return 0\n",
    "    elif Total_availability == 0:\n",
    "        return 0\n",
    "    elif 0 < Total_availability < 4:\n",
    "        return 0\n",
    "    elif 4 <= Total_availability < 8:\n",
    "        return 1\n",
    "    elif 8 <= Total_availability < 16:\n",
    "        return 3\n",
    "    elif 16 <= Total_availability < 23:\n",
    "        return 4\n",
    "    else:\n",
    "        return 5\n",
    "    \n",
    "func = np.vectorize(fun_E_availability)\n",
    "df_av_day[\"E_availability_day\"] = func(df_av_day[\"Total_availability\"])"
   ]
  },
  {
   "cell_type": "code",
   "execution_count": 27,
   "metadata": {
    "ExecuteTime": {
     "end_time": "2020-12-22T17:18:21.376755Z",
     "start_time": "2020-12-22T17:18:20.820762Z"
    }
   },
   "outputs": [
    {
     "data": {
      "text/plain": [
       "Text(0.5, 1.0, 'TIER levels based on day and night power availability')"
      ]
     },
     "execution_count": 27,
     "metadata": {},
     "output_type": "execute_result"
    },
    {
     "data": {
      "image/png": "[encoded data removed]",
      "text/plain": [
       "<Figure size 1296x432 with 2 Axes>"
      ]
     },
     "metadata": {},
     "output_type": "display_data"
    }
   ],
   "source": [
    "#Pie plot\n",
    "f,ax=plt.subplots(1,2, figsize=(18,6))\n",
    "df_av_day['E_availability_day'].value_counts().plot.pie( autopct='%1.0f%%',ax=ax[0])\n",
    "ax[0].set_title('TIER levels based on day and night power availability')\n",
    "\n",
    "#Barplot\n",
    "sns.countplot('E_availability_day',data=df_av_day,ax=ax[1])\n",
    "ax[1].set_title('TIER levels based on day and night power availability')"
   ]
  },
  {
   "cell_type": "markdown",
   "metadata": {},
   "source": [
    "### Evening Total-Avaliability"
   ]
  },
  {
   "cell_type": "markdown",
   "metadata": {},
   "source": [
    "Methodology:\n",
    "\n",
    "To understand the attribute more carefully, features from every power souce have been taekn into consideration; \n",
    "\n",
    "* C27A represents the hours of electricity available each evening from the national grid in the worst months. \n",
    "* Whereas, C27B represents the hours of electricity available each evening from  the national grid in the typical months.\n",
    "* C69A represents the hours of electricity available each evening from the mini grid in the worst months.\n",
    "* Whereas, C69B represents the hours of electricity available each evening from  the mini grid in the typical months.\n",
    "* C108A represents the hours of electricity available each evening from the generator set in the worst months.\n",
    "* Whereas, C108B represents the hours of electricity available each evening from  the generator set in the typical months.\n",
    "* C138A represents the hours of electricity available each evening from pico-hydro in the worst months.\n",
    "* Whereas, C138B represents the hours of electricity available each evening from  pico-hydro in the typical months.\n",
    "* C173A represents the hours of electricity available each evening from main solar based devices in the worst months.\n",
    "* Whereas, C173B represents the hours of electricity available each evening from  main solar based devices in the typical months."
   ]
  },
  {
   "cell_type": "code",
   "execution_count": 28,
   "metadata": {
    "ExecuteTime": {
     "end_time": "2020-12-22T17:18:21.391760Z",
     "start_time": "2020-12-22T17:18:21.380765Z"
    }
   },
   "outputs": [],
   "source": [
    "df_availibility_evening= df[['C27A','C27B','C69A','C69B','C108A','C108B','C138A','C138B','C173A','C173B']]"
   ]
  },
  {
   "cell_type": "code",
   "execution_count": 29,
   "metadata": {
    "ExecuteTime": {
     "end_time": "2020-12-22T17:18:21.407754Z",
     "start_time": "2020-12-22T17:18:21.395761Z"
    }
   },
   "outputs": [],
   "source": [
    "df_availibility_evening.columns = ['National_grid_Worst', 'National_grid_Typical','Mini_grid_Worst','Mini_grid_Typical','Generator_set_Worst','Generator_set_Typical','Pico_hydro_Worst','Pico_hydro_Typical','Solar_device_Worst','Solar_device_Typical']"
   ]
  },
  {
   "cell_type": "markdown",
   "metadata": {},
   "source": [
    "### Evening Calculating the tier level\n",
    "\n",
    "In this step Total availabilty for all the power sources has been analysed. Taking the worst months into consideration, the missing values in \"worst\" months have been added from the \"typical\" months. This is done as the MTF takes the worst condition into account for enery access assessment."
   ]
  },
  {
   "cell_type": "code",
   "execution_count": 30,
   "metadata": {
    "ExecuteTime": {
     "end_time": "2020-12-22T17:18:21.453757Z",
     "start_time": "2020-12-22T17:18:21.411760Z"
    }
   },
   "outputs": [],
   "source": [
    "#National Grid\n",
    "df_availibility_evening['National_grid_Total'] = df_availibility_evening.National_grid_Worst.fillna(value=df_availibility_evening.National_grid_Typical)\n",
    "\n",
    "#National Grid\n",
    "df_availibility_evening['Mini_grid_Total'] = df_availibility_evening.Mini_grid_Worst.fillna(value=df_availibility_evening.Mini_grid_Typical)\n",
    "\n",
    "#Generator Set\n",
    "df_availibility_evening['Generator_set_Total'] = df_availibility_evening.Generator_set_Worst.fillna(value=df_availibility_evening.Generator_set_Typical)\n",
    "\n",
    "#Pico Hydro\n",
    "df_availibility_evening['Pico_hydro_Total'] = df_availibility_evening.Pico_hydro_Worst.fillna(value=df_availibility_evening.Pico_hydro_Typical)\n",
    "\n",
    "#Solar Devicce\n",
    "df_availibility_evening['Solar_device_Total'] = df_availibility_evening.Solar_device_Worst.fillna(value=df_availibility_evening.Solar_device_Typical)\n",
    "\n",
    "\n",
    "#Taking only the total values into consideration\n",
    "df_av_evening = df_availibility_evening[['National_grid_Total','Mini_grid_Total','Generator_set_Total','Pico_hydro_Total','Solar_device_Total']]"
   ]
  },
  {
   "cell_type": "code",
   "execution_count": 31,
   "metadata": {
    "ExecuteTime": {
     "end_time": "2020-12-22T17:18:21.484770Z",
     "start_time": "2020-12-22T17:18:21.457760Z"
    }
   },
   "outputs": [],
   "source": [
    "df_av_evening=df_av_evening.replace(to_replace=\"Don't know\",value=0)\n",
    "df_av_evening= df_av_evening.apply(pd.to_numeric, errors='coerce')"
   ]
  },
  {
   "cell_type": "code",
   "execution_count": 32,
   "metadata": {
    "ExecuteTime": {
     "end_time": "2020-12-22T17:18:21.718759Z",
     "start_time": "2020-12-22T17:18:21.489762Z"
    }
   },
   "outputs": [],
   "source": [
    "lst=[]\n",
    "for i in range(df_av_evening.shape[0]):\n",
    "    temp=0\n",
    "    for j in range(df_av_evening.shape[1]):\n",
    "        if math.isnan(df_av_evening.iat[i,j]):\n",
    "            temp = temp\n",
    "        else:\n",
    "            temp = temp + df_av_evening.iat[i,j]\n",
    "    lst.append(temp)\n",
    "\n",
    "# adding list to dataframe\n",
    "df_av_evening[\"Total_availability\"] = lst"
   ]
  },
  {
   "cell_type": "code",
   "execution_count": 33,
   "metadata": {
    "ExecuteTime": {
     "end_time": "2020-12-22T17:18:21.750754Z",
     "start_time": "2020-12-22T17:18:21.722769Z"
    }
   },
   "outputs": [],
   "source": [
    "df_av_evening['Total_availability'] = df_av_evening.replace(np.nan, 'Missing_data', regex=True)"
   ]
  },
  {
   "cell_type": "code",
   "execution_count": 34,
   "metadata": {
    "ExecuteTime": {
     "end_time": "2020-12-22T17:18:21.781758Z",
     "start_time": "2020-12-22T17:18:21.754758Z"
    }
   },
   "outputs": [],
   "source": [
    "# AVAILABILITY: Evening\n",
    "#Note: conditions for TIER 4 and 5 are the same\n",
    "\n",
    "def fun_E_availability(Total_availability):\n",
    "    if Total_availability == 'Missing_data':\n",
    "        return 0\n",
    "    elif Total_availability == 0:\n",
    "        return 0\n",
    "    elif 0 < Total_availability < 1:\n",
    "        return 0\n",
    "    elif 1 <= Total_availability < 2:\n",
    "        return 1\n",
    "    elif 2 <= Total_availability < 3:\n",
    "        return 2\n",
    "    elif 3 <= Total_availability < 4:\n",
    "        return 3\n",
    "    else:\n",
    "        return 4\n",
    "    \n",
    "func = np.vectorize(fun_E_availability) \n",
    "df_av_evening[\"E_availability_evening\"] = func(df_av_evening[\"Total_availability\"])"
   ]
  },
  {
   "cell_type": "code",
   "execution_count": 35,
   "metadata": {
    "ExecuteTime": {
     "end_time": "2020-12-22T17:18:22.269778Z",
     "start_time": "2020-12-22T17:18:21.788761Z"
    }
   },
   "outputs": [
    {
     "data": {
      "text/plain": [
       "Text(0.5, 1.0, 'TIER levels based on evening power availability')"
      ]
     },
     "execution_count": 35,
     "metadata": {},
     "output_type": "execute_result"
    },
    {
     "data": {
      "image/png": "[encoded data removed]",
      "text/plain": [
       "<Figure size 1296x432 with 2 Axes>"
      ]
     },
     "metadata": {},
     "output_type": "display_data"
    }
   ],
   "source": [
    "#Pie plot\n",
    "f,ax=plt.subplots(1,2, figsize=(18,6))\n",
    "df_av_evening['E_availability_evening'].value_counts().plot.pie( autopct='%1.0f%%',ax=ax[0])\n",
    "ax[0].set_title('TIER levels based on evening power availability')\n",
    "\n",
    "#Barplot\n",
    "sns.countplot('E_availability_evening',data=df_av_evening,ax=ax[1])\n",
    "ax[1].set_title('TIER levels based on evening power availability')"
   ]
  },
  {
   "cell_type": "markdown",
   "metadata": {},
   "source": [
    "In the above graph we can see that the evening availability in:\n",
    "\n",
    "1. TIER 1 contributes to 4% of evening availability which is at least 1 hours\n",
    "2. TIER 2 contributes to 8% of evening availability which is at least 2 hours\n",
    "3. TIER 3 contributes to 12% of evening availability which is at least 3 hours\n",
    "4. TIER 4&5 contributes to 24% of evening availability which is at least 4 hours"
   ]
  },
  {
   "cell_type": "markdown",
   "metadata": {},
   "source": [
    "# Attribute: Reliability\n",
    "\n",
    "Methodology:\n",
    "\n",
    "To understand the attribute more carefully, features from all the power sources have been taekn into consideration; \n",
    "* C29A represents the electricity disruption from the national grid in the worst months. \n",
    "* Whereas, C29B represents the electricity disruption from the national grid in the actual months.\n",
    "* C71A represents the electricity disruption from the mini grid in the worst months. \n",
    "* Whereas, C71B represents the electricity disruption from the mini grid in the actual months."
   ]
  },
  {
   "cell_type": "code",
   "execution_count": 36,
   "metadata": {
    "ExecuteTime": {
     "end_time": "2020-12-22T17:18:22.300790Z",
     "start_time": "2020-12-22T17:18:22.275757Z"
    }
   },
   "outputs": [],
   "source": [
    "df_reliability = df[['C29A','C29B','C71A','C71B']]"
   ]
  },
  {
   "cell_type": "code",
   "execution_count": 37,
   "metadata": {
    "ExecuteTime": {
     "end_time": "2020-12-22T17:18:22.315757Z",
     "start_time": "2020-12-22T17:18:22.305760Z"
    }
   },
   "outputs": [],
   "source": [
    "df_reliability.columns = ['National_grid_Worst','National_grid_Typical','Mini_grid_Worst','Mini_grid_Typical']"
   ]
  },
  {
   "cell_type": "markdown",
   "metadata": {},
   "source": [
    "## Total Reliability\n",
    "\n",
    "In this step Total reliability from all the power sources has been analysed. Taking the worst months into consideration, the missing values in \"worst\" months have been added from the \"typical\" months. This is done as the World bank takes the worst condition into account for enery access assessment."
   ]
  },
  {
   "cell_type": "code",
   "execution_count": 38,
   "metadata": {
    "ExecuteTime": {
     "end_time": "2020-12-22T17:18:22.345758Z",
     "start_time": "2020-12-22T17:18:22.321763Z"
    }
   },
   "outputs": [],
   "source": [
    "#National Grid\n",
    "df_reliability['National_grid_Total'] = df_reliability.National_grid_Worst.fillna(value=df_reliability.National_grid_Typical)\n",
    "\n",
    "#National Grid\n",
    "df_reliability['Mini_grid_Total'] = df_reliability.Mini_grid_Worst.fillna(value=df_reliability.Mini_grid_Typical)\n",
    "\n",
    "#Taking only the total values into consideration\n",
    "#df_rel_new=df_reliability[['National_grid_Total','Mini_grid_Total']]"
   ]
  },
  {
   "cell_type": "code",
   "execution_count": 39,
   "metadata": {
    "ExecuteTime": {
     "end_time": "2020-12-22T17:18:22.409756Z",
     "start_time": "2020-12-22T17:18:22.354762Z"
    }
   },
   "outputs": [
    {
     "data": {
      "text/html": [
       "<div>\n",
       "<style scoped>\n",
       "    .dataframe tbody tr th:only-of-type {\n",
       "        vertical-align: middle;\n",
       "    }\n",
       "\n",
       "    .dataframe tbody tr th {\n",
       "        vertical-align: top;\n",
       "    }\n",
       "\n",
       "    .dataframe thead th {\n",
       "        text-align: right;\n",
       "    }\n",
       "</style>\n",
       "<table border=\"1\" class=\"dataframe\">\n",
       "  <thead>\n",
       "    <tr style=\"text-align: right;\">\n",
       "      <th></th>\n",
       "      <th>National_grid_Worst</th>\n",
       "      <th>National_grid_Typical</th>\n",
       "      <th>Mini_grid_Worst</th>\n",
       "      <th>Mini_grid_Typical</th>\n",
       "      <th>National_grid_Total</th>\n",
       "      <th>Mini_grid_Total</th>\n",
       "    </tr>\n",
       "  </thead>\n",
       "  <tbody>\n",
       "    <tr>\n",
       "      <th>0</th>\n",
       "      <td>NaN</td>\n",
       "      <td>NaN</td>\n",
       "      <td>NaN</td>\n",
       "      <td>NaN</td>\n",
       "      <td>NaN</td>\n",
       "      <td>NaN</td>\n",
       "    </tr>\n",
       "    <tr>\n",
       "      <th>1</th>\n",
       "      <td>NaN</td>\n",
       "      <td>NaN</td>\n",
       "      <td>NaN</td>\n",
       "      <td>NaN</td>\n",
       "      <td>NaN</td>\n",
       "      <td>NaN</td>\n",
       "    </tr>\n",
       "    <tr>\n",
       "      <th>2</th>\n",
       "      <td>NaN</td>\n",
       "      <td>NaN</td>\n",
       "      <td>NaN</td>\n",
       "      <td>NaN</td>\n",
       "      <td>NaN</td>\n",
       "      <td>NaN</td>\n",
       "    </tr>\n",
       "    <tr>\n",
       "      <th>3</th>\n",
       "      <td>NaN</td>\n",
       "      <td>NaN</td>\n",
       "      <td>NaN</td>\n",
       "      <td>NaN</td>\n",
       "      <td>NaN</td>\n",
       "      <td>NaN</td>\n",
       "    </tr>\n",
       "    <tr>\n",
       "      <th>4</th>\n",
       "      <td>NaN</td>\n",
       "      <td>NaN</td>\n",
       "      <td>NaN</td>\n",
       "      <td>NaN</td>\n",
       "      <td>NaN</td>\n",
       "      <td>NaN</td>\n",
       "    </tr>\n",
       "    <tr>\n",
       "      <th>...</th>\n",
       "      <td>...</td>\n",
       "      <td>...</td>\n",
       "      <td>...</td>\n",
       "      <td>...</td>\n",
       "      <td>...</td>\n",
       "      <td>...</td>\n",
       "    </tr>\n",
       "    <tr>\n",
       "      <th>3290</th>\n",
       "      <td>NaN</td>\n",
       "      <td>NaN</td>\n",
       "      <td>NaN</td>\n",
       "      <td>NaN</td>\n",
       "      <td>NaN</td>\n",
       "      <td>NaN</td>\n",
       "    </tr>\n",
       "    <tr>\n",
       "      <th>3291</th>\n",
       "      <td>3.0</td>\n",
       "      <td>1.0</td>\n",
       "      <td>NaN</td>\n",
       "      <td>NaN</td>\n",
       "      <td>3.0</td>\n",
       "      <td>NaN</td>\n",
       "    </tr>\n",
       "    <tr>\n",
       "      <th>3292</th>\n",
       "      <td>1.0</td>\n",
       "      <td>0.0</td>\n",
       "      <td>NaN</td>\n",
       "      <td>NaN</td>\n",
       "      <td>1.0</td>\n",
       "      <td>NaN</td>\n",
       "    </tr>\n",
       "    <tr>\n",
       "      <th>3293</th>\n",
       "      <td>NaN</td>\n",
       "      <td>2.0</td>\n",
       "      <td>NaN</td>\n",
       "      <td>NaN</td>\n",
       "      <td>2.0</td>\n",
       "      <td>NaN</td>\n",
       "    </tr>\n",
       "    <tr>\n",
       "      <th>3294</th>\n",
       "      <td>NaN</td>\n",
       "      <td>NaN</td>\n",
       "      <td>NaN</td>\n",
       "      <td>NaN</td>\n",
       "      <td>NaN</td>\n",
       "      <td>NaN</td>\n",
       "    </tr>\n",
       "  </tbody>\n",
       "</table>\n",
       "<p>3295 rows × 6 columns</p>\n",
       "</div>"
      ],
      "text/plain": [
       "      National_grid_Worst  National_grid_Typical  Mini_grid_Worst  \\\n",
       "0                     NaN                    NaN              NaN   \n",
       "1                     NaN                    NaN              NaN   \n",
       "2                     NaN                    NaN              NaN   \n",
       "3                     NaN                    NaN              NaN   \n",
       "4                     NaN                    NaN              NaN   \n",
       "...                   ...                    ...              ...   \n",
       "3290                  NaN                    NaN              NaN   \n",
       "3291                  3.0                    1.0              NaN   \n",
       "3292                  1.0                    0.0              NaN   \n",
       "3293                  NaN                    2.0              NaN   \n",
       "3294                  NaN                    NaN              NaN   \n",
       "\n",
       "      Mini_grid_Typical  National_grid_Total  Mini_grid_Total  \n",
       "0                   NaN                  NaN              NaN  \n",
       "1                   NaN                  NaN              NaN  \n",
       "2                   NaN                  NaN              NaN  \n",
       "3                   NaN                  NaN              NaN  \n",
       "4                   NaN                  NaN              NaN  \n",
       "...                 ...                  ...              ...  \n",
       "3290                NaN                  NaN              NaN  \n",
       "3291                NaN                  3.0              NaN  \n",
       "3292                NaN                  1.0              NaN  \n",
       "3293                NaN                  2.0              NaN  \n",
       "3294                NaN                  NaN              NaN  \n",
       "\n",
       "[3295 rows x 6 columns]"
      ]
     },
     "execution_count": 39,
     "metadata": {},
     "output_type": "execute_result"
    }
   ],
   "source": [
    "df_reliability = df_reliability.replace(to_replace=\"Don't know\",value=0)\n",
    "df_reliability = df_reliability.apply(pd.to_numeric, errors='coerce')\n",
    "df_reliability"
   ]
  },
  {
   "cell_type": "code",
   "execution_count": 40,
   "metadata": {
    "ExecuteTime": {
     "end_time": "2020-12-22T17:18:22.689811Z",
     "start_time": "2020-12-22T17:18:22.413759Z"
    }
   },
   "outputs": [],
   "source": [
    "lst=[]\n",
    "for i in range(df_reliability.shape[0]):\n",
    "    temp=0\n",
    "    for j in range(df_reliability.shape[1]):\n",
    "        if math.isnan(df_reliability.iat[i,j]):\n",
    "            temp = temp\n",
    "        else:\n",
    "            temp = temp + df_reliability.iat[i,j]\n",
    "    lst.append(temp)\n",
    "\n",
    "# adding list to dataframe\n",
    "df_reliability[\"Total_reliability\"] = lst"
   ]
  },
  {
   "cell_type": "code",
   "execution_count": 41,
   "metadata": {
    "ExecuteTime": {
     "end_time": "2020-12-22T17:18:22.737762Z",
     "start_time": "2020-12-22T17:18:22.693756Z"
    }
   },
   "outputs": [
    {
     "data": {
      "text/html": [
       "<div>\n",
       "<style scoped>\n",
       "    .dataframe tbody tr th:only-of-type {\n",
       "        vertical-align: middle;\n",
       "    }\n",
       "\n",
       "    .dataframe tbody tr th {\n",
       "        vertical-align: top;\n",
       "    }\n",
       "\n",
       "    .dataframe thead th {\n",
       "        text-align: right;\n",
       "    }\n",
       "</style>\n",
       "<table border=\"1\" class=\"dataframe\">\n",
       "  <thead>\n",
       "    <tr style=\"text-align: right;\">\n",
       "      <th></th>\n",
       "      <th>National_grid_Worst</th>\n",
       "      <th>National_grid_Typical</th>\n",
       "      <th>Mini_grid_Worst</th>\n",
       "      <th>Mini_grid_Typical</th>\n",
       "      <th>National_grid_Total</th>\n",
       "      <th>Mini_grid_Total</th>\n",
       "      <th>Total_reliability</th>\n",
       "    </tr>\n",
       "  </thead>\n",
       "  <tbody>\n",
       "    <tr>\n",
       "      <th>0</th>\n",
       "      <td>NaN</td>\n",
       "      <td>NaN</td>\n",
       "      <td>NaN</td>\n",
       "      <td>NaN</td>\n",
       "      <td>NaN</td>\n",
       "      <td>NaN</td>\n",
       "      <td>Missing_data</td>\n",
       "    </tr>\n",
       "    <tr>\n",
       "      <th>1</th>\n",
       "      <td>NaN</td>\n",
       "      <td>NaN</td>\n",
       "      <td>NaN</td>\n",
       "      <td>NaN</td>\n",
       "      <td>NaN</td>\n",
       "      <td>NaN</td>\n",
       "      <td>Missing_data</td>\n",
       "    </tr>\n",
       "    <tr>\n",
       "      <th>2</th>\n",
       "      <td>NaN</td>\n",
       "      <td>NaN</td>\n",
       "      <td>NaN</td>\n",
       "      <td>NaN</td>\n",
       "      <td>NaN</td>\n",
       "      <td>NaN</td>\n",
       "      <td>Missing_data</td>\n",
       "    </tr>\n",
       "    <tr>\n",
       "      <th>3</th>\n",
       "      <td>NaN</td>\n",
       "      <td>NaN</td>\n",
       "      <td>NaN</td>\n",
       "      <td>NaN</td>\n",
       "      <td>NaN</td>\n",
       "      <td>NaN</td>\n",
       "      <td>Missing_data</td>\n",
       "    </tr>\n",
       "    <tr>\n",
       "      <th>4</th>\n",
       "      <td>NaN</td>\n",
       "      <td>NaN</td>\n",
       "      <td>NaN</td>\n",
       "      <td>NaN</td>\n",
       "      <td>NaN</td>\n",
       "      <td>NaN</td>\n",
       "      <td>Missing_data</td>\n",
       "    </tr>\n",
       "    <tr>\n",
       "      <th>...</th>\n",
       "      <td>...</td>\n",
       "      <td>...</td>\n",
       "      <td>...</td>\n",
       "      <td>...</td>\n",
       "      <td>...</td>\n",
       "      <td>...</td>\n",
       "      <td>...</td>\n",
       "    </tr>\n",
       "    <tr>\n",
       "      <th>3290</th>\n",
       "      <td>NaN</td>\n",
       "      <td>NaN</td>\n",
       "      <td>NaN</td>\n",
       "      <td>NaN</td>\n",
       "      <td>NaN</td>\n",
       "      <td>NaN</td>\n",
       "      <td>Missing_data</td>\n",
       "    </tr>\n",
       "    <tr>\n",
       "      <th>3291</th>\n",
       "      <td>3.0</td>\n",
       "      <td>1.0</td>\n",
       "      <td>NaN</td>\n",
       "      <td>NaN</td>\n",
       "      <td>3.0</td>\n",
       "      <td>NaN</td>\n",
       "      <td>3</td>\n",
       "    </tr>\n",
       "    <tr>\n",
       "      <th>3292</th>\n",
       "      <td>1.0</td>\n",
       "      <td>0.0</td>\n",
       "      <td>NaN</td>\n",
       "      <td>NaN</td>\n",
       "      <td>1.0</td>\n",
       "      <td>NaN</td>\n",
       "      <td>1</td>\n",
       "    </tr>\n",
       "    <tr>\n",
       "      <th>3293</th>\n",
       "      <td>NaN</td>\n",
       "      <td>2.0</td>\n",
       "      <td>NaN</td>\n",
       "      <td>NaN</td>\n",
       "      <td>2.0</td>\n",
       "      <td>NaN</td>\n",
       "      <td>Missing_data</td>\n",
       "    </tr>\n",
       "    <tr>\n",
       "      <th>3294</th>\n",
       "      <td>NaN</td>\n",
       "      <td>NaN</td>\n",
       "      <td>NaN</td>\n",
       "      <td>NaN</td>\n",
       "      <td>NaN</td>\n",
       "      <td>NaN</td>\n",
       "      <td>Missing_data</td>\n",
       "    </tr>\n",
       "  </tbody>\n",
       "</table>\n",
       "<p>3295 rows × 7 columns</p>\n",
       "</div>"
      ],
      "text/plain": [
       "      National_grid_Worst  National_grid_Typical  Mini_grid_Worst  \\\n",
       "0                     NaN                    NaN              NaN   \n",
       "1                     NaN                    NaN              NaN   \n",
       "2                     NaN                    NaN              NaN   \n",
       "3                     NaN                    NaN              NaN   \n",
       "4                     NaN                    NaN              NaN   \n",
       "...                   ...                    ...              ...   \n",
       "3290                  NaN                    NaN              NaN   \n",
       "3291                  3.0                    1.0              NaN   \n",
       "3292                  1.0                    0.0              NaN   \n",
       "3293                  NaN                    2.0              NaN   \n",
       "3294                  NaN                    NaN              NaN   \n",
       "\n",
       "      Mini_grid_Typical  National_grid_Total  Mini_grid_Total  \\\n",
       "0                   NaN                  NaN              NaN   \n",
       "1                   NaN                  NaN              NaN   \n",
       "2                   NaN                  NaN              NaN   \n",
       "3                   NaN                  NaN              NaN   \n",
       "4                   NaN                  NaN              NaN   \n",
       "...                 ...                  ...              ...   \n",
       "3290                NaN                  NaN              NaN   \n",
       "3291                NaN                  3.0              NaN   \n",
       "3292                NaN                  1.0              NaN   \n",
       "3293                NaN                  2.0              NaN   \n",
       "3294                NaN                  NaN              NaN   \n",
       "\n",
       "     Total_reliability  \n",
       "0         Missing_data  \n",
       "1         Missing_data  \n",
       "2         Missing_data  \n",
       "3         Missing_data  \n",
       "4         Missing_data  \n",
       "...                ...  \n",
       "3290      Missing_data  \n",
       "3291                 3  \n",
       "3292                 1  \n",
       "3293      Missing_data  \n",
       "3294      Missing_data  \n",
       "\n",
       "[3295 rows x 7 columns]"
      ]
     },
     "execution_count": 41,
     "metadata": {},
     "output_type": "execute_result"
    }
   ],
   "source": [
    "df_reliability['Total_reliability'] = df_reliability.replace(np.nan, 'Missing_data', regex=True)\n",
    "df_reliability"
   ]
  },
  {
   "cell_type": "markdown",
   "metadata": {},
   "source": [
    "## Calculating the tier level"
   ]
  },
  {
   "cell_type": "code",
   "execution_count": 42,
   "metadata": {
    "ExecuteTime": {
     "end_time": "2020-12-22T17:18:22.768756Z",
     "start_time": "2020-12-22T17:18:22.742758Z"
    }
   },
   "outputs": [],
   "source": [
    "#Note: conditions for TIER 3 and 4 are the same and for TIER 0,1 and 2 are the same\n",
    "\n",
    "def fun_E_reliability(Total_reliability):\n",
    "    if Total_reliability == 'Missing_data':\n",
    "        return 0\n",
    "    elif Total_reliability == 0:\n",
    "        return 0\n",
    "    elif 0 < Total_reliability <= 3:\n",
    "        return 5\n",
    "    elif 3 < Total_reliability <= 14:\n",
    "        return 3\n",
    "    else:\n",
    "        return 0\n",
    "    \n",
    "func = np.vectorize(fun_E_reliability)\n",
    "df_reliability[\"E_reliability\"] = func(df_reliability[\"Total_reliability\"])"
   ]
  },
  {
   "cell_type": "code",
   "execution_count": 43,
   "metadata": {
    "ExecuteTime": {
     "end_time": "2020-12-22T17:18:23.158779Z",
     "start_time": "2020-12-22T17:18:22.776759Z"
    }
   },
   "outputs": [
    {
     "data": {
      "text/plain": [
       "Text(0.5, 1.0, 'TIER levels based on reliability')"
      ]
     },
     "execution_count": 43,
     "metadata": {},
     "output_type": "execute_result"
    },
    {
     "data": {
      "image/png": "[encoded data removed]",
      "text/plain": [
       "<Figure size 1296x432 with 2 Axes>"
      ]
     },
     "metadata": {},
     "output_type": "display_data"
    }
   ],
   "source": [
    "#Pie plot\n",
    "f,ax=plt.subplots(1,2, figsize=(18,6))\n",
    "df_reliability[\"E_reliability\"].value_counts().plot.pie( autopct='%1.0f%%',ax=ax[0])\n",
    "ax[0].set_title('TIER levels based on reliability')\n",
    "\n",
    "#Barplot\n",
    "sns.countplot('E_reliability',data=df_reliability,ax=ax[1])\n",
    "ax[1].set_title('TIER levels based on reliability')"
   ]
  },
  {
   "cell_type": "markdown",
   "metadata": {
    "ExecuteTime": {
     "end_time": "2020-12-22T13:50:55.907152Z",
     "start_time": "2020-12-22T13:50:55.887154Z"
    }
   },
   "source": [
    "# Attribute: Quality\n",
    "\n",
    "Methodology:\n",
    "\n",
    "To understand the attribute more carefully, features from all the power sources have been taekn into consideration; \n",
    "\n",
    "* C39 represents the damaged appliances from the national grid. \n",
    "* C81 represents the damaged appliances from the mini grid.\n",
    "* C110 represents the damaged appliances from the generator set.\n",
    "* C140 represents the damaged appliances from the Pico-hydro."
   ]
  },
  {
   "cell_type": "code",
   "execution_count": 44,
   "metadata": {
    "ExecuteTime": {
     "end_time": "2020-12-22T17:18:23.173755Z",
     "start_time": "2020-12-22T17:18:23.162760Z"
    }
   },
   "outputs": [],
   "source": [
    "df_quality = df[['C39','C81','C110','C140']]"
   ]
  },
  {
   "cell_type": "code",
   "execution_count": 45,
   "metadata": {
    "ExecuteTime": {
     "end_time": "2020-12-22T17:18:23.189760Z",
     "start_time": "2020-12-22T17:18:23.178757Z"
    }
   },
   "outputs": [],
   "source": [
    "df_quality.columns = ['National_grid', 'Mini_grid','Generator_set','Pico_hydro']"
   ]
  },
  {
   "cell_type": "code",
   "execution_count": 46,
   "metadata": {
    "ExecuteTime": {
     "end_time": "2020-12-22T17:18:23.221750Z",
     "start_time": "2020-12-22T17:18:23.195762Z"
    }
   },
   "outputs": [],
   "source": [
    "df_quality = df_quality.replace(to_replace=\"Don?t know\",value='Missing_data')"
   ]
  },
  {
   "cell_type": "code",
   "execution_count": 47,
   "metadata": {
    "ExecuteTime": {
     "end_time": "2020-12-22T17:18:23.251755Z",
     "start_time": "2020-12-22T17:18:23.226756Z"
    }
   },
   "outputs": [],
   "source": [
    "df_quality = df_quality.replace(np.nan, 'Missing_data', regex=True)"
   ]
  },
  {
   "cell_type": "code",
   "execution_count": 48,
   "metadata": {
    "ExecuteTime": {
     "end_time": "2020-12-22T17:18:23.283753Z",
     "start_time": "2020-12-22T17:18:23.255757Z"
    }
   },
   "outputs": [
    {
     "name": "stdout",
     "output_type": "stream",
     "text": [
      "<class 'pandas.core.frame.DataFrame'>\n",
      "RangeIndex: 3295 entries, 0 to 3294\n",
      "Data columns (total 4 columns):\n",
      " #   Column         Non-Null Count  Dtype \n",
      "---  ------         --------------  ----- \n",
      " 0   National_grid  3295 non-null   object\n",
      " 1   Mini_grid      3295 non-null   object\n",
      " 2   Generator_set  3295 non-null   object\n",
      " 3   Pico_hydro     3295 non-null   object\n",
      "dtypes: object(4)\n",
      "memory usage: 103.1+ KB\n"
     ]
    }
   ],
   "source": [
    "df_quality.info()"
   ]
  },
  {
   "cell_type": "code",
   "execution_count": 49,
   "metadata": {
    "ExecuteTime": {
     "end_time": "2020-12-22T17:18:23.315760Z",
     "start_time": "2020-12-22T17:18:23.289766Z"
    }
   },
   "outputs": [],
   "source": [
    "#Note: conditions for TIER 3 and 4 are the same and for TIER 0,1 and 2 are the same\n",
    "\n",
    "def fun_E_quality(quality):\n",
    "    if quality == 'Missing_data':\n",
    "        return 0\n",
    "    elif quality == \"Yes\":\n",
    "        return 5\n",
    "    else: \n",
    "        return 0\n",
    "\n",
    "    \n",
    "func = np.vectorize(fun_E_quality)\n",
    "df_quality[\"E_quality\"] = func(df_quality['National_grid'])"
   ]
  },
  {
   "cell_type": "code",
   "execution_count": 50,
   "metadata": {
    "ExecuteTime": {
     "end_time": "2020-12-22T17:18:23.743759Z",
     "start_time": "2020-12-22T17:18:23.321755Z"
    }
   },
   "outputs": [
    {
     "data": {
      "text/plain": [
       "Text(0.5, 1.0, 'TIER levels based on reliability')"
      ]
     },
     "execution_count": 50,
     "metadata": {},
     "output_type": "execute_result"
    },
    {
     "data": {
      "image/png": "[encoded data removed]",
      "text/plain": [
       "<Figure size 1296x432 with 2 Axes>"
      ]
     },
     "metadata": {},
     "output_type": "display_data"
    }
   ],
   "source": [
    "#Pie plot\n",
    "f,ax=plt.subplots(1,2, figsize=(18,6))\n",
    "df_quality[\"E_quality\"].value_counts().plot.pie( autopct='%1.0f%%',ax=ax[0])\n",
    "ax[0].set_title('TIER levels based on reliability')\n",
    "\n",
    "#Barplot\n",
    "sns.countplot('E_quality',data=df_quality,ax=ax[1])\n",
    "ax[1].set_title('TIER levels based on reliability')"
   ]
  },
  {
   "cell_type": "markdown",
   "metadata": {
    "ExecuteTime": {
     "end_time": "2020-12-22T16:14:50.843500Z",
     "start_time": "2020-12-22T16:14:50.832501Z"
    }
   },
   "source": [
    "# Attibute: Affordability\n",
    "No data about income was collected"
   ]
  },
  {
   "cell_type": "markdown",
   "metadata": {},
   "source": [
    "# Attribute: legality\n",
    "\n",
    "Methodology:\n",
    "\n",
    "To understand the attribute more carefully, features from all the power sources have been taekn into consideration; \n",
    "\n",
    "* C17 represents the electricity bill payment for using the national grid. \n",
    "* C57 represents the electricity bill payment for using the mini grid."
   ]
  },
  {
   "cell_type": "code",
   "execution_count": 51,
   "metadata": {
    "ExecuteTime": {
     "end_time": "2020-12-22T17:18:23.775756Z",
     "start_time": "2020-12-22T17:18:23.750759Z"
    }
   },
   "outputs": [],
   "source": [
    "df_legality= df[['C17','C57']]"
   ]
  },
  {
   "cell_type": "code",
   "execution_count": 52,
   "metadata": {
    "ExecuteTime": {
     "end_time": "2020-12-22T17:18:23.791758Z",
     "start_time": "2020-12-22T17:18:23.780759Z"
    }
   },
   "outputs": [],
   "source": [
    "df_legality.columns = ['National_grid', 'Mini_grid']"
   ]
  },
  {
   "cell_type": "code",
   "execution_count": 53,
   "metadata": {
    "ExecuteTime": {
     "end_time": "2020-12-22T17:18:23.822763Z",
     "start_time": "2020-12-22T17:18:23.797760Z"
    }
   },
   "outputs": [],
   "source": [
    "df_legality = df_legality.replace(np.nan, 'Missing_data', regex=True)"
   ]
  },
  {
   "cell_type": "code",
   "execution_count": 54,
   "metadata": {
    "ExecuteTime": {
     "end_time": "2020-12-22T17:18:23.853757Z",
     "start_time": "2020-12-22T17:18:23.826758Z"
    }
   },
   "outputs": [
    {
     "data": {
      "text/plain": [
       "Missing_data                               1663\n",
       "Pre-paid                                   1400\n",
       "Fixed monthly fee                           109\n",
       "Pay based on lights and appliances used      41\n",
       "No bill for electricity                      32\n",
       "Other                                        24\n",
       "Monthly bill                                 14\n",
       "We never used electricity                    10\n",
       "Utility estimates consumption                 2\n",
       "Name: National_grid, dtype: int64"
      ]
     },
     "execution_count": 54,
     "metadata": {},
     "output_type": "execute_result"
    }
   ],
   "source": [
    "df_legality['National_grid'].value_counts()"
   ]
  },
  {
   "cell_type": "code",
   "execution_count": 55,
   "metadata": {
    "ExecuteTime": {
     "end_time": "2020-12-22T17:18:23.885762Z",
     "start_time": "2020-12-22T17:18:23.857757Z"
    }
   },
   "outputs": [
    {
     "data": {
      "text/plain": [
       "Missing_data                               3289\n",
       "No bill for electricity                       2\n",
       "Fixed monthly fee                             2\n",
       "Other                                         1\n",
       "Pay based on lights and appliances used       1\n",
       "Name: Mini_grid, dtype: int64"
      ]
     },
     "execution_count": 55,
     "metadata": {},
     "output_type": "execute_result"
    }
   ],
   "source": [
    "df_legality['Mini_grid'].value_counts()"
   ]
  },
  {
   "cell_type": "code",
   "execution_count": 56,
   "metadata": {
    "ExecuteTime": {
     "end_time": "2020-12-22T17:18:23.901760Z",
     "start_time": "2020-12-22T17:18:23.890761Z"
    }
   },
   "outputs": [],
   "source": [
    "# Values vor mini-grid will be neglected"
   ]
  },
  {
   "cell_type": "code",
   "execution_count": 57,
   "metadata": {
    "ExecuteTime": {
     "end_time": "2020-12-22T17:18:23.933753Z",
     "start_time": "2020-12-22T17:18:23.908758Z"
    }
   },
   "outputs": [],
   "source": [
    "def fun_E_legality(National_grid):\n",
    "    if National_grid == 'Missing_data':\n",
    "        return 0\n",
    "    elif National_grid == 'No bill for electricity' or National_grid == 'We never used electricity':\n",
    "        return 0\n",
    "    else:\n",
    "        return 5\n",
    "    \n",
    "func = np.vectorize(fun_E_legality)\n",
    "df_legality[\"E_legality\"] = func(df_legality[\"National_grid\"])"
   ]
  },
  {
   "cell_type": "code",
   "execution_count": 58,
   "metadata": {
    "ExecuteTime": {
     "end_time": "2020-12-22T17:18:24.091757Z",
     "start_time": "2020-12-22T17:18:23.937757Z"
    }
   },
   "outputs": [
    {
     "data": {
      "text/plain": [
       "Text(0.5, 1.0, 'TIER levels based on legality')"
      ]
     },
     "execution_count": 58,
     "metadata": {},
     "output_type": "execute_result"
    },
    {
     "data": {
      "image/png": "[encoded data removed]",
      "text/plain": [
       "<Figure size 1296x432 with 1 Axes>"
      ]
     },
     "metadata": {},
     "output_type": "display_data"
    }
   ],
   "source": [
    "df_legality['E_legality'].value_counts().plot.pie( autopct='%1.0f%%',figsize=(18,6))\n",
    "ax[0].set_title('TIER levels based on legality')"
   ]
  },
  {
   "cell_type": "markdown",
   "metadata": {},
   "source": [
    "# Attribute: Health and Safety\n",
    "\n",
    "Methodology:\n",
    "\n",
    "To understand the attribute more carefully, features from all the power sources have been taekn into consideration; \n",
    "\n",
    "* C41 represents the accidents caused using the national grid. \n",
    "* C83 represents the accidents caused using the mini grid.\n",
    "* C112 represents the accidents caused using the generator set.\n",
    "* C130 represents the accidents caused using the battery.\n",
    "* C142 represents the accidents caused using the Pico-hydro.\n",
    "* C175 represents the accidents caused using the solar based devices."
   ]
  },
  {
   "cell_type": "code",
   "execution_count": 59,
   "metadata": {
    "ExecuteTime": {
     "end_time": "2020-12-22T17:18:24.107758Z",
     "start_time": "2020-12-22T17:18:24.096763Z"
    }
   },
   "outputs": [],
   "source": [
    "df_health= df[['C41','C83','C112','C130','C142','C175']]"
   ]
  },
  {
   "cell_type": "code",
   "execution_count": 60,
   "metadata": {
    "ExecuteTime": {
     "end_time": "2020-12-22T17:18:24.235755Z",
     "start_time": "2020-12-22T17:18:24.224755Z"
    }
   },
   "outputs": [],
   "source": [
    "df_health.columns = ['National_grid', 'Mini_grid','Generator_set','Battery','Pico_hydro','Solar_devices']"
   ]
  },
  {
   "cell_type": "code",
   "execution_count": 61,
   "metadata": {
    "ExecuteTime": {
     "end_time": "2020-12-22T17:18:24.267760Z",
     "start_time": "2020-12-22T17:18:24.252757Z"
    }
   },
   "outputs": [],
   "source": [
    "df_health = df_health.replace(np.nan, 'Missing_data', regex=True)"
   ]
  },
  {
   "cell_type": "code",
   "execution_count": 62,
   "metadata": {
    "ExecuteTime": {
     "end_time": "2020-12-22T17:18:24.299758Z",
     "start_time": "2020-12-22T17:18:24.273756Z"
    }
   },
   "outputs": [],
   "source": [
    "def fun_E_health(National_grid):\n",
    "    if National_grid == 'Missing_data':\n",
    "        return 0\n",
    "    elif National_grid=='Yes' :\n",
    "        return 0\n",
    "    else:\n",
    "        return 5\n",
    "    \n",
    "func = np.vectorize(fun_E_health)\n",
    "df_health[\"E_health\"] = func(df_health[\"National_grid\"])"
   ]
  },
  {
   "cell_type": "code",
   "execution_count": 63,
   "metadata": {
    "ExecuteTime": {
     "end_time": "2020-12-22T17:18:24.487761Z",
     "start_time": "2020-12-22T17:18:24.306757Z"
    }
   },
   "outputs": [
    {
     "data": {
      "text/plain": [
       "Text(0.5, 1.0, 'TIER levels based on reliability')"
      ]
     },
     "execution_count": 63,
     "metadata": {},
     "output_type": "execute_result"
    },
    {
     "data": {
      "image/png": "[encoded data removed]",
      "text/plain": [
       "<Figure size 1296x432 with 1 Axes>"
      ]
     },
     "metadata": {},
     "output_type": "display_data"
    }
   ],
   "source": [
    "df_health['E_health'].value_counts().plot.pie( autopct='%1.0f%%',figsize=(18,6))\n",
    "ax[0].set_title('TIER levels based on reliability')"
   ]
  },
  {
   "cell_type": "code",
   "execution_count": 67,
   "metadata": {
    "ExecuteTime": {
     "end_time": "2020-12-22T17:29:08.630584Z",
     "start_time": "2020-12-22T17:29:08.401505Z"
    }
   },
   "outputs": [],
   "source": [
    "df_MTF = pd.DataFrame([df_capacity[\"E_capacity\"], df_av_day['E_availability_day'], df_av_evening['E_availability_evening'], df_reliability[\"E_reliability\"], df_quality[\"E_quality\"], df_legality['E_legality'], df_health['E_health']])\n",
    "df_MTF.T.to_csv(\"HH.csv\")"
   ]
  }
 ],
 "metadata": {
  "kernelspec": {
   "display_name": "Python [conda env:.conda-PhD]",
   "language": "python",
   "name": "conda-env-.conda-PhD-py"
  },
  "language_info": {
   "codemirror_mode": {
    "name": "ipython",
    "version": 3
   },
   "file_extension": ".py",
   "mimetype": "text/x-python",
   "name": "python",
   "nbconvert_exporter": "python",
   "pygments_lexer": "ipython3",
   "version": "3.7.4"
  },
  "toc": {
   "base_numbering": 1,
   "nav_menu": {},
   "number_sections": true,
   "sideBar": true,
   "skip_h1_title": false,
   "title_cell": "Table of Contents",
   "title_sidebar": "Contents",
   "toc_cell": false,
   "toc_position": {
    "height": "calc(100% - 180px)",
    "left": "10px",
    "top": "150px",
    "width": "259.333px"
   },
   "toc_section_display": true,
   "toc_window_display": true
  },
  "varInspector": {
   "cols": {
    "lenName": 16,
    "lenType": 16,
    "lenVar": 40
   },
   "kernels_config": {
    "python": {
     "delete_cmd_postfix": "",
     "delete_cmd_prefix": "del ",
     "library": "var_list.py",
     "varRefreshCmd": "print(var_dic_list())"
    },
    "r": {
     "delete_cmd_postfix": ") ",
     "delete_cmd_prefix": "rm(",
     "library": "var_list.r",
     "varRefreshCmd": "cat(var_dic_list()) "
    }
   },
   "position": {
    "height": "571.85px",
    "left": "1102px",
    "right": "20px",
    "top": "120px",
    "width": "350px"
   },
   "types_to_exclude": [
    "module",
    "function",
    "builtin_function_or_method",
    "instance",
    "_Feature"
   ],
   "window_display": false
  }
 },
 "nbformat": 4,
 "nbformat_minor": 4
}
