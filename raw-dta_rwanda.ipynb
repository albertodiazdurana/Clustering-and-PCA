{
 "cells": [
  {
   "cell_type": "code",
   "execution_count": 11,
   "metadata": {
    "ExecuteTime": {
     "end_time": "2020-12-25T17:35:20.970759Z",
     "start_time": "2020-12-25T17:35:20.939531Z"
    }
   },
   "outputs": [],
   "source": [
    "import pandas as pd"
   ]
  },
  {
   "cell_type": "code",
   "execution_count": 12,
   "metadata": {
    "ExecuteTime": {
     "end_time": "2020-12-25T17:35:24.162402Z",
     "start_time": "2020-12-25T17:35:20.970759Z"
    }
   },
   "outputs": [
    {
     "name": "stderr",
     "output_type": "stream",
     "text": [
      "C:\\Users\\Alberto\\.conda\\envs\\PhD\\lib\\site-packages\\pandas\\io\\stata.py:1409: UnicodeWarning: \n",
      "One or more strings in the dta file could not be decoded using utf-8, and\n",
      "so the fallback encoding of latin-1 is being used.  This can happen when a file\n",
      "has been incorrectly encoded by Stata or some other software. You should verify\n",
      "the string values returned are correct.\n",
      "  warnings.warn(msg, UnicodeWarning)\n"
     ]
    },
    {
     "data": {
      "text/plain": [
       "HHID              float64\n",
       "Cluster             int16\n",
       "strata              int16\n",
       "Province           object\n",
       "District           object\n",
       "                   ...   \n",
       "DATE_END           object\n",
       "TIME_END           object\n",
       "cluster             int16\n",
       "sample_weight     float32\n",
       "Locality         category\n",
       "Length: 730, dtype: object"
      ]
     },
     "execution_count": 12,
     "metadata": {},
     "output_type": "execute_result"
    }
   ],
   "source": [
    "df = pd.read_stata('data/Main dataset.dta')\n",
    "df.dtypes"
   ]
  },
  {
   "cell_type": "code",
   "execution_count": 13,
   "metadata": {
    "ExecuteTime": {
     "end_time": "2020-12-25T17:35:24.247070Z",
     "start_time": "2020-12-25T17:35:24.162402Z"
    }
   },
   "outputs": [
    {
     "data": {
      "text/plain": [
       "<bound method DataFrame.info of               HHID  Cluster  strata        Province    District    Sector  \\\n",
       "0     1.102021e+12        1      11  City of Kigali  Nyarugenge  Kanyinya   \n",
       "1     1.102021e+12        1      12  City of Kigali  Nyarugenge  Kanyinya   \n",
       "2     1.102021e+12        1      12  City of Kigali  Nyarugenge  Kanyinya   \n",
       "3     1.102021e+12        1      12  City of Kigali  Nyarugenge  Kanyinya   \n",
       "4     1.102021e+12        1      12  City of Kigali  Nyarugenge  Kanyinya   \n",
       "...            ...      ...     ...             ...         ...       ...   \n",
       "3290  5.714040e+12      275    2752         Eastern    Bugesera     Rweru   \n",
       "3291  5.714040e+12      275    2751         Eastern    Bugesera     Rweru   \n",
       "3292  5.714040e+12      275    2751         Eastern    Bugesera     Rweru   \n",
       "3293  5.714040e+12      275    2751         Eastern    Bugesera     Rweru   \n",
       "3294  5.714040e+12      275    2752         Eastern    Bugesera     Rweru   \n",
       "\n",
       "     Cellule  Village   B1   B2  ...  T28  T28B T28C  DATE_START TIME_START  \\\n",
       "0      Nzove  Ruyenzi  2.0  Yes  ...  NaN   NaN  NaN  18/11/2016      12:05   \n",
       "1      Nzove  Ruyenzi  1.0  Yes  ...  NaN   NaN  NaN  18/11/2016      10:23   \n",
       "2      Nzove  Ruyenzi  1.0  Yes  ...  NaN   NaN  NaN  18/11/2016      11:32   \n",
       "3      Nzove  Ruyenzi  1.0  Yes  ...  NaN   NaN  NaN  18/11/2016      10:30   \n",
       "4      Nzove  Ruyenzi  1.0  Yes  ...   No   NaN  NaN  18/11/2016      10:14   \n",
       "...      ...      ...  ...  ...  ...  ...   ...  ...         ...        ...   \n",
       "3290   Nemba   Kigina  1.0   No  ...  NaN   NaN  NaN  14/11/2016      16:49   \n",
       "3291   Nemba   Kigina  1.0  Yes  ...  NaN   NaN  NaN  14/11/2016      13:59   \n",
       "3292   Nemba   Kigina  1.0  Yes  ...  NaN   NaN  NaN  14/11/2016      16:10   \n",
       "3293   Nemba   Kigina  1.0  Yes  ...  NaN   NaN  NaN  14/11/2016      13:26   \n",
       "3294   Nemba   Kigina  2.0  Yes  ...  NaN   NaN  NaN  14/11/2016      16:31   \n",
       "\n",
       "        DATE_END TIME_END  cluster  sample_weight  Locality  \n",
       "0     18/11/2016    12:49       11     476.617645     Rural  \n",
       "1     18/11/2016    11:26       12     370.042023     Rural  \n",
       "2     18/11/2016    12:24       12     370.042023     Rural  \n",
       "3     18/11/2016    11:17       12     370.042023     Rural  \n",
       "4     18/11/2016    11:28       12     370.042023     Rural  \n",
       "...          ...      ...      ...            ...       ...  \n",
       "3290  14/11/2016    13:13     2752    9788.472656     Rural  \n",
       "3291  14/11/2016    15:50     2751     729.744080     Rural  \n",
       "3292  14/11/2016    17:44     2751     729.744080     Rural  \n",
       "3293  14/11/2016    15:39     2751     729.744080     Rural  \n",
       "3294  14/11/2016    17:34     2752    9788.472656     Rural  \n",
       "\n",
       "[3295 rows x 730 columns]>"
      ]
     },
     "execution_count": 13,
     "metadata": {},
     "output_type": "execute_result"
    }
   ],
   "source": [
    "df.info"
   ]
  },
  {
   "cell_type": "code",
   "execution_count": 19,
   "metadata": {
    "ExecuteTime": {
     "end_time": "2020-12-25T17:37:27.326434Z",
     "start_time": "2020-12-25T17:37:27.295282Z"
    }
   },
   "outputs": [
    {
     "data": {
      "text/plain": [
       "0      NaN\n",
       "1      NaN\n",
       "2      NaN\n",
       "3      NaN\n",
       "4      NaN\n",
       "5      NaN\n",
       "6     9.30\n",
       "7      NaN\n",
       "8    37.21\n",
       "9      NaN\n",
       "Name: C22, dtype: float64"
      ]
     },
     "execution_count": 19,
     "metadata": {},
     "output_type": "execute_result"
    }
   ],
   "source": [
    "df['C22'][0:10]"
   ]
  },
  {
   "cell_type": "code",
   "execution_count": 23,
   "metadata": {
    "ExecuteTime": {
     "end_time": "2020-12-26T03:23:43.468307Z",
     "start_time": "2020-12-26T03:23:43.252101Z"
    }
   },
   "outputs": [
    {
     "data": {
      "text/plain": [
       "HHID     float64\n",
       "A1       float64\n",
       "A3      category\n",
       "A4      category\n",
       "A5       float64\n",
       "A6      category\n",
       "A7      category\n",
       "A8      category\n",
       "A9      category\n",
       "A10     category\n",
       "A11     category\n",
       "A12     category\n",
       "A13     category\n",
       "A14     category\n",
       "A15     category\n",
       "A16     category\n",
       "A17     category\n",
       "A18     category\n",
       "A19      float64\n",
       "A20     category\n",
       "A21     category\n",
       "A22     category\n",
       "dtype: object"
      ]
     },
     "execution_count": 23,
     "metadata": {},
     "output_type": "execute_result"
    }
   ],
   "source": [
    "dfA = pd.read_stata('data/Section A.dta')\n",
    "df.dtypes"
   ]
  },
  {
   "cell_type": "code",
   "execution_count": 24,
   "metadata": {
    "ExecuteTime": {
     "end_time": "2020-12-26T03:23:49.645295Z",
     "start_time": "2020-12-26T03:23:49.544995Z"
    },
    "scrolled": true
   },
   "outputs": [
    {
     "data": {
      "text/plain": [
       "<bound method DataFrame.info of                HHID   A1      A3                   A4    A5   A6   A7   A8  \\\n",
       "0      1.102021e+12  2.0  Female          Wife/Spouse  45.0  Yes  Yes   No   \n",
       "1      1.102021e+12  1.0    Male                 Head  54.0  Yes   No  NaN   \n",
       "2      1.102021e+12  3.0  Female  Child/adopted child  22.0  Yes  Yes   No   \n",
       "3      1.102021e+12  4.0    Male  Child/adopted child  14.0  Yes  Yes  Yes   \n",
       "4      1.102021e+12  2.0  Female  Child/adopted child  15.0  Yes  Yes  Yes   \n",
       "...             ...  ...     ...                  ...   ...  ...  ...  ...   \n",
       "15186  5.714040e+12  6.0  Female  Child/adopted child   0.0   No  NaN  NaN   \n",
       "15187  5.714040e+12  4.0  Female  Child/adopted child   6.0  Yes   No  NaN   \n",
       "15188  5.714040e+12  3.0  Female  Child/adopted child   9.0  Yes  Yes  Yes   \n",
       "15189  5.714040e+12  5.0  Female  Child/adopted child   3.0   No  NaN  NaN   \n",
       "15190  5.714040e+12  1.0    Male                 Head  33.0  Yes  Yes   No   \n",
       "\n",
       "            A9  A10  ...  A13  A14         A15  \\\n",
       "0      Primary  Yes  ...  Yes   No           1   \n",
       "1          NaN  Yes  ...  NaN  NaN         NaN   \n",
       "2      Primary  Yes  ...  NaN  NaN         NaN   \n",
       "3      Primary  Yes  ...  NaN  NaN         NaN   \n",
       "4      Primary  Yes  ...  NaN  NaN         NaN   \n",
       "...        ...  ...  ...  ...  ...         ...   \n",
       "15186      NaN  NaN  ...  NaN  NaN         NaN   \n",
       "15187      NaN   No  ...  NaN  NaN         NaN   \n",
       "15188  Primary   No  ...  NaN  NaN         NaN   \n",
       "15189      NaN  NaN  ...  NaN  NaN         NaN   \n",
       "15190  Primary  Yes  ...   No  Yes  Don't know   \n",
       "\n",
       "                                     A16                        A17  A18  A19  \\\n",
       "0      Agriculture, forestry and fishing      Farm Land (Household)   10  5.0   \n",
       "1                                    NaN                        NaN  NaN  NaN   \n",
       "2                                    NaN                        NaN  NaN  NaN   \n",
       "3                                    NaN                        NaN  NaN  NaN   \n",
       "4                                    NaN                        NaN  NaN  NaN   \n",
       "...                                  ...                        ...  ...  ...   \n",
       "15186                                NaN                        NaN  NaN  NaN   \n",
       "15187                                NaN                        NaN  NaN  NaN   \n",
       "15188                                NaN                        NaN  NaN  NaN   \n",
       "15189                                NaN                        NaN  NaN  NaN   \n",
       "15190  Agriculture, forestry and fishing  Farm Land (Not Household)   12  7.0   \n",
       "\n",
       "         A20  A21                    A22  \n",
       "0      15000   12               Everyday  \n",
       "1        NaN  NaN                  Never  \n",
       "2        NaN  NaN  A few times in a week  \n",
       "3        NaN  NaN                  Never  \n",
       "4        NaN  NaN  A few times in a week  \n",
       "...      ...  ...                    ...  \n",
       "15186    NaN  NaN                    NaN  \n",
       "15187    NaN  NaN                    NaN  \n",
       "15188    NaN  NaN                    NaN  \n",
       "15189    NaN  NaN                    NaN  \n",
       "15190  15000   12                  Never  \n",
       "\n",
       "[15191 rows x 22 columns]>"
      ]
     },
     "execution_count": 24,
     "metadata": {},
     "output_type": "execute_result"
    }
   ],
   "source": [
    "dfA.info"
   ]
  },
  {
   "cell_type": "code",
   "execution_count": 25,
   "metadata": {
    "ExecuteTime": {
     "end_time": "2020-12-26T03:24:55.182315Z",
     "start_time": "2020-12-26T03:24:55.151072Z"
    }
   },
   "outputs": [
    {
     "data": {
      "text/plain": [
       "0        Wage Employee, Farm\n",
       "1                   Disabled\n",
       "2                 Unemployed\n",
       "3                   Student?\n",
       "4                   Student?\n",
       "5                   Student?\n",
       "6                        NaN\n",
       "7    Wage Employee, Non-Farm\n",
       "8                        NaN\n",
       "9                        NaN\n",
       "Name: A12, dtype: category\n",
       "Categories (16, object): [Wage Employee, Non-Farm < Wage Employee, Farm < Self-Employed Non-Farm-Business enterprise < Self-Employed Non-Farm-Independent contractor,... ... Disabled < Job Seeker < Unemployed < Other (specify)]"
      ]
     },
     "execution_count": 25,
     "metadata": {},
     "output_type": "execute_result"
    }
   ],
   "source": [
    "dfA['A12'][0:10]"
   ]
  }
 ],
 "metadata": {
  "kernelspec": {
   "display_name": "Python [conda env:.conda-PhD]",
   "language": "python",
   "name": "conda-env-.conda-PhD-py"
  },
  "language_info": {
   "codemirror_mode": {
    "name": "ipython",
    "version": 3
   },
   "file_extension": ".py",
   "mimetype": "text/x-python",
   "name": "python",
   "nbconvert_exporter": "python",
   "pygments_lexer": "ipython3",
   "version": "3.7.4"
  },
  "toc": {
   "base_numbering": 1,
   "nav_menu": {},
   "number_sections": true,
   "sideBar": true,
   "skip_h1_title": false,
   "title_cell": "Table of Contents",
   "title_sidebar": "Contents",
   "toc_cell": false,
   "toc_position": {},
   "toc_section_display": true,
   "toc_window_display": false
  },
  "varInspector": {
   "cols": {
    "lenName": 16,
    "lenType": 16,
    "lenVar": 40
   },
   "kernels_config": {
    "python": {
     "delete_cmd_postfix": "",
     "delete_cmd_prefix": "del ",
     "library": "var_list.py",
     "varRefreshCmd": "print(var_dic_list())"
    },
    "r": {
     "delete_cmd_postfix": ") ",
     "delete_cmd_prefix": "rm(",
     "library": "var_list.r",
     "varRefreshCmd": "cat(var_dic_list()) "
    }
   },
   "types_to_exclude": [
    "module",
    "function",
    "builtin_function_or_method",
    "instance",
    "_Feature"
   ],
   "window_display": false
  }
 },
 "nbformat": 4,
 "nbformat_minor": 4
}
