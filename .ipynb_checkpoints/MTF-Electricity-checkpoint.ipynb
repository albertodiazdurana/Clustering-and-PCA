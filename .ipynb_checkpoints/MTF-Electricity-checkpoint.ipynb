{
 "cells": [
  {
   "cell_type": "markdown",
   "metadata": {
    "ExecuteTime": {
     "end_time": "2020-12-22T00:00:12.111205Z",
     "start_time": "2020-12-22T00:00:12.104208Z"
    }
   },
   "source": [
    "0 MTF for elecricity"
   ]
  },
  {
   "cell_type": "code",
   "execution_count": 4,
   "metadata": {
    "ExecuteTime": {
     "end_time": "2020-12-22T17:07:23.188769Z",
     "start_time": "2020-12-22T17:07:19.134729Z"
    }
   },
   "outputs": [],
   "source": [
    "import numpy as np\n",
    "import pandas as pd\n",
    "import matplotlib.pyplot as plt\n",
    "from matplotlib.pyplot import pie, axis, show\n",
    "import seaborn as sns\n",
    "sns.set_style('darkgrid')\n",
    "import warnings\n",
    "warnings.filterwarnings(\"ignore\")\n",
    "import math\n",
    "import plotly.express as px"
   ]
  },
  {
   "cell_type": "markdown",
   "metadata": {},
   "source": [
    "## Importing the dataset"
   ]
  },
  {
   "cell_type": "code",
   "execution_count": 5,
   "metadata": {
    "ExecuteTime": {
     "end_time": "2020-12-22T17:07:23.425709Z",
     "start_time": "2020-12-22T17:07:23.192714Z"
    }
   },
   "outputs": [
    {
     "ename": "FileNotFoundError",
     "evalue": "[Errno 2] File Main_dataset.csv does not exist: 'Main_dataset.csv'",
     "output_type": "error",
     "traceback": [
      "\u001b[1;31m---------------------------------------------------------------------------\u001b[0m",
      "\u001b[1;31mFileNotFoundError\u001b[0m                         Traceback (most recent call last)",
      "\u001b[1;32m<ipython-input-5-9f32a8757320>\u001b[0m in \u001b[0;36m<module>\u001b[1;34m\u001b[0m\n\u001b[1;32m----> 1\u001b[1;33m \u001b[0mdf\u001b[0m \u001b[1;33m=\u001b[0m \u001b[0mpd\u001b[0m\u001b[1;33m.\u001b[0m\u001b[0mread_csv\u001b[0m\u001b[1;33m(\u001b[0m\u001b[1;34m'Main_dataset.csv'\u001b[0m\u001b[1;33m)\u001b[0m\u001b[1;33m\u001b[0m\u001b[1;33m\u001b[0m\u001b[0m\n\u001b[0m\u001b[0;32m      2\u001b[0m \u001b[0mdf\u001b[0m\u001b[1;33m.\u001b[0m\u001b[0mshape\u001b[0m\u001b[1;33m\u001b[0m\u001b[1;33m\u001b[0m\u001b[0m\n",
      "\u001b[1;32m~\\.conda\\envs\\PhD\\lib\\site-packages\\pandas\\io\\parsers.py\u001b[0m in \u001b[0;36mparser_f\u001b[1;34m(filepath_or_buffer, sep, delimiter, header, names, index_col, usecols, squeeze, prefix, mangle_dupe_cols, dtype, engine, converters, true_values, false_values, skipinitialspace, skiprows, skipfooter, nrows, na_values, keep_default_na, na_filter, verbose, skip_blank_lines, parse_dates, infer_datetime_format, keep_date_col, date_parser, dayfirst, cache_dates, iterator, chunksize, compression, thousands, decimal, lineterminator, quotechar, quoting, doublequote, escapechar, comment, encoding, dialect, error_bad_lines, warn_bad_lines, delim_whitespace, low_memory, memory_map, float_precision)\u001b[0m\n\u001b[0;32m    674\u001b[0m         )\n\u001b[0;32m    675\u001b[0m \u001b[1;33m\u001b[0m\u001b[0m\n\u001b[1;32m--> 676\u001b[1;33m         \u001b[1;32mreturn\u001b[0m \u001b[0m_read\u001b[0m\u001b[1;33m(\u001b[0m\u001b[0mfilepath_or_buffer\u001b[0m\u001b[1;33m,\u001b[0m \u001b[0mkwds\u001b[0m\u001b[1;33m)\u001b[0m\u001b[1;33m\u001b[0m\u001b[1;33m\u001b[0m\u001b[0m\n\u001b[0m\u001b[0;32m    677\u001b[0m \u001b[1;33m\u001b[0m\u001b[0m\n\u001b[0;32m    678\u001b[0m     \u001b[0mparser_f\u001b[0m\u001b[1;33m.\u001b[0m\u001b[0m__name__\u001b[0m \u001b[1;33m=\u001b[0m \u001b[0mname\u001b[0m\u001b[1;33m\u001b[0m\u001b[1;33m\u001b[0m\u001b[0m\n",
      "\u001b[1;32m~\\.conda\\envs\\PhD\\lib\\site-packages\\pandas\\io\\parsers.py\u001b[0m in \u001b[0;36m_read\u001b[1;34m(filepath_or_buffer, kwds)\u001b[0m\n\u001b[0;32m    446\u001b[0m \u001b[1;33m\u001b[0m\u001b[0m\n\u001b[0;32m    447\u001b[0m     \u001b[1;31m# Create the parser.\u001b[0m\u001b[1;33m\u001b[0m\u001b[1;33m\u001b[0m\u001b[1;33m\u001b[0m\u001b[0m\n\u001b[1;32m--> 448\u001b[1;33m     \u001b[0mparser\u001b[0m \u001b[1;33m=\u001b[0m \u001b[0mTextFileReader\u001b[0m\u001b[1;33m(\u001b[0m\u001b[0mfp_or_buf\u001b[0m\u001b[1;33m,\u001b[0m \u001b[1;33m**\u001b[0m\u001b[0mkwds\u001b[0m\u001b[1;33m)\u001b[0m\u001b[1;33m\u001b[0m\u001b[1;33m\u001b[0m\u001b[0m\n\u001b[0m\u001b[0;32m    449\u001b[0m \u001b[1;33m\u001b[0m\u001b[0m\n\u001b[0;32m    450\u001b[0m     \u001b[1;32mif\u001b[0m \u001b[0mchunksize\u001b[0m \u001b[1;32mor\u001b[0m \u001b[0miterator\u001b[0m\u001b[1;33m:\u001b[0m\u001b[1;33m\u001b[0m\u001b[1;33m\u001b[0m\u001b[0m\n",
      "\u001b[1;32m~\\.conda\\envs\\PhD\\lib\\site-packages\\pandas\\io\\parsers.py\u001b[0m in \u001b[0;36m__init__\u001b[1;34m(self, f, engine, **kwds)\u001b[0m\n\u001b[0;32m    878\u001b[0m             \u001b[0mself\u001b[0m\u001b[1;33m.\u001b[0m\u001b[0moptions\u001b[0m\u001b[1;33m[\u001b[0m\u001b[1;34m\"has_index_names\"\u001b[0m\u001b[1;33m]\u001b[0m \u001b[1;33m=\u001b[0m \u001b[0mkwds\u001b[0m\u001b[1;33m[\u001b[0m\u001b[1;34m\"has_index_names\"\u001b[0m\u001b[1;33m]\u001b[0m\u001b[1;33m\u001b[0m\u001b[1;33m\u001b[0m\u001b[0m\n\u001b[0;32m    879\u001b[0m \u001b[1;33m\u001b[0m\u001b[0m\n\u001b[1;32m--> 880\u001b[1;33m         \u001b[0mself\u001b[0m\u001b[1;33m.\u001b[0m\u001b[0m_make_engine\u001b[0m\u001b[1;33m(\u001b[0m\u001b[0mself\u001b[0m\u001b[1;33m.\u001b[0m\u001b[0mengine\u001b[0m\u001b[1;33m)\u001b[0m\u001b[1;33m\u001b[0m\u001b[1;33m\u001b[0m\u001b[0m\n\u001b[0m\u001b[0;32m    881\u001b[0m \u001b[1;33m\u001b[0m\u001b[0m\n\u001b[0;32m    882\u001b[0m     \u001b[1;32mdef\u001b[0m \u001b[0mclose\u001b[0m\u001b[1;33m(\u001b[0m\u001b[0mself\u001b[0m\u001b[1;33m)\u001b[0m\u001b[1;33m:\u001b[0m\u001b[1;33m\u001b[0m\u001b[1;33m\u001b[0m\u001b[0m\n",
      "\u001b[1;32m~\\.conda\\envs\\PhD\\lib\\site-packages\\pandas\\io\\parsers.py\u001b[0m in \u001b[0;36m_make_engine\u001b[1;34m(self, engine)\u001b[0m\n\u001b[0;32m   1112\u001b[0m     \u001b[1;32mdef\u001b[0m \u001b[0m_make_engine\u001b[0m\u001b[1;33m(\u001b[0m\u001b[0mself\u001b[0m\u001b[1;33m,\u001b[0m \u001b[0mengine\u001b[0m\u001b[1;33m=\u001b[0m\u001b[1;34m\"c\"\u001b[0m\u001b[1;33m)\u001b[0m\u001b[1;33m:\u001b[0m\u001b[1;33m\u001b[0m\u001b[1;33m\u001b[0m\u001b[0m\n\u001b[0;32m   1113\u001b[0m         \u001b[1;32mif\u001b[0m \u001b[0mengine\u001b[0m \u001b[1;33m==\u001b[0m \u001b[1;34m\"c\"\u001b[0m\u001b[1;33m:\u001b[0m\u001b[1;33m\u001b[0m\u001b[1;33m\u001b[0m\u001b[0m\n\u001b[1;32m-> 1114\u001b[1;33m             \u001b[0mself\u001b[0m\u001b[1;33m.\u001b[0m\u001b[0m_engine\u001b[0m \u001b[1;33m=\u001b[0m \u001b[0mCParserWrapper\u001b[0m\u001b[1;33m(\u001b[0m\u001b[0mself\u001b[0m\u001b[1;33m.\u001b[0m\u001b[0mf\u001b[0m\u001b[1;33m,\u001b[0m \u001b[1;33m**\u001b[0m\u001b[0mself\u001b[0m\u001b[1;33m.\u001b[0m\u001b[0moptions\u001b[0m\u001b[1;33m)\u001b[0m\u001b[1;33m\u001b[0m\u001b[1;33m\u001b[0m\u001b[0m\n\u001b[0m\u001b[0;32m   1115\u001b[0m         \u001b[1;32melse\u001b[0m\u001b[1;33m:\u001b[0m\u001b[1;33m\u001b[0m\u001b[1;33m\u001b[0m\u001b[0m\n\u001b[0;32m   1116\u001b[0m             \u001b[1;32mif\u001b[0m \u001b[0mengine\u001b[0m \u001b[1;33m==\u001b[0m \u001b[1;34m\"python\"\u001b[0m\u001b[1;33m:\u001b[0m\u001b[1;33m\u001b[0m\u001b[1;33m\u001b[0m\u001b[0m\n",
      "\u001b[1;32m~\\.conda\\envs\\PhD\\lib\\site-packages\\pandas\\io\\parsers.py\u001b[0m in \u001b[0;36m__init__\u001b[1;34m(self, src, **kwds)\u001b[0m\n\u001b[0;32m   1889\u001b[0m         \u001b[0mkwds\u001b[0m\u001b[1;33m[\u001b[0m\u001b[1;34m\"usecols\"\u001b[0m\u001b[1;33m]\u001b[0m \u001b[1;33m=\u001b[0m \u001b[0mself\u001b[0m\u001b[1;33m.\u001b[0m\u001b[0musecols\u001b[0m\u001b[1;33m\u001b[0m\u001b[1;33m\u001b[0m\u001b[0m\n\u001b[0;32m   1890\u001b[0m \u001b[1;33m\u001b[0m\u001b[0m\n\u001b[1;32m-> 1891\u001b[1;33m         \u001b[0mself\u001b[0m\u001b[1;33m.\u001b[0m\u001b[0m_reader\u001b[0m \u001b[1;33m=\u001b[0m \u001b[0mparsers\u001b[0m\u001b[1;33m.\u001b[0m\u001b[0mTextReader\u001b[0m\u001b[1;33m(\u001b[0m\u001b[0msrc\u001b[0m\u001b[1;33m,\u001b[0m \u001b[1;33m**\u001b[0m\u001b[0mkwds\u001b[0m\u001b[1;33m)\u001b[0m\u001b[1;33m\u001b[0m\u001b[1;33m\u001b[0m\u001b[0m\n\u001b[0m\u001b[0;32m   1892\u001b[0m         \u001b[0mself\u001b[0m\u001b[1;33m.\u001b[0m\u001b[0munnamed_cols\u001b[0m \u001b[1;33m=\u001b[0m \u001b[0mself\u001b[0m\u001b[1;33m.\u001b[0m\u001b[0m_reader\u001b[0m\u001b[1;33m.\u001b[0m\u001b[0munnamed_cols\u001b[0m\u001b[1;33m\u001b[0m\u001b[1;33m\u001b[0m\u001b[0m\n\u001b[0;32m   1893\u001b[0m \u001b[1;33m\u001b[0m\u001b[0m\n",
      "\u001b[1;32mpandas\\_libs\\parsers.pyx\u001b[0m in \u001b[0;36mpandas._libs.parsers.TextReader.__cinit__\u001b[1;34m()\u001b[0m\n",
      "\u001b[1;32mpandas\\_libs\\parsers.pyx\u001b[0m in \u001b[0;36mpandas._libs.parsers.TextReader._setup_parser_source\u001b[1;34m()\u001b[0m\n",
      "\u001b[1;31mFileNotFoundError\u001b[0m: [Errno 2] File Main_dataset.csv does not exist: 'Main_dataset.csv'"
     ]
    }
   ],
   "source": [
    "df = pd.read_csv('Main_dataset.csv')\n",
    "df.shape"
   ]
  },
  {
   "cell_type": "markdown",
   "metadata": {
    "ExecuteTime": {
     "end_time": "2020-12-22T00:01:32.467079Z",
     "start_time": "2020-12-22T00:01:32.456077Z"
    }
   },
   "source": [
    "## Analysing different Attributes\n",
    "\n",
    "Attributes which are analysed for MTF_Rwanda_Questionnaire_Household: \n",
    "\n",
    "1. Capacity\n",
    "2. Availability\n",
    "3. Reliability\n",
    "4. Quality\n",
    "5. Affordability - not collected in this report\n",
    "6. legality\n",
    "7. Health and safety"
   ]
  },
  {
   "cell_type": "code",
   "execution_count": null,
   "metadata": {
    "ExecuteTime": {
     "end_time": "2020-12-22T17:07:23.449713Z",
     "start_time": "2020-12-22T17:07:19.156Z"
    }
   },
   "outputs": [],
   "source": [
    "df.columns"
   ]
  },
  {
   "cell_type": "markdown",
   "metadata": {},
   "source": [
    "# Attribute: Capacity"
   ]
  },
  {
   "cell_type": "markdown",
   "metadata": {},
   "source": [
    "To find out the power capacity, we need to know the different sources of power available. From our dataset:\n",
    "    \n",
    "1. C22: Power available from the national grid\n",
    "2. C64: Power available from the mini grid\n",
    "3. C88: Power available from the generator set\n",
    "4. C117: Power available from the inverter\n",
    "5. C119: Power available from the batteries\n",
    "6. C151: Power available from solar panel (Not present in the dataset but is there in the survey)\n",
    "7. C154: Power available from solar batteries (Not present in the dataset but is there in the survey)\n",
    "8. Other source: Pico-Hyro (power capacity question not mentioned in the survey)"
   ]
  },
  {
   "cell_type": "code",
   "execution_count": null,
   "metadata": {
    "ExecuteTime": {
     "end_time": "2020-12-22T17:07:23.453717Z",
     "start_time": "2020-12-22T17:07:19.170Z"
    }
   },
   "outputs": [],
   "source": [
    "df_capacity = df[['C22', 'C64','C88','C117','C119A']]"
   ]
  },
  {
   "cell_type": "code",
   "execution_count": null,
   "metadata": {
    "ExecuteTime": {
     "end_time": "2020-12-22T17:07:23.458717Z",
     "start_time": "2020-12-22T17:07:19.178Z"
    }
   },
   "outputs": [],
   "source": [
    "# renaming the columns\n",
    "df_capacity.columns = ['National_Grid', 'Mini_Grid','Generator','Inverter','Battery']"
   ]
  },
  {
   "cell_type": "markdown",
   "metadata": {},
   "source": [
    "## Total_capacity\n",
    "Total capacity is the sum of capacities of all the power sources.\n",
    "\n",
    "1. Page 14 of MTF Energy Access Country Diagnostic report confirms that the average monthly household consumption of electricity is 20.8 kWh nationwide, 29.2 kWh in urban areas, and 9.9 kWh in rural areas. This means that the values recorded in the MTF survey for capacity are in kWh.\n",
    "\n",
    "2. 26.8% of households households have been assessed as having basic access to electricity supply. The remaining 73.2% have no electricity source"
   ]
  },
  {
   "cell_type": "code",
   "execution_count": null,
   "metadata": {
    "ExecuteTime": {
     "end_time": "2020-12-22T17:07:23.462716Z",
     "start_time": "2020-12-22T17:07:19.187Z"
    }
   },
   "outputs": [],
   "source": [
    "lst=[]\n",
    "for i in range(df_capacity.shape[0]):\n",
    "    temp=0\n",
    "    for j in range(df_capacity.shape[1]):\n",
    "        if math.isnan(df_capacity.iat[i,j]):\n",
    "            temp = temp\n",
    "        else:\n",
    "            temp = temp + df_capacity.iat[i,j]\n",
    "    lst.append(temp)\n",
    "\n",
    "# adding list to dataframe\n",
    "df_capacity[\"Total_Capacity_in_kWh_month\"] = lst"
   ]
  },
  {
   "cell_type": "code",
   "execution_count": null,
   "metadata": {
    "ExecuteTime": {
     "end_time": "2020-12-22T17:07:23.467714Z",
     "start_time": "2020-12-22T17:07:19.195Z"
    }
   },
   "outputs": [],
   "source": [
    "df_capacity[50:60]"
   ]
  },
  {
   "cell_type": "markdown",
   "metadata": {},
   "source": [
    "The power capacity units provided in the dataset are in monthly kWh. However, for TIER analysis the units are in daily Wh consumption. Therefore, dividing the dataset by 30 and multiplying it by 1000."
   ]
  },
  {
   "cell_type": "code",
   "execution_count": null,
   "metadata": {
    "ExecuteTime": {
     "end_time": "2020-12-22T17:07:23.472730Z",
     "start_time": "2020-12-22T17:07:19.203Z"
    }
   },
   "outputs": [],
   "source": [
    "df_capacity[\"Total_Capacity_in_W\"] = df_capacity[\"Total_Capacity_in_kWh_month\"].apply(lambda x: x if math.isnan(x) else (x*1000)/30)"
   ]
  },
  {
   "cell_type": "code",
   "execution_count": null,
   "metadata": {
    "ExecuteTime": {
     "end_time": "2020-12-22T17:07:23.477712Z",
     "start_time": "2020-12-22T17:07:19.211Z"
    }
   },
   "outputs": [],
   "source": [
    "# Replacing 0 values again with NaN\n",
    "df_capacity[\"Total_Capacity_in_W\"].replace(0, np.nan, inplace=True)\n",
    "#df_capacity[\"Total_Capacity_in_W\"]"
   ]
  },
  {
   "cell_type": "code",
   "execution_count": null,
   "metadata": {
    "ExecuteTime": {
     "end_time": "2020-12-22T17:07:23.479715Z",
     "start_time": "2020-12-22T17:07:19.218Z"
    }
   },
   "outputs": [],
   "source": [
    "#Replacing NaN values with \"Missing_data\" \n",
    "df_capacity[\"Total_Capacity_in_W\"] = df_capacity[\"Total_Capacity_in_W\"].apply(lambda x: \"Missing_data\" if math.isnan(x) else x)"
   ]
  },
  {
   "cell_type": "markdown",
   "metadata": {
    "ExecuteTime": {
     "end_time": "2020-12-22T00:25:11.254237Z",
     "start_time": "2020-12-22T00:25:11.249235Z"
    }
   },
   "source": [
    "### Calculating the tier level"
   ]
  },
  {
   "cell_type": "code",
   "execution_count": null,
   "metadata": {
    "ExecuteTime": {
     "end_time": "2020-12-22T17:07:23.482713Z",
     "start_time": "2020-12-22T17:07:19.228Z"
    }
   },
   "outputs": [],
   "source": [
    "def fun_E_capacity(Total_Capacity):\n",
    "    if Total_Capacity == 'Missing_data':\n",
    "        return 0\n",
    "    elif Total_Capacity<3:\n",
    "        return 0\n",
    "    elif 3 <= Total_Capacity < 50:\n",
    "        return 1\n",
    "    elif 50 <= Total_Capacity < 200:\n",
    "        return 2\n",
    "    elif 200 <= Total_Capacity < 800:\n",
    "        return 3\n",
    "    elif 800 <= Total_Capacity < 2000:\n",
    "        return 4\n",
    "    else:\n",
    "        return 5\n",
    "    \n",
    "func = np.vectorize(fun_E_capacity)\n",
    "df_capacity[\"E_capacity\"] = func(df_capacity[\"Total_Capacity_in_W\"])\n",
    "#df_capacity[\"E_capacity\"] "
   ]
  },
  {
   "cell_type": "code",
   "execution_count": null,
   "metadata": {
    "ExecuteTime": {
     "end_time": "2020-12-22T17:07:23.484713Z",
     "start_time": "2020-12-22T17:07:19.239Z"
    }
   },
   "outputs": [],
   "source": [
    "#Pie plot\n",
    "f,ax=plt.subplots(1,2, figsize=(18,6))\n",
    "df_capacity[\"E_capacity\"].value_counts().plot.pie( autopct='%1.0f%%',ax=ax[0])\n",
    "ax[0].set_title('TIER levels based on power capacity')\n",
    "\n",
    "#Boxplot\n",
    "sns.countplot('E_capacity',data=df_capacity,ax=ax[1])\n",
    "ax[1].set_title('TIER levels based on power capacity')"
   ]
  },
  {
   "cell_type": "code",
   "execution_count": null,
   "metadata": {
    "ExecuteTime": {
     "end_time": "2020-12-22T17:07:23.488712Z",
     "start_time": "2020-12-22T17:07:19.250Z"
    }
   },
   "outputs": [],
   "source": [
    "#sns.pairplot(df_capacity)"
   ]
  },
  {
   "cell_type": "markdown",
   "metadata": {},
   "source": [
    "# Attribute: Availabilty"
   ]
  },
  {
   "cell_type": "markdown",
   "metadata": {},
   "source": [
    "## Availability: Day and night"
   ]
  },
  {
   "cell_type": "markdown",
   "metadata": {},
   "source": [
    "Methodology:\n",
    "\n",
    "To understand the attribute more carefully, features from every power souce have been taekn into consideration; \n",
    "\n",
    "* C26A represents the hours of electricity available each day and night from the national grid in the worst months. \n",
    "* Whereas, C26B represents the hours of electricity available each day and night from  the national grid in the typical months.\n",
    "* C68A represents the hours of electricity available each day and night from the mini grid in the worst months.\n",
    "* Whereas, C68B represents the hours of electricity available each day and night from  the mini grid in the typical months.\n",
    "* C107A represents the hours of electricity available each day and night from the generator set in the worst months.\n",
    "* Whereas, C107B represents the hours of electricity available each day and night from  the generator set in the typical months.\n",
    "* C127 represents the hours of electricity available each day from the rechargeable battery.\n",
    "* C137A represents the hours of electricity available each day and night from pico-hydro in the worst months.\n",
    "* Whereas, C137B represents the hours of electricity available each day and night from  pico-hydro in the typical months.\n",
    "* C172A represents the hours of electricity available each day and night from  main solar based devices in the worst months.\n",
    "* Whereas, C172B represents the hours of electricity available each day and night from  main solar based devices in the typical months."
   ]
  },
  {
   "cell_type": "code",
   "execution_count": null,
   "metadata": {
    "ExecuteTime": {
     "end_time": "2020-12-22T17:07:23.493713Z",
     "start_time": "2020-12-22T17:07:19.263Z"
    }
   },
   "outputs": [],
   "source": [
    "df_availablity_day= df[['C26A','C26B','C68A','C68B','C107A','C107B','C127','C137A','C137B','C172A','C172B']]"
   ]
  },
  {
   "cell_type": "code",
   "execution_count": null,
   "metadata": {
    "ExecuteTime": {
     "end_time": "2020-12-22T17:07:23.496714Z",
     "start_time": "2020-12-22T17:07:19.271Z"
    }
   },
   "outputs": [],
   "source": [
    "df_availablity_day.columns = ['National_grid_Worst', 'National_grid_Typical','Mini_grid_Worst','Mini_grid_Typical','Generator_set_Worst','Generator_set_Typical','Battery','Pico_hydro_Worst','Pico_hydro_Typical','Solar_device_Worst','Solar_device_Typical']"
   ]
  },
  {
   "cell_type": "markdown",
   "metadata": {
    "ExecuteTime": {
     "end_time": "2020-12-22T11:23:54.490065Z",
     "start_time": "2020-12-22T11:23:54.466062Z"
    }
   },
   "source": [
    "### Day Total-Availability\n",
    "\n",
    "In this step Total availabilty for all the power sources has been analysed. Taking the worst months into consideration, the missing values in \"worst\" months have been added from the \"typical\" months. This is done as the World bank takes the worst condition into account for enery access assessment."
   ]
  },
  {
   "cell_type": "code",
   "execution_count": null,
   "metadata": {
    "ExecuteTime": {
     "end_time": "2020-12-22T17:07:23.499715Z",
     "start_time": "2020-12-22T17:07:19.279Z"
    }
   },
   "outputs": [],
   "source": [
    "#National Grid\n",
    "df_availablity_day['National_grid_Total'] = df_availablity_day.National_grid_Worst.fillna(value=df_availablity_day.National_grid_Typical)\n",
    "\n",
    "#National Grid\n",
    "df_availablity_day['Mini_grid_Total'] = df_availablity_day.Mini_grid_Worst.fillna(value=df_availablity_day.Mini_grid_Typical)\n",
    "\n",
    "#Generator Set\n",
    "df_availablity_day['Generator_set_Total'] = df_availablity_day.Generator_set_Worst.fillna(value=df_availablity_day.Generator_set_Typical)\n",
    "\n",
    "#Pico Hydro\n",
    "df_availablity_day['Pico_hydro_Total'] = df_availablity_day.Pico_hydro_Worst.fillna(value=df_availablity_day.Pico_hydro_Typical)\n",
    "\n",
    "#Solar Devicce\n",
    "df_availablity_day['Solar_device_Total'] = df_availablity_day.Solar_device_Worst.fillna(value=df_availablity_day.Solar_device_Typical)\n",
    "\n",
    "\n",
    "#Taking only the total values into consideration\n",
    "df_av_day=df_availablity_day[['National_grid_Total','Mini_grid_Total','Generator_set_Total','Pico_hydro_Total','Solar_device_Total','Battery']]"
   ]
  },
  {
   "cell_type": "code",
   "execution_count": null,
   "metadata": {
    "ExecuteTime": {
     "end_time": "2020-12-22T17:07:23.502723Z",
     "start_time": "2020-12-22T17:07:19.285Z"
    }
   },
   "outputs": [],
   "source": [
    "#Changing the string variables into float/int\n",
    "df_av_day=df_av_day.replace(to_replace=\"Don't know\",value=0)\n",
    "df_av_day= df_av_day.apply(pd.to_numeric, errors='coerce')"
   ]
  },
  {
   "cell_type": "markdown",
   "metadata": {},
   "source": [
    "### Day Calculating the tiel level"
   ]
  },
  {
   "cell_type": "code",
   "execution_count": null,
   "metadata": {
    "ExecuteTime": {
     "end_time": "2020-12-22T17:07:23.505717Z",
     "start_time": "2020-12-22T17:07:19.293Z"
    }
   },
   "outputs": [],
   "source": [
    "lst=[]\n",
    "for i in range(df_av_day.shape[0]):\n",
    "    temp=0\n",
    "    for j in range(df_av_day.shape[1]):\n",
    "        if math.isnan(df_av_day.iat[i,j]):\n",
    "            temp = temp\n",
    "        else:\n",
    "            temp = temp + df_av_day.iat[i,j]\n",
    "    lst.append(temp)\n",
    "\n",
    "# adding list to dataframe\n",
    "df_av_day[\"Total_availability\"] = lst"
   ]
  },
  {
   "cell_type": "code",
   "execution_count": null,
   "metadata": {
    "ExecuteTime": {
     "end_time": "2020-12-22T17:07:23.508725Z",
     "start_time": "2020-12-22T17:07:19.301Z"
    }
   },
   "outputs": [],
   "source": [
    "#df_av_day"
   ]
  },
  {
   "cell_type": "code",
   "execution_count": null,
   "metadata": {
    "ExecuteTime": {
     "end_time": "2020-12-22T17:07:23.510715Z",
     "start_time": "2020-12-22T17:07:19.308Z"
    }
   },
   "outputs": [],
   "source": [
    "df_av_day['Total_availability'] = df_av_day.replace(np.nan, 'Missing_data', regex=True)"
   ]
  },
  {
   "cell_type": "code",
   "execution_count": null,
   "metadata": {
    "ExecuteTime": {
     "end_time": "2020-12-22T17:07:23.513715Z",
     "start_time": "2020-12-22T17:07:19.316Z"
    }
   },
   "outputs": [],
   "source": [
    "# AVAILABILITY: Day\n",
    "#Note: conditions for TIER 1 and 2 are the same\n",
    "\n",
    "def fun_E_availability(Total_availability):\n",
    "    if Total_availability == 'Missing_data':\n",
    "        return 0\n",
    "    elif Total_availability == 0:\n",
    "        return 0\n",
    "    elif 0 < Total_availability < 4:\n",
    "        return 0\n",
    "    elif 4 <= Total_availability < 8:\n",
    "        return 1\n",
    "    elif 8 <= Total_availability < 16:\n",
    "        return 3\n",
    "    elif 16 <= Total_availability < 23:\n",
    "        return 4\n",
    "    else:\n",
    "        return 5\n",
    "    \n",
    "func = np.vectorize(fun_E_availability)\n",
    "df_av_day[\"E_availability_day\"] = func(df_av_day[\"Total_availability\"])"
   ]
  },
  {
   "cell_type": "code",
   "execution_count": null,
   "metadata": {
    "ExecuteTime": {
     "end_time": "2020-12-22T17:07:23.517715Z",
     "start_time": "2020-12-22T17:07:19.330Z"
    }
   },
   "outputs": [],
   "source": [
    "#Pie plot\n",
    "f,ax=plt.subplots(1,2, figsize=(18,6))\n",
    "df_av_day['E_availability_day'].value_counts().plot.pie( autopct='%1.0f%%',ax=ax[0])\n",
    "ax[0].set_title('TIER levels based on day and night power availability')\n",
    "\n",
    "#Barplot\n",
    "sns.countplot('E_availability_day',data=df_av_day,ax=ax[1])\n",
    "ax[1].set_title('TIER levels based on day and night power availability')"
   ]
  },
  {
   "cell_type": "markdown",
   "metadata": {},
   "source": [
    "### Evening Total-Avaliability"
   ]
  },
  {
   "cell_type": "markdown",
   "metadata": {},
   "source": [
    "Methodology:\n",
    "\n",
    "To understand the attribute more carefully, features from every power souce have been taekn into consideration; \n",
    "\n",
    "* C27A represents the hours of electricity available each evening from the national grid in the worst months. \n",
    "* Whereas, C27B represents the hours of electricity available each evening from  the national grid in the typical months.\n",
    "* C69A represents the hours of electricity available each evening from the mini grid in the worst months.\n",
    "* Whereas, C69B represents the hours of electricity available each evening from  the mini grid in the typical months.\n",
    "* C108A represents the hours of electricity available each evening from the generator set in the worst months.\n",
    "* Whereas, C108B represents the hours of electricity available each evening from  the generator set in the typical months.\n",
    "* C138A represents the hours of electricity available each evening from pico-hydro in the worst months.\n",
    "* Whereas, C138B represents the hours of electricity available each evening from  pico-hydro in the typical months.\n",
    "* C173A represents the hours of electricity available each evening from main solar based devices in the worst months.\n",
    "* Whereas, C173B represents the hours of electricity available each evening from  main solar based devices in the typical months."
   ]
  },
  {
   "cell_type": "code",
   "execution_count": null,
   "metadata": {
    "ExecuteTime": {
     "end_time": "2020-12-22T17:07:23.521719Z",
     "start_time": "2020-12-22T17:07:19.344Z"
    }
   },
   "outputs": [],
   "source": [
    "df_availibility_evening= df[['C27A','C27B','C69A','C69B','C108A','C108B','C138A','C138B','C173A','C173B']]"
   ]
  },
  {
   "cell_type": "code",
   "execution_count": null,
   "metadata": {
    "ExecuteTime": {
     "end_time": "2020-12-22T17:07:23.525713Z",
     "start_time": "2020-12-22T17:07:19.351Z"
    }
   },
   "outputs": [],
   "source": [
    "df_availibility_evening.columns = ['National_grid_Worst', 'National_grid_Typical','Mini_grid_Worst','Mini_grid_Typical','Generator_set_Worst','Generator_set_Typical','Pico_hydro_Worst','Pico_hydro_Typical','Solar_device_Worst','Solar_device_Typical']"
   ]
  },
  {
   "cell_type": "markdown",
   "metadata": {},
   "source": [
    "### Evening Calculating the tier level\n",
    "\n",
    "In this step Total availabilty for all the power sources has been analysed. Taking the worst months into consideration, the missing values in \"worst\" months have been added from the \"typical\" months. This is done as the MTF takes the worst condition into account for enery access assessment."
   ]
  },
  {
   "cell_type": "code",
   "execution_count": null,
   "metadata": {
    "ExecuteTime": {
     "end_time": "2020-12-22T17:07:23.527716Z",
     "start_time": "2020-12-22T17:07:19.361Z"
    }
   },
   "outputs": [],
   "source": [
    "#National Grid\n",
    "df_availibility_evening['National_grid_Total'] = df_availibility_evening.National_grid_Worst.fillna(value=df_availibility_evening.National_grid_Typical)\n",
    "\n",
    "#National Grid\n",
    "df_availibility_evening['Mini_grid_Total'] = df_availibility_evening.Mini_grid_Worst.fillna(value=df_availibility_evening.Mini_grid_Typical)\n",
    "\n",
    "#Generator Set\n",
    "df_availibility_evening['Generator_set_Total'] = df_availibility_evening.Generator_set_Worst.fillna(value=df_availibility_evening.Generator_set_Typical)\n",
    "\n",
    "#Pico Hydro\n",
    "df_availibility_evening['Pico_hydro_Total'] = df_availibility_evening.Pico_hydro_Worst.fillna(value=df_availibility_evening.Pico_hydro_Typical)\n",
    "\n",
    "#Solar Devicce\n",
    "df_availibility_evening['Solar_device_Total'] = df_availibility_evening.Solar_device_Worst.fillna(value=df_availibility_evening.Solar_device_Typical)\n",
    "\n",
    "\n",
    "#Taking only the total values into consideration\n",
    "df_av_evening = df_availibility_evening[['National_grid_Total','Mini_grid_Total','Generator_set_Total','Pico_hydro_Total','Solar_device_Total']]"
   ]
  },
  {
   "cell_type": "code",
   "execution_count": null,
   "metadata": {
    "ExecuteTime": {
     "end_time": "2020-12-22T17:07:23.531714Z",
     "start_time": "2020-12-22T17:07:19.368Z"
    }
   },
   "outputs": [],
   "source": [
    "df_av_evening=df_av_evening.replace(to_replace=\"Don't know\",value=0)\n",
    "df_av_evening= df_av_evening.apply(pd.to_numeric, errors='coerce')"
   ]
  },
  {
   "cell_type": "code",
   "execution_count": null,
   "metadata": {
    "ExecuteTime": {
     "end_time": "2020-12-22T17:07:23.535719Z",
     "start_time": "2020-12-22T17:07:19.374Z"
    }
   },
   "outputs": [],
   "source": [
    "lst=[]\n",
    "for i in range(df_av_evening.shape[0]):\n",
    "    temp=0\n",
    "    for j in range(df_av_evening.shape[1]):\n",
    "        if math.isnan(df_av_evening.iat[i,j]):\n",
    "            temp = temp\n",
    "        else:\n",
    "            temp = temp + df_av_evening.iat[i,j]\n",
    "    lst.append(temp)\n",
    "\n",
    "# adding list to dataframe\n",
    "df_av_evening[\"Total_availability\"] = lst"
   ]
  },
  {
   "cell_type": "code",
   "execution_count": null,
   "metadata": {
    "ExecuteTime": {
     "end_time": "2020-12-22T17:07:23.538716Z",
     "start_time": "2020-12-22T17:07:19.381Z"
    }
   },
   "outputs": [],
   "source": [
    "df_av_evening['Total_availability'] = df_av_evening.replace(np.nan, 'Missing_data', regex=True)"
   ]
  },
  {
   "cell_type": "code",
   "execution_count": null,
   "metadata": {
    "ExecuteTime": {
     "end_time": "2020-12-22T17:07:23.541719Z",
     "start_time": "2020-12-22T17:07:19.387Z"
    }
   },
   "outputs": [],
   "source": [
    "# AVAILABILITY: Evening\n",
    "#Note: conditions for TIER 4 and 5 are the same\n",
    "\n",
    "def fun_E_availability(Total_availability):\n",
    "    if Total_availability == 'Missing_data':\n",
    "        return 0\n",
    "    elif Total_availability == 0:\n",
    "        return 0\n",
    "    elif 0 < Total_availability < 1:\n",
    "        return 0\n",
    "    elif 1 <= Total_availability < 2:\n",
    "        return 1\n",
    "    elif 2 <= Total_availability < 3:\n",
    "        return 2\n",
    "    elif 3 <= Total_availability < 4:\n",
    "        return 3\n",
    "    else:\n",
    "        return 4\n",
    "    \n",
    "func = np.vectorize(fun_E_availability) \n",
    "df_av_evening[\"E_availability_evening\"] = func(df_av_evening[\"Total_availability\"])"
   ]
  },
  {
   "cell_type": "code",
   "execution_count": null,
   "metadata": {
    "ExecuteTime": {
     "end_time": "2020-12-22T17:07:23.546725Z",
     "start_time": "2020-12-22T17:07:19.393Z"
    }
   },
   "outputs": [],
   "source": [
    "#Pie plot\n",
    "f,ax=plt.subplots(1,2, figsize=(18,6))\n",
    "df_av_evening['E_availability_evening'].value_counts().plot.pie( autopct='%1.0f%%',ax=ax[0])\n",
    "ax[0].set_title('TIER levels based on evening power availability')\n",
    "\n",
    "#Barplot\n",
    "sns.countplot('E_availability_evening',data=df_av_evening,ax=ax[1])\n",
    "ax[1].set_title('TIER levels based on evening power availability')"
   ]
  },
  {
   "cell_type": "markdown",
   "metadata": {},
   "source": [
    "In the above graph we can see that the evening availability in:\n",
    "\n",
    "1. TIER 1 contributes to 4% of evening availability which is at least 1 hours\n",
    "2. TIER 2 contributes to 8% of evening availability which is at least 2 hours\n",
    "3. TIER 3 contributes to 12% of evening availability which is at least 3 hours\n",
    "4. TIER 4&5 contributes to 24% of evening availability which is at least 4 hours"
   ]
  },
  {
   "cell_type": "markdown",
   "metadata": {},
   "source": [
    "# Attribute: Reliability\n",
    "\n",
    "Methodology:\n",
    "\n",
    "To understand the attribute more carefully, features from all the power sources have been taekn into consideration; \n",
    "* C29A represents the electricity disruption from the national grid in the worst months. \n",
    "* Whereas, C29B represents the electricity disruption from the national grid in the actual months.\n",
    "* C71A represents the electricity disruption from the mini grid in the worst months. \n",
    "* Whereas, C71B represents the electricity disruption from the mini grid in the actual months."
   ]
  },
  {
   "cell_type": "code",
   "execution_count": null,
   "metadata": {
    "ExecuteTime": {
     "end_time": "2020-12-22T17:07:23.550713Z",
     "start_time": "2020-12-22T17:07:19.403Z"
    }
   },
   "outputs": [],
   "source": [
    "df_reliability = df[['C29A','C29B','C71A','C71B']]"
   ]
  },
  {
   "cell_type": "code",
   "execution_count": null,
   "metadata": {
    "ExecuteTime": {
     "end_time": "2020-12-22T17:07:23.552713Z",
     "start_time": "2020-12-22T17:07:19.408Z"
    }
   },
   "outputs": [],
   "source": [
    "df_reliability.columns = ['National_grid_Worst','National_grid_Typical','Mini_grid_Worst','Mini_grid_Typical']"
   ]
  },
  {
   "cell_type": "markdown",
   "metadata": {},
   "source": [
    "## Total Reliability\n",
    "\n",
    "In this step Total reliability from all the power sources has been analysed. Taking the worst months into consideration, the missing values in \"worst\" months have been added from the \"typical\" months. This is done as the World bank takes the worst condition into account for enery access assessment."
   ]
  },
  {
   "cell_type": "code",
   "execution_count": null,
   "metadata": {
    "ExecuteTime": {
     "end_time": "2020-12-22T17:07:23.555713Z",
     "start_time": "2020-12-22T17:07:19.417Z"
    }
   },
   "outputs": [],
   "source": [
    "#National Grid\n",
    "df_reliability['National_grid_Total'] = df_reliability.National_grid_Worst.fillna(value=df_reliability.National_grid_Typical)\n",
    "\n",
    "#National Grid\n",
    "df_reliability['Mini_grid_Total'] = df_reliability.Mini_grid_Worst.fillna(value=df_reliability.Mini_grid_Typical)\n",
    "\n",
    "#Taking only the total values into consideration\n",
    "#df_rel_new=df_reliability[['National_grid_Total','Mini_grid_Total']]"
   ]
  },
  {
   "cell_type": "code",
   "execution_count": null,
   "metadata": {
    "ExecuteTime": {
     "end_time": "2020-12-22T17:07:23.559737Z",
     "start_time": "2020-12-22T17:07:19.426Z"
    }
   },
   "outputs": [],
   "source": [
    "df_reliability = df_reliability.replace(to_replace=\"Don't know\",value=0)\n",
    "df_reliability = df_reliability.apply(pd.to_numeric, errors='coerce')\n",
    "df_reliability"
   ]
  },
  {
   "cell_type": "code",
   "execution_count": null,
   "metadata": {
    "ExecuteTime": {
     "end_time": "2020-12-22T17:07:23.562714Z",
     "start_time": "2020-12-22T17:07:19.433Z"
    }
   },
   "outputs": [],
   "source": [
    "lst=[]\n",
    "for i in range(df_reliability.shape[0]):\n",
    "    temp=0\n",
    "    for j in range(df_reliability.shape[1]):\n",
    "        if math.isnan(df_reliability.iat[i,j]):\n",
    "            temp = temp\n",
    "        else:\n",
    "            temp = temp + df_reliability.iat[i,j]\n",
    "    lst.append(temp)\n",
    "\n",
    "# adding list to dataframe\n",
    "df_reliability[\"Total_reliability\"] = lst"
   ]
  },
  {
   "cell_type": "code",
   "execution_count": null,
   "metadata": {
    "ExecuteTime": {
     "end_time": "2020-12-22T17:07:23.565716Z",
     "start_time": "2020-12-22T17:07:19.443Z"
    }
   },
   "outputs": [],
   "source": [
    "df_reliability['Total_reliability'] = df_reliability.replace(np.nan, 'Missing_data', regex=True)\n",
    "df_reliability"
   ]
  },
  {
   "cell_type": "markdown",
   "metadata": {},
   "source": [
    "## Calculating the tier level"
   ]
  },
  {
   "cell_type": "code",
   "execution_count": null,
   "metadata": {
    "ExecuteTime": {
     "end_time": "2020-12-22T17:07:23.568722Z",
     "start_time": "2020-12-22T17:07:19.450Z"
    }
   },
   "outputs": [],
   "source": [
    "#Note: conditions for TIER 3 and 4 are the same and for TIER 0,1 and 2 are the same\n",
    "\n",
    "def fun_E_reliability(Total_reliability):\n",
    "    if Total_reliability == 'Missing_data':\n",
    "        return 0\n",
    "    elif Total_reliability == 0:\n",
    "        return 0\n",
    "    elif 0 < Total_reliability <= 3:\n",
    "        return 5\n",
    "    elif 3 < Total_reliability <= 14:\n",
    "        return 3\n",
    "    else:\n",
    "        return 0\n",
    "    \n",
    "func = np.vectorize(fun_E_reliability)\n",
    "df_reliability[\"E_reliability\"] = func(df_reliability[\"Total_reliability\"])"
   ]
  },
  {
   "cell_type": "code",
   "execution_count": null,
   "metadata": {
    "ExecuteTime": {
     "end_time": "2020-12-22T17:07:23.570715Z",
     "start_time": "2020-12-22T17:07:19.459Z"
    }
   },
   "outputs": [],
   "source": [
    "#Pie plot\n",
    "f,ax=plt.subplots(1,2, figsize=(18,6))\n",
    "df_reliability[\"E_reliability\"].value_counts().plot.pie( autopct='%1.0f%%',ax=ax[0])\n",
    "ax[0].set_title('TIER levels based on reliability')\n",
    "\n",
    "#Barplot\n",
    "sns.countplot('E_reliability',data=df_reliability,ax=ax[1])\n",
    "ax[1].set_title('TIER levels based on reliability')"
   ]
  },
  {
   "cell_type": "markdown",
   "metadata": {
    "ExecuteTime": {
     "end_time": "2020-12-22T13:50:55.907152Z",
     "start_time": "2020-12-22T13:50:55.887154Z"
    }
   },
   "source": [
    "# Attribute: Quality\n",
    "\n",
    "Methodology:\n",
    "\n",
    "To understand the attribute more carefully, features from all the power sources have been taekn into consideration; \n",
    "\n",
    "* C39 represents the damaged appliances from the national grid. \n",
    "* C81 represents the damaged appliances from the mini grid.\n",
    "* C110 represents the damaged appliances from the generator set.\n",
    "* C140 represents the damaged appliances from the Pico-hydro."
   ]
  },
  {
   "cell_type": "code",
   "execution_count": null,
   "metadata": {
    "ExecuteTime": {
     "end_time": "2020-12-22T17:07:23.574714Z",
     "start_time": "2020-12-22T17:07:19.466Z"
    }
   },
   "outputs": [],
   "source": [
    "df_quality = df[['C39','C81','C110','C140']]"
   ]
  },
  {
   "cell_type": "code",
   "execution_count": null,
   "metadata": {
    "ExecuteTime": {
     "end_time": "2020-12-22T17:07:23.576713Z",
     "start_time": "2020-12-22T17:07:19.473Z"
    }
   },
   "outputs": [],
   "source": [
    "df_quality.columns = ['National_grid', 'Mini_grid','Generator_set','Pico_hydro']"
   ]
  },
  {
   "cell_type": "code",
   "execution_count": null,
   "metadata": {
    "ExecuteTime": {
     "end_time": "2020-12-22T17:07:23.579713Z",
     "start_time": "2020-12-22T17:07:19.481Z"
    }
   },
   "outputs": [],
   "source": [
    "df_quality = df_quality.replace(to_replace=\"Don?t know\",value='Missing_data')"
   ]
  },
  {
   "cell_type": "code",
   "execution_count": null,
   "metadata": {
    "ExecuteTime": {
     "end_time": "2020-12-22T17:07:23.581714Z",
     "start_time": "2020-12-22T17:07:19.489Z"
    }
   },
   "outputs": [],
   "source": [
    "df_quality = df_quality.replace(np.nan, 'Missing_data', regex=True)"
   ]
  },
  {
   "cell_type": "code",
   "execution_count": null,
   "metadata": {
    "ExecuteTime": {
     "end_time": "2020-12-22T17:07:23.585717Z",
     "start_time": "2020-12-22T17:07:19.496Z"
    }
   },
   "outputs": [],
   "source": [
    "df_quality.info()"
   ]
  },
  {
   "cell_type": "code",
   "execution_count": null,
   "metadata": {
    "ExecuteTime": {
     "end_time": "2020-12-22T17:07:23.588719Z",
     "start_time": "2020-12-22T17:07:19.504Z"
    }
   },
   "outputs": [],
   "source": [
    "#Note: conditions for TIER 3 and 4 are the same and for TIER 0,1 and 2 are the same\n",
    "\n",
    "def fun_E_quality(quality):\n",
    "    if quality == 'Missing_data':\n",
    "        return 0\n",
    "    elif quality == \"Yes\":\n",
    "        return 5\n",
    "    else: \n",
    "        return 0\n",
    "\n",
    "    \n",
    "func = np.vectorize(fun_E_quality)\n",
    "df_quality[\"E_quality\"] = func(df_quality['National_grid'])"
   ]
  },
  {
   "cell_type": "code",
   "execution_count": null,
   "metadata": {
    "ExecuteTime": {
     "end_time": "2020-12-22T17:07:23.591716Z",
     "start_time": "2020-12-22T17:07:19.512Z"
    }
   },
   "outputs": [],
   "source": [
    "#Pie plot\n",
    "f,ax=plt.subplots(1,2, figsize=(18,6))\n",
    "df_quality[\"E_quality\"].value_counts().plot.pie( autopct='%1.0f%%',ax=ax[0])\n",
    "ax[0].set_title('TIER levels based on reliability')\n",
    "\n",
    "#Barplot\n",
    "sns.countplot('E_quality',data=df_quality,ax=ax[1])\n",
    "ax[1].set_title('TIER levels based on reliability')"
   ]
  },
  {
   "cell_type": "markdown",
   "metadata": {
    "ExecuteTime": {
     "end_time": "2020-12-22T16:14:50.843500Z",
     "start_time": "2020-12-22T16:14:50.832501Z"
    }
   },
   "source": [
    "# Attibute: Affordability\n",
    "No data about income was collected"
   ]
  },
  {
   "cell_type": "markdown",
   "metadata": {},
   "source": [
    "# Attribute: legality\n",
    "\n",
    "Methodology:\n",
    "\n",
    "To understand the attribute more carefully, features from all the power sources have been taekn into consideration; \n",
    "\n",
    "* C17 represents the electricity bill payment for using the national grid. \n",
    "* C57 represents the electricity bill payment for using the mini grid."
   ]
  },
  {
   "cell_type": "code",
   "execution_count": null,
   "metadata": {
    "ExecuteTime": {
     "end_time": "2020-12-22T17:07:23.594714Z",
     "start_time": "2020-12-22T17:07:19.522Z"
    }
   },
   "outputs": [],
   "source": [
    "df_legality= df[['C17','C57']]"
   ]
  },
  {
   "cell_type": "code",
   "execution_count": null,
   "metadata": {
    "ExecuteTime": {
     "end_time": "2020-12-22T17:07:23.599715Z",
     "start_time": "2020-12-22T17:07:19.528Z"
    }
   },
   "outputs": [],
   "source": [
    "df_legality.columns = ['National_grid', 'Mini_grid']"
   ]
  },
  {
   "cell_type": "code",
   "execution_count": null,
   "metadata": {
    "ExecuteTime": {
     "end_time": "2020-12-22T17:07:23.602718Z",
     "start_time": "2020-12-22T17:07:19.536Z"
    }
   },
   "outputs": [],
   "source": [
    "df_legality = df_legality.replace(np.nan, 'Missing_data', regex=True)"
   ]
  },
  {
   "cell_type": "code",
   "execution_count": null,
   "metadata": {
    "ExecuteTime": {
     "end_time": "2020-12-22T17:07:23.606719Z",
     "start_time": "2020-12-22T17:07:19.542Z"
    }
   },
   "outputs": [],
   "source": [
    "df_legality['National_grid'].value_counts()"
   ]
  },
  {
   "cell_type": "code",
   "execution_count": null,
   "metadata": {
    "ExecuteTime": {
     "end_time": "2020-12-22T17:07:23.610723Z",
     "start_time": "2020-12-22T17:07:19.548Z"
    }
   },
   "outputs": [],
   "source": [
    "df_legality['Mini_grid'].value_counts()"
   ]
  },
  {
   "cell_type": "code",
   "execution_count": null,
   "metadata": {
    "ExecuteTime": {
     "end_time": "2020-12-22T17:07:23.612717Z",
     "start_time": "2020-12-22T17:07:19.555Z"
    }
   },
   "outputs": [],
   "source": [
    "# Values vor mini-grid will be neglected"
   ]
  },
  {
   "cell_type": "code",
   "execution_count": null,
   "metadata": {
    "ExecuteTime": {
     "end_time": "2020-12-22T17:07:23.614715Z",
     "start_time": "2020-12-22T17:07:19.562Z"
    }
   },
   "outputs": [],
   "source": [
    "def fun_E_legality(National_grid):\n",
    "    if National_grid == 'Missing_data':\n",
    "        return 0\n",
    "    elif National_grid == 'No bill for electricity' or National_grid == 'We never used electricity':\n",
    "        return 0\n",
    "    else:\n",
    "        return 5\n",
    "    \n",
    "func = np.vectorize(fun_E_legality)\n",
    "df_legality[\"E_legality\"] = func(df_legality[\"National_grid\"])"
   ]
  },
  {
   "cell_type": "code",
   "execution_count": null,
   "metadata": {
    "ExecuteTime": {
     "end_time": "2020-12-22T17:07:23.617713Z",
     "start_time": "2020-12-22T17:07:19.570Z"
    }
   },
   "outputs": [],
   "source": [
    "df_legality['E_legality'].value_counts().plot.pie( autopct='%1.0f%%',figsize=(18,6))\n",
    "ax[0].set_title('TIER levels based on legality')"
   ]
  },
  {
   "cell_type": "markdown",
   "metadata": {},
   "source": [
    "# Attribute: Health and Safety\n",
    "\n",
    "Methodology:\n",
    "\n",
    "To understand the attribute more carefully, features from all the power sources have been taekn into consideration; \n",
    "\n",
    "* C41 represents the accidents caused using the national grid. \n",
    "* C83 represents the accidents caused using the mini grid.\n",
    "* C112 represents the accidents caused using the generator set.\n",
    "* C130 represents the accidents caused using the battery.\n",
    "* C142 represents the accidents caused using the Pico-hydro.\n",
    "* C175 represents the accidents caused using the solar based devices."
   ]
  },
  {
   "cell_type": "code",
   "execution_count": null,
   "metadata": {
    "ExecuteTime": {
     "end_time": "2020-12-22T17:07:23.620716Z",
     "start_time": "2020-12-22T17:07:19.578Z"
    }
   },
   "outputs": [],
   "source": [
    "df_health= df[['C41','C83','C112','C130','C142','C175']]"
   ]
  },
  {
   "cell_type": "code",
   "execution_count": null,
   "metadata": {
    "ExecuteTime": {
     "end_time": "2020-12-22T17:07:23.624719Z",
     "start_time": "2020-12-22T17:07:19.584Z"
    }
   },
   "outputs": [],
   "source": [
    "df_health.columns = ['National_grid', 'Mini_grid','Generator_set','Battery','Pico_hydro','Solar_devices']"
   ]
  },
  {
   "cell_type": "code",
   "execution_count": null,
   "metadata": {
    "ExecuteTime": {
     "end_time": "2020-12-22T17:07:23.626717Z",
     "start_time": "2020-12-22T17:07:19.590Z"
    }
   },
   "outputs": [],
   "source": [
    "df_health = df_health.replace(np.nan, 'Missing_data', regex=True)"
   ]
  },
  {
   "cell_type": "code",
   "execution_count": null,
   "metadata": {
    "ExecuteTime": {
     "end_time": "2020-12-22T17:07:23.629716Z",
     "start_time": "2020-12-22T17:07:19.596Z"
    }
   },
   "outputs": [],
   "source": [
    "def fun_E_health(National_grid):\n",
    "    if National_grid == 'Missing_data':\n",
    "        return 0\n",
    "    elif National_grid=='Yes' :\n",
    "        return 0\n",
    "    else:\n",
    "        return 5\n",
    "    \n",
    "func = np.vectorize(fun_E_health)\n",
    "df_health[\"E_health\"] = func(df_health[\"National_grid\"])"
   ]
  },
  {
   "cell_type": "code",
   "execution_count": null,
   "metadata": {
    "ExecuteTime": {
     "end_time": "2020-12-22T17:07:23.632716Z",
     "start_time": "2020-12-22T17:07:19.603Z"
    }
   },
   "outputs": [],
   "source": [
    "df_health['E_health'].value_counts().plot.pie( autopct='%1.0f%%',figsize=(18,6))\n",
    "ax[0].set_title('TIER levels based on reliability')"
   ]
  },
  {
   "cell_type": "code",
   "execution_count": null,
   "metadata": {
    "ExecuteTime": {
     "end_time": "2020-12-22T17:07:23.635716Z",
     "start_time": "2020-12-22T17:07:19.610Z"
    }
   },
   "outputs": [],
   "source": [
    "df_MTF = pd.DataFrame([df_capacity[\"E_capacity\"], df_av_day['E_availability_day'], df_av_evening['E_availability_evening'], df_reliability[\"E_reliability\"], df_quality[\"E_quality\"], df_legality['E_legality'], df_health['E_health']])\n",
    "df_MTF.T.to_csv"
   ]
  }
 ],
 "metadata": {
  "kernelspec": {
   "display_name": "Python [conda env:.conda-PhD]",
   "language": "python",
   "name": "conda-env-.conda-PhD-py"
  },
  "language_info": {
   "codemirror_mode": {
    "name": "ipython",
    "version": 3
   },
   "file_extension": ".py",
   "mimetype": "text/x-python",
   "name": "python",
   "nbconvert_exporter": "python",
   "pygments_lexer": "ipython3",
   "version": "3.7.4"
  },
  "toc": {
   "base_numbering": 1,
   "nav_menu": {},
   "number_sections": true,
   "sideBar": true,
   "skip_h1_title": false,
   "title_cell": "Table of Contents",
   "title_sidebar": "Contents",
   "toc_cell": false,
   "toc_position": {
    "height": "calc(100% - 180px)",
    "left": "10px",
    "top": "150px",
    "width": "259.333px"
   },
   "toc_section_display": true,
   "toc_window_display": true
  },
  "varInspector": {
   "cols": {
    "lenName": 16,
    "lenType": 16,
    "lenVar": 40
   },
   "kernels_config": {
    "python": {
     "delete_cmd_postfix": "",
     "delete_cmd_prefix": "del ",
     "library": "var_list.py",
     "varRefreshCmd": "print(var_dic_list())"
    },
    "r": {
     "delete_cmd_postfix": ") ",
     "delete_cmd_prefix": "rm(",
     "library": "var_list.r",
     "varRefreshCmd": "cat(var_dic_list()) "
    }
   },
   "position": {
    "height": "571.85px",
    "left": "1102px",
    "right": "20px",
    "top": "120px",
    "width": "350px"
   },
   "types_to_exclude": [
    "module",
    "function",
    "builtin_function_or_method",
    "instance",
    "_Feature"
   ],
   "window_display": false
  }
 },
 "nbformat": 4,
 "nbformat_minor": 4
}
