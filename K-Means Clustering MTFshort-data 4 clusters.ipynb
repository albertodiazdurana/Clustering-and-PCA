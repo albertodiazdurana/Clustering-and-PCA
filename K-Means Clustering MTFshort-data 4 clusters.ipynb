{
 "cells": [
  {
   "cell_type": "markdown",
   "metadata": {},
   "source": [
    "# Import packages and data"
   ]
  },
  {
   "cell_type": "code",
   "execution_count": 209,
   "metadata": {
    "ExecuteTime": {
     "end_time": "2020-12-29T02:45:12.987925Z",
     "start_time": "2020-12-29T02:45:12.968901Z"
    }
   },
   "outputs": [],
   "source": [
    "#from IPython.core.display import display, HTML\n",
    "#display(HTML(\"<style>.container { width:100% !important; }</style>\"))"
   ]
  },
  {
   "cell_type": "code",
   "execution_count": 210,
   "metadata": {
    "ExecuteTime": {
     "end_time": "2020-12-29T02:45:17.057952Z",
     "start_time": "2020-12-29T02:45:12.993900Z"
    }
   },
   "outputs": [],
   "source": [
    "from sklearn.preprocessing import StandardScaler\n",
    "\n",
    "import numpy as np \n",
    "import pandas as pd\n",
    "import matplotlib.pyplot as plt\n",
    "import seaborn as sns\n",
    "import os,sys, folium\n",
    "%matplotlib inline \n",
    "import qgrid\n",
    "import os,sys\n",
    "\n",
    "import warnings\n",
    "warnings.filterwarnings('ignore')\n",
    "\n",
    "MTF_Rwanda=pd.read_csv('HH_MTF_Rwanda.csv')\n",
    "codebook_rwanda=pd.read_stata('data/Main dataset.dta')\n",
    "# codebook_rwanda=pd.read_csv('codebook_rwanda.csv')"
   ]
  },
  {
   "cell_type": "code",
   "execution_count": 211,
   "metadata": {
    "ExecuteTime": {
     "end_time": "2020-12-29T02:45:17.089924Z",
     "start_time": "2020-12-29T02:45:17.062904Z"
    },
    "scrolled": true
   },
   "outputs": [
    {
     "data": {
      "text/plain": [
       "Index(['Unnamed: 0', 'E_capacity', 'E_availability_day',\n",
       "       'E_availability_evening', 'E_reliability', 'E_quality', 'E_legality',\n",
       "       'E_health', 'w_capacity_i', 'w_capacity_index', 'w_availability_day_i',\n",
       "       'w_availability_day_index', 'w_availability_evening_i',\n",
       "       'w_availability_evening_index', 'w_reliability_i',\n",
       "       'w_reliability_index', 'w_quality_i', 'w_quality_index', 'w_legality_i',\n",
       "       'w_legality_index', 'w_health_i', 'w_health_index', 'E_Index'],\n",
       "      dtype='object')"
      ]
     },
     "execution_count": 211,
     "metadata": {},
     "output_type": "execute_result"
    }
   ],
   "source": [
    "MTF_Rwanda.columns"
   ]
  },
  {
   "cell_type": "code",
   "execution_count": 212,
   "metadata": {
    "ExecuteTime": {
     "end_time": "2020-12-29T02:45:17.105898Z",
     "start_time": "2020-12-29T02:45:17.095897Z"
    }
   },
   "outputs": [],
   "source": [
    "HH_MTF_Rwanda = MTF_Rwanda.filter(['E_capacity','E_availability_day','E_availability_evening','E_reliability','E_quality','E_legality','E_health','E_Index'], axis=1)"
   ]
  },
  {
   "cell_type": "code",
   "execution_count": 213,
   "metadata": {
    "ExecuteTime": {
     "end_time": "2020-12-29T02:45:17.138899Z",
     "start_time": "2020-12-29T02:45:17.111902Z"
    }
   },
   "outputs": [
    {
     "data": {
      "text/plain": [
       "Index(['E_capacity', 'E_availability_day', 'E_availability_evening',\n",
       "       'E_reliability', 'E_quality', 'E_legality', 'E_health', 'E_Index'],\n",
       "      dtype='object')"
      ]
     },
     "execution_count": 213,
     "metadata": {},
     "output_type": "execute_result"
    }
   ],
   "source": [
    "HH_MTF_Rwanda.columns"
   ]
  },
  {
   "cell_type": "code",
   "execution_count": 214,
   "metadata": {
    "ExecuteTime": {
     "end_time": "2020-12-29T02:45:17.153901Z",
     "start_time": "2020-12-29T02:45:17.143906Z"
    }
   },
   "outputs": [
    {
     "data": {
      "text/plain": [
       "Index(['HHID', 'Cluster', 'strata', 'Province', 'District', 'Sector',\n",
       "       'Cellule', 'Village', 'B1', 'B2',\n",
       "       ...\n",
       "       'T28', 'T28B', 'T28C', 'DATE_START', 'TIME_START', 'DATE_END',\n",
       "       'TIME_END', 'cluster', 'sample_weight', 'Locality'],\n",
       "      dtype='object', length=730)"
      ]
     },
     "execution_count": 214,
     "metadata": {},
     "output_type": "execute_result"
    }
   ],
   "source": [
    "codebook_rwanda.columns"
   ]
  },
  {
   "cell_type": "code",
   "execution_count": 215,
   "metadata": {
    "ExecuteTime": {
     "end_time": "2020-12-29T02:45:17.231900Z",
     "start_time": "2020-12-29T02:45:17.159902Z"
    },
    "scrolled": false
   },
   "outputs": [
    {
     "data": {
      "application/vnd.jupyter.widget-view+json": {
       "model_id": "627c7260117548f9ac8e3c07da83e1db",
       "version_major": 2,
       "version_minor": 0
      },
      "text/plain": [
       "QgridWidget(grid_options={'fullWidthRows': True, 'syncColumnCellResize': True, 'forceFitColumns': False, 'defa…"
      ]
     },
     "metadata": {},
     "output_type": "display_data"
    }
   ],
   "source": [
    "col_options = {\n",
    "    'width': 140,\n",
    "}\n",
    "col_defs = {\n",
    "    'index': {\n",
    "        'width': 40,\n",
    "    }\n",
    "}\n",
    "qgrid.show_grid(HH_MTF_Rwanda,column_options=col_options,\n",
    "                               column_definitions=col_defs,\n",
    "                               grid_options={'forceFitColumns': False})"
   ]
  },
  {
   "cell_type": "code",
   "execution_count": 216,
   "metadata": {
    "ExecuteTime": {
     "end_time": "2020-12-29T02:45:17.388902Z",
     "start_time": "2020-12-29T02:45:17.240895Z"
    },
    "scrolled": true
   },
   "outputs": [
    {
     "data": {
      "text/html": [
       "<div>\n",
       "<style scoped>\n",
       "    .dataframe tbody tr th:only-of-type {\n",
       "        vertical-align: middle;\n",
       "    }\n",
       "\n",
       "    .dataframe tbody tr th {\n",
       "        vertical-align: top;\n",
       "    }\n",
       "\n",
       "    .dataframe thead th {\n",
       "        text-align: right;\n",
       "    }\n",
       "</style>\n",
       "<table border=\"1\" class=\"dataframe\">\n",
       "  <thead>\n",
       "    <tr style=\"text-align: right;\">\n",
       "      <th></th>\n",
       "      <th>HHID</th>\n",
       "      <th>Cluster</th>\n",
       "      <th>strata</th>\n",
       "      <th>Province</th>\n",
       "      <th>District</th>\n",
       "      <th>Sector</th>\n",
       "      <th>Cellule</th>\n",
       "      <th>Village</th>\n",
       "      <th>B1</th>\n",
       "      <th>B2</th>\n",
       "      <th>...</th>\n",
       "      <th>T28</th>\n",
       "      <th>T28B</th>\n",
       "      <th>T28C</th>\n",
       "      <th>DATE_START</th>\n",
       "      <th>TIME_START</th>\n",
       "      <th>DATE_END</th>\n",
       "      <th>TIME_END</th>\n",
       "      <th>cluster</th>\n",
       "      <th>sample_weight</th>\n",
       "      <th>Locality</th>\n",
       "    </tr>\n",
       "  </thead>\n",
       "  <tbody>\n",
       "    <tr>\n",
       "      <th>0</th>\n",
       "      <td>1.102021e+12</td>\n",
       "      <td>1</td>\n",
       "      <td>11</td>\n",
       "      <td>City of Kigali</td>\n",
       "      <td>Nyarugenge</td>\n",
       "      <td>Kanyinya</td>\n",
       "      <td>Nzove</td>\n",
       "      <td>Ruyenzi</td>\n",
       "      <td>2.0</td>\n",
       "      <td>Yes</td>\n",
       "      <td>...</td>\n",
       "      <td>NaN</td>\n",
       "      <td>NaN</td>\n",
       "      <td>NaN</td>\n",
       "      <td>18/11/2016</td>\n",
       "      <td>12:05</td>\n",
       "      <td>18/11/2016</td>\n",
       "      <td>12:49</td>\n",
       "      <td>11</td>\n",
       "      <td>476.617645</td>\n",
       "      <td>Rural</td>\n",
       "    </tr>\n",
       "    <tr>\n",
       "      <th>1</th>\n",
       "      <td>1.102021e+12</td>\n",
       "      <td>1</td>\n",
       "      <td>12</td>\n",
       "      <td>City of Kigali</td>\n",
       "      <td>Nyarugenge</td>\n",
       "      <td>Kanyinya</td>\n",
       "      <td>Nzove</td>\n",
       "      <td>Ruyenzi</td>\n",
       "      <td>1.0</td>\n",
       "      <td>Yes</td>\n",
       "      <td>...</td>\n",
       "      <td>NaN</td>\n",
       "      <td>NaN</td>\n",
       "      <td>NaN</td>\n",
       "      <td>18/11/2016</td>\n",
       "      <td>10:23</td>\n",
       "      <td>18/11/2016</td>\n",
       "      <td>11:26</td>\n",
       "      <td>12</td>\n",
       "      <td>370.042023</td>\n",
       "      <td>Rural</td>\n",
       "    </tr>\n",
       "    <tr>\n",
       "      <th>2</th>\n",
       "      <td>1.102021e+12</td>\n",
       "      <td>1</td>\n",
       "      <td>12</td>\n",
       "      <td>City of Kigali</td>\n",
       "      <td>Nyarugenge</td>\n",
       "      <td>Kanyinya</td>\n",
       "      <td>Nzove</td>\n",
       "      <td>Ruyenzi</td>\n",
       "      <td>1.0</td>\n",
       "      <td>Yes</td>\n",
       "      <td>...</td>\n",
       "      <td>NaN</td>\n",
       "      <td>NaN</td>\n",
       "      <td>NaN</td>\n",
       "      <td>18/11/2016</td>\n",
       "      <td>11:32</td>\n",
       "      <td>18/11/2016</td>\n",
       "      <td>12:24</td>\n",
       "      <td>12</td>\n",
       "      <td>370.042023</td>\n",
       "      <td>Rural</td>\n",
       "    </tr>\n",
       "    <tr>\n",
       "      <th>3</th>\n",
       "      <td>1.102021e+12</td>\n",
       "      <td>1</td>\n",
       "      <td>12</td>\n",
       "      <td>City of Kigali</td>\n",
       "      <td>Nyarugenge</td>\n",
       "      <td>Kanyinya</td>\n",
       "      <td>Nzove</td>\n",
       "      <td>Ruyenzi</td>\n",
       "      <td>1.0</td>\n",
       "      <td>Yes</td>\n",
       "      <td>...</td>\n",
       "      <td>NaN</td>\n",
       "      <td>NaN</td>\n",
       "      <td>NaN</td>\n",
       "      <td>18/11/2016</td>\n",
       "      <td>10:30</td>\n",
       "      <td>18/11/2016</td>\n",
       "      <td>11:17</td>\n",
       "      <td>12</td>\n",
       "      <td>370.042023</td>\n",
       "      <td>Rural</td>\n",
       "    </tr>\n",
       "    <tr>\n",
       "      <th>4</th>\n",
       "      <td>1.102021e+12</td>\n",
       "      <td>1</td>\n",
       "      <td>12</td>\n",
       "      <td>City of Kigali</td>\n",
       "      <td>Nyarugenge</td>\n",
       "      <td>Kanyinya</td>\n",
       "      <td>Nzove</td>\n",
       "      <td>Ruyenzi</td>\n",
       "      <td>1.0</td>\n",
       "      <td>Yes</td>\n",
       "      <td>...</td>\n",
       "      <td>No</td>\n",
       "      <td>NaN</td>\n",
       "      <td>NaN</td>\n",
       "      <td>18/11/2016</td>\n",
       "      <td>10:14</td>\n",
       "      <td>18/11/2016</td>\n",
       "      <td>11:28</td>\n",
       "      <td>12</td>\n",
       "      <td>370.042023</td>\n",
       "      <td>Rural</td>\n",
       "    </tr>\n",
       "    <tr>\n",
       "      <th>...</th>\n",
       "      <td>...</td>\n",
       "      <td>...</td>\n",
       "      <td>...</td>\n",
       "      <td>...</td>\n",
       "      <td>...</td>\n",
       "      <td>...</td>\n",
       "      <td>...</td>\n",
       "      <td>...</td>\n",
       "      <td>...</td>\n",
       "      <td>...</td>\n",
       "      <td>...</td>\n",
       "      <td>...</td>\n",
       "      <td>...</td>\n",
       "      <td>...</td>\n",
       "      <td>...</td>\n",
       "      <td>...</td>\n",
       "      <td>...</td>\n",
       "      <td>...</td>\n",
       "      <td>...</td>\n",
       "      <td>...</td>\n",
       "      <td>...</td>\n",
       "    </tr>\n",
       "    <tr>\n",
       "      <th>3290</th>\n",
       "      <td>5.714040e+12</td>\n",
       "      <td>275</td>\n",
       "      <td>2752</td>\n",
       "      <td>Eastern</td>\n",
       "      <td>Bugesera</td>\n",
       "      <td>Rweru</td>\n",
       "      <td>Nemba</td>\n",
       "      <td>Kigina</td>\n",
       "      <td>1.0</td>\n",
       "      <td>No</td>\n",
       "      <td>...</td>\n",
       "      <td>NaN</td>\n",
       "      <td>NaN</td>\n",
       "      <td>NaN</td>\n",
       "      <td>14/11/2016</td>\n",
       "      <td>16:49</td>\n",
       "      <td>14/11/2016</td>\n",
       "      <td>13:13</td>\n",
       "      <td>2752</td>\n",
       "      <td>9788.472656</td>\n",
       "      <td>Rural</td>\n",
       "    </tr>\n",
       "    <tr>\n",
       "      <th>3291</th>\n",
       "      <td>5.714040e+12</td>\n",
       "      <td>275</td>\n",
       "      <td>2751</td>\n",
       "      <td>Eastern</td>\n",
       "      <td>Bugesera</td>\n",
       "      <td>Rweru</td>\n",
       "      <td>Nemba</td>\n",
       "      <td>Kigina</td>\n",
       "      <td>1.0</td>\n",
       "      <td>Yes</td>\n",
       "      <td>...</td>\n",
       "      <td>NaN</td>\n",
       "      <td>NaN</td>\n",
       "      <td>NaN</td>\n",
       "      <td>14/11/2016</td>\n",
       "      <td>13:59</td>\n",
       "      <td>14/11/2016</td>\n",
       "      <td>15:50</td>\n",
       "      <td>2751</td>\n",
       "      <td>729.744080</td>\n",
       "      <td>Rural</td>\n",
       "    </tr>\n",
       "    <tr>\n",
       "      <th>3292</th>\n",
       "      <td>5.714040e+12</td>\n",
       "      <td>275</td>\n",
       "      <td>2751</td>\n",
       "      <td>Eastern</td>\n",
       "      <td>Bugesera</td>\n",
       "      <td>Rweru</td>\n",
       "      <td>Nemba</td>\n",
       "      <td>Kigina</td>\n",
       "      <td>1.0</td>\n",
       "      <td>Yes</td>\n",
       "      <td>...</td>\n",
       "      <td>NaN</td>\n",
       "      <td>NaN</td>\n",
       "      <td>NaN</td>\n",
       "      <td>14/11/2016</td>\n",
       "      <td>16:10</td>\n",
       "      <td>14/11/2016</td>\n",
       "      <td>17:44</td>\n",
       "      <td>2751</td>\n",
       "      <td>729.744080</td>\n",
       "      <td>Rural</td>\n",
       "    </tr>\n",
       "    <tr>\n",
       "      <th>3293</th>\n",
       "      <td>5.714040e+12</td>\n",
       "      <td>275</td>\n",
       "      <td>2751</td>\n",
       "      <td>Eastern</td>\n",
       "      <td>Bugesera</td>\n",
       "      <td>Rweru</td>\n",
       "      <td>Nemba</td>\n",
       "      <td>Kigina</td>\n",
       "      <td>1.0</td>\n",
       "      <td>Yes</td>\n",
       "      <td>...</td>\n",
       "      <td>NaN</td>\n",
       "      <td>NaN</td>\n",
       "      <td>NaN</td>\n",
       "      <td>14/11/2016</td>\n",
       "      <td>13:26</td>\n",
       "      <td>14/11/2016</td>\n",
       "      <td>15:39</td>\n",
       "      <td>2751</td>\n",
       "      <td>729.744080</td>\n",
       "      <td>Rural</td>\n",
       "    </tr>\n",
       "    <tr>\n",
       "      <th>3294</th>\n",
       "      <td>5.714040e+12</td>\n",
       "      <td>275</td>\n",
       "      <td>2752</td>\n",
       "      <td>Eastern</td>\n",
       "      <td>Bugesera</td>\n",
       "      <td>Rweru</td>\n",
       "      <td>Nemba</td>\n",
       "      <td>Kigina</td>\n",
       "      <td>2.0</td>\n",
       "      <td>Yes</td>\n",
       "      <td>...</td>\n",
       "      <td>NaN</td>\n",
       "      <td>NaN</td>\n",
       "      <td>NaN</td>\n",
       "      <td>14/11/2016</td>\n",
       "      <td>16:31</td>\n",
       "      <td>14/11/2016</td>\n",
       "      <td>17:34</td>\n",
       "      <td>2752</td>\n",
       "      <td>9788.472656</td>\n",
       "      <td>Rural</td>\n",
       "    </tr>\n",
       "  </tbody>\n",
       "</table>\n",
       "<p>3295 rows × 730 columns</p>\n",
       "</div>"
      ],
      "text/plain": [
       "              HHID  Cluster  strata        Province    District    Sector  \\\n",
       "0     1.102021e+12        1      11  City of Kigali  Nyarugenge  Kanyinya   \n",
       "1     1.102021e+12        1      12  City of Kigali  Nyarugenge  Kanyinya   \n",
       "2     1.102021e+12        1      12  City of Kigali  Nyarugenge  Kanyinya   \n",
       "3     1.102021e+12        1      12  City of Kigali  Nyarugenge  Kanyinya   \n",
       "4     1.102021e+12        1      12  City of Kigali  Nyarugenge  Kanyinya   \n",
       "...            ...      ...     ...             ...         ...       ...   \n",
       "3290  5.714040e+12      275    2752         Eastern    Bugesera     Rweru   \n",
       "3291  5.714040e+12      275    2751         Eastern    Bugesera     Rweru   \n",
       "3292  5.714040e+12      275    2751         Eastern    Bugesera     Rweru   \n",
       "3293  5.714040e+12      275    2751         Eastern    Bugesera     Rweru   \n",
       "3294  5.714040e+12      275    2752         Eastern    Bugesera     Rweru   \n",
       "\n",
       "     Cellule  Village   B1   B2  ...  T28  T28B T28C  DATE_START TIME_START  \\\n",
       "0      Nzove  Ruyenzi  2.0  Yes  ...  NaN   NaN  NaN  18/11/2016      12:05   \n",
       "1      Nzove  Ruyenzi  1.0  Yes  ...  NaN   NaN  NaN  18/11/2016      10:23   \n",
       "2      Nzove  Ruyenzi  1.0  Yes  ...  NaN   NaN  NaN  18/11/2016      11:32   \n",
       "3      Nzove  Ruyenzi  1.0  Yes  ...  NaN   NaN  NaN  18/11/2016      10:30   \n",
       "4      Nzove  Ruyenzi  1.0  Yes  ...   No   NaN  NaN  18/11/2016      10:14   \n",
       "...      ...      ...  ...  ...  ...  ...   ...  ...         ...        ...   \n",
       "3290   Nemba   Kigina  1.0   No  ...  NaN   NaN  NaN  14/11/2016      16:49   \n",
       "3291   Nemba   Kigina  1.0  Yes  ...  NaN   NaN  NaN  14/11/2016      13:59   \n",
       "3292   Nemba   Kigina  1.0  Yes  ...  NaN   NaN  NaN  14/11/2016      16:10   \n",
       "3293   Nemba   Kigina  1.0  Yes  ...  NaN   NaN  NaN  14/11/2016      13:26   \n",
       "3294   Nemba   Kigina  2.0  Yes  ...  NaN   NaN  NaN  14/11/2016      16:31   \n",
       "\n",
       "        DATE_END TIME_END  cluster  sample_weight  Locality  \n",
       "0     18/11/2016    12:49       11     476.617645     Rural  \n",
       "1     18/11/2016    11:26       12     370.042023     Rural  \n",
       "2     18/11/2016    12:24       12     370.042023     Rural  \n",
       "3     18/11/2016    11:17       12     370.042023     Rural  \n",
       "4     18/11/2016    11:28       12     370.042023     Rural  \n",
       "...          ...      ...      ...            ...       ...  \n",
       "3290  14/11/2016    13:13     2752    9788.472656     Rural  \n",
       "3291  14/11/2016    15:50     2751     729.744080     Rural  \n",
       "3292  14/11/2016    17:44     2751     729.744080     Rural  \n",
       "3293  14/11/2016    15:39     2751     729.744080     Rural  \n",
       "3294  14/11/2016    17:34     2752    9788.472656     Rural  \n",
       "\n",
       "[3295 rows x 730 columns]"
      ]
     },
     "execution_count": 216,
     "metadata": {},
     "output_type": "execute_result"
    }
   ],
   "source": [
    "codebook_rwanda"
   ]
  },
  {
   "cell_type": "code",
   "execution_count": 217,
   "metadata": {
    "ExecuteTime": {
     "end_time": "2020-12-29T02:45:17.406912Z",
     "start_time": "2020-12-29T02:45:17.395899Z"
    }
   },
   "outputs": [],
   "source": [
    "# the column 'Respondent id' of codebook_rwanda is probably the id number of the interviewer and has no numerical significance related to the household"
   ]
  },
  {
   "cell_type": "markdown",
   "metadata": {},
   "source": [
    "## Removing the columns missing names"
   ]
  },
  {
   "cell_type": "code",
   "execution_count": 218,
   "metadata": {
    "ExecuteTime": {
     "end_time": "2020-12-29T02:45:17.436895Z",
     "start_time": "2020-12-29T02:45:17.411905Z"
    }
   },
   "outputs": [
    {
     "data": {
      "text/plain": [
       "Index(['HHID', 'Cluster', 'strata', 'Province', 'District', 'Sector',\n",
       "       'Cellule', 'Village', 'B1', 'B2',\n",
       "       ...\n",
       "       'T28', 'T28B', 'T28C', 'DATE_START', 'TIME_START', 'DATE_END',\n",
       "       'TIME_END', 'cluster', 'sample_weight', 'Locality'],\n",
       "      dtype='object', length=730)"
      ]
     },
     "execution_count": 218,
     "metadata": {},
     "output_type": "execute_result"
    }
   ],
   "source": [
    "#codebook_rwanda.columns.get_loc(\"C2\")\n",
    "codebook_rwanda.columns"
   ]
  },
  {
   "cell_type": "code",
   "execution_count": 219,
   "metadata": {
    "ExecuteTime": {
     "end_time": "2020-12-29T02:45:17.609895Z",
     "start_time": "2020-12-29T02:45:17.441898Z"
    }
   },
   "outputs": [
    {
     "data": {
      "text/html": [
       "<div>\n",
       "<style scoped>\n",
       "    .dataframe tbody tr th:only-of-type {\n",
       "        vertical-align: middle;\n",
       "    }\n",
       "\n",
       "    .dataframe tbody tr th {\n",
       "        vertical-align: top;\n",
       "    }\n",
       "\n",
       "    .dataframe thead th {\n",
       "        text-align: right;\n",
       "    }\n",
       "</style>\n",
       "<table border=\"1\" class=\"dataframe\">\n",
       "  <thead>\n",
       "    <tr style=\"text-align: right;\">\n",
       "      <th></th>\n",
       "      <th>HHID</th>\n",
       "      <th>Cluster</th>\n",
       "      <th>strata</th>\n",
       "      <th>Province</th>\n",
       "      <th>District</th>\n",
       "      <th>Sector</th>\n",
       "      <th>Cellule</th>\n",
       "      <th>Village</th>\n",
       "      <th>B2</th>\n",
       "      <th>B3</th>\n",
       "      <th>...</th>\n",
       "      <th>T28</th>\n",
       "      <th>T28B</th>\n",
       "      <th>T28C</th>\n",
       "      <th>DATE_START</th>\n",
       "      <th>TIME_START</th>\n",
       "      <th>DATE_END</th>\n",
       "      <th>TIME_END</th>\n",
       "      <th>cluster</th>\n",
       "      <th>sample_weight</th>\n",
       "      <th>Locality</th>\n",
       "    </tr>\n",
       "  </thead>\n",
       "  <tbody>\n",
       "    <tr>\n",
       "      <th>0</th>\n",
       "      <td>1.102021e+12</td>\n",
       "      <td>1</td>\n",
       "      <td>11</td>\n",
       "      <td>City of Kigali</td>\n",
       "      <td>Nyarugenge</td>\n",
       "      <td>Kanyinya</td>\n",
       "      <td>Nzove</td>\n",
       "      <td>Ruyenzi</td>\n",
       "      <td>Yes</td>\n",
       "      <td>NaN</td>\n",
       "      <td>...</td>\n",
       "      <td>NaN</td>\n",
       "      <td>NaN</td>\n",
       "      <td>NaN</td>\n",
       "      <td>18/11/2016</td>\n",
       "      <td>12:05</td>\n",
       "      <td>18/11/2016</td>\n",
       "      <td>12:49</td>\n",
       "      <td>11</td>\n",
       "      <td>476.617645</td>\n",
       "      <td>Rural</td>\n",
       "    </tr>\n",
       "    <tr>\n",
       "      <th>1</th>\n",
       "      <td>1.102021e+12</td>\n",
       "      <td>1</td>\n",
       "      <td>12</td>\n",
       "      <td>City of Kigali</td>\n",
       "      <td>Nyarugenge</td>\n",
       "      <td>Kanyinya</td>\n",
       "      <td>Nzove</td>\n",
       "      <td>Ruyenzi</td>\n",
       "      <td>Yes</td>\n",
       "      <td>NaN</td>\n",
       "      <td>...</td>\n",
       "      <td>NaN</td>\n",
       "      <td>NaN</td>\n",
       "      <td>NaN</td>\n",
       "      <td>18/11/2016</td>\n",
       "      <td>10:23</td>\n",
       "      <td>18/11/2016</td>\n",
       "      <td>11:26</td>\n",
       "      <td>12</td>\n",
       "      <td>370.042023</td>\n",
       "      <td>Rural</td>\n",
       "    </tr>\n",
       "    <tr>\n",
       "      <th>2</th>\n",
       "      <td>1.102021e+12</td>\n",
       "      <td>1</td>\n",
       "      <td>12</td>\n",
       "      <td>City of Kigali</td>\n",
       "      <td>Nyarugenge</td>\n",
       "      <td>Kanyinya</td>\n",
       "      <td>Nzove</td>\n",
       "      <td>Ruyenzi</td>\n",
       "      <td>Yes</td>\n",
       "      <td>NaN</td>\n",
       "      <td>...</td>\n",
       "      <td>NaN</td>\n",
       "      <td>NaN</td>\n",
       "      <td>NaN</td>\n",
       "      <td>18/11/2016</td>\n",
       "      <td>11:32</td>\n",
       "      <td>18/11/2016</td>\n",
       "      <td>12:24</td>\n",
       "      <td>12</td>\n",
       "      <td>370.042023</td>\n",
       "      <td>Rural</td>\n",
       "    </tr>\n",
       "    <tr>\n",
       "      <th>3</th>\n",
       "      <td>1.102021e+12</td>\n",
       "      <td>1</td>\n",
       "      <td>12</td>\n",
       "      <td>City of Kigali</td>\n",
       "      <td>Nyarugenge</td>\n",
       "      <td>Kanyinya</td>\n",
       "      <td>Nzove</td>\n",
       "      <td>Ruyenzi</td>\n",
       "      <td>Yes</td>\n",
       "      <td>NaN</td>\n",
       "      <td>...</td>\n",
       "      <td>NaN</td>\n",
       "      <td>NaN</td>\n",
       "      <td>NaN</td>\n",
       "      <td>18/11/2016</td>\n",
       "      <td>10:30</td>\n",
       "      <td>18/11/2016</td>\n",
       "      <td>11:17</td>\n",
       "      <td>12</td>\n",
       "      <td>370.042023</td>\n",
       "      <td>Rural</td>\n",
       "    </tr>\n",
       "    <tr>\n",
       "      <th>4</th>\n",
       "      <td>1.102021e+12</td>\n",
       "      <td>1</td>\n",
       "      <td>12</td>\n",
       "      <td>City of Kigali</td>\n",
       "      <td>Nyarugenge</td>\n",
       "      <td>Kanyinya</td>\n",
       "      <td>Nzove</td>\n",
       "      <td>Ruyenzi</td>\n",
       "      <td>Yes</td>\n",
       "      <td>NaN</td>\n",
       "      <td>...</td>\n",
       "      <td>No</td>\n",
       "      <td>NaN</td>\n",
       "      <td>NaN</td>\n",
       "      <td>18/11/2016</td>\n",
       "      <td>10:14</td>\n",
       "      <td>18/11/2016</td>\n",
       "      <td>11:28</td>\n",
       "      <td>12</td>\n",
       "      <td>370.042023</td>\n",
       "      <td>Rural</td>\n",
       "    </tr>\n",
       "  </tbody>\n",
       "</table>\n",
       "<p>5 rows × 722 columns</p>\n",
       "</div>"
      ],
      "text/plain": [
       "           HHID  Cluster  strata        Province    District    Sector  \\\n",
       "0  1.102021e+12        1      11  City of Kigali  Nyarugenge  Kanyinya   \n",
       "1  1.102021e+12        1      12  City of Kigali  Nyarugenge  Kanyinya   \n",
       "2  1.102021e+12        1      12  City of Kigali  Nyarugenge  Kanyinya   \n",
       "3  1.102021e+12        1      12  City of Kigali  Nyarugenge  Kanyinya   \n",
       "4  1.102021e+12        1      12  City of Kigali  Nyarugenge  Kanyinya   \n",
       "\n",
       "  Cellule  Village   B2   B3  ...  T28 T28B  T28C  DATE_START TIME_START  \\\n",
       "0   Nzove  Ruyenzi  Yes  NaN  ...  NaN  NaN   NaN  18/11/2016      12:05   \n",
       "1   Nzove  Ruyenzi  Yes  NaN  ...  NaN  NaN   NaN  18/11/2016      10:23   \n",
       "2   Nzove  Ruyenzi  Yes  NaN  ...  NaN  NaN   NaN  18/11/2016      11:32   \n",
       "3   Nzove  Ruyenzi  Yes  NaN  ...  NaN  NaN   NaN  18/11/2016      10:30   \n",
       "4   Nzove  Ruyenzi  Yes  NaN  ...   No  NaN   NaN  18/11/2016      10:14   \n",
       "\n",
       "     DATE_END  TIME_END  cluster  sample_weight  Locality  \n",
       "0  18/11/2016     12:49       11     476.617645     Rural  \n",
       "1  18/11/2016     11:26       12     370.042023     Rural  \n",
       "2  18/11/2016     12:24       12     370.042023     Rural  \n",
       "3  18/11/2016     11:17       12     370.042023     Rural  \n",
       "4  18/11/2016     11:28       12     370.042023     Rural  \n",
       "\n",
       "[5 rows x 722 columns]"
      ]
     },
     "execution_count": 219,
     "metadata": {},
     "output_type": "execute_result"
    }
   ],
   "source": [
    "#df.drop(df.ix[:,'Unnamed: 24':'Unnamed: 60'].head(0).columns, axis=1)\n",
    "codebook_rwanda = codebook_rwanda.drop(['B1','C1','D2','E1','G1','H1','I1','K1'], axis=1)\n",
    "codebook_rwanda.head()"
   ]
  },
  {
   "cell_type": "markdown",
   "metadata": {},
   "source": [
    "## Replacing blank values (white space) with NaN"
   ]
  },
  {
   "cell_type": "code",
   "execution_count": 220,
   "metadata": {
    "ExecuteTime": {
     "end_time": "2020-12-29T02:45:17.959896Z",
     "start_time": "2020-12-29T02:45:17.614900Z"
    }
   },
   "outputs": [
    {
     "data": {
      "text/html": [
       "<div>\n",
       "<style scoped>\n",
       "    .dataframe tbody tr th:only-of-type {\n",
       "        vertical-align: middle;\n",
       "    }\n",
       "\n",
       "    .dataframe tbody tr th {\n",
       "        vertical-align: top;\n",
       "    }\n",
       "\n",
       "    .dataframe thead th {\n",
       "        text-align: right;\n",
       "    }\n",
       "</style>\n",
       "<table border=\"1\" class=\"dataframe\">\n",
       "  <thead>\n",
       "    <tr style=\"text-align: right;\">\n",
       "      <th></th>\n",
       "      <th>HHID</th>\n",
       "      <th>Cluster</th>\n",
       "      <th>strata</th>\n",
       "      <th>Province</th>\n",
       "      <th>District</th>\n",
       "      <th>Sector</th>\n",
       "      <th>Cellule</th>\n",
       "      <th>Village</th>\n",
       "      <th>B2</th>\n",
       "      <th>B3</th>\n",
       "      <th>...</th>\n",
       "      <th>T28</th>\n",
       "      <th>T28B</th>\n",
       "      <th>T28C</th>\n",
       "      <th>DATE_START</th>\n",
       "      <th>TIME_START</th>\n",
       "      <th>DATE_END</th>\n",
       "      <th>TIME_END</th>\n",
       "      <th>cluster</th>\n",
       "      <th>sample_weight</th>\n",
       "      <th>Locality</th>\n",
       "    </tr>\n",
       "  </thead>\n",
       "  <tbody>\n",
       "    <tr>\n",
       "      <th>0</th>\n",
       "      <td>1.102021e+12</td>\n",
       "      <td>1</td>\n",
       "      <td>11</td>\n",
       "      <td>City of Kigali</td>\n",
       "      <td>Nyarugenge</td>\n",
       "      <td>Kanyinya</td>\n",
       "      <td>Nzove</td>\n",
       "      <td>Ruyenzi</td>\n",
       "      <td>Yes</td>\n",
       "      <td>NaN</td>\n",
       "      <td>...</td>\n",
       "      <td>NaN</td>\n",
       "      <td>NaN</td>\n",
       "      <td>NaN</td>\n",
       "      <td>18/11/2016</td>\n",
       "      <td>12:05</td>\n",
       "      <td>18/11/2016</td>\n",
       "      <td>12:49</td>\n",
       "      <td>11</td>\n",
       "      <td>476.617645</td>\n",
       "      <td>Rural</td>\n",
       "    </tr>\n",
       "    <tr>\n",
       "      <th>1</th>\n",
       "      <td>1.102021e+12</td>\n",
       "      <td>1</td>\n",
       "      <td>12</td>\n",
       "      <td>City of Kigali</td>\n",
       "      <td>Nyarugenge</td>\n",
       "      <td>Kanyinya</td>\n",
       "      <td>Nzove</td>\n",
       "      <td>Ruyenzi</td>\n",
       "      <td>Yes</td>\n",
       "      <td>NaN</td>\n",
       "      <td>...</td>\n",
       "      <td>NaN</td>\n",
       "      <td>NaN</td>\n",
       "      <td>NaN</td>\n",
       "      <td>18/11/2016</td>\n",
       "      <td>10:23</td>\n",
       "      <td>18/11/2016</td>\n",
       "      <td>11:26</td>\n",
       "      <td>12</td>\n",
       "      <td>370.042023</td>\n",
       "      <td>Rural</td>\n",
       "    </tr>\n",
       "    <tr>\n",
       "      <th>2</th>\n",
       "      <td>1.102021e+12</td>\n",
       "      <td>1</td>\n",
       "      <td>12</td>\n",
       "      <td>City of Kigali</td>\n",
       "      <td>Nyarugenge</td>\n",
       "      <td>Kanyinya</td>\n",
       "      <td>Nzove</td>\n",
       "      <td>Ruyenzi</td>\n",
       "      <td>Yes</td>\n",
       "      <td>NaN</td>\n",
       "      <td>...</td>\n",
       "      <td>NaN</td>\n",
       "      <td>NaN</td>\n",
       "      <td>NaN</td>\n",
       "      <td>18/11/2016</td>\n",
       "      <td>11:32</td>\n",
       "      <td>18/11/2016</td>\n",
       "      <td>12:24</td>\n",
       "      <td>12</td>\n",
       "      <td>370.042023</td>\n",
       "      <td>Rural</td>\n",
       "    </tr>\n",
       "    <tr>\n",
       "      <th>3</th>\n",
       "      <td>1.102021e+12</td>\n",
       "      <td>1</td>\n",
       "      <td>12</td>\n",
       "      <td>City of Kigali</td>\n",
       "      <td>Nyarugenge</td>\n",
       "      <td>Kanyinya</td>\n",
       "      <td>Nzove</td>\n",
       "      <td>Ruyenzi</td>\n",
       "      <td>Yes</td>\n",
       "      <td>NaN</td>\n",
       "      <td>...</td>\n",
       "      <td>NaN</td>\n",
       "      <td>NaN</td>\n",
       "      <td>NaN</td>\n",
       "      <td>18/11/2016</td>\n",
       "      <td>10:30</td>\n",
       "      <td>18/11/2016</td>\n",
       "      <td>11:17</td>\n",
       "      <td>12</td>\n",
       "      <td>370.042023</td>\n",
       "      <td>Rural</td>\n",
       "    </tr>\n",
       "    <tr>\n",
       "      <th>4</th>\n",
       "      <td>1.102021e+12</td>\n",
       "      <td>1</td>\n",
       "      <td>12</td>\n",
       "      <td>City of Kigali</td>\n",
       "      <td>Nyarugenge</td>\n",
       "      <td>Kanyinya</td>\n",
       "      <td>Nzove</td>\n",
       "      <td>Ruyenzi</td>\n",
       "      <td>Yes</td>\n",
       "      <td>NaN</td>\n",
       "      <td>...</td>\n",
       "      <td>No</td>\n",
       "      <td>NaN</td>\n",
       "      <td>NaN</td>\n",
       "      <td>18/11/2016</td>\n",
       "      <td>10:14</td>\n",
       "      <td>18/11/2016</td>\n",
       "      <td>11:28</td>\n",
       "      <td>12</td>\n",
       "      <td>370.042023</td>\n",
       "      <td>Rural</td>\n",
       "    </tr>\n",
       "  </tbody>\n",
       "</table>\n",
       "<p>5 rows × 722 columns</p>\n",
       "</div>"
      ],
      "text/plain": [
       "           HHID  Cluster  strata        Province    District    Sector  \\\n",
       "0  1.102021e+12        1      11  City of Kigali  Nyarugenge  Kanyinya   \n",
       "1  1.102021e+12        1      12  City of Kigali  Nyarugenge  Kanyinya   \n",
       "2  1.102021e+12        1      12  City of Kigali  Nyarugenge  Kanyinya   \n",
       "3  1.102021e+12        1      12  City of Kigali  Nyarugenge  Kanyinya   \n",
       "4  1.102021e+12        1      12  City of Kigali  Nyarugenge  Kanyinya   \n",
       "\n",
       "  Cellule  Village   B2   B3  ...  T28 T28B  T28C  DATE_START TIME_START  \\\n",
       "0   Nzove  Ruyenzi  Yes  NaN  ...  NaN  NaN   NaN  18/11/2016      12:05   \n",
       "1   Nzove  Ruyenzi  Yes  NaN  ...  NaN  NaN   NaN  18/11/2016      10:23   \n",
       "2   Nzove  Ruyenzi  Yes  NaN  ...  NaN  NaN   NaN  18/11/2016      11:32   \n",
       "3   Nzove  Ruyenzi  Yes  NaN  ...  NaN  NaN   NaN  18/11/2016      10:30   \n",
       "4   Nzove  Ruyenzi  Yes  NaN  ...   No  NaN   NaN  18/11/2016      10:14   \n",
       "\n",
       "     DATE_END  TIME_END  cluster  sample_weight  Locality  \n",
       "0  18/11/2016     12:49       11     476.617645     Rural  \n",
       "1  18/11/2016     11:26       12     370.042023     Rural  \n",
       "2  18/11/2016     12:24       12     370.042023     Rural  \n",
       "3  18/11/2016     11:17       12     370.042023     Rural  \n",
       "4  18/11/2016     11:28       12     370.042023     Rural  \n",
       "\n",
       "[5 rows x 722 columns]"
      ]
     },
     "execution_count": 220,
     "metadata": {},
     "output_type": "execute_result"
    }
   ],
   "source": [
    "# codebook_rwanda = codebook_rwanda.apply(lambda x: x.str.strip()).replace('', np.nan)\n",
    "# codebook_rwanda = codebook_rwanda.applymap(lambda x: np.nan if isinstance(x, basestring) and x.isspace() else x)\n",
    "codebook_rwanda = codebook_rwanda.replace(r'^\\s*$', np.nan, regex=True)\n",
    "codebook_rwanda.head()"
   ]
  },
  {
   "cell_type": "code",
   "execution_count": 221,
   "metadata": {
    "ExecuteTime": {
     "end_time": "2020-12-29T02:45:19.275895Z",
     "start_time": "2020-12-29T02:45:17.963899Z"
    }
   },
   "outputs": [
    {
     "data": {
      "text/plain": [
       "(array([], dtype=int64), array([], dtype=int64))"
      ]
     },
     "execution_count": 221,
     "metadata": {},
     "output_type": "execute_result"
    }
   ],
   "source": [
    "# to verify that no cells are empty\n",
    "np.where(codebook_rwanda.applymap(lambda x: x == ''))"
   ]
  },
  {
   "cell_type": "markdown",
   "metadata": {},
   "source": [
    "## Selecting the columns for the analysis"
   ]
  },
  {
   "cell_type": "code",
   "execution_count": 222,
   "metadata": {
    "ExecuteTime": {
     "end_time": "2020-12-29T02:45:19.322894Z",
     "start_time": "2020-12-29T02:45:19.280900Z"
    }
   },
   "outputs": [],
   "source": [
    "df_MTF=['C22', 'C64','C88','C117','C119A','C26A','C26B','C68A','C68B','C107A','C107B','C127','C137A','C137B','C172A','C172B','C27A','C27B','C69A','C69B','C108A','C108B','C138A','C138B','C173A','C173B','C29A','C29B','C71A','C71B','C39','C81','C110','C140','C17','C57','C41','C83','C112','C130','C142','C175']\n",
    "codebook_rwanda_sh = codebook_rwanda.filter(df_MTF, axis=1)"
   ]
  },
  {
   "cell_type": "markdown",
   "metadata": {},
   "source": [
    "## Replacing with \"Missing_data\""
   ]
  },
  {
   "cell_type": "code",
   "execution_count": 223,
   "metadata": {
    "ExecuteTime": {
     "end_time": "2020-12-29T02:45:19.370898Z",
     "start_time": "2020-12-29T02:45:19.327897Z"
    }
   },
   "outputs": [],
   "source": [
    "codebook_rwanda_sh = codebook_rwanda_sh.replace(np.nan, 0)\n",
    "codebook_rwanda_sh = codebook_rwanda_sh.replace(\"Don?t know\", 0)\n",
    "codebook_rwanda_sh = codebook_rwanda_sh.replace(\"Don't know\", 0)\n",
    "# codebook_rwanda_sh = codebook_rwanda_sh.replace(' ', 'Missing_data')"
   ]
  },
  {
   "cell_type": "code",
   "execution_count": 224,
   "metadata": {
    "ExecuteTime": {
     "end_time": "2020-12-29T02:45:19.713895Z",
     "start_time": "2020-12-29T02:45:19.374902Z"
    },
    "scrolled": true
   },
   "outputs": [
    {
     "data": {
      "application/vnd.jupyter.widget-view+json": {
       "model_id": "499d8394fa9a4c74b1db54a6628c1045",
       "version_major": 2,
       "version_minor": 0
      },
      "text/plain": [
       "QgridWidget(grid_options={'fullWidthRows': True, 'syncColumnCellResize': True, 'forceFitColumns': False, 'defa…"
      ]
     },
     "metadata": {},
     "output_type": "display_data"
    }
   ],
   "source": [
    "col_options = {\n",
    "    'width': 140,\n",
    "}\n",
    "col_defs = {\n",
    "    'index': {\n",
    "        'width': 40,\n",
    "    }\n",
    "}\n",
    "qgrid.show_grid(codebook_rwanda_sh,column_options=col_options,\n",
    "                               column_definitions=col_defs,\n",
    "                               grid_options={'forceFitColumns': False})"
   ]
  },
  {
   "cell_type": "code",
   "execution_count": 225,
   "metadata": {
    "ExecuteTime": {
     "end_time": "2020-12-29T02:45:19.745894Z",
     "start_time": "2020-12-29T02:45:19.718900Z"
    }
   },
   "outputs": [
    {
     "data": {
      "text/plain": [
       "dtype('float64')"
      ]
     },
     "execution_count": 225,
     "metadata": {},
     "output_type": "execute_result"
    }
   ],
   "source": [
    "codebook_rwanda_sh['C22'].dtypes"
   ]
  },
  {
   "cell_type": "code",
   "execution_count": 226,
   "metadata": {
    "ExecuteTime": {
     "end_time": "2020-12-29T02:45:19.776896Z",
     "start_time": "2020-12-29T02:45:19.750897Z"
    }
   },
   "outputs": [
    {
     "data": {
      "text/plain": [
       "CategoricalDtype(categories=[ 1.0,  2.0,  3.0,  4.0,  5.0,  6.0,  7.0,  8.0,  9.0, 10.0,\n",
       "                  11.0, 12.0, 13.0, 14.0, 15.0, 16.0, 17.0, 18.0, 19.0, 20.0,\n",
       "                  21.0, 22.0, 23.0, 24.0,  0.0],\n",
       "                 ordered=True)"
      ]
     },
     "execution_count": 226,
     "metadata": {},
     "output_type": "execute_result"
    }
   ],
   "source": [
    "codebook_rwanda_sh['C26A'].dtypes"
   ]
  },
  {
   "cell_type": "code",
   "execution_count": 227,
   "metadata": {
    "ExecuteTime": {
     "end_time": "2020-12-29T02:45:19.870897Z",
     "start_time": "2020-12-29T02:45:19.781901Z"
    }
   },
   "outputs": [],
   "source": [
    "# Day Total-Availability (hours a day)\n",
    "codebook_rwanda_sh['C26A'] = pd.to_numeric(codebook_rwanda_sh['C26A'])\n",
    "codebook_rwanda_sh['C26B'] = pd.to_numeric(codebook_rwanda_sh['C26B'])\n",
    "codebook_rwanda_sh['C68A'] = pd.to_numeric(codebook_rwanda_sh['C68A'])\n",
    "codebook_rwanda_sh['C68B'] = pd.to_numeric(codebook_rwanda_sh['C68B'])\n",
    "codebook_rwanda_sh['C107A'] = pd.to_numeric(codebook_rwanda_sh['C107A'])\n",
    "codebook_rwanda_sh['C107B'] = pd.to_numeric(codebook_rwanda_sh['C107B'])\n",
    "codebook_rwanda_sh['C127'] = pd.to_numeric(codebook_rwanda_sh['C127'])\n",
    "codebook_rwanda_sh['C137A'] = pd.to_numeric(codebook_rwanda_sh['C137A'])\n",
    "codebook_rwanda_sh['C137B'] = pd.to_numeric(codebook_rwanda_sh['C137B'])\n",
    "codebook_rwanda_sh['C172A'] = pd.to_numeric(codebook_rwanda_sh['C172A'])\n",
    "codebook_rwanda_sh['C172B'] = pd.to_numeric(codebook_rwanda_sh['C172B'])\n",
    "#Evening Total-Avaliability (hours a day)\n",
    "codebook_rwanda_sh['C27A'] = pd.to_numeric(codebook_rwanda_sh['C27A'])\n",
    "codebook_rwanda_sh['C27B'] = pd.to_numeric(codebook_rwanda_sh['C27B'])\n",
    "codebook_rwanda_sh['C69A'] = pd.to_numeric(codebook_rwanda_sh['C69A'])\n",
    "codebook_rwanda_sh['C69B'] = pd.to_numeric(codebook_rwanda_sh['C69B'])\n",
    "codebook_rwanda_sh['C108A'] = pd.to_numeric(codebook_rwanda_sh['C108A'])\n",
    "codebook_rwanda_sh['C108B'] = pd.to_numeric(codebook_rwanda_sh['C108B'])\n",
    "codebook_rwanda_sh['C138A'] = pd.to_numeric(codebook_rwanda_sh['C138A'])\n",
    "codebook_rwanda_sh['C138B'] = pd.to_numeric(codebook_rwanda_sh['C138B'])\n",
    "codebook_rwanda_sh['C173A'] = pd.to_numeric(codebook_rwanda_sh['C173A'])\n",
    "codebook_rwanda_sh['C173B'] = pd.to_numeric(codebook_rwanda_sh['C173B'])\n",
    "#Total Reliability (number of cases)\n",
    "codebook_rwanda_sh['C29A'] = pd.to_numeric(codebook_rwanda_sh['C29A'])\n",
    "codebook_rwanda_sh['C29B'] = pd.to_numeric(codebook_rwanda_sh['C29B'])\n",
    "codebook_rwanda_sh['C71A'] = pd.to_numeric(codebook_rwanda_sh['C71A'])\n",
    "codebook_rwanda_sh['C71B'] = pd.to_numeric(codebook_rwanda_sh['C71B'])\n",
    "# Quality (yes/no)\n",
    "#C39 represents the damaged appliances from the national grid.\n",
    "#C81 represents the damaged appliances from the mini grid.\n",
    "#C110 represents the damaged appliances from the generator set.\n",
    "#C140 represents the damaged appliances from the Pico-hydro."
   ]
  },
  {
   "cell_type": "code",
   "execution_count": 228,
   "metadata": {
    "ExecuteTime": {
     "end_time": "2020-12-29T02:45:19.902894Z",
     "start_time": "2020-12-29T02:45:19.875899Z"
    }
   },
   "outputs": [
    {
     "data": {
      "text/plain": [
       "Pre-paid                                   1400\n",
       "Fixed monthly fee                           109\n",
       "Pay based on lights and appliances used      41\n",
       "No bill for electricity                      32\n",
       "Other                                        24\n",
       "Monthly bill                                 14\n",
       "We never used electricity                    10\n",
       "Utility estimates consumption                 2\n",
       "Name: C17, dtype: int64"
      ]
     },
     "execution_count": 228,
     "metadata": {},
     "output_type": "execute_result"
    }
   ],
   "source": [
    "#Legality \n",
    "#C17 represents the electricity bill payment for using the national grid. \n",
    "codebook_rwanda_sh['C17'].value_counts()"
   ]
  },
  {
   "cell_type": "code",
   "execution_count": 229,
   "metadata": {
    "ExecuteTime": {
     "end_time": "2020-12-29T02:45:19.934894Z",
     "start_time": "2020-12-29T02:45:19.908898Z"
    }
   },
   "outputs": [
    {
     "data": {
      "text/plain": [
       "No bill for electricity                    2\n",
       "Fixed monthly fee                          2\n",
       "Other                                      1\n",
       "Pay based on lights and appliances used    1\n",
       "Name: C57, dtype: int64"
      ]
     },
     "execution_count": 229,
     "metadata": {},
     "output_type": "execute_result"
    }
   ],
   "source": [
    "#Legality \n",
    "#C57 represents the electricity bill payment for using the mini grid.\n",
    "codebook_rwanda_sh['C57'].value_counts()"
   ]
  },
  {
   "cell_type": "code",
   "execution_count": 230,
   "metadata": {
    "ExecuteTime": {
     "end_time": "2020-12-29T02:45:19.966900Z",
     "start_time": "2020-12-29T02:45:19.944897Z"
    }
   },
   "outputs": [
    {
     "data": {
      "text/plain": [
       "No     1575\n",
       "Yes       6\n",
       "Name: C41, dtype: int64"
      ]
     },
     "execution_count": 230,
     "metadata": {},
     "output_type": "execute_result"
    }
   ],
   "source": [
    "# Health and Safety (Yes/No)\n",
    "# C41 represents the accidents caused using the national grid. \n",
    "codebook_rwanda_sh['C41'].value_counts()"
   ]
  },
  {
   "cell_type": "code",
   "execution_count": 231,
   "metadata": {
    "ExecuteTime": {
     "end_time": "2020-12-29T02:45:19.997898Z",
     "start_time": "2020-12-29T02:45:19.977898Z"
    }
   },
   "outputs": [
    {
     "data": {
      "text/plain": [
       "No    8\n",
       "Name: C83, dtype: int64"
      ]
     },
     "execution_count": 231,
     "metadata": {},
     "output_type": "execute_result"
    }
   ],
   "source": [
    "# Health and Safety (Yes/No)\n",
    "#C83 represents the accidents caused using the mini grid.\n",
    "codebook_rwanda_sh['C83'].value_counts()"
   ]
  },
  {
   "cell_type": "code",
   "execution_count": 232,
   "metadata": {
    "ExecuteTime": {
     "end_time": "2020-12-29T02:45:20.029895Z",
     "start_time": "2020-12-29T02:45:20.008897Z"
    }
   },
   "outputs": [
    {
     "data": {
      "text/plain": [
       "No    1\n",
       "Name: C112, dtype: int64"
      ]
     },
     "execution_count": 232,
     "metadata": {},
     "output_type": "execute_result"
    }
   ],
   "source": [
    "# Health and Safety (Yes/No)\n",
    "#C112 represents the accidents caused using the generator set.\n",
    "codebook_rwanda_sh['C112'].value_counts()"
   ]
  },
  {
   "cell_type": "code",
   "execution_count": 233,
   "metadata": {
    "ExecuteTime": {
     "end_time": "2020-12-29T02:45:20.061902Z",
     "start_time": "2020-12-29T02:45:20.034899Z"
    }
   },
   "outputs": [
    {
     "data": {
      "text/plain": [
       "No    4\n",
       "Name: C130, dtype: int64"
      ]
     },
     "execution_count": 233,
     "metadata": {},
     "output_type": "execute_result"
    }
   ],
   "source": [
    "# Health and Safety (Yes/No)\n",
    "#C130 represents the accidents caused using the battery.\n",
    "codebook_rwanda_sh['C130'].value_counts()"
   ]
  },
  {
   "cell_type": "code",
   "execution_count": 234,
   "metadata": {
    "ExecuteTime": {
     "end_time": "2020-12-29T02:45:20.092891Z",
     "start_time": "2020-12-29T02:45:20.065896Z"
    }
   },
   "outputs": [
    {
     "data": {
      "text/plain": [
       "No    5\n",
       "Name: C142, dtype: int64"
      ]
     },
     "execution_count": 234,
     "metadata": {},
     "output_type": "execute_result"
    }
   ],
   "source": [
    "# Health and Safety (Yes/No)\n",
    "#C142 represents the accidents caused using the Pico-hydro.\n",
    "codebook_rwanda_sh['C142'].value_counts()"
   ]
  },
  {
   "cell_type": "code",
   "execution_count": 235,
   "metadata": {
    "ExecuteTime": {
     "end_time": "2020-12-29T02:45:20.124895Z",
     "start_time": "2020-12-29T02:45:20.096903Z"
    }
   },
   "outputs": [
    {
     "data": {
      "text/plain": [
       "No     109\n",
       "3.0      1\n",
       "Name: C175, dtype: int64"
      ]
     },
     "execution_count": 235,
     "metadata": {},
     "output_type": "execute_result"
    }
   ],
   "source": [
    "# Health and Safety (Yes/No)\n",
    "#C175 represents the accidents caused using the solar based devices.\n",
    "codebook_rwanda_sh['C175'].value_counts()"
   ]
  },
  {
   "cell_type": "code",
   "execution_count": 236,
   "metadata": {
    "ExecuteTime": {
     "end_time": "2020-12-29T02:45:20.140901Z",
     "start_time": "2020-12-29T02:45:20.129897Z"
    }
   },
   "outputs": [],
   "source": [
    "codebook_rwanda_sh['C175'] = codebook_rwanda_sh['C175'].replace(3.0, np.nan)"
   ]
  },
  {
   "cell_type": "code",
   "execution_count": 237,
   "metadata": {
    "ExecuteTime": {
     "end_time": "2020-12-29T02:45:20.172892Z",
     "start_time": "2020-12-29T02:45:20.146901Z"
    }
   },
   "outputs": [
    {
     "data": {
      "text/plain": [
       "No    109\n",
       "Name: C175, dtype: int64"
      ]
     },
     "execution_count": 237,
     "metadata": {},
     "output_type": "execute_result"
    }
   ],
   "source": [
    "codebook_rwanda_sh['C175'].value_counts()"
   ]
  },
  {
   "cell_type": "code",
   "execution_count": 238,
   "metadata": {
    "ExecuteTime": {
     "end_time": "2020-12-29T02:45:20.219896Z",
     "start_time": "2020-12-29T02:45:20.176898Z"
    }
   },
   "outputs": [
    {
     "name": "stdout",
     "output_type": "stream",
     "text": [
      "<class 'pandas.core.frame.DataFrame'>\n",
      "Int64Index: 3295 entries, 0 to 3294\n",
      "Data columns (total 42 columns):\n",
      " #   Column  Non-Null Count  Dtype   \n",
      "---  ------  --------------  -----   \n",
      " 0   C22     3295 non-null   float64 \n",
      " 1   C64     3295 non-null   float64 \n",
      " 2   C88     3295 non-null   float64 \n",
      " 3   C117    3295 non-null   float64 \n",
      " 4   C119A   3295 non-null   float64 \n",
      " 5   C26A    652 non-null    float64 \n",
      " 6   C26B    1591 non-null   float64 \n",
      " 7   C68A    2 non-null      float64 \n",
      " 8   C68B    8 non-null      float64 \n",
      " 9   C107A   1 non-null      float64 \n",
      " 10  C107B   1 non-null      float64 \n",
      " 11  C127    4 non-null      float64 \n",
      " 12  C137A   3 non-null      float64 \n",
      " 13  C137B   5 non-null      float64 \n",
      " 14  C172A   39 non-null     float64 \n",
      " 15  C172B   109 non-null    float64 \n",
      " 16  C27A    652 non-null    float64 \n",
      " 17  C27B    1591 non-null   float64 \n",
      " 18  C69A    2 non-null      float64 \n",
      " 19  C69B    8 non-null      float64 \n",
      " 20  C108A   1 non-null      float64 \n",
      " 21  C108B   1 non-null      float64 \n",
      " 22  C138A   3 non-null      float64 \n",
      " 23  C138B   5 non-null      float64 \n",
      " 24  C173A   39 non-null     float64 \n",
      " 25  C173B   109 non-null    float64 \n",
      " 26  C29A    652 non-null    float64 \n",
      " 27  C29B    1591 non-null   float64 \n",
      " 28  C71A    2 non-null      float64 \n",
      " 29  C71B    8 non-null      float64 \n",
      " 30  C39     1591 non-null   category\n",
      " 31  C81     8 non-null      category\n",
      " 32  C110    1 non-null      category\n",
      " 33  C140    5 non-null      category\n",
      " 34  C17     1632 non-null   category\n",
      " 35  C57     6 non-null      category\n",
      " 36  C41     1581 non-null   category\n",
      " 37  C83     8 non-null      category\n",
      " 38  C112    1 non-null      category\n",
      " 39  C130    4 non-null      category\n",
      " 40  C142    5 non-null      category\n",
      " 41  C175    109 non-null    category\n",
      "dtypes: category(12), float64(30)\n",
      "memory usage: 838.1 KB\n"
     ]
    }
   ],
   "source": [
    "codebook_rwanda_sh.info()"
   ]
  },
  {
   "cell_type": "markdown",
   "metadata": {
    "ExecuteTime": {
     "end_time": "2020-12-22T19:32:35.702729Z",
     "start_time": "2020-12-22T19:32:35.647713Z"
    }
   },
   "source": [
    "## Removing columns without significance\n",
    "To selec the columns to be passed through one-hot-encoding, no variables should be included that does not provide informatoin about the household.\n",
    "Columns without signifincance are removed."
   ]
  },
  {
   "cell_type": "code",
   "execution_count": 239,
   "metadata": {
    "ExecuteTime": {
     "end_time": "2020-12-29T02:45:20.235894Z",
     "start_time": "2020-12-29T02:45:20.224898Z"
    }
   },
   "outputs": [],
   "source": [
    "#codebook_rwanda_OHE = codebook_rwanda_md.drop(['HHID','DATE_START', 'TIME_START', 'DATE_END', 'TIME_END', 'sample_weight'], 1)"
   ]
  },
  {
   "cell_type": "code",
   "execution_count": 240,
   "metadata": {
    "ExecuteTime": {
     "end_time": "2020-12-29T02:45:20.251897Z",
     "start_time": "2020-12-29T02:45:20.240902Z"
    },
    "scrolled": true
   },
   "outputs": [],
   "source": [
    "#codebook_rwanda_OHE.describe().to_csv('describe.csv')"
   ]
  },
  {
   "cell_type": "code",
   "execution_count": 241,
   "metadata": {
    "ExecuteTime": {
     "end_time": "2020-12-29T02:45:20.268899Z",
     "start_time": "2020-12-29T02:45:20.256898Z"
    },
    "scrolled": true
   },
   "outputs": [],
   "source": [
    "#codebook_rwanda_OHE"
   ]
  },
  {
   "cell_type": "markdown",
   "metadata": {},
   "source": [
    "# Feature engineering"
   ]
  },
  {
   "cell_type": "markdown",
   "metadata": {},
   "source": [
    "## Dividing the categorical data into dummy variables"
   ]
  },
  {
   "cell_type": "code",
   "execution_count": 242,
   "metadata": {
    "ExecuteTime": {
     "end_time": "2020-12-29T02:45:20.315896Z",
     "start_time": "2020-12-29T02:45:20.275897Z"
    }
   },
   "outputs": [],
   "source": [
    "X = pd.get_dummies(codebook_rwanda_sh, columns=['C39','C81','C110','C140','C17','C57','C41','C83','C112','C130','C142','C175'])"
   ]
  },
  {
   "cell_type": "code",
   "execution_count": 243,
   "metadata": {
    "ExecuteTime": {
     "end_time": "2020-12-29T02:45:20.331900Z",
     "start_time": "2020-12-29T02:45:20.320898Z"
    }
   },
   "outputs": [],
   "source": [
    "#X.to_csv('X_dummies.csv')"
   ]
  },
  {
   "cell_type": "code",
   "execution_count": 244,
   "metadata": {
    "ExecuteTime": {
     "end_time": "2020-12-29T02:45:20.395894Z",
     "start_time": "2020-12-29T02:45:20.336899Z"
    },
    "scrolled": false
   },
   "outputs": [
    {
     "data": {
      "text/html": [
       "<div>\n",
       "<style scoped>\n",
       "    .dataframe tbody tr th:only-of-type {\n",
       "        vertical-align: middle;\n",
       "    }\n",
       "\n",
       "    .dataframe tbody tr th {\n",
       "        vertical-align: top;\n",
       "    }\n",
       "\n",
       "    .dataframe thead th {\n",
       "        text-align: right;\n",
       "    }\n",
       "</style>\n",
       "<table border=\"1\" class=\"dataframe\">\n",
       "  <thead>\n",
       "    <tr style=\"text-align: right;\">\n",
       "      <th></th>\n",
       "      <th>C22</th>\n",
       "      <th>C64</th>\n",
       "      <th>C88</th>\n",
       "      <th>C117</th>\n",
       "      <th>C119A</th>\n",
       "      <th>C26A</th>\n",
       "      <th>C26B</th>\n",
       "      <th>C68A</th>\n",
       "      <th>C68B</th>\n",
       "      <th>C107A</th>\n",
       "      <th>...</th>\n",
       "      <th>C57_Pay based on lights and appliances used</th>\n",
       "      <th>C57_No bill for electricity</th>\n",
       "      <th>C57_Other</th>\n",
       "      <th>C41_Yes</th>\n",
       "      <th>C41_No</th>\n",
       "      <th>C83_No</th>\n",
       "      <th>C112_No</th>\n",
       "      <th>C130_No</th>\n",
       "      <th>C142_No</th>\n",
       "      <th>C175_No</th>\n",
       "    </tr>\n",
       "  </thead>\n",
       "  <tbody>\n",
       "    <tr>\n",
       "      <th>0</th>\n",
       "      <td>0.0</td>\n",
       "      <td>0.0</td>\n",
       "      <td>0.0</td>\n",
       "      <td>0.0</td>\n",
       "      <td>0.0</td>\n",
       "      <td>NaN</td>\n",
       "      <td>NaN</td>\n",
       "      <td>NaN</td>\n",
       "      <td>NaN</td>\n",
       "      <td>NaN</td>\n",
       "      <td>...</td>\n",
       "      <td>0</td>\n",
       "      <td>0</td>\n",
       "      <td>0</td>\n",
       "      <td>0</td>\n",
       "      <td>0</td>\n",
       "      <td>0</td>\n",
       "      <td>0</td>\n",
       "      <td>0</td>\n",
       "      <td>0</td>\n",
       "      <td>0</td>\n",
       "    </tr>\n",
       "    <tr>\n",
       "      <th>1</th>\n",
       "      <td>0.0</td>\n",
       "      <td>0.0</td>\n",
       "      <td>0.0</td>\n",
       "      <td>0.0</td>\n",
       "      <td>0.0</td>\n",
       "      <td>NaN</td>\n",
       "      <td>NaN</td>\n",
       "      <td>NaN</td>\n",
       "      <td>NaN</td>\n",
       "      <td>NaN</td>\n",
       "      <td>...</td>\n",
       "      <td>0</td>\n",
       "      <td>0</td>\n",
       "      <td>0</td>\n",
       "      <td>0</td>\n",
       "      <td>0</td>\n",
       "      <td>0</td>\n",
       "      <td>0</td>\n",
       "      <td>0</td>\n",
       "      <td>0</td>\n",
       "      <td>0</td>\n",
       "    </tr>\n",
       "    <tr>\n",
       "      <th>2</th>\n",
       "      <td>0.0</td>\n",
       "      <td>0.0</td>\n",
       "      <td>0.0</td>\n",
       "      <td>0.0</td>\n",
       "      <td>0.0</td>\n",
       "      <td>NaN</td>\n",
       "      <td>NaN</td>\n",
       "      <td>NaN</td>\n",
       "      <td>NaN</td>\n",
       "      <td>NaN</td>\n",
       "      <td>...</td>\n",
       "      <td>0</td>\n",
       "      <td>0</td>\n",
       "      <td>0</td>\n",
       "      <td>0</td>\n",
       "      <td>0</td>\n",
       "      <td>0</td>\n",
       "      <td>0</td>\n",
       "      <td>0</td>\n",
       "      <td>0</td>\n",
       "      <td>0</td>\n",
       "    </tr>\n",
       "    <tr>\n",
       "      <th>3</th>\n",
       "      <td>0.0</td>\n",
       "      <td>0.0</td>\n",
       "      <td>0.0</td>\n",
       "      <td>0.0</td>\n",
       "      <td>0.0</td>\n",
       "      <td>NaN</td>\n",
       "      <td>NaN</td>\n",
       "      <td>NaN</td>\n",
       "      <td>NaN</td>\n",
       "      <td>NaN</td>\n",
       "      <td>...</td>\n",
       "      <td>0</td>\n",
       "      <td>0</td>\n",
       "      <td>0</td>\n",
       "      <td>0</td>\n",
       "      <td>0</td>\n",
       "      <td>0</td>\n",
       "      <td>0</td>\n",
       "      <td>0</td>\n",
       "      <td>0</td>\n",
       "      <td>0</td>\n",
       "    </tr>\n",
       "    <tr>\n",
       "      <th>4</th>\n",
       "      <td>0.0</td>\n",
       "      <td>0.0</td>\n",
       "      <td>0.0</td>\n",
       "      <td>0.0</td>\n",
       "      <td>0.0</td>\n",
       "      <td>NaN</td>\n",
       "      <td>NaN</td>\n",
       "      <td>NaN</td>\n",
       "      <td>NaN</td>\n",
       "      <td>NaN</td>\n",
       "      <td>...</td>\n",
       "      <td>0</td>\n",
       "      <td>0</td>\n",
       "      <td>0</td>\n",
       "      <td>0</td>\n",
       "      <td>0</td>\n",
       "      <td>0</td>\n",
       "      <td>0</td>\n",
       "      <td>0</td>\n",
       "      <td>0</td>\n",
       "      <td>0</td>\n",
       "    </tr>\n",
       "  </tbody>\n",
       "</table>\n",
       "<p>5 rows × 56 columns</p>\n",
       "</div>"
      ],
      "text/plain": [
       "   C22  C64  C88  C117  C119A  C26A  C26B  C68A  C68B  C107A  ...  \\\n",
       "0  0.0  0.0  0.0   0.0    0.0   NaN   NaN   NaN   NaN    NaN  ...   \n",
       "1  0.0  0.0  0.0   0.0    0.0   NaN   NaN   NaN   NaN    NaN  ...   \n",
       "2  0.0  0.0  0.0   0.0    0.0   NaN   NaN   NaN   NaN    NaN  ...   \n",
       "3  0.0  0.0  0.0   0.0    0.0   NaN   NaN   NaN   NaN    NaN  ...   \n",
       "4  0.0  0.0  0.0   0.0    0.0   NaN   NaN   NaN   NaN    NaN  ...   \n",
       "\n",
       "   C57_Pay based on lights and appliances used  C57_No bill for electricity  \\\n",
       "0                                            0                            0   \n",
       "1                                            0                            0   \n",
       "2                                            0                            0   \n",
       "3                                            0                            0   \n",
       "4                                            0                            0   \n",
       "\n",
       "   C57_Other  C41_Yes  C41_No  C83_No  C112_No  C130_No  C142_No  C175_No  \n",
       "0          0        0       0       0        0        0        0        0  \n",
       "1          0        0       0       0        0        0        0        0  \n",
       "2          0        0       0       0        0        0        0        0  \n",
       "3          0        0       0       0        0        0        0        0  \n",
       "4          0        0       0       0        0        0        0        0  \n",
       "\n",
       "[5 rows x 56 columns]"
      ]
     },
     "execution_count": 244,
     "metadata": {},
     "output_type": "execute_result"
    }
   ],
   "source": [
    "X.head()"
   ]
  },
  {
   "cell_type": "code",
   "execution_count": 245,
   "metadata": {
    "ExecuteTime": {
     "end_time": "2020-12-29T02:45:20.411896Z",
     "start_time": "2020-12-29T02:45:20.401899Z"
    }
   },
   "outputs": [],
   "source": [
    "#(X[X.columns.drop(list(X.filter(regex='Missing_data')))]"
   ]
  },
  {
   "cell_type": "code",
   "execution_count": 246,
   "metadata": {
    "ExecuteTime": {
     "end_time": "2020-12-29T02:45:20.602896Z",
     "start_time": "2020-12-29T02:45:20.420898Z"
    },
    "scrolled": true
   },
   "outputs": [
    {
     "data": {
      "application/vnd.jupyter.widget-view+json": {
       "model_id": "60ad092e1a214818b444e4a2935928f9",
       "version_major": 2,
       "version_minor": 0
      },
      "text/plain": [
       "QgridWidget(grid_options={'fullWidthRows': True, 'syncColumnCellResize': True, 'forceFitColumns': False, 'defa…"
      ]
     },
     "metadata": {},
     "output_type": "display_data"
    }
   ],
   "source": [
    "X = X.fillna(0) \n",
    "col_options = {\n",
    "    'width': 140,\n",
    "}\n",
    "col_defs = {\n",
    "    'index': {\n",
    "        'width': 40,\n",
    "    }\n",
    "}\n",
    "qgrid.show_grid(X,column_options=col_options,\n",
    "                               column_definitions=col_defs,\n",
    "                               grid_options={'forceFitColumns': False})"
   ]
  },
  {
   "cell_type": "code",
   "execution_count": 247,
   "metadata": {
    "ExecuteTime": {
     "end_time": "2020-12-29T02:45:20.634900Z",
     "start_time": "2020-12-29T02:45:20.610902Z"
    }
   },
   "outputs": [],
   "source": [
    "#X = X[X.columns.drop(list(X.filter(regex='Respondent')))]"
   ]
  },
  {
   "cell_type": "markdown",
   "metadata": {},
   "source": [
    "# Determine number of clusters with Elbow method\n",
    "https://www.kaggle.com/fazilbtopal/popular-unsupervised-clustering-algorithms"
   ]
  },
  {
   "cell_type": "code",
   "execution_count": 248,
   "metadata": {
    "ExecuteTime": {
     "end_time": "2020-12-29T02:45:20.682897Z",
     "start_time": "2020-12-29T02:45:20.640901Z"
    }
   },
   "outputs": [],
   "source": [
    "import numpy as np\n",
    "import pandas as pd\n",
    "\n",
    "import matplotlib.pyplot as plt\n",
    "import seaborn as sns\n",
    "sns.set_style('darkgrid', {'axes.facecolor': '.9'})\n",
    "sns.set_palette(palette='deep')\n",
    "sns_c = sns.color_palette(palette='deep')\n",
    "%matplotlib inline\n",
    "\n",
    "from pandas.plotting import register_matplotlib_converters\n",
    "register_matplotlib_converters()"
   ]
  },
  {
   "cell_type": "code",
   "execution_count": 249,
   "metadata": {
    "ExecuteTime": {
     "end_time": "2020-12-29T02:45:23.637900Z",
     "start_time": "2020-12-29T02:45:20.688902Z"
    }
   },
   "outputs": [
    {
     "data": {
      "image/png": "[encoded data removed]",
      "text/plain": [
       "<Figure size 720x432 with 1 Axes>"
      ]
     },
     "metadata": {
      "needs_background": "light"
     },
     "output_type": "display_data"
    }
   ],
   "source": [
    "from sklearn.cluster import KMeans\n",
    "\n",
    "data_df = X #pd.read_csv('X.csv')\n",
    "inertias = []\n",
    "\n",
    "k_candidates = range(1, 10)\n",
    "\n",
    "for k in k_candidates:\n",
    "    k_means = KMeans(random_state=42, n_clusters=k)\n",
    "    k_means.fit(data_df)\n",
    "    inertias.append(k_means.inertia_)\n",
    "\n",
    "fig, ax = plt.subplots(figsize=(10, 6))\n",
    "sns.scatterplot(x=k_candidates, y = inertias, s=80, ax=ax)\n",
    "sns.scatterplot(x=[k_candidates[2]], y = [inertias[2]], color=sns_c[3], s=150, ax=ax)\n",
    "sns.scatterplot(x=[k_candidates[3]], y = [inertias[3]], color=sns_c[2], s=150, ax=ax)\n",
    "sns.lineplot(x=k_candidates, y = inertias, alpha=0.5, ax=ax)\n",
    "ax.set(title='Inertia K-Means', ylabel='inertia', xlabel='k');"
   ]
  },
  {
   "cell_type": "markdown",
   "metadata": {},
   "source": [
    "Elbow method tells us to select the cluster when there is a significant change in inertia. As we can see from the graph, we can say this may be either 3 or 4. "
   ]
  },
  {
   "cell_type": "markdown",
   "metadata": {},
   "source": [
    "## Generate 3 clusters"
   ]
  },
  {
   "cell_type": "code",
   "execution_count": 250,
   "metadata": {
    "ExecuteTime": {
     "end_time": "2020-12-29T02:45:23.891895Z",
     "start_time": "2020-12-29T02:45:23.642901Z"
    }
   },
   "outputs": [
    {
     "data": {
      "text/plain": [
       "array([1, 3, 2, 0])"
      ]
     },
     "execution_count": 250,
     "metadata": {},
     "output_type": "execute_result"
    }
   ],
   "source": [
    "from sklearn.cluster import KMeans\n",
    "\n",
    "cluster_number = 4 # select the number of clusters based on the Elbow Method \"plot above\"\n",
    "\n",
    "kmeans = KMeans(n_clusters=cluster_number)\n",
    "kmeans.fit(X)\n",
    "\n",
    "labels = kmeans.labels_ \n",
    "\n",
    "X['label'] = labels\n",
    "\n",
    "X['cluster'] = 'E'\n",
    "X.loc[X['label'] == 0, 'cluster'] = 'A'\n",
    "X.loc[X['label'] == 1, 'cluster'] = 'B'\n",
    "X.loc[X['label'] == 2, 'cluster'] = 'C'\n",
    "X.loc[X['label'] == 3, 'cluster'] = 'D'\n",
    "\n",
    "X['label'].unique()"
   ]
  },
  {
   "cell_type": "code",
   "execution_count": 251,
   "metadata": {
    "ExecuteTime": {
     "end_time": "2020-12-29T02:45:23.907903Z",
     "start_time": "2020-12-29T02:45:23.895905Z"
    }
   },
   "outputs": [
    {
     "data": {
      "text/plain": [
       "array(['B', 'D', 'C', 'A'], dtype=object)"
      ]
     },
     "execution_count": 251,
     "metadata": {},
     "output_type": "execute_result"
    }
   ],
   "source": [
    "X['cluster'].unique()"
   ]
  },
  {
   "cell_type": "markdown",
   "metadata": {},
   "source": [
    "# Model Evaluation\n",
    "## Create Custom Palette for the Labels"
   ]
  },
  {
   "cell_type": "code",
   "execution_count": 275,
   "metadata": {
    "ExecuteTime": {
     "end_time": "2020-12-29T02:47:07.474027Z",
     "start_time": "2020-12-29T02:47:07.281047Z"
    },
    "scrolled": true
   },
   "outputs": [
    {
     "name": "stdout",
     "output_type": "stream",
     "text": [
      "customPalette\n"
     ]
    },
    {
     "data": {
      "image/png": "[encoded data removed]",
      "text/plain": [
       "<Figure size 288x72 with 1 Axes>"
      ]
     },
     "metadata": {},
     "output_type": "display_data"
    }
   ],
   "source": [
    "#set font size of labels on matplotlib plots\n",
    "plt.rc('font', size=16)\n",
    "\n",
    "#set style of plots\n",
    "sns.set_style('white')\n",
    "\n",
    "#define a custom palette https://www.webucator.com/blog/2015/03/python-color-constants-module/\n",
    "print('customPalette')\n",
    "customPalette = ['#FF0000', '#0000FF', '#008000', '#E49202']\n",
    "sns.set_palette(customPalette)\n",
    "sns.palplot(customPalette)\n"
   ]
  },
  {
   "cell_type": "code",
   "execution_count": 253,
   "metadata": {
    "ExecuteTime": {
     "end_time": "2020-12-29T02:45:24.320893Z",
     "start_time": "2020-12-29T02:45:24.104905Z"
    }
   },
   "outputs": [
    {
     "name": "stdout",
     "output_type": "stream",
     "text": [
      "esmap_colors\n"
     ]
    },
    {
     "data": {
      "image/png": "[encoded data removed]",
      "text/plain": [
       "<Figure size 432x72 with 1 Axes>"
      ]
     },
     "metadata": {},
     "output_type": "display_data"
    }
   ],
   "source": [
    "print('esmap_colors')\n",
    "esmap_colors=['#864241','#B85F57','#E49202','#5797B0','#84B0B1','#5C9989']\n",
    "sns.set_palette(esmap_colors)\n",
    "sns.palplot(esmap_colors)"
   ]
  },
  {
   "cell_type": "markdown",
   "metadata": {},
   "source": [
    "## Create labeled groups of data\n",
    "Next, we need to generate some data to plot. I defined four groups (A, B, C, and D) and specified their center points. For each label, I sampled nx2 data points from a gaussian distribution centered at the mean of the group and with a standard deviation of 0.5.\n",
    "\n",
    "To make these plots, each datapoint needs to be assigned a label. If your data isn't labeled, you can use a clustering algorithm to create artificial groups."
   ]
  },
  {
   "cell_type": "code",
   "execution_count": 254,
   "metadata": {
    "ExecuteTime": {
     "end_time": "2020-12-29T02:45:24.431893Z",
     "start_time": "2020-12-29T02:45:24.325900Z"
    },
    "scrolled": true
   },
   "outputs": [
    {
     "data": {
      "text/html": [
       "<div>\n",
       "<style scoped>\n",
       "    .dataframe tbody tr th:only-of-type {\n",
       "        vertical-align: middle;\n",
       "    }\n",
       "\n",
       "    .dataframe tbody tr th {\n",
       "        vertical-align: top;\n",
       "    }\n",
       "\n",
       "    .dataframe thead th {\n",
       "        text-align: right;\n",
       "    }\n",
       "</style>\n",
       "<table border=\"1\" class=\"dataframe\">\n",
       "  <thead>\n",
       "    <tr style=\"text-align: right;\">\n",
       "      <th></th>\n",
       "      <th>C22</th>\n",
       "      <th>C64</th>\n",
       "      <th>C88</th>\n",
       "      <th>C117</th>\n",
       "      <th>C119A</th>\n",
       "      <th>C26A</th>\n",
       "      <th>C26B</th>\n",
       "      <th>C68A</th>\n",
       "      <th>C68B</th>\n",
       "      <th>C107A</th>\n",
       "      <th>...</th>\n",
       "      <th>C57_Other</th>\n",
       "      <th>C41_Yes</th>\n",
       "      <th>C41_No</th>\n",
       "      <th>C83_No</th>\n",
       "      <th>C112_No</th>\n",
       "      <th>C130_No</th>\n",
       "      <th>C142_No</th>\n",
       "      <th>C175_No</th>\n",
       "      <th>label</th>\n",
       "      <th>cluster</th>\n",
       "    </tr>\n",
       "  </thead>\n",
       "  <tbody>\n",
       "    <tr>\n",
       "      <th>0</th>\n",
       "      <td>0.00</td>\n",
       "      <td>0.0</td>\n",
       "      <td>0.0</td>\n",
       "      <td>0.0</td>\n",
       "      <td>0.0</td>\n",
       "      <td>0.0</td>\n",
       "      <td>0.0</td>\n",
       "      <td>0.0</td>\n",
       "      <td>0.0</td>\n",
       "      <td>0.0</td>\n",
       "      <td>...</td>\n",
       "      <td>0</td>\n",
       "      <td>0</td>\n",
       "      <td>0</td>\n",
       "      <td>0</td>\n",
       "      <td>0</td>\n",
       "      <td>0</td>\n",
       "      <td>0</td>\n",
       "      <td>0</td>\n",
       "      <td>1</td>\n",
       "      <td>B</td>\n",
       "    </tr>\n",
       "    <tr>\n",
       "      <th>1</th>\n",
       "      <td>0.00</td>\n",
       "      <td>0.0</td>\n",
       "      <td>0.0</td>\n",
       "      <td>0.0</td>\n",
       "      <td>0.0</td>\n",
       "      <td>0.0</td>\n",
       "      <td>0.0</td>\n",
       "      <td>0.0</td>\n",
       "      <td>0.0</td>\n",
       "      <td>0.0</td>\n",
       "      <td>...</td>\n",
       "      <td>0</td>\n",
       "      <td>0</td>\n",
       "      <td>0</td>\n",
       "      <td>0</td>\n",
       "      <td>0</td>\n",
       "      <td>0</td>\n",
       "      <td>0</td>\n",
       "      <td>0</td>\n",
       "      <td>1</td>\n",
       "      <td>B</td>\n",
       "    </tr>\n",
       "    <tr>\n",
       "      <th>2</th>\n",
       "      <td>0.00</td>\n",
       "      <td>0.0</td>\n",
       "      <td>0.0</td>\n",
       "      <td>0.0</td>\n",
       "      <td>0.0</td>\n",
       "      <td>0.0</td>\n",
       "      <td>0.0</td>\n",
       "      <td>0.0</td>\n",
       "      <td>0.0</td>\n",
       "      <td>0.0</td>\n",
       "      <td>...</td>\n",
       "      <td>0</td>\n",
       "      <td>0</td>\n",
       "      <td>0</td>\n",
       "      <td>0</td>\n",
       "      <td>0</td>\n",
       "      <td>0</td>\n",
       "      <td>0</td>\n",
       "      <td>0</td>\n",
       "      <td>1</td>\n",
       "      <td>B</td>\n",
       "    </tr>\n",
       "    <tr>\n",
       "      <th>3</th>\n",
       "      <td>0.00</td>\n",
       "      <td>0.0</td>\n",
       "      <td>0.0</td>\n",
       "      <td>0.0</td>\n",
       "      <td>0.0</td>\n",
       "      <td>0.0</td>\n",
       "      <td>0.0</td>\n",
       "      <td>0.0</td>\n",
       "      <td>0.0</td>\n",
       "      <td>0.0</td>\n",
       "      <td>...</td>\n",
       "      <td>0</td>\n",
       "      <td>0</td>\n",
       "      <td>0</td>\n",
       "      <td>0</td>\n",
       "      <td>0</td>\n",
       "      <td>0</td>\n",
       "      <td>0</td>\n",
       "      <td>0</td>\n",
       "      <td>1</td>\n",
       "      <td>B</td>\n",
       "    </tr>\n",
       "    <tr>\n",
       "      <th>4</th>\n",
       "      <td>0.00</td>\n",
       "      <td>0.0</td>\n",
       "      <td>0.0</td>\n",
       "      <td>0.0</td>\n",
       "      <td>0.0</td>\n",
       "      <td>0.0</td>\n",
       "      <td>0.0</td>\n",
       "      <td>0.0</td>\n",
       "      <td>0.0</td>\n",
       "      <td>0.0</td>\n",
       "      <td>...</td>\n",
       "      <td>0</td>\n",
       "      <td>0</td>\n",
       "      <td>0</td>\n",
       "      <td>0</td>\n",
       "      <td>0</td>\n",
       "      <td>0</td>\n",
       "      <td>0</td>\n",
       "      <td>0</td>\n",
       "      <td>1</td>\n",
       "      <td>B</td>\n",
       "    </tr>\n",
       "    <tr>\n",
       "      <th>5</th>\n",
       "      <td>0.00</td>\n",
       "      <td>0.0</td>\n",
       "      <td>0.0</td>\n",
       "      <td>0.0</td>\n",
       "      <td>0.0</td>\n",
       "      <td>0.0</td>\n",
       "      <td>0.0</td>\n",
       "      <td>0.0</td>\n",
       "      <td>0.0</td>\n",
       "      <td>0.0</td>\n",
       "      <td>...</td>\n",
       "      <td>0</td>\n",
       "      <td>0</td>\n",
       "      <td>0</td>\n",
       "      <td>0</td>\n",
       "      <td>0</td>\n",
       "      <td>0</td>\n",
       "      <td>0</td>\n",
       "      <td>0</td>\n",
       "      <td>1</td>\n",
       "      <td>B</td>\n",
       "    </tr>\n",
       "    <tr>\n",
       "      <th>6</th>\n",
       "      <td>9.30</td>\n",
       "      <td>0.0</td>\n",
       "      <td>0.0</td>\n",
       "      <td>0.0</td>\n",
       "      <td>0.0</td>\n",
       "      <td>0.0</td>\n",
       "      <td>4.0</td>\n",
       "      <td>0.0</td>\n",
       "      <td>0.0</td>\n",
       "      <td>0.0</td>\n",
       "      <td>...</td>\n",
       "      <td>0</td>\n",
       "      <td>0</td>\n",
       "      <td>1</td>\n",
       "      <td>0</td>\n",
       "      <td>0</td>\n",
       "      <td>0</td>\n",
       "      <td>0</td>\n",
       "      <td>0</td>\n",
       "      <td>1</td>\n",
       "      <td>B</td>\n",
       "    </tr>\n",
       "    <tr>\n",
       "      <th>7</th>\n",
       "      <td>0.00</td>\n",
       "      <td>0.0</td>\n",
       "      <td>0.0</td>\n",
       "      <td>0.0</td>\n",
       "      <td>0.0</td>\n",
       "      <td>0.0</td>\n",
       "      <td>0.0</td>\n",
       "      <td>0.0</td>\n",
       "      <td>0.0</td>\n",
       "      <td>0.0</td>\n",
       "      <td>...</td>\n",
       "      <td>0</td>\n",
       "      <td>0</td>\n",
       "      <td>0</td>\n",
       "      <td>0</td>\n",
       "      <td>0</td>\n",
       "      <td>0</td>\n",
       "      <td>0</td>\n",
       "      <td>0</td>\n",
       "      <td>1</td>\n",
       "      <td>B</td>\n",
       "    </tr>\n",
       "    <tr>\n",
       "      <th>8</th>\n",
       "      <td>37.21</td>\n",
       "      <td>0.0</td>\n",
       "      <td>0.0</td>\n",
       "      <td>0.0</td>\n",
       "      <td>0.0</td>\n",
       "      <td>0.0</td>\n",
       "      <td>24.0</td>\n",
       "      <td>0.0</td>\n",
       "      <td>0.0</td>\n",
       "      <td>0.0</td>\n",
       "      <td>...</td>\n",
       "      <td>0</td>\n",
       "      <td>0</td>\n",
       "      <td>1</td>\n",
       "      <td>0</td>\n",
       "      <td>0</td>\n",
       "      <td>0</td>\n",
       "      <td>0</td>\n",
       "      <td>0</td>\n",
       "      <td>3</td>\n",
       "      <td>D</td>\n",
       "    </tr>\n",
       "    <tr>\n",
       "      <th>9</th>\n",
       "      <td>0.00</td>\n",
       "      <td>0.0</td>\n",
       "      <td>0.0</td>\n",
       "      <td>0.0</td>\n",
       "      <td>0.0</td>\n",
       "      <td>0.0</td>\n",
       "      <td>0.0</td>\n",
       "      <td>0.0</td>\n",
       "      <td>0.0</td>\n",
       "      <td>0.0</td>\n",
       "      <td>...</td>\n",
       "      <td>0</td>\n",
       "      <td>0</td>\n",
       "      <td>0</td>\n",
       "      <td>0</td>\n",
       "      <td>0</td>\n",
       "      <td>0</td>\n",
       "      <td>0</td>\n",
       "      <td>0</td>\n",
       "      <td>1</td>\n",
       "      <td>B</td>\n",
       "    </tr>\n",
       "  </tbody>\n",
       "</table>\n",
       "<p>10 rows × 58 columns</p>\n",
       "</div>"
      ],
      "text/plain": [
       "     C22  C64  C88  C117  C119A  C26A  C26B  C68A  C68B  C107A  ...  \\\n",
       "0   0.00  0.0  0.0   0.0    0.0   0.0   0.0   0.0   0.0    0.0  ...   \n",
       "1   0.00  0.0  0.0   0.0    0.0   0.0   0.0   0.0   0.0    0.0  ...   \n",
       "2   0.00  0.0  0.0   0.0    0.0   0.0   0.0   0.0   0.0    0.0  ...   \n",
       "3   0.00  0.0  0.0   0.0    0.0   0.0   0.0   0.0   0.0    0.0  ...   \n",
       "4   0.00  0.0  0.0   0.0    0.0   0.0   0.0   0.0   0.0    0.0  ...   \n",
       "5   0.00  0.0  0.0   0.0    0.0   0.0   0.0   0.0   0.0    0.0  ...   \n",
       "6   9.30  0.0  0.0   0.0    0.0   0.0   4.0   0.0   0.0    0.0  ...   \n",
       "7   0.00  0.0  0.0   0.0    0.0   0.0   0.0   0.0   0.0    0.0  ...   \n",
       "8  37.21  0.0  0.0   0.0    0.0   0.0  24.0   0.0   0.0    0.0  ...   \n",
       "9   0.00  0.0  0.0   0.0    0.0   0.0   0.0   0.0   0.0    0.0  ...   \n",
       "\n",
       "   C57_Other  C41_Yes  C41_No  C83_No  C112_No  C130_No  C142_No  C175_No  \\\n",
       "0          0        0       0       0        0        0        0        0   \n",
       "1          0        0       0       0        0        0        0        0   \n",
       "2          0        0       0       0        0        0        0        0   \n",
       "3          0        0       0       0        0        0        0        0   \n",
       "4          0        0       0       0        0        0        0        0   \n",
       "5          0        0       0       0        0        0        0        0   \n",
       "6          0        0       1       0        0        0        0        0   \n",
       "7          0        0       0       0        0        0        0        0   \n",
       "8          0        0       1       0        0        0        0        0   \n",
       "9          0        0       0       0        0        0        0        0   \n",
       "\n",
       "   label  cluster  \n",
       "0      1        B  \n",
       "1      1        B  \n",
       "2      1        B  \n",
       "3      1        B  \n",
       "4      1        B  \n",
       "5      1        B  \n",
       "6      1        B  \n",
       "7      1        B  \n",
       "8      3        D  \n",
       "9      1        B  \n",
       "\n",
       "[10 rows x 58 columns]"
      ]
     },
     "execution_count": 254,
     "metadata": {},
     "output_type": "execute_result"
    }
   ],
   "source": [
    "X['cluster'] = 'A'\n",
    "X.loc[X['label'] == 1, 'cluster'] = 'B'\n",
    "X.loc[X['label'] == 2, 'cluster'] = 'C'\n",
    "X.loc[X['label'] == 3, 'cluster'] = 'D'\n",
    "X.loc[X['label'] == 4, 'cluster'] = 'E'\n",
    "X.head(10)"
   ]
  },
  {
   "cell_type": "markdown",
   "metadata": {},
   "source": [
    "# Ploting clusters by Attributes"
   ]
  },
  {
   "cell_type": "markdown",
   "metadata": {},
   "source": [
    "## Getting Total attributes from csv "
   ]
  },
  {
   "cell_type": "code",
   "execution_count": 255,
   "metadata": {
    "ExecuteTime": {
     "end_time": "2020-12-29T02:45:24.478896Z",
     "start_time": "2020-12-29T02:45:24.436900Z"
    },
    "scrolled": false
   },
   "outputs": [
    {
     "name": "stdout",
     "output_type": "stream",
     "text": [
      "<class 'pandas.core.frame.DataFrame'>\n",
      "RangeIndex: 3295 entries, 0 to 3294\n",
      "Data columns (total 8 columns):\n",
      " #   Column                               Non-Null Count  Dtype  \n",
      "---  ------                               --------------  -----  \n",
      " 0   Unnamed: 0                           3295 non-null   int64  \n",
      " 1   Total_Capacity_in_kWh_month          3295 non-null   float64\n",
      " 2   Total_Availability_day_in_hours      1459 non-null   float64\n",
      " 3   Total_Availability_evening_in_hours  3295 non-null   object \n",
      " 4   Total_Reliability                    3295 non-null   object \n",
      " 5   Total_Quality                        1591 non-null   object \n",
      " 6   Total_Legality                       3295 non-null   int64  \n",
      " 7   Total_Health                         1581 non-null   object \n",
      "dtypes: float64(2), int64(2), object(4)\n",
      "memory usage: 206.1+ KB\n"
     ]
    }
   ],
   "source": [
    "Attributes_MTF_Rwanda = pd.read_csv('Attributes_MTF_Rwanda.csv')\n",
    "Attributes_MTF_Rwanda.info()"
   ]
  },
  {
   "cell_type": "code",
   "execution_count": 256,
   "metadata": {
    "ExecuteTime": {
     "end_time": "2020-12-29T02:45:24.509892Z",
     "start_time": "2020-12-29T02:45:24.484902Z"
    }
   },
   "outputs": [],
   "source": [
    "Attributes_MTF_Rwanda = Attributes_MTF_Rwanda.drop(['Unnamed: 0'],axis=1)"
   ]
  },
  {
   "cell_type": "code",
   "execution_count": 257,
   "metadata": {
    "ExecuteTime": {
     "end_time": "2020-12-29T02:45:24.621898Z",
     "start_time": "2020-12-29T02:45:24.513901Z"
    },
    "scrolled": true
   },
   "outputs": [
    {
     "data": {
      "application/vnd.jupyter.widget-view+json": {
       "model_id": "ba51341751964d27b280fb43381ac2da",
       "version_major": 2,
       "version_minor": 0
      },
      "text/plain": [
       "QgridWidget(grid_options={'fullWidthRows': True, 'syncColumnCellResize': True, 'forceFitColumns': False, 'defa…"
      ]
     },
     "metadata": {},
     "output_type": "display_data"
    }
   ],
   "source": [
    "col_options = {\n",
    "    'width': 140,\n",
    "}\n",
    "col_defs = {\n",
    "    'index': {\n",
    "        'width': 40,\n",
    "    }\n",
    "}\n",
    "qgrid.show_grid(Attributes_MTF_Rwanda,column_options=col_options,\n",
    "                               column_definitions=col_defs,\n",
    "                               grid_options={'forceFitColumns': False})"
   ]
  },
  {
   "cell_type": "code",
   "execution_count": 258,
   "metadata": {
    "ExecuteTime": {
     "end_time": "2020-12-29T02:45:24.668895Z",
     "start_time": "2020-12-29T02:45:24.625901Z"
    }
   },
   "outputs": [
    {
     "data": {
      "text/html": [
       "<div>\n",
       "<style scoped>\n",
       "    .dataframe tbody tr th:only-of-type {\n",
       "        vertical-align: middle;\n",
       "    }\n",
       "\n",
       "    .dataframe tbody tr th {\n",
       "        vertical-align: top;\n",
       "    }\n",
       "\n",
       "    .dataframe thead th {\n",
       "        text-align: right;\n",
       "    }\n",
       "</style>\n",
       "<table border=\"1\" class=\"dataframe\">\n",
       "  <thead>\n",
       "    <tr style=\"text-align: right;\">\n",
       "      <th></th>\n",
       "      <th>Total_Capacity_in_kWh_month</th>\n",
       "      <th>Total_Availability_day_in_hours</th>\n",
       "      <th>Total_Availability_evening_in_hours</th>\n",
       "      <th>Total_Reliability</th>\n",
       "      <th>Total_Quality</th>\n",
       "      <th>Total_Legality</th>\n",
       "      <th>Total_Health</th>\n",
       "    </tr>\n",
       "  </thead>\n",
       "  <tbody>\n",
       "    <tr>\n",
       "      <th>0</th>\n",
       "      <td>0.0</td>\n",
       "      <td>NaN</td>\n",
       "      <td>Missing_data</td>\n",
       "      <td>Missing_data</td>\n",
       "      <td>NaN</td>\n",
       "      <td>0</td>\n",
       "      <td>NaN</td>\n",
       "    </tr>\n",
       "    <tr>\n",
       "      <th>1</th>\n",
       "      <td>0.0</td>\n",
       "      <td>NaN</td>\n",
       "      <td>Missing_data</td>\n",
       "      <td>Missing_data</td>\n",
       "      <td>NaN</td>\n",
       "      <td>-1</td>\n",
       "      <td>NaN</td>\n",
       "    </tr>\n",
       "    <tr>\n",
       "      <th>2</th>\n",
       "      <td>0.0</td>\n",
       "      <td>NaN</td>\n",
       "      <td>Missing_data</td>\n",
       "      <td>Missing_data</td>\n",
       "      <td>NaN</td>\n",
       "      <td>-1</td>\n",
       "      <td>NaN</td>\n",
       "    </tr>\n",
       "    <tr>\n",
       "      <th>3</th>\n",
       "      <td>0.0</td>\n",
       "      <td>NaN</td>\n",
       "      <td>Missing_data</td>\n",
       "      <td>Missing_data</td>\n",
       "      <td>NaN</td>\n",
       "      <td>-1</td>\n",
       "      <td>NaN</td>\n",
       "    </tr>\n",
       "    <tr>\n",
       "      <th>4</th>\n",
       "      <td>0.0</td>\n",
       "      <td>NaN</td>\n",
       "      <td>Missing_data</td>\n",
       "      <td>Missing_data</td>\n",
       "      <td>NaN</td>\n",
       "      <td>-1</td>\n",
       "      <td>NaN</td>\n",
       "    </tr>\n",
       "  </tbody>\n",
       "</table>\n",
       "</div>"
      ],
      "text/plain": [
       "   Total_Capacity_in_kWh_month  Total_Availability_day_in_hours  \\\n",
       "0                          0.0                              NaN   \n",
       "1                          0.0                              NaN   \n",
       "2                          0.0                              NaN   \n",
       "3                          0.0                              NaN   \n",
       "4                          0.0                              NaN   \n",
       "\n",
       "  Total_Availability_evening_in_hours Total_Reliability Total_Quality  \\\n",
       "0                        Missing_data      Missing_data           NaN   \n",
       "1                        Missing_data      Missing_data           NaN   \n",
       "2                        Missing_data      Missing_data           NaN   \n",
       "3                        Missing_data      Missing_data           NaN   \n",
       "4                        Missing_data      Missing_data           NaN   \n",
       "\n",
       "   Total_Legality Total_Health  \n",
       "0               0          NaN  \n",
       "1              -1          NaN  \n",
       "2              -1          NaN  \n",
       "3              -1          NaN  \n",
       "4              -1          NaN  "
      ]
     },
     "execution_count": 258,
     "metadata": {},
     "output_type": "execute_result"
    }
   ],
   "source": [
    "Attributes_MTF_Rwanda.head()"
   ]
  },
  {
   "cell_type": "code",
   "execution_count": 259,
   "metadata": {
    "ExecuteTime": {
     "end_time": "2020-12-29T02:45:24.714891Z",
     "start_time": "2020-12-29T02:45:24.675902Z"
    }
   },
   "outputs": [],
   "source": [
    "Attributes_MTF_Rwanda['Total_Capacity_in_kWh_month'] = Attributes_MTF_Rwanda['Total_Capacity_in_kWh_month'].replace('Missing_data', np.nan)\n",
    "Attributes_MTF_Rwanda['Total_Availability_day_in_hours'] = Attributes_MTF_Rwanda['Total_Availability_day_in_hours'].replace('Missing_data', np.nan)\n",
    "Attributes_MTF_Rwanda['Total_Availability_evening_in_hours'] = Attributes_MTF_Rwanda['Total_Availability_evening_in_hours'].replace('Missing_data', np.nan)\n",
    "Attributes_MTF_Rwanda['Total_Reliability'] = Attributes_MTF_Rwanda['Total_Reliability'].replace('Missing_data', np.nan)\n",
    "Attributes_MTF_Rwanda['Total_Quality'] = Attributes_MTF_Rwanda['Total_Quality'].replace('Missing_data', np.nan)\n",
    "Attributes_MTF_Rwanda['Total_Legality'] = Attributes_MTF_Rwanda['Total_Legality'].replace(-1, np.nan)\n",
    "Attributes_MTF_Rwanda['Total_Health'] = Attributes_MTF_Rwanda['Total_Health'].replace('Missing_data', np.nan)"
   ]
  },
  {
   "cell_type": "code",
   "execution_count": 260,
   "metadata": {
    "ExecuteTime": {
     "end_time": "2020-12-29T02:45:24.729897Z",
     "start_time": "2020-12-29T02:45:24.719898Z"
    },
    "scrolled": true
   },
   "outputs": [],
   "source": [
    "#Attributes_MTF_Rwanda.head()"
   ]
  },
  {
   "cell_type": "code",
   "execution_count": 261,
   "metadata": {
    "ExecuteTime": {
     "end_time": "2020-12-29T02:45:24.761896Z",
     "start_time": "2020-12-29T02:45:24.735897Z"
    },
    "scrolled": false
   },
   "outputs": [
    {
     "name": "stdout",
     "output_type": "stream",
     "text": [
      "<class 'pandas.core.frame.DataFrame'>\n",
      "RangeIndex: 3295 entries, 0 to 3294\n",
      "Data columns (total 7 columns):\n",
      " #   Column                               Non-Null Count  Dtype  \n",
      "---  ------                               --------------  -----  \n",
      " 0   Total_Capacity_in_kWh_month          3295 non-null   float64\n",
      " 1   Total_Availability_day_in_hours      1459 non-null   float64\n",
      " 2   Total_Availability_evening_in_hours  1514 non-null   object \n",
      " 3   Total_Reliability                    538 non-null    object \n",
      " 4   Total_Quality                        1458 non-null   object \n",
      " 5   Total_Legality                       1632 non-null   float64\n",
      " 6   Total_Health                         1581 non-null   object \n",
      "dtypes: float64(3), object(4)\n",
      "memory usage: 180.3+ KB\n"
     ]
    }
   ],
   "source": [
    "Attributes_MTF_Rwanda.info()"
   ]
  },
  {
   "cell_type": "code",
   "execution_count": 262,
   "metadata": {
    "ExecuteTime": {
     "end_time": "2020-12-29T02:45:24.793896Z",
     "start_time": "2020-12-29T02:45:24.772899Z"
    }
   },
   "outputs": [
    {
     "data": {
      "text/plain": [
       "24.0    292\n",
       "22.0    240\n",
       "23.0    225\n",
       "20.0    204\n",
       "12.0     74\n",
       "21.0     61\n",
       "15.0     51\n",
       "18.0     46\n",
       "10.0     32\n",
       "6.0      29\n",
       "2.0      24\n",
       "5.0      23\n",
       "19.0     22\n",
       "3.0      21\n",
       "16.0     17\n",
       "4.0      16\n",
       "1.0      16\n",
       "14.0     14\n",
       "17.0     14\n",
       "8.0      12\n",
       "13.0     11\n",
       "11.0      7\n",
       "7.0       5\n",
       "9.0       3\n",
       "Name: Total_Availability_day_in_hours, dtype: int64"
      ]
     },
     "execution_count": 262,
     "metadata": {},
     "output_type": "execute_result"
    }
   ],
   "source": [
    "Attributes_MTF_Rwanda['Total_Availability_day_in_hours'].value_counts()"
   ]
  },
  {
   "cell_type": "code",
   "execution_count": 263,
   "metadata": {
    "ExecuteTime": {
     "end_time": "2020-12-29T02:45:24.825911Z",
     "start_time": "2020-12-29T02:45:24.801898Z"
    }
   },
   "outputs": [],
   "source": [
    "Attributes_MTF_Rwanda['Total_Availability_evening_in_hours'] = pd.to_numeric(Attributes_MTF_Rwanda['Total_Availability_evening_in_hours'])"
   ]
  },
  {
   "cell_type": "code",
   "execution_count": 264,
   "metadata": {
    "ExecuteTime": {
     "end_time": "2020-12-29T02:45:24.857896Z",
     "start_time": "2020-12-29T02:45:24.831902Z"
    },
    "scrolled": true
   },
   "outputs": [
    {
     "data": {
      "text/plain": [
       "4.0    764\n",
       "3.0    394\n",
       "2.0    239\n",
       "1.0    117\n",
       "Name: Total_Availability_evening_in_hours, dtype: int64"
      ]
     },
     "execution_count": 264,
     "metadata": {},
     "output_type": "execute_result"
    }
   ],
   "source": [
    "Attributes_MTF_Rwanda['Total_Availability_evening_in_hours'].value_counts()"
   ]
  },
  {
   "cell_type": "code",
   "execution_count": 265,
   "metadata": {
    "ExecuteTime": {
     "end_time": "2020-12-29T02:45:24.888898Z",
     "start_time": "2020-12-29T02:45:24.863897Z"
    }
   },
   "outputs": [],
   "source": [
    "Attributes_MTF_Rwanda['Total_Reliability'] = pd.to_numeric(Attributes_MTF_Rwanda['Total_Reliability'])"
   ]
  },
  {
   "cell_type": "code",
   "execution_count": 266,
   "metadata": {
    "ExecuteTime": {
     "end_time": "2020-12-29T02:45:24.936895Z",
     "start_time": "2020-12-29T02:45:24.892901Z"
    },
    "scrolled": true
   },
   "outputs": [
    {
     "data": {
      "text/plain": [
       "1.0     207\n",
       "2.0     150\n",
       "3.0      90\n",
       "4.0      42\n",
       "5.0      27\n",
       "6.0      11\n",
       "8.0       5\n",
       "10.0      4\n",
       "7.0       2\n",
       "Name: Total_Reliability, dtype: int64"
      ]
     },
     "execution_count": 266,
     "metadata": {},
     "output_type": "execute_result"
    }
   ],
   "source": [
    "Attributes_MTF_Rwanda['Total_Reliability'].value_counts()"
   ]
  },
  {
   "cell_type": "code",
   "execution_count": 267,
   "metadata": {
    "ExecuteTime": {
     "end_time": "2020-12-29T02:45:24.968896Z",
     "start_time": "2020-12-29T02:45:24.941897Z"
    }
   },
   "outputs": [
    {
     "data": {
      "text/plain": [
       "No     1115\n",
       "Yes     343\n",
       "Name: Total_Quality, dtype: int64"
      ]
     },
     "execution_count": 267,
     "metadata": {},
     "output_type": "execute_result"
    }
   ],
   "source": [
    "Attributes_MTF_Rwanda['Total_Quality'].value_counts()"
   ]
  },
  {
   "cell_type": "code",
   "execution_count": 268,
   "metadata": {
    "ExecuteTime": {
     "end_time": "2020-12-29T02:45:25.001897Z",
     "start_time": "2020-12-29T02:45:24.972897Z"
    }
   },
   "outputs": [],
   "source": [
    "Attributes_MTF_Rwanda['Total_Legality'] = Attributes_MTF_Rwanda['Total_Legality'].astype(str) "
   ]
  },
  {
   "cell_type": "code",
   "execution_count": 269,
   "metadata": {
    "ExecuteTime": {
     "end_time": "2020-12-29T02:45:25.030902Z",
     "start_time": "2020-12-29T02:45:25.008897Z"
    },
    "scrolled": true
   },
   "outputs": [
    {
     "data": {
      "text/plain": [
       "nan    1663\n",
       "1.0    1400\n",
       "2.0     109\n",
       "0.0      41\n",
       "6.0      32\n",
       "3.0      24\n",
       "4.0      14\n",
       "7.0      10\n",
       "5.0       2\n",
       "Name: Total_Legality, dtype: int64"
      ]
     },
     "execution_count": 269,
     "metadata": {},
     "output_type": "execute_result"
    }
   ],
   "source": [
    "Attributes_MTF_Rwanda['Total_Legality'].value_counts()"
   ]
  },
  {
   "cell_type": "code",
   "execution_count": 270,
   "metadata": {
    "ExecuteTime": {
     "end_time": "2020-12-29T02:45:25.062899Z",
     "start_time": "2020-12-29T02:45:25.036899Z"
    },
    "scrolled": true
   },
   "outputs": [
    {
     "data": {
      "text/plain": [
       "No     1575\n",
       "Yes       6\n",
       "Name: Total_Health, dtype: int64"
      ]
     },
     "execution_count": 270,
     "metadata": {},
     "output_type": "execute_result"
    }
   ],
   "source": [
    "Attributes_MTF_Rwanda['Total_Health'].value_counts()"
   ]
  },
  {
   "cell_type": "code",
   "execution_count": 271,
   "metadata": {
    "ExecuteTime": {
     "end_time": "2020-12-29T02:45:25.109891Z",
     "start_time": "2020-12-29T02:45:25.068901Z"
    }
   },
   "outputs": [
    {
     "name": "stdout",
     "output_type": "stream",
     "text": [
      "<class 'pandas.core.frame.DataFrame'>\n",
      "RangeIndex: 3295 entries, 0 to 3294\n",
      "Data columns (total 7 columns):\n",
      " #   Column                               Non-Null Count  Dtype  \n",
      "---  ------                               --------------  -----  \n",
      " 0   Total_Capacity_in_kWh_month          3295 non-null   float64\n",
      " 1   Total_Availability_day_in_hours      1459 non-null   float64\n",
      " 2   Total_Availability_evening_in_hours  1514 non-null   float64\n",
      " 3   Total_Reliability                    538 non-null    float64\n",
      " 4   Total_Quality                        1458 non-null   object \n",
      " 5   Total_Legality                       3295 non-null   object \n",
      " 6   Total_Health                         1581 non-null   object \n",
      "dtypes: float64(4), object(3)\n",
      "memory usage: 180.3+ KB\n"
     ]
    }
   ],
   "source": [
    "Attributes_MTF_Rwanda.info()"
   ]
  },
  {
   "cell_type": "markdown",
   "metadata": {
    "ExecuteTime": {
     "end_time": "2020-12-28T23:56:37.853588Z",
     "start_time": "2020-12-28T23:56:37.840595Z"
    }
   },
   "source": [
    "## Generaing plots"
   ]
  },
  {
   "cell_type": "code",
   "execution_count": 272,
   "metadata": {
    "ExecuteTime": {
     "end_time": "2020-12-29T02:45:25.140896Z",
     "start_time": "2020-12-29T02:45:25.114897Z"
    }
   },
   "outputs": [],
   "source": [
    "X_A = pd.merge(Attributes_MTF_Rwanda, X, left_index=True, right_index=True)"
   ]
  },
  {
   "cell_type": "code",
   "execution_count": 276,
   "metadata": {
    "ExecuteTime": {
     "end_time": "2020-12-29T02:47:19.986278Z",
     "start_time": "2020-12-29T02:47:19.035281Z"
    }
   },
   "outputs": [
    {
     "data": {
      "image/png": "[encoded data removed]",
      "text/plain": [
       "<Figure size 720x360 with 1 Axes>"
      ]
     },
     "metadata": {},
     "output_type": "display_data"
    }
   ],
   "source": [
    "fig, axes = plt.subplots(figsize=(10, 5))\n",
    "#axes.set_ylim(0,max(X['size'])+1)\n",
    "#axes.set_xlim(-1,max(X['E_Index'])+1)\n",
    "sns.scatterplot(X_A['Total_Capacity_in_kWh_month'], X_A['Total_Availability_day_in_hours'], hue=sorted(X['cluster']), \n",
    "                palette=customPalette[0:4])\n",
    "plt.legend(loc='lower right')\n",
    "plt.title('3 Clusters - Total Capacity  vs Total Availability during the day')\n",
    "plt.xlabel(\"Total Capacity in kWh per month\")\n",
    "plt.ylabel(\"Availability in hours\")\n",
    "plt.savefig('3 Clusters - Capacity vs Availabilty_day.jpg',dpi=300)\n",
    "plt.show()"
   ]
  },
  {
   "cell_type": "code",
   "execution_count": 277,
   "metadata": {
    "ExecuteTime": {
     "end_time": "2020-12-29T02:47:29.981366Z",
     "start_time": "2020-12-29T02:47:29.075369Z"
    }
   },
   "outputs": [
    {
     "data": {
      "image/png": "[encoded data removed]",
      "text/plain": [
       "<Figure size 720x360 with 1 Axes>"
      ]
     },
     "metadata": {},
     "output_type": "display_data"
    }
   ],
   "source": [
    "fig, axes = plt.subplots(figsize=(10, 5))\n",
    "#axes.set_ylim(0,max(X['size'])+1)\n",
    "#axes.set_xlim(-1,max(X['E_Index'])+1)\n",
    "sns.scatterplot(X_A['Total_Capacity_in_kWh_month'], X_A['Total_Availability_evening_in_hours'], hue=sorted(X['cluster']), \n",
    "                palette=customPalette[0:4])\n",
    "plt.legend(loc='upper right')\n",
    "plt.title('3 Clusters - Total Capacity  vs Total Availability during the evening')\n",
    "plt.xlabel(\"Total Capacity in kWh per month\")\n",
    "plt.ylabel(\"Availability in_hours\")\n",
    "plt.savefig('3 Clusters - Capacity vs Availabilty_evening.jpg',dpi=300)\n",
    "plt.show()"
   ]
  },
  {
   "cell_type": "code",
   "execution_count": 278,
   "metadata": {
    "ExecuteTime": {
     "end_time": "2020-12-29T02:47:35.622666Z",
     "start_time": "2020-12-29T02:47:34.833669Z"
    }
   },
   "outputs": [
    {
     "data": {
      "image/png": "[encoded data removed]",
      "text/plain": [
       "<Figure size 720x360 with 1 Axes>"
      ]
     },
     "metadata": {},
     "output_type": "display_data"
    }
   ],
   "source": [
    "fig, axes = plt.subplots(figsize=(10, 5))\n",
    "#axes.set_ylim(0,max(X['size'])+1)\n",
    "#axes.set_xlim(-1,max(X['E_Index'])+1)\n",
    "sns.scatterplot(X_A['Total_Capacity_in_kWh_month'], X_A['Total_Reliability'], hue=sorted(X['cluster']), \n",
    "                palette=customPalette[0:4])\n",
    "plt.legend(loc='upper right')\n",
    "plt.title('3 Clusters - Total Capacity  vs Total Reliability')\n",
    "plt.xlabel(\"Total Capacity\")\n",
    "plt.ylabel(\"Number of electricity disruptions\")\n",
    "plt.savefig('3 Clusters - Capacity vs Reliability.jpg',dpi=300)\n",
    "plt.show()"
   ]
  },
  {
   "cell_type": "code",
   "execution_count": 279,
   "metadata": {
    "ExecuteTime": {
     "end_time": "2020-12-29T02:47:46.249452Z",
     "start_time": "2020-12-29T02:47:45.446469Z"
    }
   },
   "outputs": [
    {
     "data": {
      "image/png": "[encoded data removed]",
      "text/plain": [
       "<Figure size 720x216 with 1 Axes>"
      ]
     },
     "metadata": {},
     "output_type": "display_data"
    }
   ],
   "source": [
    "fig, axes = plt.subplots(figsize=(10, 3))\n",
    "#axes.set_ylim(0,max(X['size'])+1)\n",
    "#axes.set_xlim(-1,max(X['E_Index'])+1)\n",
    "sns.scatterplot(X_A['Total_Capacity_in_kWh_month'], X_A['Total_Quality'], hue=sorted(X['cluster']), \n",
    "                palette=customPalette[0:4])\n",
    "plt.legend(loc='upper right')\n",
    "plt.title('3 Clusters - Total Capacity  vs Total Quality')\n",
    "plt.xlabel(\"Total Capacity in kWh per month\")\n",
    "plt.ylabel(\"Damaged appliances\")\n",
    "plt.savefig('3 Clusters - Capacity vs Total_Quality.jpg',dpi=300)\n",
    "plt.show()"
   ]
  },
  {
   "cell_type": "code",
   "execution_count": 280,
   "metadata": {
    "ExecuteTime": {
     "end_time": "2020-12-29T02:47:51.662828Z",
     "start_time": "2020-12-29T02:47:50.499832Z"
    }
   },
   "outputs": [
    {
     "data": {
      "image/png": "[encoded data removed]",
      "text/plain": [
       "<Figure size 720x216 with 1 Axes>"
      ]
     },
     "metadata": {},
     "output_type": "display_data"
    }
   ],
   "source": [
    "fig, axes = plt.subplots(figsize=(10, 3))\n",
    "#axes.set_ylim(0,max(X['size'])+1)\n",
    "#axes.set_xlim(-1,max(X['E_Index'])+1)\n",
    "sns.scatterplot(X_A['Total_Capacity_in_kWh_month'], X_A['Total_Legality'], hue=sorted(X['cluster']), \n",
    "                palette=customPalette[0:4])\n",
    "plt.legend(loc='upper right')\n",
    "plt.title('3 Clusters - Total Capacity vs Total Legality') \n",
    "plt.xlabel(\"Total Capacity in kWh per month\")\n",
    "#plt.ylabel(\"Hours of electricity each day\")\n",
    "plt.savefig('3 Clusters - Capacity vs Total_Legality.jpg',dpi=300)\n",
    "plt.show()"
   ]
  },
  {
   "cell_type": "code",
   "execution_count": 282,
   "metadata": {
    "ExecuteTime": {
     "end_time": "2020-12-29T02:48:09.946572Z",
     "start_time": "2020-12-29T02:48:08.917452Z"
    },
    "scrolled": true
   },
   "outputs": [
    {
     "data": {
      "image/png": "[encoded data removed]",
      "text/plain": [
       "<Figure size 720x216 with 1 Axes>"
      ]
     },
     "metadata": {},
     "output_type": "display_data"
    }
   ],
   "source": [
    "fig, axes = plt.subplots(figsize=(10, 3))\n",
    "#axes.set_ylim(0,max(X['size'])+1)\n",
    "#axes.set_xlim(-1,max(X['E_Index'])+1)\n",
    "sns.scatterplot(X_A['Total_Capacity_in_kWh_month'], X_A['Total_Health'], hue=sorted(X['cluster']), \n",
    "                palette=customPalette[0:4])\n",
    "plt.legend(loc='upper right')\n",
    "plt.title('3 Clusters - Total Capacity vs Total Health')\n",
    "plt.xlabel(\"Total Capacity in kWh per month\")\n",
    "plt.ylabel(\"Accidents caused\")\n",
    "plt.savefig('3 Clusters - Capacity vs Total Health.jpg',dpi=300)\n",
    "plt.show()"
   ]
  },
  {
   "cell_type": "markdown",
   "metadata": {},
   "source": [
    "## Test Markers with labels centered on the cluster means\n"
   ]
  },
  {
   "cell_type": "code",
   "execution_count": 283,
   "metadata": {
    "ExecuteTime": {
     "end_time": "2020-12-29T02:48:10.105571Z",
     "start_time": "2020-12-29T02:48:09.955575Z"
    }
   },
   "outputs": [
    {
     "data": {
      "application/vnd.jupyter.widget-view+json": {
       "model_id": "e46a2c893b6149dd838f35f0b5aba290",
       "version_major": 2,
       "version_minor": 0
      },
      "text/plain": [
       "QgridWidget(grid_options={'fullWidthRows': True, 'syncColumnCellResize': True, 'forceFitColumns': False, 'defa…"
      ]
     },
     "metadata": {},
     "output_type": "display_data"
    }
   ],
   "source": [
    "qgrid.show_grid(X_A,column_options=col_options,\n",
    "                               column_definitions=col_defs,\n",
    "                               grid_options={'forceFitColumns': False})"
   ]
  },
  {
   "cell_type": "markdown",
   "metadata": {
    "ExecuteTime": {
     "end_time": "2020-12-22T21:25:16.505070Z",
     "start_time": "2020-12-22T21:19:28.140Z"
    }
   },
   "source": [
    "X[X['cluster']=='C'].to_csv(\"Households clustered C.csv\")\n",
    "X[X['C_Index']==3].to_csv(\"Households C_Index 3.csv\")\n",
    "X.to_csv(\"All variables.csv\")"
   ]
  },
  {
   "cell_type": "markdown",
   "metadata": {
    "ExecuteTime": {
     "end_time": "2020-12-22T21:25:16.520712Z",
     "start_time": "2020-12-22T21:19:28.148Z"
    }
   },
   "source": [
    "scaled_X.head()"
   ]
  },
  {
   "cell_type": "markdown",
   "metadata": {},
   "source": [
    "## Ploting the radius for each cluster\n",
    "### Determine the kmean radii\n",
    "https://datascience.stackexchange.com/questions/32753/find-cluster-diameter-and-associated-cluster-points-with-kmeans-clustering-scik"
   ]
  },
  {
   "cell_type": "code",
   "execution_count": 284,
   "metadata": {
    "ExecuteTime": {
     "end_time": "2020-12-29T02:48:10.200565Z",
     "start_time": "2020-12-29T02:48:10.110576Z"
    }
   },
   "outputs": [],
   "source": [
    "#iris example from https://datascience.stackexchange.com/questions/32753/find-cluster-diameter-and-associated-cluster-points-with-kmeans-clustering-scik\n",
    "\n",
    "x = X_A\n",
    "estimator = kmeans\n",
    "y_kmeans = labels\n",
    "\n",
    "#To get the clusters' radii you can use the following code snippet:\n",
    "\n",
    "#empty dictionaries\n",
    "\n",
    "clusters_centroids=dict()\n",
    "clusters_radii= dict()\n",
    "\n",
    "'''looping over clusters and calculate Euclidian distance of \n",
    "each point within that cluster from its centroid and \n",
    "pick the maximum which is the radius of that cluster'''\n",
    "\n",
    "for cluster in list(set(y_kmeans)):\n",
    "\n",
    "    clusters_centroids[cluster]=list(zip(estimator.cluster_centers_[:, 0],\n",
    "                                         estimator.cluster_centers_[:,1]))[cluster]\n",
    "    clusters_radii[cluster] = max([np.linalg.norm(np.subtract(i,clusters_centroids[cluster]))\n",
    "                                   for i in zip(x.loc[y_kmeans == cluster, 'Total_Capacity_in_kWh_month'],\n",
    "                                                x.loc[y_kmeans == cluster, 'Total_Availability_day_in_hours'])])\n"
   ]
  },
  {
   "cell_type": "code",
   "execution_count": 285,
   "metadata": {
    "ExecuteTime": {
     "end_time": "2020-12-29T02:48:11.805594Z",
     "start_time": "2020-12-29T02:48:10.205573Z"
    },
    "scrolled": true
   },
   "outputs": [
    {
     "data": {
      "image/png": "[encoded data removed]",
      "text/plain": [
       "<Figure size 864x576 with 1 Axes>"
      ]
     },
     "metadata": {},
     "output_type": "display_data"
    }
   ],
   "source": [
    "#Visualising the clusters and cluster circles\n",
    "import matplotlib.patches as patches\n",
    "fig, ax = plt.subplots(figsize=(12,8))\n",
    "\n",
    "plt.scatter(x.loc[y_kmeans == 0, 'Total_Capacity_in_kWh_month'], x.loc[y_kmeans == 0, 'Total_Availability_day_in_hours'], s = 10, c = customPalette[0], label = 'A')\n",
    "art = patches.Circle(clusters_centroids[0],clusters_radii[0], edgecolor='r',fill=False)\n",
    "ax.add_patch(art)\n",
    "\n",
    "plt.scatter(x.loc[y_kmeans == 1, 'Total_Capacity_in_kWh_month'], x.loc[y_kmeans == 1, 'Total_Availability_day_in_hours'], s = 10, c = customPalette[1], label = 'B')\n",
    "art = patches.Circle(clusters_centroids[1],clusters_radii[1], edgecolor='b',fill=False)\n",
    "ax.add_patch(art)\n",
    "\n",
    "plt.scatter(x.loc[y_kmeans == 2, 'Total_Capacity_in_kWh_month'], x.loc[y_kmeans == 2, 'Total_Availability_day_in_hours'], s = 10, c = customPalette[2], label = 'C')\n",
    "art = patches.Circle(clusters_centroids[2],clusters_radii[2], edgecolor='g',fill=False)\n",
    "ax.add_patch(art)\n",
    "\n",
    "#Plotting the centroids of the clusters\n",
    "plt.scatter(estimator.cluster_centers_[:, 0], estimator.cluster_centers_[:,1], s = 100, c = customPalette[3], label = 'Centroids')\n",
    "\n",
    "ax.set_title('Scatter plot with colored clustering labels and radii')\n",
    "ax.set_xlabel('Total_Capacity_in_kWh_month')\n",
    "ax.set_ylabel('Total_Availability_day_in_hours')\n",
    "plt.legend()\n",
    "plt.tight_layout()\n",
    "plt.savefig('3_clusters_Total_Capacity_in_kWh_month-Total_Availability_day_in_hours.jpg',dpi=300)"
   ]
  },
  {
   "cell_type": "markdown",
   "metadata": {},
   "source": [
    "## PCA Projection to 2D\n",
    "https://towardsdatascience.com/pca-using-python-scikit-learn-e653f8989e60"
   ]
  },
  {
   "cell_type": "markdown",
   "metadata": {
    "ExecuteTime": {
     "end_time": "2020-12-28T22:18:04.574505Z",
     "start_time": "2020-12-28T22:18:04.555515Z"
    }
   },
   "source": [
    "### Standarizing and scaling the parameters"
   ]
  },
  {
   "cell_type": "markdown",
   "metadata": {},
   "source": [
    "#### Non-categorical variables"
   ]
  },
  {
   "cell_type": "code",
   "execution_count": 286,
   "metadata": {
    "ExecuteTime": {
     "end_time": "2020-12-29T02:48:11.900566Z",
     "start_time": "2020-12-29T02:48:11.810572Z"
    }
   },
   "outputs": [
    {
     "data": {
      "text/html": [
       "<div>\n",
       "<style scoped>\n",
       "    .dataframe tbody tr th:only-of-type {\n",
       "        vertical-align: middle;\n",
       "    }\n",
       "\n",
       "    .dataframe tbody tr th {\n",
       "        vertical-align: top;\n",
       "    }\n",
       "\n",
       "    .dataframe thead th {\n",
       "        text-align: right;\n",
       "    }\n",
       "</style>\n",
       "<table border=\"1\" class=\"dataframe\">\n",
       "  <thead>\n",
       "    <tr style=\"text-align: right;\">\n",
       "      <th></th>\n",
       "      <th>C22</th>\n",
       "      <th>C64</th>\n",
       "      <th>C88</th>\n",
       "      <th>C117</th>\n",
       "      <th>C119A</th>\n",
       "      <th>C26A</th>\n",
       "      <th>C26B</th>\n",
       "      <th>C68A</th>\n",
       "      <th>C68B</th>\n",
       "      <th>C107A</th>\n",
       "      <th>...</th>\n",
       "      <th>C108A</th>\n",
       "      <th>C108B</th>\n",
       "      <th>C138A</th>\n",
       "      <th>C138B</th>\n",
       "      <th>C173A</th>\n",
       "      <th>C173B</th>\n",
       "      <th>C29A</th>\n",
       "      <th>C29B</th>\n",
       "      <th>C71A</th>\n",
       "      <th>C71B</th>\n",
       "    </tr>\n",
       "  </thead>\n",
       "  <tbody>\n",
       "    <tr>\n",
       "      <th>0</th>\n",
       "      <td>-0.403419</td>\n",
       "      <td>-0.043239</td>\n",
       "      <td>-0.017424</td>\n",
       "      <td>-0.017424</td>\n",
       "      <td>-0.019713</td>\n",
       "      <td>-0.400783</td>\n",
       "      <td>-0.839974</td>\n",
       "      <td>-0.018272</td>\n",
       "      <td>-0.047078</td>\n",
       "      <td>-0.017424</td>\n",
       "      <td>...</td>\n",
       "      <td>-0.017424</td>\n",
       "      <td>-0.017424</td>\n",
       "      <td>-0.027342</td>\n",
       "      <td>-0.036616</td>\n",
       "      <td>-0.094439</td>\n",
       "      <td>-0.173235</td>\n",
       "      <td>-0.354591</td>\n",
       "      <td>-0.634872</td>\n",
       "      <td>-0.024644</td>\n",
       "      <td>-0.041096</td>\n",
       "    </tr>\n",
       "    <tr>\n",
       "      <th>1</th>\n",
       "      <td>-0.403419</td>\n",
       "      <td>-0.043239</td>\n",
       "      <td>-0.017424</td>\n",
       "      <td>-0.017424</td>\n",
       "      <td>-0.019713</td>\n",
       "      <td>-0.400783</td>\n",
       "      <td>-0.839974</td>\n",
       "      <td>-0.018272</td>\n",
       "      <td>-0.047078</td>\n",
       "      <td>-0.017424</td>\n",
       "      <td>...</td>\n",
       "      <td>-0.017424</td>\n",
       "      <td>-0.017424</td>\n",
       "      <td>-0.027342</td>\n",
       "      <td>-0.036616</td>\n",
       "      <td>-0.094439</td>\n",
       "      <td>-0.173235</td>\n",
       "      <td>-0.354591</td>\n",
       "      <td>-0.634872</td>\n",
       "      <td>-0.024644</td>\n",
       "      <td>-0.041096</td>\n",
       "    </tr>\n",
       "    <tr>\n",
       "      <th>2</th>\n",
       "      <td>-0.403419</td>\n",
       "      <td>-0.043239</td>\n",
       "      <td>-0.017424</td>\n",
       "      <td>-0.017424</td>\n",
       "      <td>-0.019713</td>\n",
       "      <td>-0.400783</td>\n",
       "      <td>-0.839974</td>\n",
       "      <td>-0.018272</td>\n",
       "      <td>-0.047078</td>\n",
       "      <td>-0.017424</td>\n",
       "      <td>...</td>\n",
       "      <td>-0.017424</td>\n",
       "      <td>-0.017424</td>\n",
       "      <td>-0.027342</td>\n",
       "      <td>-0.036616</td>\n",
       "      <td>-0.094439</td>\n",
       "      <td>-0.173235</td>\n",
       "      <td>-0.354591</td>\n",
       "      <td>-0.634872</td>\n",
       "      <td>-0.024644</td>\n",
       "      <td>-0.041096</td>\n",
       "    </tr>\n",
       "    <tr>\n",
       "      <th>3</th>\n",
       "      <td>-0.403419</td>\n",
       "      <td>-0.043239</td>\n",
       "      <td>-0.017424</td>\n",
       "      <td>-0.017424</td>\n",
       "      <td>-0.019713</td>\n",
       "      <td>-0.400783</td>\n",
       "      <td>-0.839974</td>\n",
       "      <td>-0.018272</td>\n",
       "      <td>-0.047078</td>\n",
       "      <td>-0.017424</td>\n",
       "      <td>...</td>\n",
       "      <td>-0.017424</td>\n",
       "      <td>-0.017424</td>\n",
       "      <td>-0.027342</td>\n",
       "      <td>-0.036616</td>\n",
       "      <td>-0.094439</td>\n",
       "      <td>-0.173235</td>\n",
       "      <td>-0.354591</td>\n",
       "      <td>-0.634872</td>\n",
       "      <td>-0.024644</td>\n",
       "      <td>-0.041096</td>\n",
       "    </tr>\n",
       "    <tr>\n",
       "      <th>4</th>\n",
       "      <td>-0.403419</td>\n",
       "      <td>-0.043239</td>\n",
       "      <td>-0.017424</td>\n",
       "      <td>-0.017424</td>\n",
       "      <td>-0.019713</td>\n",
       "      <td>-0.400783</td>\n",
       "      <td>-0.839974</td>\n",
       "      <td>-0.018272</td>\n",
       "      <td>-0.047078</td>\n",
       "      <td>-0.017424</td>\n",
       "      <td>...</td>\n",
       "      <td>-0.017424</td>\n",
       "      <td>-0.017424</td>\n",
       "      <td>-0.027342</td>\n",
       "      <td>-0.036616</td>\n",
       "      <td>-0.094439</td>\n",
       "      <td>-0.173235</td>\n",
       "      <td>-0.354591</td>\n",
       "      <td>-0.634872</td>\n",
       "      <td>-0.024644</td>\n",
       "      <td>-0.041096</td>\n",
       "    </tr>\n",
       "  </tbody>\n",
       "</table>\n",
       "<p>5 rows × 30 columns</p>\n",
       "</div>"
      ],
      "text/plain": [
       "        C22       C64       C88      C117     C119A      C26A      C26B  \\\n",
       "0 -0.403419 -0.043239 -0.017424 -0.017424 -0.019713 -0.400783 -0.839974   \n",
       "1 -0.403419 -0.043239 -0.017424 -0.017424 -0.019713 -0.400783 -0.839974   \n",
       "2 -0.403419 -0.043239 -0.017424 -0.017424 -0.019713 -0.400783 -0.839974   \n",
       "3 -0.403419 -0.043239 -0.017424 -0.017424 -0.019713 -0.400783 -0.839974   \n",
       "4 -0.403419 -0.043239 -0.017424 -0.017424 -0.019713 -0.400783 -0.839974   \n",
       "\n",
       "       C68A      C68B     C107A  ...     C108A     C108B     C138A     C138B  \\\n",
       "0 -0.018272 -0.047078 -0.017424  ... -0.017424 -0.017424 -0.027342 -0.036616   \n",
       "1 -0.018272 -0.047078 -0.017424  ... -0.017424 -0.017424 -0.027342 -0.036616   \n",
       "2 -0.018272 -0.047078 -0.017424  ... -0.017424 -0.017424 -0.027342 -0.036616   \n",
       "3 -0.018272 -0.047078 -0.017424  ... -0.017424 -0.017424 -0.027342 -0.036616   \n",
       "4 -0.018272 -0.047078 -0.017424  ... -0.017424 -0.017424 -0.027342 -0.036616   \n",
       "\n",
       "      C173A     C173B      C29A      C29B      C71A      C71B  \n",
       "0 -0.094439 -0.173235 -0.354591 -0.634872 -0.024644 -0.041096  \n",
       "1 -0.094439 -0.173235 -0.354591 -0.634872 -0.024644 -0.041096  \n",
       "2 -0.094439 -0.173235 -0.354591 -0.634872 -0.024644 -0.041096  \n",
       "3 -0.094439 -0.173235 -0.354591 -0.634872 -0.024644 -0.041096  \n",
       "4 -0.094439 -0.173235 -0.354591 -0.634872 -0.024644 -0.041096  \n",
       "\n",
       "[5 rows x 30 columns]"
      ]
     },
     "execution_count": 286,
     "metadata": {},
     "output_type": "execute_result"
    }
   ],
   "source": [
    "from sklearn import preprocessing\n",
    "# Get column names first\n",
    "# Non-categorical variables\n",
    "nonCat_X = X.filter(['C22', 'C64','C88','C117','C119A','C26A','C26B','C68A','C68B','C107A','C107B','C127','C137A','C137B','C172A','C172B','C27A','C27B','C69A','C69B','C108A','C108B','C138A','C138B','C173A','C173B','C29A','C29B','C71A','C71B'])\n",
    "X_names = nonCat_X.columns\n",
    "# Create the Scaler object\n",
    "scaler = preprocessing.StandardScaler()\n",
    "# Fit your data on the scaler object\n",
    "scaled_X = scaler.fit_transform(nonCat_X)\n",
    "scaled_X = pd.DataFrame(scaled_X, columns=X_names)\n",
    "scaled_X.head(5)"
   ]
  },
  {
   "cell_type": "code",
   "execution_count": 287,
   "metadata": {
    "ExecuteTime": {
     "end_time": "2020-12-29T02:48:11.916574Z",
     "start_time": "2020-12-29T02:48:11.905576Z"
    }
   },
   "outputs": [],
   "source": [
    "X['E_Index'] = HH_MTF_Rwanda['E_Index']"
   ]
  },
  {
   "cell_type": "code",
   "execution_count": 288,
   "metadata": {
    "ExecuteTime": {
     "end_time": "2020-12-29T02:48:11.932569Z",
     "start_time": "2020-12-29T02:48:11.925572Z"
    }
   },
   "outputs": [],
   "source": [
    "#X.info()"
   ]
  },
  {
   "cell_type": "code",
   "execution_count": 289,
   "metadata": {
    "ExecuteTime": {
     "end_time": "2020-12-29T02:48:11.963570Z",
     "start_time": "2020-12-29T02:48:11.945569Z"
    }
   },
   "outputs": [],
   "source": [
    "X_dummy = X.drop(['C22', 'C64','C88','C117','C119A','C26A','C26B','C68A','C68B','C107A','C107B','C127','C137A','C137B','C172A','C172B','C27A','C27B','C69A','C69B','C108A','C108B','C138A','C138B','C173A','C173B','C29A','C29B','C71A','C71B'], axis=1)"
   ]
  },
  {
   "cell_type": "code",
   "execution_count": 290,
   "metadata": {
    "ExecuteTime": {
     "end_time": "2020-12-29T02:48:12.026565Z",
     "start_time": "2020-12-29T02:48:11.970572Z"
    }
   },
   "outputs": [
    {
     "data": {
      "text/html": [
       "<div>\n",
       "<style scoped>\n",
       "    .dataframe tbody tr th:only-of-type {\n",
       "        vertical-align: middle;\n",
       "    }\n",
       "\n",
       "    .dataframe tbody tr th {\n",
       "        vertical-align: top;\n",
       "    }\n",
       "\n",
       "    .dataframe thead th {\n",
       "        text-align: right;\n",
       "    }\n",
       "</style>\n",
       "<table border=\"1\" class=\"dataframe\">\n",
       "  <thead>\n",
       "    <tr style=\"text-align: right;\">\n",
       "      <th></th>\n",
       "      <th>C39_Yes</th>\n",
       "      <th>C39_No</th>\n",
       "      <th>C39_0</th>\n",
       "      <th>C81_No</th>\n",
       "      <th>C110_Yes</th>\n",
       "      <th>C140_Yes</th>\n",
       "      <th>C140_No</th>\n",
       "      <th>C17_Pre-paid</th>\n",
       "      <th>C17_Monthly bill</th>\n",
       "      <th>C17_Fixed monthly fee</th>\n",
       "      <th>...</th>\n",
       "      <th>C41_Yes</th>\n",
       "      <th>C41_No</th>\n",
       "      <th>C83_No</th>\n",
       "      <th>C112_No</th>\n",
       "      <th>C130_No</th>\n",
       "      <th>C142_No</th>\n",
       "      <th>C175_No</th>\n",
       "      <th>label</th>\n",
       "      <th>cluster</th>\n",
       "      <th>E_Index</th>\n",
       "    </tr>\n",
       "  </thead>\n",
       "  <tbody>\n",
       "    <tr>\n",
       "      <th>0</th>\n",
       "      <td>0</td>\n",
       "      <td>0</td>\n",
       "      <td>0</td>\n",
       "      <td>0</td>\n",
       "      <td>0</td>\n",
       "      <td>0</td>\n",
       "      <td>0</td>\n",
       "      <td>0</td>\n",
       "      <td>0</td>\n",
       "      <td>0</td>\n",
       "      <td>...</td>\n",
       "      <td>0</td>\n",
       "      <td>0</td>\n",
       "      <td>0</td>\n",
       "      <td>0</td>\n",
       "      <td>0</td>\n",
       "      <td>0</td>\n",
       "      <td>0</td>\n",
       "      <td>1</td>\n",
       "      <td>B</td>\n",
       "      <td>2.4</td>\n",
       "    </tr>\n",
       "    <tr>\n",
       "      <th>1</th>\n",
       "      <td>0</td>\n",
       "      <td>0</td>\n",
       "      <td>0</td>\n",
       "      <td>0</td>\n",
       "      <td>0</td>\n",
       "      <td>0</td>\n",
       "      <td>0</td>\n",
       "      <td>0</td>\n",
       "      <td>0</td>\n",
       "      <td>0</td>\n",
       "      <td>...</td>\n",
       "      <td>0</td>\n",
       "      <td>0</td>\n",
       "      <td>0</td>\n",
       "      <td>0</td>\n",
       "      <td>0</td>\n",
       "      <td>0</td>\n",
       "      <td>0</td>\n",
       "      <td>1</td>\n",
       "      <td>B</td>\n",
       "      <td>0.0</td>\n",
       "    </tr>\n",
       "    <tr>\n",
       "      <th>2</th>\n",
       "      <td>0</td>\n",
       "      <td>0</td>\n",
       "      <td>0</td>\n",
       "      <td>0</td>\n",
       "      <td>0</td>\n",
       "      <td>0</td>\n",
       "      <td>0</td>\n",
       "      <td>0</td>\n",
       "      <td>0</td>\n",
       "      <td>0</td>\n",
       "      <td>...</td>\n",
       "      <td>0</td>\n",
       "      <td>0</td>\n",
       "      <td>0</td>\n",
       "      <td>0</td>\n",
       "      <td>0</td>\n",
       "      <td>0</td>\n",
       "      <td>0</td>\n",
       "      <td>1</td>\n",
       "      <td>B</td>\n",
       "      <td>0.0</td>\n",
       "    </tr>\n",
       "    <tr>\n",
       "      <th>3</th>\n",
       "      <td>0</td>\n",
       "      <td>0</td>\n",
       "      <td>0</td>\n",
       "      <td>0</td>\n",
       "      <td>0</td>\n",
       "      <td>0</td>\n",
       "      <td>0</td>\n",
       "      <td>0</td>\n",
       "      <td>0</td>\n",
       "      <td>0</td>\n",
       "      <td>...</td>\n",
       "      <td>0</td>\n",
       "      <td>0</td>\n",
       "      <td>0</td>\n",
       "      <td>0</td>\n",
       "      <td>0</td>\n",
       "      <td>0</td>\n",
       "      <td>0</td>\n",
       "      <td>1</td>\n",
       "      <td>B</td>\n",
       "      <td>0.0</td>\n",
       "    </tr>\n",
       "    <tr>\n",
       "      <th>4</th>\n",
       "      <td>0</td>\n",
       "      <td>0</td>\n",
       "      <td>0</td>\n",
       "      <td>0</td>\n",
       "      <td>0</td>\n",
       "      <td>0</td>\n",
       "      <td>0</td>\n",
       "      <td>0</td>\n",
       "      <td>0</td>\n",
       "      <td>0</td>\n",
       "      <td>...</td>\n",
       "      <td>0</td>\n",
       "      <td>0</td>\n",
       "      <td>0</td>\n",
       "      <td>0</td>\n",
       "      <td>0</td>\n",
       "      <td>0</td>\n",
       "      <td>0</td>\n",
       "      <td>1</td>\n",
       "      <td>B</td>\n",
       "      <td>0.0</td>\n",
       "    </tr>\n",
       "  </tbody>\n",
       "</table>\n",
       "<p>5 rows × 29 columns</p>\n",
       "</div>"
      ],
      "text/plain": [
       "   C39_Yes  C39_No  C39_0  C81_No  C110_Yes  C140_Yes  C140_No  C17_Pre-paid  \\\n",
       "0        0       0      0       0         0         0        0             0   \n",
       "1        0       0      0       0         0         0        0             0   \n",
       "2        0       0      0       0         0         0        0             0   \n",
       "3        0       0      0       0         0         0        0             0   \n",
       "4        0       0      0       0         0         0        0             0   \n",
       "\n",
       "   C17_Monthly bill  C17_Fixed monthly fee  ...  C41_Yes  C41_No  C83_No  \\\n",
       "0                 0                      0  ...        0       0       0   \n",
       "1                 0                      0  ...        0       0       0   \n",
       "2                 0                      0  ...        0       0       0   \n",
       "3                 0                      0  ...        0       0       0   \n",
       "4                 0                      0  ...        0       0       0   \n",
       "\n",
       "   C112_No  C130_No  C142_No  C175_No  label  cluster  E_Index  \n",
       "0        0        0        0        0      1        B      2.4  \n",
       "1        0        0        0        0      1        B      0.0  \n",
       "2        0        0        0        0      1        B      0.0  \n",
       "3        0        0        0        0      1        B      0.0  \n",
       "4        0        0        0        0      1        B      0.0  \n",
       "\n",
       "[5 rows x 29 columns]"
      ]
     },
     "execution_count": 290,
     "metadata": {},
     "output_type": "execute_result"
    }
   ],
   "source": [
    "X_dummy.head()"
   ]
  },
  {
   "cell_type": "code",
   "execution_count": 291,
   "metadata": {
    "ExecuteTime": {
     "end_time": "2020-12-29T02:48:12.088580Z",
     "start_time": "2020-12-29T02:48:12.030572Z"
    }
   },
   "outputs": [
    {
     "data": {
      "text/html": [
       "<div>\n",
       "<style scoped>\n",
       "    .dataframe tbody tr th:only-of-type {\n",
       "        vertical-align: middle;\n",
       "    }\n",
       "\n",
       "    .dataframe tbody tr th {\n",
       "        vertical-align: top;\n",
       "    }\n",
       "\n",
       "    .dataframe thead th {\n",
       "        text-align: right;\n",
       "    }\n",
       "</style>\n",
       "<table border=\"1\" class=\"dataframe\">\n",
       "  <thead>\n",
       "    <tr style=\"text-align: right;\">\n",
       "      <th></th>\n",
       "      <th>C22</th>\n",
       "      <th>C64</th>\n",
       "      <th>C88</th>\n",
       "      <th>C117</th>\n",
       "      <th>C119A</th>\n",
       "      <th>C26A</th>\n",
       "      <th>C26B</th>\n",
       "      <th>C68A</th>\n",
       "      <th>C68B</th>\n",
       "      <th>C107A</th>\n",
       "      <th>...</th>\n",
       "      <th>C41_Yes</th>\n",
       "      <th>C41_No</th>\n",
       "      <th>C83_No</th>\n",
       "      <th>C112_No</th>\n",
       "      <th>C130_No</th>\n",
       "      <th>C142_No</th>\n",
       "      <th>C175_No</th>\n",
       "      <th>label</th>\n",
       "      <th>cluster</th>\n",
       "      <th>E_Index</th>\n",
       "    </tr>\n",
       "  </thead>\n",
       "  <tbody>\n",
       "    <tr>\n",
       "      <th>0</th>\n",
       "      <td>-0.403419</td>\n",
       "      <td>-0.043239</td>\n",
       "      <td>-0.017424</td>\n",
       "      <td>-0.017424</td>\n",
       "      <td>-0.019713</td>\n",
       "      <td>-0.400783</td>\n",
       "      <td>-0.839974</td>\n",
       "      <td>-0.018272</td>\n",
       "      <td>-0.047078</td>\n",
       "      <td>-0.017424</td>\n",
       "      <td>...</td>\n",
       "      <td>0</td>\n",
       "      <td>0</td>\n",
       "      <td>0</td>\n",
       "      <td>0</td>\n",
       "      <td>0</td>\n",
       "      <td>0</td>\n",
       "      <td>0</td>\n",
       "      <td>1</td>\n",
       "      <td>B</td>\n",
       "      <td>2.4</td>\n",
       "    </tr>\n",
       "    <tr>\n",
       "      <th>1</th>\n",
       "      <td>-0.403419</td>\n",
       "      <td>-0.043239</td>\n",
       "      <td>-0.017424</td>\n",
       "      <td>-0.017424</td>\n",
       "      <td>-0.019713</td>\n",
       "      <td>-0.400783</td>\n",
       "      <td>-0.839974</td>\n",
       "      <td>-0.018272</td>\n",
       "      <td>-0.047078</td>\n",
       "      <td>-0.017424</td>\n",
       "      <td>...</td>\n",
       "      <td>0</td>\n",
       "      <td>0</td>\n",
       "      <td>0</td>\n",
       "      <td>0</td>\n",
       "      <td>0</td>\n",
       "      <td>0</td>\n",
       "      <td>0</td>\n",
       "      <td>1</td>\n",
       "      <td>B</td>\n",
       "      <td>0.0</td>\n",
       "    </tr>\n",
       "    <tr>\n",
       "      <th>2</th>\n",
       "      <td>-0.403419</td>\n",
       "      <td>-0.043239</td>\n",
       "      <td>-0.017424</td>\n",
       "      <td>-0.017424</td>\n",
       "      <td>-0.019713</td>\n",
       "      <td>-0.400783</td>\n",
       "      <td>-0.839974</td>\n",
       "      <td>-0.018272</td>\n",
       "      <td>-0.047078</td>\n",
       "      <td>-0.017424</td>\n",
       "      <td>...</td>\n",
       "      <td>0</td>\n",
       "      <td>0</td>\n",
       "      <td>0</td>\n",
       "      <td>0</td>\n",
       "      <td>0</td>\n",
       "      <td>0</td>\n",
       "      <td>0</td>\n",
       "      <td>1</td>\n",
       "      <td>B</td>\n",
       "      <td>0.0</td>\n",
       "    </tr>\n",
       "    <tr>\n",
       "      <th>3</th>\n",
       "      <td>-0.403419</td>\n",
       "      <td>-0.043239</td>\n",
       "      <td>-0.017424</td>\n",
       "      <td>-0.017424</td>\n",
       "      <td>-0.019713</td>\n",
       "      <td>-0.400783</td>\n",
       "      <td>-0.839974</td>\n",
       "      <td>-0.018272</td>\n",
       "      <td>-0.047078</td>\n",
       "      <td>-0.017424</td>\n",
       "      <td>...</td>\n",
       "      <td>0</td>\n",
       "      <td>0</td>\n",
       "      <td>0</td>\n",
       "      <td>0</td>\n",
       "      <td>0</td>\n",
       "      <td>0</td>\n",
       "      <td>0</td>\n",
       "      <td>1</td>\n",
       "      <td>B</td>\n",
       "      <td>0.0</td>\n",
       "    </tr>\n",
       "    <tr>\n",
       "      <th>4</th>\n",
       "      <td>-0.403419</td>\n",
       "      <td>-0.043239</td>\n",
       "      <td>-0.017424</td>\n",
       "      <td>-0.017424</td>\n",
       "      <td>-0.019713</td>\n",
       "      <td>-0.400783</td>\n",
       "      <td>-0.839974</td>\n",
       "      <td>-0.018272</td>\n",
       "      <td>-0.047078</td>\n",
       "      <td>-0.017424</td>\n",
       "      <td>...</td>\n",
       "      <td>0</td>\n",
       "      <td>0</td>\n",
       "      <td>0</td>\n",
       "      <td>0</td>\n",
       "      <td>0</td>\n",
       "      <td>0</td>\n",
       "      <td>0</td>\n",
       "      <td>1</td>\n",
       "      <td>B</td>\n",
       "      <td>0.0</td>\n",
       "    </tr>\n",
       "  </tbody>\n",
       "</table>\n",
       "<p>5 rows × 59 columns</p>\n",
       "</div>"
      ],
      "text/plain": [
       "        C22       C64       C88      C117     C119A      C26A      C26B  \\\n",
       "0 -0.403419 -0.043239 -0.017424 -0.017424 -0.019713 -0.400783 -0.839974   \n",
       "1 -0.403419 -0.043239 -0.017424 -0.017424 -0.019713 -0.400783 -0.839974   \n",
       "2 -0.403419 -0.043239 -0.017424 -0.017424 -0.019713 -0.400783 -0.839974   \n",
       "3 -0.403419 -0.043239 -0.017424 -0.017424 -0.019713 -0.400783 -0.839974   \n",
       "4 -0.403419 -0.043239 -0.017424 -0.017424 -0.019713 -0.400783 -0.839974   \n",
       "\n",
       "       C68A      C68B     C107A  ...  C41_Yes  C41_No  C83_No  C112_No  \\\n",
       "0 -0.018272 -0.047078 -0.017424  ...        0       0       0        0   \n",
       "1 -0.018272 -0.047078 -0.017424  ...        0       0       0        0   \n",
       "2 -0.018272 -0.047078 -0.017424  ...        0       0       0        0   \n",
       "3 -0.018272 -0.047078 -0.017424  ...        0       0       0        0   \n",
       "4 -0.018272 -0.047078 -0.017424  ...        0       0       0        0   \n",
       "\n",
       "   C130_No  C142_No  C175_No  label  cluster  E_Index  \n",
       "0        0        0        0      1        B      2.4  \n",
       "1        0        0        0      1        B      0.0  \n",
       "2        0        0        0      1        B      0.0  \n",
       "3        0        0        0      1        B      0.0  \n",
       "4        0        0        0      1        B      0.0  \n",
       "\n",
       "[5 rows x 59 columns]"
      ]
     },
     "execution_count": 291,
     "metadata": {},
     "output_type": "execute_result"
    }
   ],
   "source": [
    "Xs = scaled_X.join(X_dummy, how='outer')\n",
    "Xs.head()"
   ]
  },
  {
   "cell_type": "code",
   "execution_count": 292,
   "metadata": {
    "ExecuteTime": {
     "end_time": "2020-12-29T02:48:12.151572Z",
     "start_time": "2020-12-29T02:48:12.093574Z"
    }
   },
   "outputs": [
    {
     "name": "stdout",
     "output_type": "stream",
     "text": [
      "<class 'pandas.core.frame.DataFrame'>\n",
      "RangeIndex: 3295 entries, 0 to 3294\n",
      "Data columns (total 3 columns):\n",
      " #   Column                 Non-Null Count  Dtype  \n",
      "---  ------                 --------------  -----  \n",
      " 0   principal component 1  3295 non-null   float64\n",
      " 1   principal component 2  3295 non-null   float64\n",
      " 2   cluster                3295 non-null   object \n",
      "dtypes: float64(2), object(1)\n",
      "memory usage: 77.4+ KB\n"
     ]
    }
   ],
   "source": [
    "from sklearn.decomposition import PCA\n",
    "pca = PCA(n_components=2)\n",
    "x_pca = Xs.drop(['label','cluster','E_Index'], axis=1)\n",
    "principalComponents = pca.fit_transform(x_pca)\n",
    "principalDf = pd.DataFrame(data = principalComponents\n",
    "             , columns = ['principal component 1', 'principal component 2'])\n",
    "\n",
    "df_pca = pd.concat([principalDf, X[['cluster']]], axis = 1)\n",
    "df_pca.info()"
   ]
  },
  {
   "cell_type": "code",
   "execution_count": 301,
   "metadata": {
    "ExecuteTime": {
     "end_time": "2020-12-29T02:50:23.132447Z",
     "start_time": "2020-12-29T02:50:22.195435Z"
    },
    "scrolled": false
   },
   "outputs": [
    {
     "data": {
      "image/png": "[encoded data removed]",
      "text/plain": [
       "<Figure size 720x576 with 1 Axes>"
      ]
     },
     "metadata": {},
     "output_type": "display_data"
    }
   ],
   "source": [
    "fig = plt.figure(figsize = (10,8))\n",
    "ax = fig.add_subplot(1,1,1)\n",
    "ax.set_ylim(-1,1)\n",
    "ax.set_xlim(-0.4,0.2)\n",
    "ax.set_xlabel('Principal Component 1', fontsize = 15)\n",
    "ax.set_ylabel('Principal Component 2', fontsize = 15)\n",
    "ax.set_title('2 component PCA with 3 clusters', fontsize = 20)\n",
    "targets = ['A', 'B', 'C', 'D']\n",
    "colors = [customPalette[0], customPalette[1], customPalette[2], customPalette[3]]\n",
    "for target, color in zip(targets,colors):\n",
    "    indicesToKeep = df_pca['cluster'] == target\n",
    "    ax.scatter(df_pca.loc[indicesToKeep, 'principal component 1']\n",
    "               , df_pca.loc[indicesToKeep, 'principal component 2']\n",
    "               , c = color\n",
    "               , s = 5)\n",
    "ax.legend(targets)\n",
    "ax.grid()\n",
    "plt.savefig('2D-PCA_3_clusters.jpg',dpi=300)"
   ]
  },
  {
   "cell_type": "code",
   "execution_count": 302,
   "metadata": {
    "ExecuteTime": {
     "end_time": "2020-12-29T02:50:37.328388Z",
     "start_time": "2020-12-29T02:50:36.422376Z"
    }
   },
   "outputs": [
    {
     "data": {
      "image/png": "[encoded data removed]",
      "text/plain": [
       "<Figure size 720x576 with 1 Axes>"
      ]
     },
     "metadata": {},
     "output_type": "display_data"
    }
   ],
   "source": [
    "fig = plt.figure(figsize = (10,8))\n",
    "ax = fig.add_subplot(1,1,1)\n",
    "ax.set_ylim(-0.75,0.25)\n",
    "ax.set_xlim(-0.15,0.1)\n",
    "ax.set_xlabel('Principal Component 1', fontsize = 15)\n",
    "ax.set_ylabel('Principal Component 2', fontsize = 15)\n",
    "ax.set_title('2 component PCA with 3 clusters', fontsize = 20)\n",
    "targets = ['A', 'B', 'C', 'D']\n",
    "colors = [customPalette[0], customPalette[1], customPalette[2], customPalette[3]]\n",
    "for target, color in zip(targets,colors):\n",
    "    indicesToKeep = df_pca['cluster'] == target\n",
    "    ax.scatter(df_pca.loc[indicesToKeep, 'principal component 1']\n",
    "               , df_pca.loc[indicesToKeep, 'principal component 2']\n",
    "               , c = color\n",
    "               , s = 5)\n",
    "ax.legend(targets)\n",
    "ax.grid()\n",
    "plt.savefig('2D-PCA_3_clusters.jpg',dpi=300)"
   ]
  },
  {
   "cell_type": "code",
   "execution_count": 295,
   "metadata": {
    "ExecuteTime": {
     "end_time": "2020-12-29T02:48:14.382570Z",
     "start_time": "2020-12-29T02:48:14.324570Z"
    }
   },
   "outputs": [
    {
     "data": {
      "text/html": [
       "<div>\n",
       "<style scoped>\n",
       "    .dataframe tbody tr th:only-of-type {\n",
       "        vertical-align: middle;\n",
       "    }\n",
       "\n",
       "    .dataframe tbody tr th {\n",
       "        vertical-align: top;\n",
       "    }\n",
       "\n",
       "    .dataframe thead th {\n",
       "        text-align: right;\n",
       "    }\n",
       "</style>\n",
       "<table border=\"1\" class=\"dataframe\">\n",
       "  <thead>\n",
       "    <tr style=\"text-align: right;\">\n",
       "      <th></th>\n",
       "      <th>principal component 1</th>\n",
       "      <th>principal component 2</th>\n",
       "    </tr>\n",
       "  </thead>\n",
       "  <tbody>\n",
       "    <tr>\n",
       "      <th>count</th>\n",
       "      <td>3.295000e+03</td>\n",
       "      <td>3.295000e+03</td>\n",
       "    </tr>\n",
       "    <tr>\n",
       "      <th>mean</th>\n",
       "      <td>1.595756e-16</td>\n",
       "      <td>2.695534e-18</td>\n",
       "    </tr>\n",
       "    <tr>\n",
       "      <th>std</th>\n",
       "      <td>2.243713e+00</td>\n",
       "      <td>2.239079e+00</td>\n",
       "    </tr>\n",
       "    <tr>\n",
       "      <th>min</th>\n",
       "      <td>-3.123484e+01</td>\n",
       "      <td>-7.370287e-01</td>\n",
       "    </tr>\n",
       "    <tr>\n",
       "      <th>25%</th>\n",
       "      <td>-1.177056e-01</td>\n",
       "      <td>-1.912750e-01</td>\n",
       "    </tr>\n",
       "    <tr>\n",
       "      <th>50%</th>\n",
       "      <td>-1.177056e-01</td>\n",
       "      <td>7.691259e-02</td>\n",
       "    </tr>\n",
       "    <tr>\n",
       "      <th>75%</th>\n",
       "      <td>-4.617390e-02</td>\n",
       "      <td>7.691259e-02</td>\n",
       "    </tr>\n",
       "    <tr>\n",
       "      <th>max</th>\n",
       "      <td>9.437382e+01</td>\n",
       "      <td>1.240792e+02</td>\n",
       "    </tr>\n",
       "  </tbody>\n",
       "</table>\n",
       "</div>"
      ],
      "text/plain": [
       "       principal component 1  principal component 2\n",
       "count           3.295000e+03           3.295000e+03\n",
       "mean            1.595756e-16           2.695534e-18\n",
       "std             2.243713e+00           2.239079e+00\n",
       "min            -3.123484e+01          -7.370287e-01\n",
       "25%            -1.177056e-01          -1.912750e-01\n",
       "50%            -1.177056e-01           7.691259e-02\n",
       "75%            -4.617390e-02           7.691259e-02\n",
       "max             9.437382e+01           1.240792e+02"
      ]
     },
     "execution_count": 295,
     "metadata": {},
     "output_type": "execute_result"
    }
   ],
   "source": [
    "df_pca.describe()"
   ]
  },
  {
   "cell_type": "markdown",
   "metadata": {
    "ExecuteTime": {
     "end_time": "2020-06-26T18:58:44.543784Z",
     "start_time": "2020-06-26T18:58:44.538780Z"
    }
   },
   "source": [
    "## Numbered points on the PCA projection"
   ]
  },
  {
   "cell_type": "code",
   "execution_count": 296,
   "metadata": {
    "ExecuteTime": {
     "end_time": "2020-12-29T02:48:14.430566Z",
     "start_time": "2020-12-29T02:48:14.387580Z"
    },
    "scrolled": false
   },
   "outputs": [
    {
     "data": {
      "text/html": [
       "<div>\n",
       "<style scoped>\n",
       "    .dataframe tbody tr th:only-of-type {\n",
       "        vertical-align: middle;\n",
       "    }\n",
       "\n",
       "    .dataframe tbody tr th {\n",
       "        vertical-align: top;\n",
       "    }\n",
       "\n",
       "    .dataframe thead th {\n",
       "        text-align: right;\n",
       "    }\n",
       "</style>\n",
       "<table border=\"1\" class=\"dataframe\">\n",
       "  <thead>\n",
       "    <tr style=\"text-align: right;\">\n",
       "      <th></th>\n",
       "      <th>principal component 1</th>\n",
       "      <th>principal component 2</th>\n",
       "      <th>cluster</th>\n",
       "      <th>E_Index</th>\n",
       "    </tr>\n",
       "  </thead>\n",
       "  <tbody>\n",
       "    <tr>\n",
       "      <th>0</th>\n",
       "      <td>-0.117997</td>\n",
       "      <td>0.077104</td>\n",
       "      <td>B</td>\n",
       "      <td>2</td>\n",
       "    </tr>\n",
       "    <tr>\n",
       "      <th>1</th>\n",
       "      <td>-0.117706</td>\n",
       "      <td>0.076913</td>\n",
       "      <td>B</td>\n",
       "      <td>0</td>\n",
       "    </tr>\n",
       "    <tr>\n",
       "      <th>2</th>\n",
       "      <td>-0.117706</td>\n",
       "      <td>0.076913</td>\n",
       "      <td>B</td>\n",
       "      <td>0</td>\n",
       "    </tr>\n",
       "    <tr>\n",
       "      <th>3</th>\n",
       "      <td>-0.117706</td>\n",
       "      <td>0.076913</td>\n",
       "      <td>B</td>\n",
       "      <td>0</td>\n",
       "    </tr>\n",
       "    <tr>\n",
       "      <th>4</th>\n",
       "      <td>-0.117706</td>\n",
       "      <td>0.076913</td>\n",
       "      <td>B</td>\n",
       "      <td>0</td>\n",
       "    </tr>\n",
       "  </tbody>\n",
       "</table>\n",
       "</div>"
      ],
      "text/plain": [
       "   principal component 1  principal component 2 cluster  E_Index\n",
       "0              -0.117997               0.077104       B        2\n",
       "1              -0.117706               0.076913       B        0\n",
       "2              -0.117706               0.076913       B        0\n",
       "3              -0.117706               0.076913       B        0\n",
       "4              -0.117706               0.076913       B        0"
      ]
     },
     "execution_count": 296,
     "metadata": {},
     "output_type": "execute_result"
    }
   ],
   "source": [
    "# Create a DataFrame which includes df_pca and the variable C_Index\n",
    "df_pca_C = df_pca\n",
    "df_pca_C['E_Index'] = HH_MTF_Rwanda['E_Index'].astype(int)\n",
    "df_pca_C.head()"
   ]
  },
  {
   "cell_type": "code",
   "execution_count": 297,
   "metadata": {
    "ExecuteTime": {
     "end_time": "2020-12-29T02:48:14.508574Z",
     "start_time": "2020-12-29T02:48:14.439574Z"
    }
   },
   "outputs": [
    {
     "data": {
      "application/vnd.jupyter.widget-view+json": {
       "model_id": "eb5cf148a94a4cf09053aacf042d9dff",
       "version_major": 2,
       "version_minor": 0
      },
      "text/plain": [
       "QgridWidget(grid_options={'fullWidthRows': True, 'syncColumnCellResize': True, 'forceFitColumns': False, 'defa…"
      ]
     },
     "metadata": {},
     "output_type": "display_data"
    }
   ],
   "source": [
    "qgrid.show_grid(df_pca_C,column_options=col_options,\n",
    "                               column_definitions=col_defs,\n",
    "                               grid_options={'forceFitColumns': False})"
   ]
  },
  {
   "cell_type": "code",
   "execution_count": 298,
   "metadata": {
    "ExecuteTime": {
     "end_time": "2020-12-29T02:48:51.682573Z",
     "start_time": "2020-12-29T02:48:14.514577Z"
    },
    "scrolled": true
   },
   "outputs": [
    {
     "ename": "ValueError",
     "evalue": "Image size of 116834x27255 pixels is too large. It must be less than 2^16 in each direction.",
     "output_type": "error",
     "traceback": [
      "\u001b[1;31m---------------------------------------------------------------------------\u001b[0m",
      "\u001b[1;31mValueError\u001b[0m                                Traceback (most recent call last)",
      "\u001b[1;32m~\\.conda\\envs\\PhD\\lib\\site-packages\\IPython\\core\\formatters.py\u001b[0m in \u001b[0;36m__call__\u001b[1;34m(self, obj)\u001b[0m\n\u001b[0;32m    339\u001b[0m                 \u001b[1;32mpass\u001b[0m\u001b[1;33m\u001b[0m\u001b[1;33m\u001b[0m\u001b[0m\n\u001b[0;32m    340\u001b[0m             \u001b[1;32melse\u001b[0m\u001b[1;33m:\u001b[0m\u001b[1;33m\u001b[0m\u001b[1;33m\u001b[0m\u001b[0m\n\u001b[1;32m--> 341\u001b[1;33m                 \u001b[1;32mreturn\u001b[0m \u001b[0mprinter\u001b[0m\u001b[1;33m(\u001b[0m\u001b[0mobj\u001b[0m\u001b[1;33m)\u001b[0m\u001b[1;33m\u001b[0m\u001b[1;33m\u001b[0m\u001b[0m\n\u001b[0m\u001b[0;32m    342\u001b[0m             \u001b[1;31m# Finally look for special method names\u001b[0m\u001b[1;33m\u001b[0m\u001b[1;33m\u001b[0m\u001b[1;33m\u001b[0m\u001b[0m\n\u001b[0;32m    343\u001b[0m             \u001b[0mmethod\u001b[0m \u001b[1;33m=\u001b[0m \u001b[0mget_real_method\u001b[0m\u001b[1;33m(\u001b[0m\u001b[0mobj\u001b[0m\u001b[1;33m,\u001b[0m \u001b[0mself\u001b[0m\u001b[1;33m.\u001b[0m\u001b[0mprint_method\u001b[0m\u001b[1;33m)\u001b[0m\u001b[1;33m\u001b[0m\u001b[1;33m\u001b[0m\u001b[0m\n",
      "\u001b[1;32m~\\.conda\\envs\\PhD\\lib\\site-packages\\IPython\\core\\pylabtools.py\u001b[0m in \u001b[0;36m<lambda>\u001b[1;34m(fig)\u001b[0m\n\u001b[0;32m    242\u001b[0m \u001b[1;33m\u001b[0m\u001b[0m\n\u001b[0;32m    243\u001b[0m     \u001b[1;32mif\u001b[0m \u001b[1;34m'png'\u001b[0m \u001b[1;32min\u001b[0m \u001b[0mformats\u001b[0m\u001b[1;33m:\u001b[0m\u001b[1;33m\u001b[0m\u001b[1;33m\u001b[0m\u001b[0m\n\u001b[1;32m--> 244\u001b[1;33m         \u001b[0mpng_formatter\u001b[0m\u001b[1;33m.\u001b[0m\u001b[0mfor_type\u001b[0m\u001b[1;33m(\u001b[0m\u001b[0mFigure\u001b[0m\u001b[1;33m,\u001b[0m \u001b[1;32mlambda\u001b[0m \u001b[0mfig\u001b[0m\u001b[1;33m:\u001b[0m \u001b[0mprint_figure\u001b[0m\u001b[1;33m(\u001b[0m\u001b[0mfig\u001b[0m\u001b[1;33m,\u001b[0m \u001b[1;34m'png'\u001b[0m\u001b[1;33m,\u001b[0m \u001b[1;33m**\u001b[0m\u001b[0mkwargs\u001b[0m\u001b[1;33m)\u001b[0m\u001b[1;33m)\u001b[0m\u001b[1;33m\u001b[0m\u001b[1;33m\u001b[0m\u001b[0m\n\u001b[0m\u001b[0;32m    245\u001b[0m     \u001b[1;32mif\u001b[0m \u001b[1;34m'retina'\u001b[0m \u001b[1;32min\u001b[0m \u001b[0mformats\u001b[0m \u001b[1;32mor\u001b[0m \u001b[1;34m'png2x'\u001b[0m \u001b[1;32min\u001b[0m \u001b[0mformats\u001b[0m\u001b[1;33m:\u001b[0m\u001b[1;33m\u001b[0m\u001b[1;33m\u001b[0m\u001b[0m\n\u001b[0;32m    246\u001b[0m         \u001b[0mpng_formatter\u001b[0m\u001b[1;33m.\u001b[0m\u001b[0mfor_type\u001b[0m\u001b[1;33m(\u001b[0m\u001b[0mFigure\u001b[0m\u001b[1;33m,\u001b[0m \u001b[1;32mlambda\u001b[0m \u001b[0mfig\u001b[0m\u001b[1;33m:\u001b[0m \u001b[0mretina_figure\u001b[0m\u001b[1;33m(\u001b[0m\u001b[0mfig\u001b[0m\u001b[1;33m,\u001b[0m \u001b[1;33m**\u001b[0m\u001b[0mkwargs\u001b[0m\u001b[1;33m)\u001b[0m\u001b[1;33m)\u001b[0m\u001b[1;33m\u001b[0m\u001b[1;33m\u001b[0m\u001b[0m\n",
      "\u001b[1;32m~\\.conda\\envs\\PhD\\lib\\site-packages\\IPython\\core\\pylabtools.py\u001b[0m in \u001b[0;36mprint_figure\u001b[1;34m(fig, fmt, bbox_inches, **kwargs)\u001b[0m\n\u001b[0;32m    126\u001b[0m \u001b[1;33m\u001b[0m\u001b[0m\n\u001b[0;32m    127\u001b[0m     \u001b[0mbytes_io\u001b[0m \u001b[1;33m=\u001b[0m \u001b[0mBytesIO\u001b[0m\u001b[1;33m(\u001b[0m\u001b[1;33m)\u001b[0m\u001b[1;33m\u001b[0m\u001b[1;33m\u001b[0m\u001b[0m\n\u001b[1;32m--> 128\u001b[1;33m     \u001b[0mfig\u001b[0m\u001b[1;33m.\u001b[0m\u001b[0mcanvas\u001b[0m\u001b[1;33m.\u001b[0m\u001b[0mprint_figure\u001b[0m\u001b[1;33m(\u001b[0m\u001b[0mbytes_io\u001b[0m\u001b[1;33m,\u001b[0m \u001b[1;33m**\u001b[0m\u001b[0mkw\u001b[0m\u001b[1;33m)\u001b[0m\u001b[1;33m\u001b[0m\u001b[1;33m\u001b[0m\u001b[0m\n\u001b[0m\u001b[0;32m    129\u001b[0m     \u001b[0mdata\u001b[0m \u001b[1;33m=\u001b[0m \u001b[0mbytes_io\u001b[0m\u001b[1;33m.\u001b[0m\u001b[0mgetvalue\u001b[0m\u001b[1;33m(\u001b[0m\u001b[1;33m)\u001b[0m\u001b[1;33m\u001b[0m\u001b[1;33m\u001b[0m\u001b[0m\n\u001b[0;32m    130\u001b[0m     \u001b[1;32mif\u001b[0m \u001b[0mfmt\u001b[0m \u001b[1;33m==\u001b[0m \u001b[1;34m'svg'\u001b[0m\u001b[1;33m:\u001b[0m\u001b[1;33m\u001b[0m\u001b[1;33m\u001b[0m\u001b[0m\n",
      "\u001b[1;32m~\\.conda\\envs\\PhD\\lib\\site-packages\\matplotlib\\backend_bases.py\u001b[0m in \u001b[0;36mprint_figure\u001b[1;34m(self, filename, dpi, facecolor, edgecolor, orientation, format, bbox_inches, **kwargs)\u001b[0m\n\u001b[0;32m   2091\u001b[0m                     \u001b[0morientation\u001b[0m\u001b[1;33m=\u001b[0m\u001b[0morientation\u001b[0m\u001b[1;33m,\u001b[0m\u001b[1;33m\u001b[0m\u001b[1;33m\u001b[0m\u001b[0m\n\u001b[0;32m   2092\u001b[0m                     \u001b[0mbbox_inches_restore\u001b[0m\u001b[1;33m=\u001b[0m\u001b[0m_bbox_inches_restore\u001b[0m\u001b[1;33m,\u001b[0m\u001b[1;33m\u001b[0m\u001b[1;33m\u001b[0m\u001b[0m\n\u001b[1;32m-> 2093\u001b[1;33m                     **kwargs)\n\u001b[0m\u001b[0;32m   2094\u001b[0m             \u001b[1;32mfinally\u001b[0m\u001b[1;33m:\u001b[0m\u001b[1;33m\u001b[0m\u001b[1;33m\u001b[0m\u001b[0m\n\u001b[0;32m   2095\u001b[0m                 \u001b[1;32mif\u001b[0m \u001b[0mbbox_inches\u001b[0m \u001b[1;32mand\u001b[0m \u001b[0mrestore_bbox\u001b[0m\u001b[1;33m:\u001b[0m\u001b[1;33m\u001b[0m\u001b[1;33m\u001b[0m\u001b[0m\n",
      "\u001b[1;32m~\\.conda\\envs\\PhD\\lib\\site-packages\\matplotlib\\backends\\backend_agg.py\u001b[0m in \u001b[0;36mprint_png\u001b[1;34m(self, filename_or_obj, metadata, pil_kwargs, *args, **kwargs)\u001b[0m\n\u001b[0;32m    512\u001b[0m         }\n\u001b[0;32m    513\u001b[0m \u001b[1;33m\u001b[0m\u001b[0m\n\u001b[1;32m--> 514\u001b[1;33m         \u001b[0mFigureCanvasAgg\u001b[0m\u001b[1;33m.\u001b[0m\u001b[0mdraw\u001b[0m\u001b[1;33m(\u001b[0m\u001b[0mself\u001b[0m\u001b[1;33m)\u001b[0m\u001b[1;33m\u001b[0m\u001b[1;33m\u001b[0m\u001b[0m\n\u001b[0m\u001b[0;32m    515\u001b[0m         \u001b[1;32mif\u001b[0m \u001b[0mpil_kwargs\u001b[0m \u001b[1;32mis\u001b[0m \u001b[1;32mnot\u001b[0m \u001b[1;32mNone\u001b[0m\u001b[1;33m:\u001b[0m\u001b[1;33m\u001b[0m\u001b[1;33m\u001b[0m\u001b[0m\n\u001b[0;32m    516\u001b[0m             \u001b[1;32mfrom\u001b[0m \u001b[0mPIL\u001b[0m \u001b[1;32mimport\u001b[0m \u001b[0mImage\u001b[0m\u001b[1;33m\u001b[0m\u001b[1;33m\u001b[0m\u001b[0m\n",
      "\u001b[1;32m~\\.conda\\envs\\PhD\\lib\\site-packages\\matplotlib\\backends\\backend_agg.py\u001b[0m in \u001b[0;36mdraw\u001b[1;34m(self)\u001b[0m\n\u001b[0;32m    386\u001b[0m         \u001b[0mDraw\u001b[0m \u001b[0mthe\u001b[0m \u001b[0mfigure\u001b[0m \u001b[0musing\u001b[0m \u001b[0mthe\u001b[0m \u001b[0mrenderer\u001b[0m\u001b[1;33m.\u001b[0m\u001b[1;33m\u001b[0m\u001b[1;33m\u001b[0m\u001b[0m\n\u001b[0;32m    387\u001b[0m         \"\"\"\n\u001b[1;32m--> 388\u001b[1;33m         \u001b[0mself\u001b[0m\u001b[1;33m.\u001b[0m\u001b[0mrenderer\u001b[0m \u001b[1;33m=\u001b[0m \u001b[0mself\u001b[0m\u001b[1;33m.\u001b[0m\u001b[0mget_renderer\u001b[0m\u001b[1;33m(\u001b[0m\u001b[0mcleared\u001b[0m\u001b[1;33m=\u001b[0m\u001b[1;32mTrue\u001b[0m\u001b[1;33m)\u001b[0m\u001b[1;33m\u001b[0m\u001b[1;33m\u001b[0m\u001b[0m\n\u001b[0m\u001b[0;32m    389\u001b[0m         \u001b[1;31m# Acquire a lock on the shared font cache.\u001b[0m\u001b[1;33m\u001b[0m\u001b[1;33m\u001b[0m\u001b[1;33m\u001b[0m\u001b[0m\n\u001b[0;32m    390\u001b[0m         \u001b[1;32mwith\u001b[0m \u001b[0mRendererAgg\u001b[0m\u001b[1;33m.\u001b[0m\u001b[0mlock\u001b[0m\u001b[1;33m,\u001b[0m\u001b[0;31m \u001b[0m\u001b[0;31m\\\u001b[0m\u001b[1;33m\u001b[0m\u001b[1;33m\u001b[0m\u001b[0m\n",
      "\u001b[1;32m~\\.conda\\envs\\PhD\\lib\\site-packages\\matplotlib\\backends\\backend_agg.py\u001b[0m in \u001b[0;36mget_renderer\u001b[1;34m(self, cleared)\u001b[0m\n\u001b[0;32m    402\u001b[0m                           and getattr(self, \"_lastKey\", None) == key)\n\u001b[0;32m    403\u001b[0m         \u001b[1;32mif\u001b[0m \u001b[1;32mnot\u001b[0m \u001b[0mreuse_renderer\u001b[0m\u001b[1;33m:\u001b[0m\u001b[1;33m\u001b[0m\u001b[1;33m\u001b[0m\u001b[0m\n\u001b[1;32m--> 404\u001b[1;33m             \u001b[0mself\u001b[0m\u001b[1;33m.\u001b[0m\u001b[0mrenderer\u001b[0m \u001b[1;33m=\u001b[0m \u001b[0mRendererAgg\u001b[0m\u001b[1;33m(\u001b[0m\u001b[0mw\u001b[0m\u001b[1;33m,\u001b[0m \u001b[0mh\u001b[0m\u001b[1;33m,\u001b[0m \u001b[0mself\u001b[0m\u001b[1;33m.\u001b[0m\u001b[0mfigure\u001b[0m\u001b[1;33m.\u001b[0m\u001b[0mdpi\u001b[0m\u001b[1;33m)\u001b[0m\u001b[1;33m\u001b[0m\u001b[1;33m\u001b[0m\u001b[0m\n\u001b[0m\u001b[0;32m    405\u001b[0m             \u001b[0mself\u001b[0m\u001b[1;33m.\u001b[0m\u001b[0m_lastKey\u001b[0m \u001b[1;33m=\u001b[0m \u001b[0mkey\u001b[0m\u001b[1;33m\u001b[0m\u001b[1;33m\u001b[0m\u001b[0m\n\u001b[0;32m    406\u001b[0m         \u001b[1;32melif\u001b[0m \u001b[0mcleared\u001b[0m\u001b[1;33m:\u001b[0m\u001b[1;33m\u001b[0m\u001b[1;33m\u001b[0m\u001b[0m\n",
      "\u001b[1;32m~\\.conda\\envs\\PhD\\lib\\site-packages\\matplotlib\\backends\\backend_agg.py\u001b[0m in \u001b[0;36m__init__\u001b[1;34m(self, width, height, dpi)\u001b[0m\n\u001b[0;32m     90\u001b[0m         \u001b[0mself\u001b[0m\u001b[1;33m.\u001b[0m\u001b[0mwidth\u001b[0m \u001b[1;33m=\u001b[0m \u001b[0mwidth\u001b[0m\u001b[1;33m\u001b[0m\u001b[1;33m\u001b[0m\u001b[0m\n\u001b[0;32m     91\u001b[0m         \u001b[0mself\u001b[0m\u001b[1;33m.\u001b[0m\u001b[0mheight\u001b[0m \u001b[1;33m=\u001b[0m \u001b[0mheight\u001b[0m\u001b[1;33m\u001b[0m\u001b[1;33m\u001b[0m\u001b[0m\n\u001b[1;32m---> 92\u001b[1;33m         \u001b[0mself\u001b[0m\u001b[1;33m.\u001b[0m\u001b[0m_renderer\u001b[0m \u001b[1;33m=\u001b[0m \u001b[0m_RendererAgg\u001b[0m\u001b[1;33m(\u001b[0m\u001b[0mint\u001b[0m\u001b[1;33m(\u001b[0m\u001b[0mwidth\u001b[0m\u001b[1;33m)\u001b[0m\u001b[1;33m,\u001b[0m \u001b[0mint\u001b[0m\u001b[1;33m(\u001b[0m\u001b[0mheight\u001b[0m\u001b[1;33m)\u001b[0m\u001b[1;33m,\u001b[0m \u001b[0mdpi\u001b[0m\u001b[1;33m)\u001b[0m\u001b[1;33m\u001b[0m\u001b[1;33m\u001b[0m\u001b[0m\n\u001b[0m\u001b[0;32m     93\u001b[0m         \u001b[0mself\u001b[0m\u001b[1;33m.\u001b[0m\u001b[0m_filter_renderers\u001b[0m \u001b[1;33m=\u001b[0m \u001b[1;33m[\u001b[0m\u001b[1;33m]\u001b[0m\u001b[1;33m\u001b[0m\u001b[1;33m\u001b[0m\u001b[0m\n\u001b[0;32m     94\u001b[0m \u001b[1;33m\u001b[0m\u001b[0m\n",
      "\u001b[1;31mValueError\u001b[0m: Image size of 116834x27255 pixels is too large. It must be less than 2^16 in each direction."
     ]
    },
    {
     "data": {
      "text/plain": [
       "<Figure size 720x576 with 1 Axes>"
      ]
     },
     "metadata": {},
     "output_type": "display_data"
    }
   ],
   "source": [
    "#create a new figure and set the x and y limits\n",
    "#fig, ax = plt.subplots(figsize=(10,8))\n",
    "fig = plt.figure(figsize = (10,8))\n",
    "ax = fig.add_subplot(1,1,1)\n",
    "# set the axes limit according to dataframe values\n",
    "ax.set_ylim(-1,1)\n",
    "ax.set_xlim(-0.4,0.2)\n",
    "\n",
    "# list of all cluster labels\n",
    "clusters = df_pca_C['cluster'].unique()       \n",
    "\n",
    "for i in range(0,len(clusters)):\n",
    "    cluster = clusters[i]\n",
    "    df_pca_cluster = df_pca_C.loc[df_pca_C['cluster']==cluster,:]\n",
    "    \n",
    "    for l, row in df_pca_cluster.iterrows():\n",
    "        #add the data point as text\n",
    "        ax.annotate(s=row['E_Index'], \n",
    "                     xy=(row['principal component 1'],row['principal component 2']),\n",
    "                     horizontalalignment='center',\n",
    "                     verticalalignment='center',\n",
    "                     size=7,\n",
    "                     color=customPalette[i]) \n",
    "\n",
    "        #add label placed at the centroid\n",
    "        plt.annotate(cluster, \n",
    "                  df_pca_C.loc[df_pca_C['cluster']==cluster,['principal component 1','principal component 2']].mean(),\n",
    "                  horizontalalignment='center',\n",
    "                  verticalalignment='center',\n",
    "                  size=16, weight='bold',\n",
    "                  color=customPalette[i])\n",
    "\n",
    "ax.set_title('2 component PCA showing E_Index on each point')\n",
    "ax.set_xlabel('principal component 1')\n",
    "ax.set_ylabel('principal component 2')\n",
    " \n",
    "plt.savefig('2D-PCA-numbered-3_clusters.jpg',dpi=300)\n",
    "plt.show()"
   ]
  },
  {
   "cell_type": "code",
   "execution_count": 299,
   "metadata": {
    "ExecuteTime": {
     "end_time": "2020-12-29T02:49:24.158564Z",
     "start_time": "2020-12-29T02:48:51.694571Z"
    }
   },
   "outputs": [
    {
     "ename": "ValueError",
     "evalue": "Image size of 350466x77563 pixels is too large. It must be less than 2^16 in each direction.",
     "output_type": "error",
     "traceback": [
      "\u001b[1;31m---------------------------------------------------------------------------\u001b[0m",
      "\u001b[1;31mValueError\u001b[0m                                Traceback (most recent call last)",
      "\u001b[1;32m~\\.conda\\envs\\PhD\\lib\\site-packages\\IPython\\core\\formatters.py\u001b[0m in \u001b[0;36m__call__\u001b[1;34m(self, obj)\u001b[0m\n\u001b[0;32m    339\u001b[0m                 \u001b[1;32mpass\u001b[0m\u001b[1;33m\u001b[0m\u001b[1;33m\u001b[0m\u001b[0m\n\u001b[0;32m    340\u001b[0m             \u001b[1;32melse\u001b[0m\u001b[1;33m:\u001b[0m\u001b[1;33m\u001b[0m\u001b[1;33m\u001b[0m\u001b[0m\n\u001b[1;32m--> 341\u001b[1;33m                 \u001b[1;32mreturn\u001b[0m \u001b[0mprinter\u001b[0m\u001b[1;33m(\u001b[0m\u001b[0mobj\u001b[0m\u001b[1;33m)\u001b[0m\u001b[1;33m\u001b[0m\u001b[1;33m\u001b[0m\u001b[0m\n\u001b[0m\u001b[0;32m    342\u001b[0m             \u001b[1;31m# Finally look for special method names\u001b[0m\u001b[1;33m\u001b[0m\u001b[1;33m\u001b[0m\u001b[1;33m\u001b[0m\u001b[0m\n\u001b[0;32m    343\u001b[0m             \u001b[0mmethod\u001b[0m \u001b[1;33m=\u001b[0m \u001b[0mget_real_method\u001b[0m\u001b[1;33m(\u001b[0m\u001b[0mobj\u001b[0m\u001b[1;33m,\u001b[0m \u001b[0mself\u001b[0m\u001b[1;33m.\u001b[0m\u001b[0mprint_method\u001b[0m\u001b[1;33m)\u001b[0m\u001b[1;33m\u001b[0m\u001b[1;33m\u001b[0m\u001b[0m\n",
      "\u001b[1;32m~\\.conda\\envs\\PhD\\lib\\site-packages\\IPython\\core\\pylabtools.py\u001b[0m in \u001b[0;36m<lambda>\u001b[1;34m(fig)\u001b[0m\n\u001b[0;32m    242\u001b[0m \u001b[1;33m\u001b[0m\u001b[0m\n\u001b[0;32m    243\u001b[0m     \u001b[1;32mif\u001b[0m \u001b[1;34m'png'\u001b[0m \u001b[1;32min\u001b[0m \u001b[0mformats\u001b[0m\u001b[1;33m:\u001b[0m\u001b[1;33m\u001b[0m\u001b[1;33m\u001b[0m\u001b[0m\n\u001b[1;32m--> 244\u001b[1;33m         \u001b[0mpng_formatter\u001b[0m\u001b[1;33m.\u001b[0m\u001b[0mfor_type\u001b[0m\u001b[1;33m(\u001b[0m\u001b[0mFigure\u001b[0m\u001b[1;33m,\u001b[0m \u001b[1;32mlambda\u001b[0m \u001b[0mfig\u001b[0m\u001b[1;33m:\u001b[0m \u001b[0mprint_figure\u001b[0m\u001b[1;33m(\u001b[0m\u001b[0mfig\u001b[0m\u001b[1;33m,\u001b[0m \u001b[1;34m'png'\u001b[0m\u001b[1;33m,\u001b[0m \u001b[1;33m**\u001b[0m\u001b[0mkwargs\u001b[0m\u001b[1;33m)\u001b[0m\u001b[1;33m)\u001b[0m\u001b[1;33m\u001b[0m\u001b[1;33m\u001b[0m\u001b[0m\n\u001b[0m\u001b[0;32m    245\u001b[0m     \u001b[1;32mif\u001b[0m \u001b[1;34m'retina'\u001b[0m \u001b[1;32min\u001b[0m \u001b[0mformats\u001b[0m \u001b[1;32mor\u001b[0m \u001b[1;34m'png2x'\u001b[0m \u001b[1;32min\u001b[0m \u001b[0mformats\u001b[0m\u001b[1;33m:\u001b[0m\u001b[1;33m\u001b[0m\u001b[1;33m\u001b[0m\u001b[0m\n\u001b[0;32m    246\u001b[0m         \u001b[0mpng_formatter\u001b[0m\u001b[1;33m.\u001b[0m\u001b[0mfor_type\u001b[0m\u001b[1;33m(\u001b[0m\u001b[0mFigure\u001b[0m\u001b[1;33m,\u001b[0m \u001b[1;32mlambda\u001b[0m \u001b[0mfig\u001b[0m\u001b[1;33m:\u001b[0m \u001b[0mretina_figure\u001b[0m\u001b[1;33m(\u001b[0m\u001b[0mfig\u001b[0m\u001b[1;33m,\u001b[0m \u001b[1;33m**\u001b[0m\u001b[0mkwargs\u001b[0m\u001b[1;33m)\u001b[0m\u001b[1;33m)\u001b[0m\u001b[1;33m\u001b[0m\u001b[1;33m\u001b[0m\u001b[0m\n",
      "\u001b[1;32m~\\.conda\\envs\\PhD\\lib\\site-packages\\IPython\\core\\pylabtools.py\u001b[0m in \u001b[0;36mprint_figure\u001b[1;34m(fig, fmt, bbox_inches, **kwargs)\u001b[0m\n\u001b[0;32m    126\u001b[0m \u001b[1;33m\u001b[0m\u001b[0m\n\u001b[0;32m    127\u001b[0m     \u001b[0mbytes_io\u001b[0m \u001b[1;33m=\u001b[0m \u001b[0mBytesIO\u001b[0m\u001b[1;33m(\u001b[0m\u001b[1;33m)\u001b[0m\u001b[1;33m\u001b[0m\u001b[1;33m\u001b[0m\u001b[0m\n\u001b[1;32m--> 128\u001b[1;33m     \u001b[0mfig\u001b[0m\u001b[1;33m.\u001b[0m\u001b[0mcanvas\u001b[0m\u001b[1;33m.\u001b[0m\u001b[0mprint_figure\u001b[0m\u001b[1;33m(\u001b[0m\u001b[0mbytes_io\u001b[0m\u001b[1;33m,\u001b[0m \u001b[1;33m**\u001b[0m\u001b[0mkw\u001b[0m\u001b[1;33m)\u001b[0m\u001b[1;33m\u001b[0m\u001b[1;33m\u001b[0m\u001b[0m\n\u001b[0m\u001b[0;32m    129\u001b[0m     \u001b[0mdata\u001b[0m \u001b[1;33m=\u001b[0m \u001b[0mbytes_io\u001b[0m\u001b[1;33m.\u001b[0m\u001b[0mgetvalue\u001b[0m\u001b[1;33m(\u001b[0m\u001b[1;33m)\u001b[0m\u001b[1;33m\u001b[0m\u001b[1;33m\u001b[0m\u001b[0m\n\u001b[0;32m    130\u001b[0m     \u001b[1;32mif\u001b[0m \u001b[0mfmt\u001b[0m \u001b[1;33m==\u001b[0m \u001b[1;34m'svg'\u001b[0m\u001b[1;33m:\u001b[0m\u001b[1;33m\u001b[0m\u001b[1;33m\u001b[0m\u001b[0m\n",
      "\u001b[1;32m~\\.conda\\envs\\PhD\\lib\\site-packages\\matplotlib\\backend_bases.py\u001b[0m in \u001b[0;36mprint_figure\u001b[1;34m(self, filename, dpi, facecolor, edgecolor, orientation, format, bbox_inches, **kwargs)\u001b[0m\n\u001b[0;32m   2091\u001b[0m                     \u001b[0morientation\u001b[0m\u001b[1;33m=\u001b[0m\u001b[0morientation\u001b[0m\u001b[1;33m,\u001b[0m\u001b[1;33m\u001b[0m\u001b[1;33m\u001b[0m\u001b[0m\n\u001b[0;32m   2092\u001b[0m                     \u001b[0mbbox_inches_restore\u001b[0m\u001b[1;33m=\u001b[0m\u001b[0m_bbox_inches_restore\u001b[0m\u001b[1;33m,\u001b[0m\u001b[1;33m\u001b[0m\u001b[1;33m\u001b[0m\u001b[0m\n\u001b[1;32m-> 2093\u001b[1;33m                     **kwargs)\n\u001b[0m\u001b[0;32m   2094\u001b[0m             \u001b[1;32mfinally\u001b[0m\u001b[1;33m:\u001b[0m\u001b[1;33m\u001b[0m\u001b[1;33m\u001b[0m\u001b[0m\n\u001b[0;32m   2095\u001b[0m                 \u001b[1;32mif\u001b[0m \u001b[0mbbox_inches\u001b[0m \u001b[1;32mand\u001b[0m \u001b[0mrestore_bbox\u001b[0m\u001b[1;33m:\u001b[0m\u001b[1;33m\u001b[0m\u001b[1;33m\u001b[0m\u001b[0m\n",
      "\u001b[1;32m~\\.conda\\envs\\PhD\\lib\\site-packages\\matplotlib\\backends\\backend_agg.py\u001b[0m in \u001b[0;36mprint_png\u001b[1;34m(self, filename_or_obj, metadata, pil_kwargs, *args, **kwargs)\u001b[0m\n\u001b[0;32m    512\u001b[0m         }\n\u001b[0;32m    513\u001b[0m \u001b[1;33m\u001b[0m\u001b[0m\n\u001b[1;32m--> 514\u001b[1;33m         \u001b[0mFigureCanvasAgg\u001b[0m\u001b[1;33m.\u001b[0m\u001b[0mdraw\u001b[0m\u001b[1;33m(\u001b[0m\u001b[0mself\u001b[0m\u001b[1;33m)\u001b[0m\u001b[1;33m\u001b[0m\u001b[1;33m\u001b[0m\u001b[0m\n\u001b[0m\u001b[0;32m    515\u001b[0m         \u001b[1;32mif\u001b[0m \u001b[0mpil_kwargs\u001b[0m \u001b[1;32mis\u001b[0m \u001b[1;32mnot\u001b[0m \u001b[1;32mNone\u001b[0m\u001b[1;33m:\u001b[0m\u001b[1;33m\u001b[0m\u001b[1;33m\u001b[0m\u001b[0m\n\u001b[0;32m    516\u001b[0m             \u001b[1;32mfrom\u001b[0m \u001b[0mPIL\u001b[0m \u001b[1;32mimport\u001b[0m \u001b[0mImage\u001b[0m\u001b[1;33m\u001b[0m\u001b[1;33m\u001b[0m\u001b[0m\n",
      "\u001b[1;32m~\\.conda\\envs\\PhD\\lib\\site-packages\\matplotlib\\backends\\backend_agg.py\u001b[0m in \u001b[0;36mdraw\u001b[1;34m(self)\u001b[0m\n\u001b[0;32m    386\u001b[0m         \u001b[0mDraw\u001b[0m \u001b[0mthe\u001b[0m \u001b[0mfigure\u001b[0m \u001b[0musing\u001b[0m \u001b[0mthe\u001b[0m \u001b[0mrenderer\u001b[0m\u001b[1;33m.\u001b[0m\u001b[1;33m\u001b[0m\u001b[1;33m\u001b[0m\u001b[0m\n\u001b[0;32m    387\u001b[0m         \"\"\"\n\u001b[1;32m--> 388\u001b[1;33m         \u001b[0mself\u001b[0m\u001b[1;33m.\u001b[0m\u001b[0mrenderer\u001b[0m \u001b[1;33m=\u001b[0m \u001b[0mself\u001b[0m\u001b[1;33m.\u001b[0m\u001b[0mget_renderer\u001b[0m\u001b[1;33m(\u001b[0m\u001b[0mcleared\u001b[0m\u001b[1;33m=\u001b[0m\u001b[1;32mTrue\u001b[0m\u001b[1;33m)\u001b[0m\u001b[1;33m\u001b[0m\u001b[1;33m\u001b[0m\u001b[0m\n\u001b[0m\u001b[0;32m    389\u001b[0m         \u001b[1;31m# Acquire a lock on the shared font cache.\u001b[0m\u001b[1;33m\u001b[0m\u001b[1;33m\u001b[0m\u001b[1;33m\u001b[0m\u001b[0m\n\u001b[0;32m    390\u001b[0m         \u001b[1;32mwith\u001b[0m \u001b[0mRendererAgg\u001b[0m\u001b[1;33m.\u001b[0m\u001b[0mlock\u001b[0m\u001b[1;33m,\u001b[0m\u001b[0;31m \u001b[0m\u001b[0;31m\\\u001b[0m\u001b[1;33m\u001b[0m\u001b[1;33m\u001b[0m\u001b[0m\n",
      "\u001b[1;32m~\\.conda\\envs\\PhD\\lib\\site-packages\\matplotlib\\backends\\backend_agg.py\u001b[0m in \u001b[0;36mget_renderer\u001b[1;34m(self, cleared)\u001b[0m\n\u001b[0;32m    402\u001b[0m                           and getattr(self, \"_lastKey\", None) == key)\n\u001b[0;32m    403\u001b[0m         \u001b[1;32mif\u001b[0m \u001b[1;32mnot\u001b[0m \u001b[0mreuse_renderer\u001b[0m\u001b[1;33m:\u001b[0m\u001b[1;33m\u001b[0m\u001b[1;33m\u001b[0m\u001b[0m\n\u001b[1;32m--> 404\u001b[1;33m             \u001b[0mself\u001b[0m\u001b[1;33m.\u001b[0m\u001b[0mrenderer\u001b[0m \u001b[1;33m=\u001b[0m \u001b[0mRendererAgg\u001b[0m\u001b[1;33m(\u001b[0m\u001b[0mw\u001b[0m\u001b[1;33m,\u001b[0m \u001b[0mh\u001b[0m\u001b[1;33m,\u001b[0m \u001b[0mself\u001b[0m\u001b[1;33m.\u001b[0m\u001b[0mfigure\u001b[0m\u001b[1;33m.\u001b[0m\u001b[0mdpi\u001b[0m\u001b[1;33m)\u001b[0m\u001b[1;33m\u001b[0m\u001b[1;33m\u001b[0m\u001b[0m\n\u001b[0m\u001b[0;32m    405\u001b[0m             \u001b[0mself\u001b[0m\u001b[1;33m.\u001b[0m\u001b[0m_lastKey\u001b[0m \u001b[1;33m=\u001b[0m \u001b[0mkey\u001b[0m\u001b[1;33m\u001b[0m\u001b[1;33m\u001b[0m\u001b[0m\n\u001b[0;32m    406\u001b[0m         \u001b[1;32melif\u001b[0m \u001b[0mcleared\u001b[0m\u001b[1;33m:\u001b[0m\u001b[1;33m\u001b[0m\u001b[1;33m\u001b[0m\u001b[0m\n",
      "\u001b[1;32m~\\.conda\\envs\\PhD\\lib\\site-packages\\matplotlib\\backends\\backend_agg.py\u001b[0m in \u001b[0;36m__init__\u001b[1;34m(self, width, height, dpi)\u001b[0m\n\u001b[0;32m     90\u001b[0m         \u001b[0mself\u001b[0m\u001b[1;33m.\u001b[0m\u001b[0mwidth\u001b[0m \u001b[1;33m=\u001b[0m \u001b[0mwidth\u001b[0m\u001b[1;33m\u001b[0m\u001b[1;33m\u001b[0m\u001b[0m\n\u001b[0;32m     91\u001b[0m         \u001b[0mself\u001b[0m\u001b[1;33m.\u001b[0m\u001b[0mheight\u001b[0m \u001b[1;33m=\u001b[0m \u001b[0mheight\u001b[0m\u001b[1;33m\u001b[0m\u001b[1;33m\u001b[0m\u001b[0m\n\u001b[1;32m---> 92\u001b[1;33m         \u001b[0mself\u001b[0m\u001b[1;33m.\u001b[0m\u001b[0m_renderer\u001b[0m \u001b[1;33m=\u001b[0m \u001b[0m_RendererAgg\u001b[0m\u001b[1;33m(\u001b[0m\u001b[0mint\u001b[0m\u001b[1;33m(\u001b[0m\u001b[0mwidth\u001b[0m\u001b[1;33m)\u001b[0m\u001b[1;33m,\u001b[0m \u001b[0mint\u001b[0m\u001b[1;33m(\u001b[0m\u001b[0mheight\u001b[0m\u001b[1;33m)\u001b[0m\u001b[1;33m,\u001b[0m \u001b[0mdpi\u001b[0m\u001b[1;33m)\u001b[0m\u001b[1;33m\u001b[0m\u001b[1;33m\u001b[0m\u001b[0m\n\u001b[0m\u001b[0;32m     93\u001b[0m         \u001b[0mself\u001b[0m\u001b[1;33m.\u001b[0m\u001b[0m_filter_renderers\u001b[0m \u001b[1;33m=\u001b[0m \u001b[1;33m[\u001b[0m\u001b[1;33m]\u001b[0m\u001b[1;33m\u001b[0m\u001b[1;33m\u001b[0m\u001b[0m\n\u001b[0;32m     94\u001b[0m \u001b[1;33m\u001b[0m\u001b[0m\n",
      "\u001b[1;31mValueError\u001b[0m: Image size of 350466x77563 pixels is too large. It must be less than 2^16 in each direction."
     ]
    },
    {
     "data": {
      "text/plain": [
       "<Figure size 720x576 with 1 Axes>"
      ]
     },
     "metadata": {},
     "output_type": "display_data"
    }
   ],
   "source": [
    "#create a new figure and set the x and y limits\n",
    "#fig, ax = plt.subplots(figsize=(10,8))\n",
    "fig = plt.figure(figsize = (10,8))\n",
    "ax = fig.add_subplot(1,1,1)\n",
    "# set the axes limit according to dataframe values\n",
    "ax.set_ylim(-0.5,0.2)\n",
    "ax.set_xlim(-0.1,0.1)\n",
    "\n",
    "# list of all cluster labels\n",
    "clusters = df_pca_C['cluster'].unique()       \n",
    "\n",
    "for i in range(0,len(clusters)):\n",
    "    cluster = clusters[i]\n",
    "    df_pca_cluster = df_pca_C.loc[df_pca_C['cluster']==cluster,:]\n",
    "    \n",
    "    for l, row in df_pca_cluster.iterrows():\n",
    "        #add the data point as text\n",
    "        ax.annotate(s=row['E_Index'], \n",
    "                     xy=(row['principal component 1'],row['principal component 2']),\n",
    "                     horizontalalignment='center',\n",
    "                     verticalalignment='center',\n",
    "                     size=7,\n",
    "                     color=customPalette[i]) \n",
    "\n",
    "        #add label placed at the centroid\n",
    "        plt.annotate(cluster, \n",
    "                  df_pca_C.loc[df_pca_C['cluster']==cluster,['principal component 1','principal component 2']].mean(),\n",
    "                  horizontalalignment='center',\n",
    "                  verticalalignment='center',\n",
    "                  size=16, weight='bold',\n",
    "                  color=customPalette[i])\n",
    "\n",
    "ax.set_title('2 component PCA showing E_Index on each point')\n",
    "ax.set_xlabel('principal component 1')\n",
    "ax.set_ylabel('principal component 2')\n",
    " \n",
    "plt.savefig('2D-PCA-numbered-3_clusters-zoom.jpg',dpi=300)\n",
    "plt.show()"
   ]
  }
 ],
 "metadata": {
  "kernelspec": {
   "display_name": "Python [conda env:.conda-PhD]",
   "language": "python",
   "name": "conda-env-.conda-PhD-py"
  },
  "language_info": {
   "codemirror_mode": {
    "name": "ipython",
    "version": 3
   },
   "file_extension": ".py",
   "mimetype": "text/x-python",
   "name": "python",
   "nbconvert_exporter": "python",
   "pygments_lexer": "ipython3",
   "version": "3.7.4"
  },
  "toc": {
   "base_numbering": 1,
   "nav_menu": {},
   "number_sections": true,
   "sideBar": true,
   "skip_h1_title": false,
   "title_cell": "Table of Contents",
   "title_sidebar": "Contents",
   "toc_cell": false,
   "toc_position": {
    "height": "calc(100% - 180px)",
    "left": "10px",
    "top": "150px",
    "width": "240.35px"
   },
   "toc_section_display": true,
   "toc_window_display": true
  },
  "varInspector": {
   "cols": {
    "lenName": 16,
    "lenType": 16,
    "lenVar": 40
   },
   "kernels_config": {
    "python": {
     "delete_cmd_postfix": "",
     "delete_cmd_prefix": "del ",
     "library": "var_list.py",
     "varRefreshCmd": "print(var_dic_list())"
    },
    "r": {
     "delete_cmd_postfix": ") ",
     "delete_cmd_prefix": "rm(",
     "library": "var_list.r",
     "varRefreshCmd": "cat(var_dic_list()) "
    }
   },
   "position": {
    "height": "454.85px",
    "left": "795.567px",
    "right": "20px",
    "top": "120px",
    "width": "350px"
   },
   "types_to_exclude": [
    "module",
    "function",
    "builtin_function_or_method",
    "instance",
    "_Feature"
   ],
   "window_display": false
  }
 },
 "nbformat": 4,
 "nbformat_minor": 4
}
