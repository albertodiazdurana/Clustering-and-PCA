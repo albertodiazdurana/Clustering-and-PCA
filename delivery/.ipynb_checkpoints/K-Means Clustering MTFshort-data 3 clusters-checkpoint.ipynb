{
 "cells": [
  {
   "cell_type": "markdown",
   "metadata": {},
   "source": [
    "# Import packages and data"
   ]
  },
  {
   "cell_type": "code",
   "execution_count": 1,
   "metadata": {
    "ExecuteTime": {
     "end_time": "2020-12-29T12:43:36.960382Z",
     "start_time": "2020-12-29T12:43:36.955385Z"
    }
   },
   "outputs": [],
   "source": [
    "#from IPython.core.display import display, HTML\n",
    "#display(HTML(\"<style>.container { width:100% !important; }</style>\"))"
   ]
  },
  {
   "cell_type": "code",
   "execution_count": 2,
   "metadata": {
    "ExecuteTime": {
     "end_time": "2020-12-29T12:43:42.874436Z",
     "start_time": "2020-12-29T12:43:36.974381Z"
    }
   },
   "outputs": [],
   "source": [
    "from sklearn.preprocessing import StandardScaler\n",
    "\n",
    "import numpy as np \n",
    "import pandas as pd\n",
    "import matplotlib.pyplot as plt\n",
    "import seaborn as sns\n",
    "import os,sys, folium\n",
    "%matplotlib inline \n",
    "import qgrid\n",
    "import os,sys\n",
    "\n",
    "import warnings\n",
    "warnings.filterwarnings('ignore')\n",
    "\n",
    "MTF_Rwanda=pd.read_csv('HH_MTF_Rwanda.csv')\n",
    "codebook_rwanda=pd.read_stata('data/Main dataset.dta')\n",
    "# codebook_rwanda=pd.read_csv('codebook_rwanda.csv')"
   ]
  },
  {
   "cell_type": "code",
   "execution_count": 3,
   "metadata": {
    "ExecuteTime": {
     "end_time": "2020-12-29T12:43:42.905404Z",
     "start_time": "2020-12-29T12:43:42.878380Z"
    },
    "scrolled": true
   },
   "outputs": [
    {
     "data": {
      "text/plain": [
       "Index(['Unnamed: 0', 'E_capacity', 'E_availability_day',\n",
       "       'E_availability_evening', 'E_reliability', 'E_quality', 'E_legality',\n",
       "       'E_health', 'w_capacity_i', 'w_capacity_index', 'w_availability_day_i',\n",
       "       'w_availability_day_index', 'w_availability_evening_i',\n",
       "       'w_availability_evening_index', 'w_reliability_i',\n",
       "       'w_reliability_index', 'w_quality_i', 'w_quality_index', 'w_legality_i',\n",
       "       'w_legality_index', 'w_health_i', 'w_health_index', 'E_Index'],\n",
       "      dtype='object')"
      ]
     },
     "execution_count": 3,
     "metadata": {},
     "output_type": "execute_result"
    }
   ],
   "source": [
    "MTF_Rwanda.columns"
   ]
  },
  {
   "cell_type": "code",
   "execution_count": 4,
   "metadata": {
    "ExecuteTime": {
     "end_time": "2020-12-29T12:43:42.936378Z",
     "start_time": "2020-12-29T12:43:42.912385Z"
    }
   },
   "outputs": [],
   "source": [
    "HH_MTF_Rwanda = MTF_Rwanda.filter(['E_capacity','E_availability_day','E_availability_evening','E_reliability','E_quality','E_legality','E_health','E_Index'], axis=1)"
   ]
  },
  {
   "cell_type": "code",
   "execution_count": 5,
   "metadata": {
    "ExecuteTime": {
     "end_time": "2020-12-29T12:43:42.968378Z",
     "start_time": "2020-12-29T12:43:42.946395Z"
    }
   },
   "outputs": [
    {
     "data": {
      "text/plain": [
       "Index(['E_capacity', 'E_availability_day', 'E_availability_evening',\n",
       "       'E_reliability', 'E_quality', 'E_legality', 'E_health', 'E_Index'],\n",
       "      dtype='object')"
      ]
     },
     "execution_count": 5,
     "metadata": {},
     "output_type": "execute_result"
    }
   ],
   "source": [
    "HH_MTF_Rwanda.columns"
   ]
  },
  {
   "cell_type": "code",
   "execution_count": 6,
   "metadata": {
    "ExecuteTime": {
     "end_time": "2020-12-29T12:43:42.984380Z",
     "start_time": "2020-12-29T12:43:42.973382Z"
    }
   },
   "outputs": [
    {
     "data": {
      "text/plain": [
       "Index(['HHID', 'Cluster', 'strata', 'Province', 'District', 'Sector',\n",
       "       'Cellule', 'Village', 'B1', 'B2',\n",
       "       ...\n",
       "       'T28', 'T28B', 'T28C', 'DATE_START', 'TIME_START', 'DATE_END',\n",
       "       'TIME_END', 'cluster', 'sample_weight', 'Locality'],\n",
       "      dtype='object', length=730)"
      ]
     },
     "execution_count": 6,
     "metadata": {},
     "output_type": "execute_result"
    }
   ],
   "source": [
    "codebook_rwanda.columns"
   ]
  },
  {
   "cell_type": "code",
   "execution_count": 7,
   "metadata": {
    "ExecuteTime": {
     "end_time": "2020-12-29T12:43:43.078375Z",
     "start_time": "2020-12-29T12:43:42.991384Z"
    },
    "scrolled": false
   },
   "outputs": [
    {
     "data": {
      "application/vnd.jupyter.widget-view+json": {
       "model_id": "a7fcb7c0e9bd4ff8a903c0136511f5da",
       "version_major": 2,
       "version_minor": 0
      },
      "text/plain": [
       "QgridWidget(grid_options={'fullWidthRows': True, 'syncColumnCellResize': True, 'forceFitColumns': False, 'defa…"
      ]
     },
     "metadata": {},
     "output_type": "display_data"
    }
   ],
   "source": [
    "col_options = {\n",
    "    'width': 140,\n",
    "}\n",
    "col_defs = {\n",
    "    'index': {\n",
    "        'width': 40,\n",
    "    }\n",
    "}\n",
    "qgrid.show_grid(HH_MTF_Rwanda,column_options=col_options,\n",
    "                               column_definitions=col_defs,\n",
    "                               grid_options={'forceFitColumns': False})"
   ]
  },
  {
   "cell_type": "code",
   "execution_count": 8,
   "metadata": {
    "ExecuteTime": {
     "end_time": "2020-12-29T12:43:43.190382Z",
     "start_time": "2020-12-29T12:43:43.083382Z"
    },
    "scrolled": true
   },
   "outputs": [
    {
     "data": {
      "text/html": [
       "<div>\n",
       "<style scoped>\n",
       "    .dataframe tbody tr th:only-of-type {\n",
       "        vertical-align: middle;\n",
       "    }\n",
       "\n",
       "    .dataframe tbody tr th {\n",
       "        vertical-align: top;\n",
       "    }\n",
       "\n",
       "    .dataframe thead th {\n",
       "        text-align: right;\n",
       "    }\n",
       "</style>\n",
       "<table border=\"1\" class=\"dataframe\">\n",
       "  <thead>\n",
       "    <tr style=\"text-align: right;\">\n",
       "      <th></th>\n",
       "      <th>HHID</th>\n",
       "      <th>Cluster</th>\n",
       "      <th>strata</th>\n",
       "      <th>Province</th>\n",
       "      <th>District</th>\n",
       "      <th>Sector</th>\n",
       "      <th>Cellule</th>\n",
       "      <th>Village</th>\n",
       "      <th>B1</th>\n",
       "      <th>B2</th>\n",
       "      <th>...</th>\n",
       "      <th>T28</th>\n",
       "      <th>T28B</th>\n",
       "      <th>T28C</th>\n",
       "      <th>DATE_START</th>\n",
       "      <th>TIME_START</th>\n",
       "      <th>DATE_END</th>\n",
       "      <th>TIME_END</th>\n",
       "      <th>cluster</th>\n",
       "      <th>sample_weight</th>\n",
       "      <th>Locality</th>\n",
       "    </tr>\n",
       "  </thead>\n",
       "  <tbody>\n",
       "    <tr>\n",
       "      <th>0</th>\n",
       "      <td>1.102021e+12</td>\n",
       "      <td>1</td>\n",
       "      <td>11</td>\n",
       "      <td>City of Kigali</td>\n",
       "      <td>Nyarugenge</td>\n",
       "      <td>Kanyinya</td>\n",
       "      <td>Nzove</td>\n",
       "      <td>Ruyenzi</td>\n",
       "      <td>2.0</td>\n",
       "      <td>Yes</td>\n",
       "      <td>...</td>\n",
       "      <td>NaN</td>\n",
       "      <td>NaN</td>\n",
       "      <td>NaN</td>\n",
       "      <td>18/11/2016</td>\n",
       "      <td>12:05</td>\n",
       "      <td>18/11/2016</td>\n",
       "      <td>12:49</td>\n",
       "      <td>11</td>\n",
       "      <td>476.617645</td>\n",
       "      <td>Rural</td>\n",
       "    </tr>\n",
       "    <tr>\n",
       "      <th>1</th>\n",
       "      <td>1.102021e+12</td>\n",
       "      <td>1</td>\n",
       "      <td>12</td>\n",
       "      <td>City of Kigali</td>\n",
       "      <td>Nyarugenge</td>\n",
       "      <td>Kanyinya</td>\n",
       "      <td>Nzove</td>\n",
       "      <td>Ruyenzi</td>\n",
       "      <td>1.0</td>\n",
       "      <td>Yes</td>\n",
       "      <td>...</td>\n",
       "      <td>NaN</td>\n",
       "      <td>NaN</td>\n",
       "      <td>NaN</td>\n",
       "      <td>18/11/2016</td>\n",
       "      <td>10:23</td>\n",
       "      <td>18/11/2016</td>\n",
       "      <td>11:26</td>\n",
       "      <td>12</td>\n",
       "      <td>370.042023</td>\n",
       "      <td>Rural</td>\n",
       "    </tr>\n",
       "    <tr>\n",
       "      <th>2</th>\n",
       "      <td>1.102021e+12</td>\n",
       "      <td>1</td>\n",
       "      <td>12</td>\n",
       "      <td>City of Kigali</td>\n",
       "      <td>Nyarugenge</td>\n",
       "      <td>Kanyinya</td>\n",
       "      <td>Nzove</td>\n",
       "      <td>Ruyenzi</td>\n",
       "      <td>1.0</td>\n",
       "      <td>Yes</td>\n",
       "      <td>...</td>\n",
       "      <td>NaN</td>\n",
       "      <td>NaN</td>\n",
       "      <td>NaN</td>\n",
       "      <td>18/11/2016</td>\n",
       "      <td>11:32</td>\n",
       "      <td>18/11/2016</td>\n",
       "      <td>12:24</td>\n",
       "      <td>12</td>\n",
       "      <td>370.042023</td>\n",
       "      <td>Rural</td>\n",
       "    </tr>\n",
       "    <tr>\n",
       "      <th>3</th>\n",
       "      <td>1.102021e+12</td>\n",
       "      <td>1</td>\n",
       "      <td>12</td>\n",
       "      <td>City of Kigali</td>\n",
       "      <td>Nyarugenge</td>\n",
       "      <td>Kanyinya</td>\n",
       "      <td>Nzove</td>\n",
       "      <td>Ruyenzi</td>\n",
       "      <td>1.0</td>\n",
       "      <td>Yes</td>\n",
       "      <td>...</td>\n",
       "      <td>NaN</td>\n",
       "      <td>NaN</td>\n",
       "      <td>NaN</td>\n",
       "      <td>18/11/2016</td>\n",
       "      <td>10:30</td>\n",
       "      <td>18/11/2016</td>\n",
       "      <td>11:17</td>\n",
       "      <td>12</td>\n",
       "      <td>370.042023</td>\n",
       "      <td>Rural</td>\n",
       "    </tr>\n",
       "    <tr>\n",
       "      <th>4</th>\n",
       "      <td>1.102021e+12</td>\n",
       "      <td>1</td>\n",
       "      <td>12</td>\n",
       "      <td>City of Kigali</td>\n",
       "      <td>Nyarugenge</td>\n",
       "      <td>Kanyinya</td>\n",
       "      <td>Nzove</td>\n",
       "      <td>Ruyenzi</td>\n",
       "      <td>1.0</td>\n",
       "      <td>Yes</td>\n",
       "      <td>...</td>\n",
       "      <td>No</td>\n",
       "      <td>NaN</td>\n",
       "      <td>NaN</td>\n",
       "      <td>18/11/2016</td>\n",
       "      <td>10:14</td>\n",
       "      <td>18/11/2016</td>\n",
       "      <td>11:28</td>\n",
       "      <td>12</td>\n",
       "      <td>370.042023</td>\n",
       "      <td>Rural</td>\n",
       "    </tr>\n",
       "    <tr>\n",
       "      <th>...</th>\n",
       "      <td>...</td>\n",
       "      <td>...</td>\n",
       "      <td>...</td>\n",
       "      <td>...</td>\n",
       "      <td>...</td>\n",
       "      <td>...</td>\n",
       "      <td>...</td>\n",
       "      <td>...</td>\n",
       "      <td>...</td>\n",
       "      <td>...</td>\n",
       "      <td>...</td>\n",
       "      <td>...</td>\n",
       "      <td>...</td>\n",
       "      <td>...</td>\n",
       "      <td>...</td>\n",
       "      <td>...</td>\n",
       "      <td>...</td>\n",
       "      <td>...</td>\n",
       "      <td>...</td>\n",
       "      <td>...</td>\n",
       "      <td>...</td>\n",
       "    </tr>\n",
       "    <tr>\n",
       "      <th>3290</th>\n",
       "      <td>5.714040e+12</td>\n",
       "      <td>275</td>\n",
       "      <td>2752</td>\n",
       "      <td>Eastern</td>\n",
       "      <td>Bugesera</td>\n",
       "      <td>Rweru</td>\n",
       "      <td>Nemba</td>\n",
       "      <td>Kigina</td>\n",
       "      <td>1.0</td>\n",
       "      <td>No</td>\n",
       "      <td>...</td>\n",
       "      <td>NaN</td>\n",
       "      <td>NaN</td>\n",
       "      <td>NaN</td>\n",
       "      <td>14/11/2016</td>\n",
       "      <td>16:49</td>\n",
       "      <td>14/11/2016</td>\n",
       "      <td>13:13</td>\n",
       "      <td>2752</td>\n",
       "      <td>9788.472656</td>\n",
       "      <td>Rural</td>\n",
       "    </tr>\n",
       "    <tr>\n",
       "      <th>3291</th>\n",
       "      <td>5.714040e+12</td>\n",
       "      <td>275</td>\n",
       "      <td>2751</td>\n",
       "      <td>Eastern</td>\n",
       "      <td>Bugesera</td>\n",
       "      <td>Rweru</td>\n",
       "      <td>Nemba</td>\n",
       "      <td>Kigina</td>\n",
       "      <td>1.0</td>\n",
       "      <td>Yes</td>\n",
       "      <td>...</td>\n",
       "      <td>NaN</td>\n",
       "      <td>NaN</td>\n",
       "      <td>NaN</td>\n",
       "      <td>14/11/2016</td>\n",
       "      <td>13:59</td>\n",
       "      <td>14/11/2016</td>\n",
       "      <td>15:50</td>\n",
       "      <td>2751</td>\n",
       "      <td>729.744080</td>\n",
       "      <td>Rural</td>\n",
       "    </tr>\n",
       "    <tr>\n",
       "      <th>3292</th>\n",
       "      <td>5.714040e+12</td>\n",
       "      <td>275</td>\n",
       "      <td>2751</td>\n",
       "      <td>Eastern</td>\n",
       "      <td>Bugesera</td>\n",
       "      <td>Rweru</td>\n",
       "      <td>Nemba</td>\n",
       "      <td>Kigina</td>\n",
       "      <td>1.0</td>\n",
       "      <td>Yes</td>\n",
       "      <td>...</td>\n",
       "      <td>NaN</td>\n",
       "      <td>NaN</td>\n",
       "      <td>NaN</td>\n",
       "      <td>14/11/2016</td>\n",
       "      <td>16:10</td>\n",
       "      <td>14/11/2016</td>\n",
       "      <td>17:44</td>\n",
       "      <td>2751</td>\n",
       "      <td>729.744080</td>\n",
       "      <td>Rural</td>\n",
       "    </tr>\n",
       "    <tr>\n",
       "      <th>3293</th>\n",
       "      <td>5.714040e+12</td>\n",
       "      <td>275</td>\n",
       "      <td>2751</td>\n",
       "      <td>Eastern</td>\n",
       "      <td>Bugesera</td>\n",
       "      <td>Rweru</td>\n",
       "      <td>Nemba</td>\n",
       "      <td>Kigina</td>\n",
       "      <td>1.0</td>\n",
       "      <td>Yes</td>\n",
       "      <td>...</td>\n",
       "      <td>NaN</td>\n",
       "      <td>NaN</td>\n",
       "      <td>NaN</td>\n",
       "      <td>14/11/2016</td>\n",
       "      <td>13:26</td>\n",
       "      <td>14/11/2016</td>\n",
       "      <td>15:39</td>\n",
       "      <td>2751</td>\n",
       "      <td>729.744080</td>\n",
       "      <td>Rural</td>\n",
       "    </tr>\n",
       "    <tr>\n",
       "      <th>3294</th>\n",
       "      <td>5.714040e+12</td>\n",
       "      <td>275</td>\n",
       "      <td>2752</td>\n",
       "      <td>Eastern</td>\n",
       "      <td>Bugesera</td>\n",
       "      <td>Rweru</td>\n",
       "      <td>Nemba</td>\n",
       "      <td>Kigina</td>\n",
       "      <td>2.0</td>\n",
       "      <td>Yes</td>\n",
       "      <td>...</td>\n",
       "      <td>NaN</td>\n",
       "      <td>NaN</td>\n",
       "      <td>NaN</td>\n",
       "      <td>14/11/2016</td>\n",
       "      <td>16:31</td>\n",
       "      <td>14/11/2016</td>\n",
       "      <td>17:34</td>\n",
       "      <td>2752</td>\n",
       "      <td>9788.472656</td>\n",
       "      <td>Rural</td>\n",
       "    </tr>\n",
       "  </tbody>\n",
       "</table>\n",
       "<p>3295 rows × 730 columns</p>\n",
       "</div>"
      ],
      "text/plain": [
       "              HHID  Cluster  strata        Province    District    Sector  \\\n",
       "0     1.102021e+12        1      11  City of Kigali  Nyarugenge  Kanyinya   \n",
       "1     1.102021e+12        1      12  City of Kigali  Nyarugenge  Kanyinya   \n",
       "2     1.102021e+12        1      12  City of Kigali  Nyarugenge  Kanyinya   \n",
       "3     1.102021e+12        1      12  City of Kigali  Nyarugenge  Kanyinya   \n",
       "4     1.102021e+12        1      12  City of Kigali  Nyarugenge  Kanyinya   \n",
       "...            ...      ...     ...             ...         ...       ...   \n",
       "3290  5.714040e+12      275    2752         Eastern    Bugesera     Rweru   \n",
       "3291  5.714040e+12      275    2751         Eastern    Bugesera     Rweru   \n",
       "3292  5.714040e+12      275    2751         Eastern    Bugesera     Rweru   \n",
       "3293  5.714040e+12      275    2751         Eastern    Bugesera     Rweru   \n",
       "3294  5.714040e+12      275    2752         Eastern    Bugesera     Rweru   \n",
       "\n",
       "     Cellule  Village   B1   B2  ...  T28  T28B T28C  DATE_START TIME_START  \\\n",
       "0      Nzove  Ruyenzi  2.0  Yes  ...  NaN   NaN  NaN  18/11/2016      12:05   \n",
       "1      Nzove  Ruyenzi  1.0  Yes  ...  NaN   NaN  NaN  18/11/2016      10:23   \n",
       "2      Nzove  Ruyenzi  1.0  Yes  ...  NaN   NaN  NaN  18/11/2016      11:32   \n",
       "3      Nzove  Ruyenzi  1.0  Yes  ...  NaN   NaN  NaN  18/11/2016      10:30   \n",
       "4      Nzove  Ruyenzi  1.0  Yes  ...   No   NaN  NaN  18/11/2016      10:14   \n",
       "...      ...      ...  ...  ...  ...  ...   ...  ...         ...        ...   \n",
       "3290   Nemba   Kigina  1.0   No  ...  NaN   NaN  NaN  14/11/2016      16:49   \n",
       "3291   Nemba   Kigina  1.0  Yes  ...  NaN   NaN  NaN  14/11/2016      13:59   \n",
       "3292   Nemba   Kigina  1.0  Yes  ...  NaN   NaN  NaN  14/11/2016      16:10   \n",
       "3293   Nemba   Kigina  1.0  Yes  ...  NaN   NaN  NaN  14/11/2016      13:26   \n",
       "3294   Nemba   Kigina  2.0  Yes  ...  NaN   NaN  NaN  14/11/2016      16:31   \n",
       "\n",
       "        DATE_END TIME_END  cluster  sample_weight  Locality  \n",
       "0     18/11/2016    12:49       11     476.617645     Rural  \n",
       "1     18/11/2016    11:26       12     370.042023     Rural  \n",
       "2     18/11/2016    12:24       12     370.042023     Rural  \n",
       "3     18/11/2016    11:17       12     370.042023     Rural  \n",
       "4     18/11/2016    11:28       12     370.042023     Rural  \n",
       "...          ...      ...      ...            ...       ...  \n",
       "3290  14/11/2016    13:13     2752    9788.472656     Rural  \n",
       "3291  14/11/2016    15:50     2751     729.744080     Rural  \n",
       "3292  14/11/2016    17:44     2751     729.744080     Rural  \n",
       "3293  14/11/2016    15:39     2751     729.744080     Rural  \n",
       "3294  14/11/2016    17:34     2752    9788.472656     Rural  \n",
       "\n",
       "[3295 rows x 730 columns]"
      ]
     },
     "execution_count": 8,
     "metadata": {},
     "output_type": "execute_result"
    }
   ],
   "source": [
    "codebook_rwanda"
   ]
  },
  {
   "cell_type": "code",
   "execution_count": 9,
   "metadata": {
    "ExecuteTime": {
     "end_time": "2020-12-29T12:43:43.206381Z",
     "start_time": "2020-12-29T12:43:43.199383Z"
    }
   },
   "outputs": [],
   "source": [
    "# the column 'Respondent id' of codebook_rwanda is probably the id number of the interviewer and has no numerical significance related to the household"
   ]
  },
  {
   "cell_type": "markdown",
   "metadata": {},
   "source": [
    "## Removing the columns missing names"
   ]
  },
  {
   "cell_type": "code",
   "execution_count": 10,
   "metadata": {
    "ExecuteTime": {
     "end_time": "2020-12-29T12:43:43.238380Z",
     "start_time": "2020-12-29T12:43:43.216383Z"
    }
   },
   "outputs": [
    {
     "data": {
      "text/plain": [
       "Index(['HHID', 'Cluster', 'strata', 'Province', 'District', 'Sector',\n",
       "       'Cellule', 'Village', 'B1', 'B2',\n",
       "       ...\n",
       "       'T28', 'T28B', 'T28C', 'DATE_START', 'TIME_START', 'DATE_END',\n",
       "       'TIME_END', 'cluster', 'sample_weight', 'Locality'],\n",
       "      dtype='object', length=730)"
      ]
     },
     "execution_count": 10,
     "metadata": {},
     "output_type": "execute_result"
    }
   ],
   "source": [
    "#codebook_rwanda.columns.get_loc(\"C2\")\n",
    "codebook_rwanda.columns"
   ]
  },
  {
   "cell_type": "code",
   "execution_count": 11,
   "metadata": {
    "ExecuteTime": {
     "end_time": "2020-12-29T12:43:43.398379Z",
     "start_time": "2020-12-29T12:43:43.243386Z"
    }
   },
   "outputs": [
    {
     "data": {
      "text/html": [
       "<div>\n",
       "<style scoped>\n",
       "    .dataframe tbody tr th:only-of-type {\n",
       "        vertical-align: middle;\n",
       "    }\n",
       "\n",
       "    .dataframe tbody tr th {\n",
       "        vertical-align: top;\n",
       "    }\n",
       "\n",
       "    .dataframe thead th {\n",
       "        text-align: right;\n",
       "    }\n",
       "</style>\n",
       "<table border=\"1\" class=\"dataframe\">\n",
       "  <thead>\n",
       "    <tr style=\"text-align: right;\">\n",
       "      <th></th>\n",
       "      <th>HHID</th>\n",
       "      <th>Cluster</th>\n",
       "      <th>strata</th>\n",
       "      <th>Province</th>\n",
       "      <th>District</th>\n",
       "      <th>Sector</th>\n",
       "      <th>Cellule</th>\n",
       "      <th>Village</th>\n",
       "      <th>B2</th>\n",
       "      <th>B3</th>\n",
       "      <th>...</th>\n",
       "      <th>T28</th>\n",
       "      <th>T28B</th>\n",
       "      <th>T28C</th>\n",
       "      <th>DATE_START</th>\n",
       "      <th>TIME_START</th>\n",
       "      <th>DATE_END</th>\n",
       "      <th>TIME_END</th>\n",
       "      <th>cluster</th>\n",
       "      <th>sample_weight</th>\n",
       "      <th>Locality</th>\n",
       "    </tr>\n",
       "  </thead>\n",
       "  <tbody>\n",
       "    <tr>\n",
       "      <th>0</th>\n",
       "      <td>1.102021e+12</td>\n",
       "      <td>1</td>\n",
       "      <td>11</td>\n",
       "      <td>City of Kigali</td>\n",
       "      <td>Nyarugenge</td>\n",
       "      <td>Kanyinya</td>\n",
       "      <td>Nzove</td>\n",
       "      <td>Ruyenzi</td>\n",
       "      <td>Yes</td>\n",
       "      <td>NaN</td>\n",
       "      <td>...</td>\n",
       "      <td>NaN</td>\n",
       "      <td>NaN</td>\n",
       "      <td>NaN</td>\n",
       "      <td>18/11/2016</td>\n",
       "      <td>12:05</td>\n",
       "      <td>18/11/2016</td>\n",
       "      <td>12:49</td>\n",
       "      <td>11</td>\n",
       "      <td>476.617645</td>\n",
       "      <td>Rural</td>\n",
       "    </tr>\n",
       "    <tr>\n",
       "      <th>1</th>\n",
       "      <td>1.102021e+12</td>\n",
       "      <td>1</td>\n",
       "      <td>12</td>\n",
       "      <td>City of Kigali</td>\n",
       "      <td>Nyarugenge</td>\n",
       "      <td>Kanyinya</td>\n",
       "      <td>Nzove</td>\n",
       "      <td>Ruyenzi</td>\n",
       "      <td>Yes</td>\n",
       "      <td>NaN</td>\n",
       "      <td>...</td>\n",
       "      <td>NaN</td>\n",
       "      <td>NaN</td>\n",
       "      <td>NaN</td>\n",
       "      <td>18/11/2016</td>\n",
       "      <td>10:23</td>\n",
       "      <td>18/11/2016</td>\n",
       "      <td>11:26</td>\n",
       "      <td>12</td>\n",
       "      <td>370.042023</td>\n",
       "      <td>Rural</td>\n",
       "    </tr>\n",
       "    <tr>\n",
       "      <th>2</th>\n",
       "      <td>1.102021e+12</td>\n",
       "      <td>1</td>\n",
       "      <td>12</td>\n",
       "      <td>City of Kigali</td>\n",
       "      <td>Nyarugenge</td>\n",
       "      <td>Kanyinya</td>\n",
       "      <td>Nzove</td>\n",
       "      <td>Ruyenzi</td>\n",
       "      <td>Yes</td>\n",
       "      <td>NaN</td>\n",
       "      <td>...</td>\n",
       "      <td>NaN</td>\n",
       "      <td>NaN</td>\n",
       "      <td>NaN</td>\n",
       "      <td>18/11/2016</td>\n",
       "      <td>11:32</td>\n",
       "      <td>18/11/2016</td>\n",
       "      <td>12:24</td>\n",
       "      <td>12</td>\n",
       "      <td>370.042023</td>\n",
       "      <td>Rural</td>\n",
       "    </tr>\n",
       "    <tr>\n",
       "      <th>3</th>\n",
       "      <td>1.102021e+12</td>\n",
       "      <td>1</td>\n",
       "      <td>12</td>\n",
       "      <td>City of Kigali</td>\n",
       "      <td>Nyarugenge</td>\n",
       "      <td>Kanyinya</td>\n",
       "      <td>Nzove</td>\n",
       "      <td>Ruyenzi</td>\n",
       "      <td>Yes</td>\n",
       "      <td>NaN</td>\n",
       "      <td>...</td>\n",
       "      <td>NaN</td>\n",
       "      <td>NaN</td>\n",
       "      <td>NaN</td>\n",
       "      <td>18/11/2016</td>\n",
       "      <td>10:30</td>\n",
       "      <td>18/11/2016</td>\n",
       "      <td>11:17</td>\n",
       "      <td>12</td>\n",
       "      <td>370.042023</td>\n",
       "      <td>Rural</td>\n",
       "    </tr>\n",
       "    <tr>\n",
       "      <th>4</th>\n",
       "      <td>1.102021e+12</td>\n",
       "      <td>1</td>\n",
       "      <td>12</td>\n",
       "      <td>City of Kigali</td>\n",
       "      <td>Nyarugenge</td>\n",
       "      <td>Kanyinya</td>\n",
       "      <td>Nzove</td>\n",
       "      <td>Ruyenzi</td>\n",
       "      <td>Yes</td>\n",
       "      <td>NaN</td>\n",
       "      <td>...</td>\n",
       "      <td>No</td>\n",
       "      <td>NaN</td>\n",
       "      <td>NaN</td>\n",
       "      <td>18/11/2016</td>\n",
       "      <td>10:14</td>\n",
       "      <td>18/11/2016</td>\n",
       "      <td>11:28</td>\n",
       "      <td>12</td>\n",
       "      <td>370.042023</td>\n",
       "      <td>Rural</td>\n",
       "    </tr>\n",
       "  </tbody>\n",
       "</table>\n",
       "<p>5 rows × 722 columns</p>\n",
       "</div>"
      ],
      "text/plain": [
       "           HHID  Cluster  strata        Province    District    Sector  \\\n",
       "0  1.102021e+12        1      11  City of Kigali  Nyarugenge  Kanyinya   \n",
       "1  1.102021e+12        1      12  City of Kigali  Nyarugenge  Kanyinya   \n",
       "2  1.102021e+12        1      12  City of Kigali  Nyarugenge  Kanyinya   \n",
       "3  1.102021e+12        1      12  City of Kigali  Nyarugenge  Kanyinya   \n",
       "4  1.102021e+12        1      12  City of Kigali  Nyarugenge  Kanyinya   \n",
       "\n",
       "  Cellule  Village   B2   B3  ...  T28 T28B  T28C  DATE_START TIME_START  \\\n",
       "0   Nzove  Ruyenzi  Yes  NaN  ...  NaN  NaN   NaN  18/11/2016      12:05   \n",
       "1   Nzove  Ruyenzi  Yes  NaN  ...  NaN  NaN   NaN  18/11/2016      10:23   \n",
       "2   Nzove  Ruyenzi  Yes  NaN  ...  NaN  NaN   NaN  18/11/2016      11:32   \n",
       "3   Nzove  Ruyenzi  Yes  NaN  ...  NaN  NaN   NaN  18/11/2016      10:30   \n",
       "4   Nzove  Ruyenzi  Yes  NaN  ...   No  NaN   NaN  18/11/2016      10:14   \n",
       "\n",
       "     DATE_END  TIME_END  cluster  sample_weight  Locality  \n",
       "0  18/11/2016     12:49       11     476.617645     Rural  \n",
       "1  18/11/2016     11:26       12     370.042023     Rural  \n",
       "2  18/11/2016     12:24       12     370.042023     Rural  \n",
       "3  18/11/2016     11:17       12     370.042023     Rural  \n",
       "4  18/11/2016     11:28       12     370.042023     Rural  \n",
       "\n",
       "[5 rows x 722 columns]"
      ]
     },
     "execution_count": 11,
     "metadata": {},
     "output_type": "execute_result"
    }
   ],
   "source": [
    "#df.drop(df.ix[:,'Unnamed: 24':'Unnamed: 60'].head(0).columns, axis=1)\n",
    "codebook_rwanda = codebook_rwanda.drop(['B1','C1','D2','E1','G1','H1','I1','K1'], axis=1)\n",
    "codebook_rwanda.head()"
   ]
  },
  {
   "cell_type": "markdown",
   "metadata": {},
   "source": [
    "## Replacing blank values (white space) with NaN"
   ]
  },
  {
   "cell_type": "code",
   "execution_count": 12,
   "metadata": {
    "ExecuteTime": {
     "end_time": "2020-12-29T12:43:43.764407Z",
     "start_time": "2020-12-29T12:43:43.403385Z"
    }
   },
   "outputs": [
    {
     "data": {
      "text/html": [
       "<div>\n",
       "<style scoped>\n",
       "    .dataframe tbody tr th:only-of-type {\n",
       "        vertical-align: middle;\n",
       "    }\n",
       "\n",
       "    .dataframe tbody tr th {\n",
       "        vertical-align: top;\n",
       "    }\n",
       "\n",
       "    .dataframe thead th {\n",
       "        text-align: right;\n",
       "    }\n",
       "</style>\n",
       "<table border=\"1\" class=\"dataframe\">\n",
       "  <thead>\n",
       "    <tr style=\"text-align: right;\">\n",
       "      <th></th>\n",
       "      <th>HHID</th>\n",
       "      <th>Cluster</th>\n",
       "      <th>strata</th>\n",
       "      <th>Province</th>\n",
       "      <th>District</th>\n",
       "      <th>Sector</th>\n",
       "      <th>Cellule</th>\n",
       "      <th>Village</th>\n",
       "      <th>B2</th>\n",
       "      <th>B3</th>\n",
       "      <th>...</th>\n",
       "      <th>T28</th>\n",
       "      <th>T28B</th>\n",
       "      <th>T28C</th>\n",
       "      <th>DATE_START</th>\n",
       "      <th>TIME_START</th>\n",
       "      <th>DATE_END</th>\n",
       "      <th>TIME_END</th>\n",
       "      <th>cluster</th>\n",
       "      <th>sample_weight</th>\n",
       "      <th>Locality</th>\n",
       "    </tr>\n",
       "  </thead>\n",
       "  <tbody>\n",
       "    <tr>\n",
       "      <th>0</th>\n",
       "      <td>1.102021e+12</td>\n",
       "      <td>1</td>\n",
       "      <td>11</td>\n",
       "      <td>City of Kigali</td>\n",
       "      <td>Nyarugenge</td>\n",
       "      <td>Kanyinya</td>\n",
       "      <td>Nzove</td>\n",
       "      <td>Ruyenzi</td>\n",
       "      <td>Yes</td>\n",
       "      <td>NaN</td>\n",
       "      <td>...</td>\n",
       "      <td>NaN</td>\n",
       "      <td>NaN</td>\n",
       "      <td>NaN</td>\n",
       "      <td>18/11/2016</td>\n",
       "      <td>12:05</td>\n",
       "      <td>18/11/2016</td>\n",
       "      <td>12:49</td>\n",
       "      <td>11</td>\n",
       "      <td>476.617645</td>\n",
       "      <td>Rural</td>\n",
       "    </tr>\n",
       "    <tr>\n",
       "      <th>1</th>\n",
       "      <td>1.102021e+12</td>\n",
       "      <td>1</td>\n",
       "      <td>12</td>\n",
       "      <td>City of Kigali</td>\n",
       "      <td>Nyarugenge</td>\n",
       "      <td>Kanyinya</td>\n",
       "      <td>Nzove</td>\n",
       "      <td>Ruyenzi</td>\n",
       "      <td>Yes</td>\n",
       "      <td>NaN</td>\n",
       "      <td>...</td>\n",
       "      <td>NaN</td>\n",
       "      <td>NaN</td>\n",
       "      <td>NaN</td>\n",
       "      <td>18/11/2016</td>\n",
       "      <td>10:23</td>\n",
       "      <td>18/11/2016</td>\n",
       "      <td>11:26</td>\n",
       "      <td>12</td>\n",
       "      <td>370.042023</td>\n",
       "      <td>Rural</td>\n",
       "    </tr>\n",
       "    <tr>\n",
       "      <th>2</th>\n",
       "      <td>1.102021e+12</td>\n",
       "      <td>1</td>\n",
       "      <td>12</td>\n",
       "      <td>City of Kigali</td>\n",
       "      <td>Nyarugenge</td>\n",
       "      <td>Kanyinya</td>\n",
       "      <td>Nzove</td>\n",
       "      <td>Ruyenzi</td>\n",
       "      <td>Yes</td>\n",
       "      <td>NaN</td>\n",
       "      <td>...</td>\n",
       "      <td>NaN</td>\n",
       "      <td>NaN</td>\n",
       "      <td>NaN</td>\n",
       "      <td>18/11/2016</td>\n",
       "      <td>11:32</td>\n",
       "      <td>18/11/2016</td>\n",
       "      <td>12:24</td>\n",
       "      <td>12</td>\n",
       "      <td>370.042023</td>\n",
       "      <td>Rural</td>\n",
       "    </tr>\n",
       "    <tr>\n",
       "      <th>3</th>\n",
       "      <td>1.102021e+12</td>\n",
       "      <td>1</td>\n",
       "      <td>12</td>\n",
       "      <td>City of Kigali</td>\n",
       "      <td>Nyarugenge</td>\n",
       "      <td>Kanyinya</td>\n",
       "      <td>Nzove</td>\n",
       "      <td>Ruyenzi</td>\n",
       "      <td>Yes</td>\n",
       "      <td>NaN</td>\n",
       "      <td>...</td>\n",
       "      <td>NaN</td>\n",
       "      <td>NaN</td>\n",
       "      <td>NaN</td>\n",
       "      <td>18/11/2016</td>\n",
       "      <td>10:30</td>\n",
       "      <td>18/11/2016</td>\n",
       "      <td>11:17</td>\n",
       "      <td>12</td>\n",
       "      <td>370.042023</td>\n",
       "      <td>Rural</td>\n",
       "    </tr>\n",
       "    <tr>\n",
       "      <th>4</th>\n",
       "      <td>1.102021e+12</td>\n",
       "      <td>1</td>\n",
       "      <td>12</td>\n",
       "      <td>City of Kigali</td>\n",
       "      <td>Nyarugenge</td>\n",
       "      <td>Kanyinya</td>\n",
       "      <td>Nzove</td>\n",
       "      <td>Ruyenzi</td>\n",
       "      <td>Yes</td>\n",
       "      <td>NaN</td>\n",
       "      <td>...</td>\n",
       "      <td>No</td>\n",
       "      <td>NaN</td>\n",
       "      <td>NaN</td>\n",
       "      <td>18/11/2016</td>\n",
       "      <td>10:14</td>\n",
       "      <td>18/11/2016</td>\n",
       "      <td>11:28</td>\n",
       "      <td>12</td>\n",
       "      <td>370.042023</td>\n",
       "      <td>Rural</td>\n",
       "    </tr>\n",
       "  </tbody>\n",
       "</table>\n",
       "<p>5 rows × 722 columns</p>\n",
       "</div>"
      ],
      "text/plain": [
       "           HHID  Cluster  strata        Province    District    Sector  \\\n",
       "0  1.102021e+12        1      11  City of Kigali  Nyarugenge  Kanyinya   \n",
       "1  1.102021e+12        1      12  City of Kigali  Nyarugenge  Kanyinya   \n",
       "2  1.102021e+12        1      12  City of Kigali  Nyarugenge  Kanyinya   \n",
       "3  1.102021e+12        1      12  City of Kigali  Nyarugenge  Kanyinya   \n",
       "4  1.102021e+12        1      12  City of Kigali  Nyarugenge  Kanyinya   \n",
       "\n",
       "  Cellule  Village   B2   B3  ...  T28 T28B  T28C  DATE_START TIME_START  \\\n",
       "0   Nzove  Ruyenzi  Yes  NaN  ...  NaN  NaN   NaN  18/11/2016      12:05   \n",
       "1   Nzove  Ruyenzi  Yes  NaN  ...  NaN  NaN   NaN  18/11/2016      10:23   \n",
       "2   Nzove  Ruyenzi  Yes  NaN  ...  NaN  NaN   NaN  18/11/2016      11:32   \n",
       "3   Nzove  Ruyenzi  Yes  NaN  ...  NaN  NaN   NaN  18/11/2016      10:30   \n",
       "4   Nzove  Ruyenzi  Yes  NaN  ...   No  NaN   NaN  18/11/2016      10:14   \n",
       "\n",
       "     DATE_END  TIME_END  cluster  sample_weight  Locality  \n",
       "0  18/11/2016     12:49       11     476.617645     Rural  \n",
       "1  18/11/2016     11:26       12     370.042023     Rural  \n",
       "2  18/11/2016     12:24       12     370.042023     Rural  \n",
       "3  18/11/2016     11:17       12     370.042023     Rural  \n",
       "4  18/11/2016     11:28       12     370.042023     Rural  \n",
       "\n",
       "[5 rows x 722 columns]"
      ]
     },
     "execution_count": 12,
     "metadata": {},
     "output_type": "execute_result"
    }
   ],
   "source": [
    "# codebook_rwanda = codebook_rwanda.apply(lambda x: x.str.strip()).replace('', np.nan)\n",
    "# codebook_rwanda = codebook_rwanda.applymap(lambda x: np.nan if isinstance(x, basestring) and x.isspace() else x)\n",
    "codebook_rwanda = codebook_rwanda.replace(r'^\\s*$', np.nan, regex=True)\n",
    "codebook_rwanda.head()"
   ]
  },
  {
   "cell_type": "code",
   "execution_count": 13,
   "metadata": {
    "ExecuteTime": {
     "end_time": "2020-12-29T12:43:45.148376Z",
     "start_time": "2020-12-29T12:43:43.769382Z"
    }
   },
   "outputs": [
    {
     "data": {
      "text/plain": [
       "(array([], dtype=int64), array([], dtype=int64))"
      ]
     },
     "execution_count": 13,
     "metadata": {},
     "output_type": "execute_result"
    }
   ],
   "source": [
    "# to verify that no cells are empty\n",
    "np.where(codebook_rwanda.applymap(lambda x: x == ''))"
   ]
  },
  {
   "cell_type": "markdown",
   "metadata": {},
   "source": [
    "## Selecting the columns for the analysis"
   ]
  },
  {
   "cell_type": "code",
   "execution_count": 14,
   "metadata": {
    "ExecuteTime": {
     "end_time": "2020-12-29T12:43:45.195379Z",
     "start_time": "2020-12-29T12:43:45.153383Z"
    }
   },
   "outputs": [],
   "source": [
    "df_MTF=['C22', 'C64','C88','C117','C119A','C26A','C26B','C68A','C68B','C107A','C107B','C127','C137A','C137B','C172A','C172B','C27A','C27B','C69A','C69B','C108A','C108B','C138A','C138B','C173A','C173B','C29A','C29B','C71A','C71B','C39','C81','C110','C140','C17','C57','C41','C83','C112','C130','C142','C175']\n",
    "codebook_rwanda_sh = codebook_rwanda.filter(df_MTF, axis=1)"
   ]
  },
  {
   "cell_type": "markdown",
   "metadata": {},
   "source": [
    "## Replacing with \"Missing_data\""
   ]
  },
  {
   "cell_type": "code",
   "execution_count": 15,
   "metadata": {
    "ExecuteTime": {
     "end_time": "2020-12-29T12:43:45.241376Z",
     "start_time": "2020-12-29T12:43:45.200380Z"
    }
   },
   "outputs": [],
   "source": [
    "codebook_rwanda_sh = codebook_rwanda_sh.replace(np.nan, 0)\n",
    "codebook_rwanda_sh = codebook_rwanda_sh.replace(\"Don?t know\", 0)\n",
    "codebook_rwanda_sh = codebook_rwanda_sh.replace(\"Don't know\", 0)\n",
    "# codebook_rwanda_sh = codebook_rwanda_sh.replace(' ', 'Missing_data')"
   ]
  },
  {
   "cell_type": "code",
   "execution_count": 16,
   "metadata": {
    "ExecuteTime": {
     "end_time": "2020-12-29T12:43:45.574381Z",
     "start_time": "2020-12-29T12:43:45.246386Z"
    },
    "scrolled": true
   },
   "outputs": [
    {
     "data": {
      "application/vnd.jupyter.widget-view+json": {
       "model_id": "c06c507ee66548cf9360175fb5f6817a",
       "version_major": 2,
       "version_minor": 0
      },
      "text/plain": [
       "QgridWidget(grid_options={'fullWidthRows': True, 'syncColumnCellResize': True, 'forceFitColumns': False, 'defa…"
      ]
     },
     "metadata": {},
     "output_type": "display_data"
    }
   ],
   "source": [
    "col_options = {\n",
    "    'width': 140,\n",
    "}\n",
    "col_defs = {\n",
    "    'index': {\n",
    "        'width': 40,\n",
    "    }\n",
    "}\n",
    "qgrid.show_grid(codebook_rwanda_sh,column_options=col_options,\n",
    "                               column_definitions=col_defs,\n",
    "                               grid_options={'forceFitColumns': False})"
   ]
  },
  {
   "cell_type": "code",
   "execution_count": 17,
   "metadata": {
    "ExecuteTime": {
     "end_time": "2020-12-29T12:43:45.605382Z",
     "start_time": "2020-12-29T12:43:45.579383Z"
    }
   },
   "outputs": [
    {
     "data": {
      "text/plain": [
       "dtype('float64')"
      ]
     },
     "execution_count": 17,
     "metadata": {},
     "output_type": "execute_result"
    }
   ],
   "source": [
    "codebook_rwanda_sh['C22'].dtypes"
   ]
  },
  {
   "cell_type": "code",
   "execution_count": 18,
   "metadata": {
    "ExecuteTime": {
     "end_time": "2020-12-29T12:43:45.637379Z",
     "start_time": "2020-12-29T12:43:45.611383Z"
    }
   },
   "outputs": [
    {
     "data": {
      "text/plain": [
       "CategoricalDtype(categories=[ 1.0,  2.0,  3.0,  4.0,  5.0,  6.0,  7.0,  8.0,  9.0, 10.0,\n",
       "                  11.0, 12.0, 13.0, 14.0, 15.0, 16.0, 17.0, 18.0, 19.0, 20.0,\n",
       "                  21.0, 22.0, 23.0, 24.0,  0.0],\n",
       "                 ordered=True)"
      ]
     },
     "execution_count": 18,
     "metadata": {},
     "output_type": "execute_result"
    }
   ],
   "source": [
    "codebook_rwanda_sh['C26A'].dtypes"
   ]
  },
  {
   "cell_type": "code",
   "execution_count": 19,
   "metadata": {
    "ExecuteTime": {
     "end_time": "2020-12-29T12:43:45.717379Z",
     "start_time": "2020-12-29T12:43:45.642381Z"
    }
   },
   "outputs": [],
   "source": [
    "# Day Total-Availability (hours a day)\n",
    "codebook_rwanda_sh['C26A'] = pd.to_numeric(codebook_rwanda_sh['C26A'])\n",
    "codebook_rwanda_sh['C26B'] = pd.to_numeric(codebook_rwanda_sh['C26B'])\n",
    "codebook_rwanda_sh['C68A'] = pd.to_numeric(codebook_rwanda_sh['C68A'])\n",
    "codebook_rwanda_sh['C68B'] = pd.to_numeric(codebook_rwanda_sh['C68B'])\n",
    "codebook_rwanda_sh['C107A'] = pd.to_numeric(codebook_rwanda_sh['C107A'])\n",
    "codebook_rwanda_sh['C107B'] = pd.to_numeric(codebook_rwanda_sh['C107B'])\n",
    "codebook_rwanda_sh['C127'] = pd.to_numeric(codebook_rwanda_sh['C127'])\n",
    "codebook_rwanda_sh['C137A'] = pd.to_numeric(codebook_rwanda_sh['C137A'])\n",
    "codebook_rwanda_sh['C137B'] = pd.to_numeric(codebook_rwanda_sh['C137B'])\n",
    "codebook_rwanda_sh['C172A'] = pd.to_numeric(codebook_rwanda_sh['C172A'])\n",
    "codebook_rwanda_sh['C172B'] = pd.to_numeric(codebook_rwanda_sh['C172B'])\n",
    "#Evening Total-Avaliability (hours a day)\n",
    "codebook_rwanda_sh['C27A'] = pd.to_numeric(codebook_rwanda_sh['C27A'])\n",
    "codebook_rwanda_sh['C27B'] = pd.to_numeric(codebook_rwanda_sh['C27B'])\n",
    "codebook_rwanda_sh['C69A'] = pd.to_numeric(codebook_rwanda_sh['C69A'])\n",
    "codebook_rwanda_sh['C69B'] = pd.to_numeric(codebook_rwanda_sh['C69B'])\n",
    "codebook_rwanda_sh['C108A'] = pd.to_numeric(codebook_rwanda_sh['C108A'])\n",
    "codebook_rwanda_sh['C108B'] = pd.to_numeric(codebook_rwanda_sh['C108B'])\n",
    "codebook_rwanda_sh['C138A'] = pd.to_numeric(codebook_rwanda_sh['C138A'])\n",
    "codebook_rwanda_sh['C138B'] = pd.to_numeric(codebook_rwanda_sh['C138B'])\n",
    "codebook_rwanda_sh['C173A'] = pd.to_numeric(codebook_rwanda_sh['C173A'])\n",
    "codebook_rwanda_sh['C173B'] = pd.to_numeric(codebook_rwanda_sh['C173B'])\n",
    "#Total Reliability (number of cases)\n",
    "codebook_rwanda_sh['C29A'] = pd.to_numeric(codebook_rwanda_sh['C29A'])\n",
    "codebook_rwanda_sh['C29B'] = pd.to_numeric(codebook_rwanda_sh['C29B'])\n",
    "codebook_rwanda_sh['C71A'] = pd.to_numeric(codebook_rwanda_sh['C71A'])\n",
    "codebook_rwanda_sh['C71B'] = pd.to_numeric(codebook_rwanda_sh['C71B'])\n",
    "# Quality (yes/no)\n",
    "#C39 represents the damaged appliances from the national grid.\n",
    "#C81 represents the damaged appliances from the mini grid.\n",
    "#C110 represents the damaged appliances from the generator set.\n",
    "#C140 represents the damaged appliances from the Pico-hydro."
   ]
  },
  {
   "cell_type": "code",
   "execution_count": 20,
   "metadata": {
    "ExecuteTime": {
     "end_time": "2020-12-29T12:43:45.749380Z",
     "start_time": "2020-12-29T12:43:45.722381Z"
    }
   },
   "outputs": [
    {
     "data": {
      "text/plain": [
       "Pre-paid                                   1400\n",
       "Fixed monthly fee                           109\n",
       "Pay based on lights and appliances used      41\n",
       "No bill for electricity                      32\n",
       "Other                                        24\n",
       "Monthly bill                                 14\n",
       "We never used electricity                    10\n",
       "Utility estimates consumption                 2\n",
       "Name: C17, dtype: int64"
      ]
     },
     "execution_count": 20,
     "metadata": {},
     "output_type": "execute_result"
    }
   ],
   "source": [
    "#Legality \n",
    "#C17 represents the electricity bill payment for using the national grid. \n",
    "codebook_rwanda_sh['C17'].value_counts()"
   ]
  },
  {
   "cell_type": "code",
   "execution_count": 21,
   "metadata": {
    "ExecuteTime": {
     "end_time": "2020-12-29T12:43:45.780380Z",
     "start_time": "2020-12-29T12:43:45.755384Z"
    }
   },
   "outputs": [
    {
     "data": {
      "text/plain": [
       "No bill for electricity                    2\n",
       "Fixed monthly fee                          2\n",
       "Other                                      1\n",
       "Pay based on lights and appliances used    1\n",
       "Name: C57, dtype: int64"
      ]
     },
     "execution_count": 21,
     "metadata": {},
     "output_type": "execute_result"
    }
   ],
   "source": [
    "#Legality \n",
    "#C57 represents the electricity bill payment for using the mini grid.\n",
    "codebook_rwanda_sh['C57'].value_counts()"
   ]
  },
  {
   "cell_type": "code",
   "execution_count": 22,
   "metadata": {
    "ExecuteTime": {
     "end_time": "2020-12-29T12:43:45.811379Z",
     "start_time": "2020-12-29T12:43:45.785381Z"
    }
   },
   "outputs": [
    {
     "data": {
      "text/plain": [
       "No     1575\n",
       "Yes       6\n",
       "Name: C41, dtype: int64"
      ]
     },
     "execution_count": 22,
     "metadata": {},
     "output_type": "execute_result"
    }
   ],
   "source": [
    "# Health and Safety (Yes/No)\n",
    "# C41 represents the accidents caused using the national grid. \n",
    "codebook_rwanda_sh['C41'].value_counts()"
   ]
  },
  {
   "cell_type": "code",
   "execution_count": 23,
   "metadata": {
    "ExecuteTime": {
     "end_time": "2020-12-29T12:43:45.843378Z",
     "start_time": "2020-12-29T12:43:45.816383Z"
    }
   },
   "outputs": [
    {
     "data": {
      "text/plain": [
       "No    8\n",
       "Name: C83, dtype: int64"
      ]
     },
     "execution_count": 23,
     "metadata": {},
     "output_type": "execute_result"
    }
   ],
   "source": [
    "# Health and Safety (Yes/No)\n",
    "#C83 represents the accidents caused using the mini grid.\n",
    "codebook_rwanda_sh['C83'].value_counts()"
   ]
  },
  {
   "cell_type": "code",
   "execution_count": 24,
   "metadata": {
    "ExecuteTime": {
     "end_time": "2020-12-29T12:43:45.874379Z",
     "start_time": "2020-12-29T12:43:45.855380Z"
    }
   },
   "outputs": [
    {
     "data": {
      "text/plain": [
       "No    1\n",
       "Name: C112, dtype: int64"
      ]
     },
     "execution_count": 24,
     "metadata": {},
     "output_type": "execute_result"
    }
   ],
   "source": [
    "# Health and Safety (Yes/No)\n",
    "#C112 represents the accidents caused using the generator set.\n",
    "codebook_rwanda_sh['C112'].value_counts()"
   ]
  },
  {
   "cell_type": "code",
   "execution_count": 25,
   "metadata": {
    "ExecuteTime": {
     "end_time": "2020-12-29T12:43:45.904376Z",
     "start_time": "2020-12-29T12:43:45.882383Z"
    }
   },
   "outputs": [
    {
     "data": {
      "text/plain": [
       "No    4\n",
       "Name: C130, dtype: int64"
      ]
     },
     "execution_count": 25,
     "metadata": {},
     "output_type": "execute_result"
    }
   ],
   "source": [
    "# Health and Safety (Yes/No)\n",
    "#C130 represents the accidents caused using the battery.\n",
    "codebook_rwanda_sh['C130'].value_counts()"
   ]
  },
  {
   "cell_type": "code",
   "execution_count": 26,
   "metadata": {
    "ExecuteTime": {
     "end_time": "2020-12-29T12:43:45.935380Z",
     "start_time": "2020-12-29T12:43:45.909390Z"
    }
   },
   "outputs": [
    {
     "data": {
      "text/plain": [
       "No    5\n",
       "Name: C142, dtype: int64"
      ]
     },
     "execution_count": 26,
     "metadata": {},
     "output_type": "execute_result"
    }
   ],
   "source": [
    "# Health and Safety (Yes/No)\n",
    "#C142 represents the accidents caused using the Pico-hydro.\n",
    "codebook_rwanda_sh['C142'].value_counts()"
   ]
  },
  {
   "cell_type": "code",
   "execution_count": 27,
   "metadata": {
    "ExecuteTime": {
     "end_time": "2020-12-29T12:43:45.966378Z",
     "start_time": "2020-12-29T12:43:45.940383Z"
    }
   },
   "outputs": [
    {
     "data": {
      "text/plain": [
       "No     109\n",
       "3.0      1\n",
       "Name: C175, dtype: int64"
      ]
     },
     "execution_count": 27,
     "metadata": {},
     "output_type": "execute_result"
    }
   ],
   "source": [
    "# Health and Safety (Yes/No)\n",
    "#C175 represents the accidents caused using the solar based devices.\n",
    "codebook_rwanda_sh['C175'].value_counts()"
   ]
  },
  {
   "cell_type": "code",
   "execution_count": 28,
   "metadata": {
    "ExecuteTime": {
     "end_time": "2020-12-29T12:43:45.982377Z",
     "start_time": "2020-12-29T12:43:45.972384Z"
    }
   },
   "outputs": [],
   "source": [
    "codebook_rwanda_sh['C175'] = codebook_rwanda_sh['C175'].replace(3.0, np.nan)"
   ]
  },
  {
   "cell_type": "code",
   "execution_count": 29,
   "metadata": {
    "ExecuteTime": {
     "end_time": "2020-12-29T12:43:46.014380Z",
     "start_time": "2020-12-29T12:43:45.988382Z"
    }
   },
   "outputs": [
    {
     "data": {
      "text/plain": [
       "No    109\n",
       "Name: C175, dtype: int64"
      ]
     },
     "execution_count": 29,
     "metadata": {},
     "output_type": "execute_result"
    }
   ],
   "source": [
    "codebook_rwanda_sh['C175'].value_counts()"
   ]
  },
  {
   "cell_type": "code",
   "execution_count": 30,
   "metadata": {
    "ExecuteTime": {
     "end_time": "2020-12-29T12:43:46.077382Z",
     "start_time": "2020-12-29T12:43:46.019388Z"
    }
   },
   "outputs": [
    {
     "name": "stdout",
     "output_type": "stream",
     "text": [
      "<class 'pandas.core.frame.DataFrame'>\n",
      "Int64Index: 3295 entries, 0 to 3294\n",
      "Data columns (total 42 columns):\n",
      " #   Column  Non-Null Count  Dtype   \n",
      "---  ------  --------------  -----   \n",
      " 0   C22     3295 non-null   float64 \n",
      " 1   C64     3295 non-null   float64 \n",
      " 2   C88     3295 non-null   float64 \n",
      " 3   C117    3295 non-null   float64 \n",
      " 4   C119A   3295 non-null   float64 \n",
      " 5   C26A    652 non-null    float64 \n",
      " 6   C26B    1591 non-null   float64 \n",
      " 7   C68A    2 non-null      float64 \n",
      " 8   C68B    8 non-null      float64 \n",
      " 9   C107A   1 non-null      float64 \n",
      " 10  C107B   1 non-null      float64 \n",
      " 11  C127    4 non-null      float64 \n",
      " 12  C137A   3 non-null      float64 \n",
      " 13  C137B   5 non-null      float64 \n",
      " 14  C172A   39 non-null     float64 \n",
      " 15  C172B   109 non-null    float64 \n",
      " 16  C27A    652 non-null    float64 \n",
      " 17  C27B    1591 non-null   float64 \n",
      " 18  C69A    2 non-null      float64 \n",
      " 19  C69B    8 non-null      float64 \n",
      " 20  C108A   1 non-null      float64 \n",
      " 21  C108B   1 non-null      float64 \n",
      " 22  C138A   3 non-null      float64 \n",
      " 23  C138B   5 non-null      float64 \n",
      " 24  C173A   39 non-null     float64 \n",
      " 25  C173B   109 non-null    float64 \n",
      " 26  C29A    652 non-null    float64 \n",
      " 27  C29B    1591 non-null   float64 \n",
      " 28  C71A    2 non-null      float64 \n",
      " 29  C71B    8 non-null      float64 \n",
      " 30  C39     1591 non-null   category\n",
      " 31  C81     8 non-null      category\n",
      " 32  C110    1 non-null      category\n",
      " 33  C140    5 non-null      category\n",
      " 34  C17     1632 non-null   category\n",
      " 35  C57     6 non-null      category\n",
      " 36  C41     1581 non-null   category\n",
      " 37  C83     8 non-null      category\n",
      " 38  C112    1 non-null      category\n",
      " 39  C130    4 non-null      category\n",
      " 40  C142    5 non-null      category\n",
      " 41  C175    109 non-null    category\n",
      "dtypes: category(12), float64(30)\n",
      "memory usage: 838.1 KB\n"
     ]
    }
   ],
   "source": [
    "codebook_rwanda_sh.info()"
   ]
  },
  {
   "cell_type": "markdown",
   "metadata": {
    "ExecuteTime": {
     "end_time": "2020-12-22T19:32:35.702729Z",
     "start_time": "2020-12-22T19:32:35.647713Z"
    }
   },
   "source": [
    "## Removing columns without significance\n",
    "To selec the columns to be passed through one-hot-encoding, no variables should be included that does not provide informatoin about the household.\n",
    "Columns without signifincance are removed."
   ]
  },
  {
   "cell_type": "code",
   "execution_count": 31,
   "metadata": {
    "ExecuteTime": {
     "end_time": "2020-12-29T12:43:46.092381Z",
     "start_time": "2020-12-29T12:43:46.081380Z"
    }
   },
   "outputs": [],
   "source": [
    "#codebook_rwanda_OHE = codebook_rwanda_md.drop(['HHID','DATE_START', 'TIME_START', 'DATE_END', 'TIME_END', 'sample_weight'], 1)"
   ]
  },
  {
   "cell_type": "code",
   "execution_count": 32,
   "metadata": {
    "ExecuteTime": {
     "end_time": "2020-12-29T12:43:46.108380Z",
     "start_time": "2020-12-29T12:43:46.098381Z"
    },
    "scrolled": true
   },
   "outputs": [],
   "source": [
    "#codebook_rwanda_OHE.describe().to_csv('describe.csv')"
   ]
  },
  {
   "cell_type": "code",
   "execution_count": 33,
   "metadata": {
    "ExecuteTime": {
     "end_time": "2020-12-29T12:43:46.140377Z",
     "start_time": "2020-12-29T12:43:46.120405Z"
    },
    "scrolled": true
   },
   "outputs": [],
   "source": [
    "#codebook_rwanda_OHE"
   ]
  },
  {
   "cell_type": "markdown",
   "metadata": {},
   "source": [
    "# Feature engineering"
   ]
  },
  {
   "cell_type": "markdown",
   "metadata": {},
   "source": [
    "## Dividing the categorical data into dummy variables"
   ]
  },
  {
   "cell_type": "code",
   "execution_count": 34,
   "metadata": {
    "ExecuteTime": {
     "end_time": "2020-12-29T12:43:46.188381Z",
     "start_time": "2020-12-29T12:43:46.145384Z"
    }
   },
   "outputs": [],
   "source": [
    "X = pd.get_dummies(codebook_rwanda_sh, columns=['C39','C81','C110','C140','C17','C57','C41','C83','C112','C130','C142','C175'])"
   ]
  },
  {
   "cell_type": "code",
   "execution_count": 35,
   "metadata": {
    "ExecuteTime": {
     "end_time": "2020-12-29T12:43:46.204380Z",
     "start_time": "2020-12-29T12:43:46.194387Z"
    }
   },
   "outputs": [],
   "source": [
    "#X.to_csv('X_dummies.csv')"
   ]
  },
  {
   "cell_type": "code",
   "execution_count": 36,
   "metadata": {
    "ExecuteTime": {
     "end_time": "2020-12-29T12:43:46.284378Z",
     "start_time": "2020-12-29T12:43:46.209387Z"
    },
    "scrolled": false
   },
   "outputs": [
    {
     "data": {
      "text/html": [
       "<div>\n",
       "<style scoped>\n",
       "    .dataframe tbody tr th:only-of-type {\n",
       "        vertical-align: middle;\n",
       "    }\n",
       "\n",
       "    .dataframe tbody tr th {\n",
       "        vertical-align: top;\n",
       "    }\n",
       "\n",
       "    .dataframe thead th {\n",
       "        text-align: right;\n",
       "    }\n",
       "</style>\n",
       "<table border=\"1\" class=\"dataframe\">\n",
       "  <thead>\n",
       "    <tr style=\"text-align: right;\">\n",
       "      <th></th>\n",
       "      <th>C22</th>\n",
       "      <th>C64</th>\n",
       "      <th>C88</th>\n",
       "      <th>C117</th>\n",
       "      <th>C119A</th>\n",
       "      <th>C26A</th>\n",
       "      <th>C26B</th>\n",
       "      <th>C68A</th>\n",
       "      <th>C68B</th>\n",
       "      <th>C107A</th>\n",
       "      <th>...</th>\n",
       "      <th>C57_Pay based on lights and appliances used</th>\n",
       "      <th>C57_No bill for electricity</th>\n",
       "      <th>C57_Other</th>\n",
       "      <th>C41_Yes</th>\n",
       "      <th>C41_No</th>\n",
       "      <th>C83_No</th>\n",
       "      <th>C112_No</th>\n",
       "      <th>C130_No</th>\n",
       "      <th>C142_No</th>\n",
       "      <th>C175_No</th>\n",
       "    </tr>\n",
       "  </thead>\n",
       "  <tbody>\n",
       "    <tr>\n",
       "      <th>0</th>\n",
       "      <td>0.0</td>\n",
       "      <td>0.0</td>\n",
       "      <td>0.0</td>\n",
       "      <td>0.0</td>\n",
       "      <td>0.0</td>\n",
       "      <td>NaN</td>\n",
       "      <td>NaN</td>\n",
       "      <td>NaN</td>\n",
       "      <td>NaN</td>\n",
       "      <td>NaN</td>\n",
       "      <td>...</td>\n",
       "      <td>0</td>\n",
       "      <td>0</td>\n",
       "      <td>0</td>\n",
       "      <td>0</td>\n",
       "      <td>0</td>\n",
       "      <td>0</td>\n",
       "      <td>0</td>\n",
       "      <td>0</td>\n",
       "      <td>0</td>\n",
       "      <td>0</td>\n",
       "    </tr>\n",
       "    <tr>\n",
       "      <th>1</th>\n",
       "      <td>0.0</td>\n",
       "      <td>0.0</td>\n",
       "      <td>0.0</td>\n",
       "      <td>0.0</td>\n",
       "      <td>0.0</td>\n",
       "      <td>NaN</td>\n",
       "      <td>NaN</td>\n",
       "      <td>NaN</td>\n",
       "      <td>NaN</td>\n",
       "      <td>NaN</td>\n",
       "      <td>...</td>\n",
       "      <td>0</td>\n",
       "      <td>0</td>\n",
       "      <td>0</td>\n",
       "      <td>0</td>\n",
       "      <td>0</td>\n",
       "      <td>0</td>\n",
       "      <td>0</td>\n",
       "      <td>0</td>\n",
       "      <td>0</td>\n",
       "      <td>0</td>\n",
       "    </tr>\n",
       "    <tr>\n",
       "      <th>2</th>\n",
       "      <td>0.0</td>\n",
       "      <td>0.0</td>\n",
       "      <td>0.0</td>\n",
       "      <td>0.0</td>\n",
       "      <td>0.0</td>\n",
       "      <td>NaN</td>\n",
       "      <td>NaN</td>\n",
       "      <td>NaN</td>\n",
       "      <td>NaN</td>\n",
       "      <td>NaN</td>\n",
       "      <td>...</td>\n",
       "      <td>0</td>\n",
       "      <td>0</td>\n",
       "      <td>0</td>\n",
       "      <td>0</td>\n",
       "      <td>0</td>\n",
       "      <td>0</td>\n",
       "      <td>0</td>\n",
       "      <td>0</td>\n",
       "      <td>0</td>\n",
       "      <td>0</td>\n",
       "    </tr>\n",
       "    <tr>\n",
       "      <th>3</th>\n",
       "      <td>0.0</td>\n",
       "      <td>0.0</td>\n",
       "      <td>0.0</td>\n",
       "      <td>0.0</td>\n",
       "      <td>0.0</td>\n",
       "      <td>NaN</td>\n",
       "      <td>NaN</td>\n",
       "      <td>NaN</td>\n",
       "      <td>NaN</td>\n",
       "      <td>NaN</td>\n",
       "      <td>...</td>\n",
       "      <td>0</td>\n",
       "      <td>0</td>\n",
       "      <td>0</td>\n",
       "      <td>0</td>\n",
       "      <td>0</td>\n",
       "      <td>0</td>\n",
       "      <td>0</td>\n",
       "      <td>0</td>\n",
       "      <td>0</td>\n",
       "      <td>0</td>\n",
       "    </tr>\n",
       "    <tr>\n",
       "      <th>4</th>\n",
       "      <td>0.0</td>\n",
       "      <td>0.0</td>\n",
       "      <td>0.0</td>\n",
       "      <td>0.0</td>\n",
       "      <td>0.0</td>\n",
       "      <td>NaN</td>\n",
       "      <td>NaN</td>\n",
       "      <td>NaN</td>\n",
       "      <td>NaN</td>\n",
       "      <td>NaN</td>\n",
       "      <td>...</td>\n",
       "      <td>0</td>\n",
       "      <td>0</td>\n",
       "      <td>0</td>\n",
       "      <td>0</td>\n",
       "      <td>0</td>\n",
       "      <td>0</td>\n",
       "      <td>0</td>\n",
       "      <td>0</td>\n",
       "      <td>0</td>\n",
       "      <td>0</td>\n",
       "    </tr>\n",
       "  </tbody>\n",
       "</table>\n",
       "<p>5 rows × 56 columns</p>\n",
       "</div>"
      ],
      "text/plain": [
       "   C22  C64  C88  C117  C119A  C26A  C26B  C68A  C68B  C107A  ...  \\\n",
       "0  0.0  0.0  0.0   0.0    0.0   NaN   NaN   NaN   NaN    NaN  ...   \n",
       "1  0.0  0.0  0.0   0.0    0.0   NaN   NaN   NaN   NaN    NaN  ...   \n",
       "2  0.0  0.0  0.0   0.0    0.0   NaN   NaN   NaN   NaN    NaN  ...   \n",
       "3  0.0  0.0  0.0   0.0    0.0   NaN   NaN   NaN   NaN    NaN  ...   \n",
       "4  0.0  0.0  0.0   0.0    0.0   NaN   NaN   NaN   NaN    NaN  ...   \n",
       "\n",
       "   C57_Pay based on lights and appliances used  C57_No bill for electricity  \\\n",
       "0                                            0                            0   \n",
       "1                                            0                            0   \n",
       "2                                            0                            0   \n",
       "3                                            0                            0   \n",
       "4                                            0                            0   \n",
       "\n",
       "   C57_Other  C41_Yes  C41_No  C83_No  C112_No  C130_No  C142_No  C175_No  \n",
       "0          0        0       0       0        0        0        0        0  \n",
       "1          0        0       0       0        0        0        0        0  \n",
       "2          0        0       0       0        0        0        0        0  \n",
       "3          0        0       0       0        0        0        0        0  \n",
       "4          0        0       0       0        0        0        0        0  \n",
       "\n",
       "[5 rows x 56 columns]"
      ]
     },
     "execution_count": 36,
     "metadata": {},
     "output_type": "execute_result"
    }
   ],
   "source": [
    "X.head()"
   ]
  },
  {
   "cell_type": "code",
   "execution_count": 37,
   "metadata": {
    "ExecuteTime": {
     "end_time": "2020-12-29T12:43:46.300381Z",
     "start_time": "2020-12-29T12:43:46.290380Z"
    }
   },
   "outputs": [],
   "source": [
    "#(X[X.columns.drop(list(X.filter(regex='Missing_data')))]"
   ]
  },
  {
   "cell_type": "code",
   "execution_count": 38,
   "metadata": {
    "ExecuteTime": {
     "end_time": "2020-12-29T12:43:46.460379Z",
     "start_time": "2020-12-29T12:43:46.305387Z"
    },
    "scrolled": true
   },
   "outputs": [
    {
     "data": {
      "application/vnd.jupyter.widget-view+json": {
       "model_id": "bd3213136fbb456792a42981b56c911e",
       "version_major": 2,
       "version_minor": 0
      },
      "text/plain": [
       "QgridWidget(grid_options={'fullWidthRows': True, 'syncColumnCellResize': True, 'forceFitColumns': False, 'defa…"
      ]
     },
     "metadata": {},
     "output_type": "display_data"
    }
   ],
   "source": [
    "X = X.fillna(0) \n",
    "col_options = {\n",
    "    'width': 140,\n",
    "}\n",
    "col_defs = {\n",
    "    'index': {\n",
    "        'width': 40,\n",
    "    }\n",
    "}\n",
    "qgrid.show_grid(X,column_options=col_options,\n",
    "                               column_definitions=col_defs,\n",
    "                               grid_options={'forceFitColumns': False})"
   ]
  },
  {
   "cell_type": "code",
   "execution_count": 39,
   "metadata": {
    "ExecuteTime": {
     "end_time": "2020-12-29T12:43:46.476384Z",
     "start_time": "2020-12-29T12:43:46.464382Z"
    }
   },
   "outputs": [],
   "source": [
    "#X = X[X.columns.drop(list(X.filter(regex='Respondent')))]"
   ]
  },
  {
   "cell_type": "markdown",
   "metadata": {},
   "source": [
    "# Determine number of clusters with Elbow method\n",
    "https://www.kaggle.com/fazilbtopal/popular-unsupervised-clustering-algorithms"
   ]
  },
  {
   "cell_type": "code",
   "execution_count": 40,
   "metadata": {
    "ExecuteTime": {
     "end_time": "2020-12-29T12:43:46.537386Z",
     "start_time": "2020-12-29T12:43:46.482381Z"
    }
   },
   "outputs": [],
   "source": [
    "import numpy as np\n",
    "import pandas as pd\n",
    "\n",
    "import matplotlib.pyplot as plt\n",
    "import seaborn as sns\n",
    "sns.set_style('darkgrid', {'axes.facecolor': '.9'})\n",
    "sns.set_palette(palette='deep')\n",
    "sns_c = sns.color_palette(palette='deep')\n",
    "%matplotlib inline\n",
    "\n",
    "from pandas.plotting import register_matplotlib_converters\n",
    "register_matplotlib_converters()"
   ]
  },
  {
   "cell_type": "code",
   "execution_count": 41,
   "metadata": {
    "ExecuteTime": {
     "end_time": "2020-12-29T12:43:49.628383Z",
     "start_time": "2020-12-29T12:43:46.542386Z"
    }
   },
   "outputs": [
    {
     "data": {
      "image/png": "[encoded data removed]",
      "text/plain": [
       "<Figure size 720x432 with 1 Axes>"
      ]
     },
     "metadata": {
      "needs_background": "light"
     },
     "output_type": "display_data"
    }
   ],
   "source": [
    "from sklearn.cluster import KMeans\n",
    "\n",
    "data_df = X \n",
    "inertias = []\n",
    "\n",
    "k_candidates = range(1, 10)\n",
    "\n",
    "for k in k_candidates:\n",
    "    k_means = KMeans(random_state=42, n_clusters=k)\n",
    "    k_means.fit(data_df)\n",
    "    inertias.append(k_means.inertia_)\n",
    "\n",
    "fig, ax = plt.subplots(figsize=(10, 6))\n",
    "sns.scatterplot(x=k_candidates, y = inertias, s=80, ax=ax)\n",
    "sns.scatterplot(x=[k_candidates[2]], y = [inertias[2]], color=sns_c[3], s=150, ax=ax)\n",
    "sns.scatterplot(x=[k_candidates[3]], y = [inertias[3]], color=sns_c[2], s=150, ax=ax)\n",
    "sns.lineplot(x=k_candidates, y = inertias, alpha=0.5, ax=ax)\n",
    "ax.set(title='Inertia K-Means', ylabel='inertia', xlabel='k');"
   ]
  },
  {
   "cell_type": "markdown",
   "metadata": {},
   "source": [
    "Elbow method tells us to select the cluster when there is a significant change in inertia. As we can see from the graph, we can say this may be either 3 or 4. "
   ]
  },
  {
   "cell_type": "markdown",
   "metadata": {},
   "source": [
    "## Generate 3 clusters"
   ]
  },
  {
   "cell_type": "code",
   "execution_count": 42,
   "metadata": {
    "ExecuteTime": {
     "end_time": "2020-12-29T12:43:49.884375Z",
     "start_time": "2020-12-29T12:43:49.633382Z"
    }
   },
   "outputs": [
    {
     "data": {
      "text/plain": [
       "array([0, 2, 1])"
      ]
     },
     "execution_count": 42,
     "metadata": {},
     "output_type": "execute_result"
    }
   ],
   "source": [
    "from sklearn.cluster import KMeans\n",
    "\n",
    "cluster_number = 3 # select the number of clusters based on the Elbow Method \"plot above\"\n",
    "\n",
    "kmeans = KMeans(n_clusters=cluster_number)\n",
    "kmeans.fit(X)\n",
    "\n",
    "labels = kmeans.labels_ \n",
    "\n",
    "X['label'] = labels\n",
    "\n",
    "X['cluster'] = 'E'\n",
    "X.loc[X['label'] == 0, 'cluster'] = 'A'\n",
    "X.loc[X['label'] == 1, 'cluster'] = 'B'\n",
    "X.loc[X['label'] == 2, 'cluster'] = 'C'\n",
    "X.loc[X['label'] == 3, 'cluster'] = 'D'\n",
    "\n",
    "X['label'].unique()"
   ]
  },
  {
   "cell_type": "code",
   "execution_count": 43,
   "metadata": {
    "ExecuteTime": {
     "end_time": "2020-12-29T12:43:49.916380Z",
     "start_time": "2020-12-29T12:43:49.889384Z"
    }
   },
   "outputs": [
    {
     "data": {
      "text/plain": [
       "array(['A', 'C', 'B'], dtype=object)"
      ]
     },
     "execution_count": 43,
     "metadata": {},
     "output_type": "execute_result"
    }
   ],
   "source": [
    "X['cluster'].unique()"
   ]
  },
  {
   "cell_type": "markdown",
   "metadata": {},
   "source": [
    "# Model Evaluation\n",
    "## Create Custom Palette for the Labels"
   ]
  },
  {
   "cell_type": "code",
   "execution_count": 44,
   "metadata": {
    "ExecuteTime": {
     "end_time": "2020-12-29T12:43:50.106379Z",
     "start_time": "2020-12-29T12:43:49.921385Z"
    },
    "scrolled": true
   },
   "outputs": [
    {
     "name": "stdout",
     "output_type": "stream",
     "text": [
      "customPalette\n"
     ]
    },
    {
     "data": {
      "image/png": "[encoded data removed]",
      "text/plain": [
       "<Figure size 288x72 with 1 Axes>"
      ]
     },
     "metadata": {},
     "output_type": "display_data"
    }
   ],
   "source": [
    "#set font size of labels on matplotlib plots\n",
    "plt.rc('font', size=16)\n",
    "\n",
    "#set style of plots\n",
    "sns.set_style('white')\n",
    "\n",
    "#define a custom palette https://www.webucator.com/blog/2015/03/python-color-constants-module/\n",
    "print('customPalette')\n",
    "customPalette = ['#FF0000', '#0000FF', '#008000', '#FFFF00']\n",
    "sns.set_palette(customPalette)\n",
    "sns.palplot(customPalette)\n"
   ]
  },
  {
   "cell_type": "code",
   "execution_count": 45,
   "metadata": {
    "ExecuteTime": {
     "end_time": "2020-12-29T12:43:50.266386Z",
     "start_time": "2020-12-29T12:43:50.110381Z"
    }
   },
   "outputs": [
    {
     "name": "stdout",
     "output_type": "stream",
     "text": [
      "esmap_colors\n"
     ]
    },
    {
     "data": {
      "image/png": "[encoded data removed]",
      "text/plain": [
       "<Figure size 432x72 with 1 Axes>"
      ]
     },
     "metadata": {},
     "output_type": "display_data"
    }
   ],
   "source": [
    "print('esmap_colors')\n",
    "esmap_colors=['#864241','#B85F57','#E49202','#5797B0','#84B0B1','#5C9989']\n",
    "sns.set_palette(esmap_colors)\n",
    "sns.palplot(esmap_colors)"
   ]
  },
  {
   "cell_type": "markdown",
   "metadata": {},
   "source": [
    "## Create labeled groups of data\n",
    "Next, we need to generate some data to plot. I defined four groups (A, B, C, and D) and specified their center points. For each label, I sampled nx2 data points from a gaussian distribution centered at the mean of the group and with a standard deviation of 0.5.\n",
    "\n",
    "To make these plots, each datapoint needs to be assigned a label. If your data isn't labeled, you can use a clustering algorithm to create artificial groups."
   ]
  },
  {
   "cell_type": "code",
   "execution_count": 46,
   "metadata": {
    "ExecuteTime": {
     "end_time": "2020-12-29T12:43:50.362375Z",
     "start_time": "2020-12-29T12:43:50.274386Z"
    },
    "scrolled": true
   },
   "outputs": [
    {
     "data": {
      "text/html": [
       "<div>\n",
       "<style scoped>\n",
       "    .dataframe tbody tr th:only-of-type {\n",
       "        vertical-align: middle;\n",
       "    }\n",
       "\n",
       "    .dataframe tbody tr th {\n",
       "        vertical-align: top;\n",
       "    }\n",
       "\n",
       "    .dataframe thead th {\n",
       "        text-align: right;\n",
       "    }\n",
       "</style>\n",
       "<table border=\"1\" class=\"dataframe\">\n",
       "  <thead>\n",
       "    <tr style=\"text-align: right;\">\n",
       "      <th></th>\n",
       "      <th>C22</th>\n",
       "      <th>C64</th>\n",
       "      <th>C88</th>\n",
       "      <th>C117</th>\n",
       "      <th>C119A</th>\n",
       "      <th>C26A</th>\n",
       "      <th>C26B</th>\n",
       "      <th>C68A</th>\n",
       "      <th>C68B</th>\n",
       "      <th>C107A</th>\n",
       "      <th>...</th>\n",
       "      <th>C57_Other</th>\n",
       "      <th>C41_Yes</th>\n",
       "      <th>C41_No</th>\n",
       "      <th>C83_No</th>\n",
       "      <th>C112_No</th>\n",
       "      <th>C130_No</th>\n",
       "      <th>C142_No</th>\n",
       "      <th>C175_No</th>\n",
       "      <th>label</th>\n",
       "      <th>cluster</th>\n",
       "    </tr>\n",
       "  </thead>\n",
       "  <tbody>\n",
       "    <tr>\n",
       "      <th>0</th>\n",
       "      <td>0.00</td>\n",
       "      <td>0.0</td>\n",
       "      <td>0.0</td>\n",
       "      <td>0.0</td>\n",
       "      <td>0.0</td>\n",
       "      <td>0.0</td>\n",
       "      <td>0.0</td>\n",
       "      <td>0.0</td>\n",
       "      <td>0.0</td>\n",
       "      <td>0.0</td>\n",
       "      <td>...</td>\n",
       "      <td>0</td>\n",
       "      <td>0</td>\n",
       "      <td>0</td>\n",
       "      <td>0</td>\n",
       "      <td>0</td>\n",
       "      <td>0</td>\n",
       "      <td>0</td>\n",
       "      <td>0</td>\n",
       "      <td>0</td>\n",
       "      <td>A</td>\n",
       "    </tr>\n",
       "    <tr>\n",
       "      <th>1</th>\n",
       "      <td>0.00</td>\n",
       "      <td>0.0</td>\n",
       "      <td>0.0</td>\n",
       "      <td>0.0</td>\n",
       "      <td>0.0</td>\n",
       "      <td>0.0</td>\n",
       "      <td>0.0</td>\n",
       "      <td>0.0</td>\n",
       "      <td>0.0</td>\n",
       "      <td>0.0</td>\n",
       "      <td>...</td>\n",
       "      <td>0</td>\n",
       "      <td>0</td>\n",
       "      <td>0</td>\n",
       "      <td>0</td>\n",
       "      <td>0</td>\n",
       "      <td>0</td>\n",
       "      <td>0</td>\n",
       "      <td>0</td>\n",
       "      <td>0</td>\n",
       "      <td>A</td>\n",
       "    </tr>\n",
       "    <tr>\n",
       "      <th>2</th>\n",
       "      <td>0.00</td>\n",
       "      <td>0.0</td>\n",
       "      <td>0.0</td>\n",
       "      <td>0.0</td>\n",
       "      <td>0.0</td>\n",
       "      <td>0.0</td>\n",
       "      <td>0.0</td>\n",
       "      <td>0.0</td>\n",
       "      <td>0.0</td>\n",
       "      <td>0.0</td>\n",
       "      <td>...</td>\n",
       "      <td>0</td>\n",
       "      <td>0</td>\n",
       "      <td>0</td>\n",
       "      <td>0</td>\n",
       "      <td>0</td>\n",
       "      <td>0</td>\n",
       "      <td>0</td>\n",
       "      <td>0</td>\n",
       "      <td>0</td>\n",
       "      <td>A</td>\n",
       "    </tr>\n",
       "    <tr>\n",
       "      <th>3</th>\n",
       "      <td>0.00</td>\n",
       "      <td>0.0</td>\n",
       "      <td>0.0</td>\n",
       "      <td>0.0</td>\n",
       "      <td>0.0</td>\n",
       "      <td>0.0</td>\n",
       "      <td>0.0</td>\n",
       "      <td>0.0</td>\n",
       "      <td>0.0</td>\n",
       "      <td>0.0</td>\n",
       "      <td>...</td>\n",
       "      <td>0</td>\n",
       "      <td>0</td>\n",
       "      <td>0</td>\n",
       "      <td>0</td>\n",
       "      <td>0</td>\n",
       "      <td>0</td>\n",
       "      <td>0</td>\n",
       "      <td>0</td>\n",
       "      <td>0</td>\n",
       "      <td>A</td>\n",
       "    </tr>\n",
       "    <tr>\n",
       "      <th>4</th>\n",
       "      <td>0.00</td>\n",
       "      <td>0.0</td>\n",
       "      <td>0.0</td>\n",
       "      <td>0.0</td>\n",
       "      <td>0.0</td>\n",
       "      <td>0.0</td>\n",
       "      <td>0.0</td>\n",
       "      <td>0.0</td>\n",
       "      <td>0.0</td>\n",
       "      <td>0.0</td>\n",
       "      <td>...</td>\n",
       "      <td>0</td>\n",
       "      <td>0</td>\n",
       "      <td>0</td>\n",
       "      <td>0</td>\n",
       "      <td>0</td>\n",
       "      <td>0</td>\n",
       "      <td>0</td>\n",
       "      <td>0</td>\n",
       "      <td>0</td>\n",
       "      <td>A</td>\n",
       "    </tr>\n",
       "    <tr>\n",
       "      <th>5</th>\n",
       "      <td>0.00</td>\n",
       "      <td>0.0</td>\n",
       "      <td>0.0</td>\n",
       "      <td>0.0</td>\n",
       "      <td>0.0</td>\n",
       "      <td>0.0</td>\n",
       "      <td>0.0</td>\n",
       "      <td>0.0</td>\n",
       "      <td>0.0</td>\n",
       "      <td>0.0</td>\n",
       "      <td>...</td>\n",
       "      <td>0</td>\n",
       "      <td>0</td>\n",
       "      <td>0</td>\n",
       "      <td>0</td>\n",
       "      <td>0</td>\n",
       "      <td>0</td>\n",
       "      <td>0</td>\n",
       "      <td>0</td>\n",
       "      <td>0</td>\n",
       "      <td>A</td>\n",
       "    </tr>\n",
       "    <tr>\n",
       "      <th>6</th>\n",
       "      <td>9.30</td>\n",
       "      <td>0.0</td>\n",
       "      <td>0.0</td>\n",
       "      <td>0.0</td>\n",
       "      <td>0.0</td>\n",
       "      <td>0.0</td>\n",
       "      <td>4.0</td>\n",
       "      <td>0.0</td>\n",
       "      <td>0.0</td>\n",
       "      <td>0.0</td>\n",
       "      <td>...</td>\n",
       "      <td>0</td>\n",
       "      <td>0</td>\n",
       "      <td>1</td>\n",
       "      <td>0</td>\n",
       "      <td>0</td>\n",
       "      <td>0</td>\n",
       "      <td>0</td>\n",
       "      <td>0</td>\n",
       "      <td>0</td>\n",
       "      <td>A</td>\n",
       "    </tr>\n",
       "    <tr>\n",
       "      <th>7</th>\n",
       "      <td>0.00</td>\n",
       "      <td>0.0</td>\n",
       "      <td>0.0</td>\n",
       "      <td>0.0</td>\n",
       "      <td>0.0</td>\n",
       "      <td>0.0</td>\n",
       "      <td>0.0</td>\n",
       "      <td>0.0</td>\n",
       "      <td>0.0</td>\n",
       "      <td>0.0</td>\n",
       "      <td>...</td>\n",
       "      <td>0</td>\n",
       "      <td>0</td>\n",
       "      <td>0</td>\n",
       "      <td>0</td>\n",
       "      <td>0</td>\n",
       "      <td>0</td>\n",
       "      <td>0</td>\n",
       "      <td>0</td>\n",
       "      <td>0</td>\n",
       "      <td>A</td>\n",
       "    </tr>\n",
       "    <tr>\n",
       "      <th>8</th>\n",
       "      <td>37.21</td>\n",
       "      <td>0.0</td>\n",
       "      <td>0.0</td>\n",
       "      <td>0.0</td>\n",
       "      <td>0.0</td>\n",
       "      <td>0.0</td>\n",
       "      <td>24.0</td>\n",
       "      <td>0.0</td>\n",
       "      <td>0.0</td>\n",
       "      <td>0.0</td>\n",
       "      <td>...</td>\n",
       "      <td>0</td>\n",
       "      <td>0</td>\n",
       "      <td>1</td>\n",
       "      <td>0</td>\n",
       "      <td>0</td>\n",
       "      <td>0</td>\n",
       "      <td>0</td>\n",
       "      <td>0</td>\n",
       "      <td>2</td>\n",
       "      <td>C</td>\n",
       "    </tr>\n",
       "    <tr>\n",
       "      <th>9</th>\n",
       "      <td>0.00</td>\n",
       "      <td>0.0</td>\n",
       "      <td>0.0</td>\n",
       "      <td>0.0</td>\n",
       "      <td>0.0</td>\n",
       "      <td>0.0</td>\n",
       "      <td>0.0</td>\n",
       "      <td>0.0</td>\n",
       "      <td>0.0</td>\n",
       "      <td>0.0</td>\n",
       "      <td>...</td>\n",
       "      <td>0</td>\n",
       "      <td>0</td>\n",
       "      <td>0</td>\n",
       "      <td>0</td>\n",
       "      <td>0</td>\n",
       "      <td>0</td>\n",
       "      <td>0</td>\n",
       "      <td>0</td>\n",
       "      <td>0</td>\n",
       "      <td>A</td>\n",
       "    </tr>\n",
       "  </tbody>\n",
       "</table>\n",
       "<p>10 rows × 58 columns</p>\n",
       "</div>"
      ],
      "text/plain": [
       "     C22  C64  C88  C117  C119A  C26A  C26B  C68A  C68B  C107A  ...  \\\n",
       "0   0.00  0.0  0.0   0.0    0.0   0.0   0.0   0.0   0.0    0.0  ...   \n",
       "1   0.00  0.0  0.0   0.0    0.0   0.0   0.0   0.0   0.0    0.0  ...   \n",
       "2   0.00  0.0  0.0   0.0    0.0   0.0   0.0   0.0   0.0    0.0  ...   \n",
       "3   0.00  0.0  0.0   0.0    0.0   0.0   0.0   0.0   0.0    0.0  ...   \n",
       "4   0.00  0.0  0.0   0.0    0.0   0.0   0.0   0.0   0.0    0.0  ...   \n",
       "5   0.00  0.0  0.0   0.0    0.0   0.0   0.0   0.0   0.0    0.0  ...   \n",
       "6   9.30  0.0  0.0   0.0    0.0   0.0   4.0   0.0   0.0    0.0  ...   \n",
       "7   0.00  0.0  0.0   0.0    0.0   0.0   0.0   0.0   0.0    0.0  ...   \n",
       "8  37.21  0.0  0.0   0.0    0.0   0.0  24.0   0.0   0.0    0.0  ...   \n",
       "9   0.00  0.0  0.0   0.0    0.0   0.0   0.0   0.0   0.0    0.0  ...   \n",
       "\n",
       "   C57_Other  C41_Yes  C41_No  C83_No  C112_No  C130_No  C142_No  C175_No  \\\n",
       "0          0        0       0       0        0        0        0        0   \n",
       "1          0        0       0       0        0        0        0        0   \n",
       "2          0        0       0       0        0        0        0        0   \n",
       "3          0        0       0       0        0        0        0        0   \n",
       "4          0        0       0       0        0        0        0        0   \n",
       "5          0        0       0       0        0        0        0        0   \n",
       "6          0        0       1       0        0        0        0        0   \n",
       "7          0        0       0       0        0        0        0        0   \n",
       "8          0        0       1       0        0        0        0        0   \n",
       "9          0        0       0       0        0        0        0        0   \n",
       "\n",
       "   label  cluster  \n",
       "0      0        A  \n",
       "1      0        A  \n",
       "2      0        A  \n",
       "3      0        A  \n",
       "4      0        A  \n",
       "5      0        A  \n",
       "6      0        A  \n",
       "7      0        A  \n",
       "8      2        C  \n",
       "9      0        A  \n",
       "\n",
       "[10 rows x 58 columns]"
      ]
     },
     "execution_count": 46,
     "metadata": {},
     "output_type": "execute_result"
    }
   ],
   "source": [
    "X['cluster'] = 'A'\n",
    "X.loc[X['label'] == 1, 'cluster'] = 'B'\n",
    "X.loc[X['label'] == 2, 'cluster'] = 'C'\n",
    "X.loc[X['label'] == 3, 'cluster'] = 'D'\n",
    "X.loc[X['label'] == 4, 'cluster'] = 'E'\n",
    "X.head(10)"
   ]
  },
  {
   "cell_type": "markdown",
   "metadata": {},
   "source": [
    "# Ploting clusters by Attributes"
   ]
  },
  {
   "cell_type": "markdown",
   "metadata": {},
   "source": [
    "## Getting Total attributes from csv "
   ]
  },
  {
   "cell_type": "code",
   "execution_count": 47,
   "metadata": {
    "ExecuteTime": {
     "end_time": "2020-12-29T12:43:50.410381Z",
     "start_time": "2020-12-29T12:43:50.367385Z"
    },
    "scrolled": false
   },
   "outputs": [
    {
     "name": "stdout",
     "output_type": "stream",
     "text": [
      "<class 'pandas.core.frame.DataFrame'>\n",
      "RangeIndex: 3295 entries, 0 to 3294\n",
      "Data columns (total 8 columns):\n",
      " #   Column                               Non-Null Count  Dtype  \n",
      "---  ------                               --------------  -----  \n",
      " 0   Unnamed: 0                           3295 non-null   int64  \n",
      " 1   Total_Capacity_in_kWh_month          3295 non-null   float64\n",
      " 2   Total_Availability_day_in_hours      1459 non-null   float64\n",
      " 3   Total_Availability_evening_in_hours  3295 non-null   object \n",
      " 4   Total_Reliability                    3295 non-null   object \n",
      " 5   Total_Quality                        1591 non-null   object \n",
      " 6   Total_Legality                       3295 non-null   int64  \n",
      " 7   Total_Health                         1581 non-null   object \n",
      "dtypes: float64(2), int64(2), object(4)\n",
      "memory usage: 206.1+ KB\n"
     ]
    }
   ],
   "source": [
    "Attributes_MTF_Rwanda = pd.read_csv('Attributes_MTF_Rwanda.csv')\n",
    "Attributes_MTF_Rwanda.info()"
   ]
  },
  {
   "cell_type": "code",
   "execution_count": 48,
   "metadata": {
    "ExecuteTime": {
     "end_time": "2020-12-29T12:43:50.425377Z",
     "start_time": "2020-12-29T12:43:50.415382Z"
    }
   },
   "outputs": [],
   "source": [
    "Attributes_MTF_Rwanda = Attributes_MTF_Rwanda.drop(['Unnamed: 0'],axis=1)"
   ]
  },
  {
   "cell_type": "code",
   "execution_count": 49,
   "metadata": {
    "ExecuteTime": {
     "end_time": "2020-12-29T12:43:50.520380Z",
     "start_time": "2020-12-29T12:43:50.430381Z"
    },
    "scrolled": true
   },
   "outputs": [
    {
     "data": {
      "application/vnd.jupyter.widget-view+json": {
       "model_id": "8746518e1f3f4a43a32583ab60da6b86",
       "version_major": 2,
       "version_minor": 0
      },
      "text/plain": [
       "QgridWidget(grid_options={'fullWidthRows': True, 'syncColumnCellResize': True, 'forceFitColumns': False, 'defa…"
      ]
     },
     "metadata": {},
     "output_type": "display_data"
    }
   ],
   "source": [
    "col_options = {\n",
    "    'width': 140,\n",
    "}\n",
    "col_defs = {\n",
    "    'index': {\n",
    "        'width': 40,\n",
    "    }\n",
    "}\n",
    "qgrid.show_grid(Attributes_MTF_Rwanda,column_options=col_options,\n",
    "                               column_definitions=col_defs,\n",
    "                               grid_options={'forceFitColumns': False})"
   ]
  },
  {
   "cell_type": "code",
   "execution_count": 50,
   "metadata": {
    "ExecuteTime": {
     "end_time": "2020-12-29T12:43:50.552379Z",
     "start_time": "2020-12-29T12:43:50.525383Z"
    }
   },
   "outputs": [
    {
     "data": {
      "text/html": [
       "<div>\n",
       "<style scoped>\n",
       "    .dataframe tbody tr th:only-of-type {\n",
       "        vertical-align: middle;\n",
       "    }\n",
       "\n",
       "    .dataframe tbody tr th {\n",
       "        vertical-align: top;\n",
       "    }\n",
       "\n",
       "    .dataframe thead th {\n",
       "        text-align: right;\n",
       "    }\n",
       "</style>\n",
       "<table border=\"1\" class=\"dataframe\">\n",
       "  <thead>\n",
       "    <tr style=\"text-align: right;\">\n",
       "      <th></th>\n",
       "      <th>Total_Capacity_in_kWh_month</th>\n",
       "      <th>Total_Availability_day_in_hours</th>\n",
       "      <th>Total_Availability_evening_in_hours</th>\n",
       "      <th>Total_Reliability</th>\n",
       "      <th>Total_Quality</th>\n",
       "      <th>Total_Legality</th>\n",
       "      <th>Total_Health</th>\n",
       "    </tr>\n",
       "  </thead>\n",
       "  <tbody>\n",
       "    <tr>\n",
       "      <th>0</th>\n",
       "      <td>0.0</td>\n",
       "      <td>NaN</td>\n",
       "      <td>Missing_data</td>\n",
       "      <td>Missing_data</td>\n",
       "      <td>NaN</td>\n",
       "      <td>0</td>\n",
       "      <td>NaN</td>\n",
       "    </tr>\n",
       "    <tr>\n",
       "      <th>1</th>\n",
       "      <td>0.0</td>\n",
       "      <td>NaN</td>\n",
       "      <td>Missing_data</td>\n",
       "      <td>Missing_data</td>\n",
       "      <td>NaN</td>\n",
       "      <td>-1</td>\n",
       "      <td>NaN</td>\n",
       "    </tr>\n",
       "    <tr>\n",
       "      <th>2</th>\n",
       "      <td>0.0</td>\n",
       "      <td>NaN</td>\n",
       "      <td>Missing_data</td>\n",
       "      <td>Missing_data</td>\n",
       "      <td>NaN</td>\n",
       "      <td>-1</td>\n",
       "      <td>NaN</td>\n",
       "    </tr>\n",
       "    <tr>\n",
       "      <th>3</th>\n",
       "      <td>0.0</td>\n",
       "      <td>NaN</td>\n",
       "      <td>Missing_data</td>\n",
       "      <td>Missing_data</td>\n",
       "      <td>NaN</td>\n",
       "      <td>-1</td>\n",
       "      <td>NaN</td>\n",
       "    </tr>\n",
       "    <tr>\n",
       "      <th>4</th>\n",
       "      <td>0.0</td>\n",
       "      <td>NaN</td>\n",
       "      <td>Missing_data</td>\n",
       "      <td>Missing_data</td>\n",
       "      <td>NaN</td>\n",
       "      <td>-1</td>\n",
       "      <td>NaN</td>\n",
       "    </tr>\n",
       "  </tbody>\n",
       "</table>\n",
       "</div>"
      ],
      "text/plain": [
       "   Total_Capacity_in_kWh_month  Total_Availability_day_in_hours  \\\n",
       "0                          0.0                              NaN   \n",
       "1                          0.0                              NaN   \n",
       "2                          0.0                              NaN   \n",
       "3                          0.0                              NaN   \n",
       "4                          0.0                              NaN   \n",
       "\n",
       "  Total_Availability_evening_in_hours Total_Reliability Total_Quality  \\\n",
       "0                        Missing_data      Missing_data           NaN   \n",
       "1                        Missing_data      Missing_data           NaN   \n",
       "2                        Missing_data      Missing_data           NaN   \n",
       "3                        Missing_data      Missing_data           NaN   \n",
       "4                        Missing_data      Missing_data           NaN   \n",
       "\n",
       "   Total_Legality Total_Health  \n",
       "0               0          NaN  \n",
       "1              -1          NaN  \n",
       "2              -1          NaN  \n",
       "3              -1          NaN  \n",
       "4              -1          NaN  "
      ]
     },
     "execution_count": 50,
     "metadata": {},
     "output_type": "execute_result"
    }
   ],
   "source": [
    "Attributes_MTF_Rwanda.head()"
   ]
  },
  {
   "cell_type": "code",
   "execution_count": 51,
   "metadata": {
    "ExecuteTime": {
     "end_time": "2020-12-29T12:43:50.583378Z",
     "start_time": "2020-12-29T12:43:50.556380Z"
    }
   },
   "outputs": [],
   "source": [
    "Attributes_MTF_Rwanda['Total_Capacity_in_kWh_month'] = Attributes_MTF_Rwanda['Total_Capacity_in_kWh_month'].replace('Missing_data', np.nan)\n",
    "Attributes_MTF_Rwanda['Total_Availability_day_in_hours'] = Attributes_MTF_Rwanda['Total_Availability_day_in_hours'].replace('Missing_data', np.nan)\n",
    "Attributes_MTF_Rwanda['Total_Availability_evening_in_hours'] = Attributes_MTF_Rwanda['Total_Availability_evening_in_hours'].replace('Missing_data', np.nan)\n",
    "Attributes_MTF_Rwanda['Total_Reliability'] = Attributes_MTF_Rwanda['Total_Reliability'].replace('Missing_data', np.nan)\n",
    "Attributes_MTF_Rwanda['Total_Quality'] = Attributes_MTF_Rwanda['Total_Quality'].replace('Missing_data', np.nan)\n",
    "Attributes_MTF_Rwanda['Total_Legality'] = Attributes_MTF_Rwanda['Total_Legality'].replace(-1, np.nan)\n",
    "Attributes_MTF_Rwanda['Total_Health'] = Attributes_MTF_Rwanda['Total_Health'].replace('Missing_data', np.nan)"
   ]
  },
  {
   "cell_type": "code",
   "execution_count": 52,
   "metadata": {
    "ExecuteTime": {
     "end_time": "2020-12-29T12:43:50.599382Z",
     "start_time": "2020-12-29T12:43:50.588380Z"
    },
    "scrolled": true
   },
   "outputs": [],
   "source": [
    "#Attributes_MTF_Rwanda.head()"
   ]
  },
  {
   "cell_type": "code",
   "execution_count": 53,
   "metadata": {
    "ExecuteTime": {
     "end_time": "2020-12-29T12:43:50.630374Z",
     "start_time": "2020-12-29T12:43:50.604382Z"
    },
    "scrolled": false
   },
   "outputs": [
    {
     "name": "stdout",
     "output_type": "stream",
     "text": [
      "<class 'pandas.core.frame.DataFrame'>\n",
      "RangeIndex: 3295 entries, 0 to 3294\n",
      "Data columns (total 7 columns):\n",
      " #   Column                               Non-Null Count  Dtype  \n",
      "---  ------                               --------------  -----  \n",
      " 0   Total_Capacity_in_kWh_month          3295 non-null   float64\n",
      " 1   Total_Availability_day_in_hours      1459 non-null   float64\n",
      " 2   Total_Availability_evening_in_hours  1514 non-null   object \n",
      " 3   Total_Reliability                    538 non-null    object \n",
      " 4   Total_Quality                        1458 non-null   object \n",
      " 5   Total_Legality                       1632 non-null   float64\n",
      " 6   Total_Health                         1581 non-null   object \n",
      "dtypes: float64(3), object(4)\n",
      "memory usage: 180.3+ KB\n"
     ]
    }
   ],
   "source": [
    "Attributes_MTF_Rwanda.info()"
   ]
  },
  {
   "cell_type": "code",
   "execution_count": 54,
   "metadata": {
    "ExecuteTime": {
     "end_time": "2020-12-29T12:43:50.662381Z",
     "start_time": "2020-12-29T12:43:50.637381Z"
    }
   },
   "outputs": [
    {
     "data": {
      "text/plain": [
       "24.0    292\n",
       "22.0    240\n",
       "23.0    225\n",
       "20.0    204\n",
       "12.0     74\n",
       "21.0     61\n",
       "15.0     51\n",
       "18.0     46\n",
       "10.0     32\n",
       "6.0      29\n",
       "2.0      24\n",
       "5.0      23\n",
       "19.0     22\n",
       "3.0      21\n",
       "16.0     17\n",
       "4.0      16\n",
       "1.0      16\n",
       "14.0     14\n",
       "17.0     14\n",
       "8.0      12\n",
       "13.0     11\n",
       "11.0      7\n",
       "7.0       5\n",
       "9.0       3\n",
       "Name: Total_Availability_day_in_hours, dtype: int64"
      ]
     },
     "execution_count": 54,
     "metadata": {},
     "output_type": "execute_result"
    }
   ],
   "source": [
    "Attributes_MTF_Rwanda['Total_Availability_day_in_hours'].value_counts()"
   ]
  },
  {
   "cell_type": "code",
   "execution_count": 55,
   "metadata": {
    "ExecuteTime": {
     "end_time": "2020-12-29T12:43:50.692380Z",
     "start_time": "2020-12-29T12:43:50.668382Z"
    }
   },
   "outputs": [],
   "source": [
    "Attributes_MTF_Rwanda['Total_Availability_evening_in_hours'] = pd.to_numeric(Attributes_MTF_Rwanda['Total_Availability_evening_in_hours'])"
   ]
  },
  {
   "cell_type": "code",
   "execution_count": 56,
   "metadata": {
    "ExecuteTime": {
     "end_time": "2020-12-29T12:43:50.738376Z",
     "start_time": "2020-12-29T12:43:50.703383Z"
    },
    "scrolled": true
   },
   "outputs": [
    {
     "data": {
      "text/plain": [
       "4.0    764\n",
       "3.0    394\n",
       "2.0    239\n",
       "1.0    117\n",
       "Name: Total_Availability_evening_in_hours, dtype: int64"
      ]
     },
     "execution_count": 56,
     "metadata": {},
     "output_type": "execute_result"
    }
   ],
   "source": [
    "Attributes_MTF_Rwanda['Total_Availability_evening_in_hours'].value_counts()"
   ]
  },
  {
   "cell_type": "code",
   "execution_count": 57,
   "metadata": {
    "ExecuteTime": {
     "end_time": "2020-12-29T12:43:50.754381Z",
     "start_time": "2020-12-29T12:43:50.743382Z"
    }
   },
   "outputs": [],
   "source": [
    "Attributes_MTF_Rwanda['Total_Reliability'] = pd.to_numeric(Attributes_MTF_Rwanda['Total_Reliability'])"
   ]
  },
  {
   "cell_type": "code",
   "execution_count": 58,
   "metadata": {
    "ExecuteTime": {
     "end_time": "2020-12-29T12:43:50.785376Z",
     "start_time": "2020-12-29T12:43:50.760379Z"
    },
    "scrolled": true
   },
   "outputs": [
    {
     "data": {
      "text/plain": [
       "1.0     207\n",
       "2.0     150\n",
       "3.0      90\n",
       "4.0      42\n",
       "5.0      27\n",
       "6.0      11\n",
       "8.0       5\n",
       "10.0      4\n",
       "7.0       2\n",
       "Name: Total_Reliability, dtype: int64"
      ]
     },
     "execution_count": 58,
     "metadata": {},
     "output_type": "execute_result"
    }
   ],
   "source": [
    "Attributes_MTF_Rwanda['Total_Reliability'].value_counts()"
   ]
  },
  {
   "cell_type": "code",
   "execution_count": 59,
   "metadata": {
    "ExecuteTime": {
     "end_time": "2020-12-29T12:43:50.816381Z",
     "start_time": "2020-12-29T12:43:50.790384Z"
    }
   },
   "outputs": [
    {
     "data": {
      "text/plain": [
       "No     1115\n",
       "Yes     343\n",
       "Name: Total_Quality, dtype: int64"
      ]
     },
     "execution_count": 59,
     "metadata": {},
     "output_type": "execute_result"
    }
   ],
   "source": [
    "Attributes_MTF_Rwanda['Total_Quality'].value_counts()"
   ]
  },
  {
   "cell_type": "code",
   "execution_count": 60,
   "metadata": {
    "ExecuteTime": {
     "end_time": "2020-12-29T12:43:50.848380Z",
     "start_time": "2020-12-29T12:43:50.822382Z"
    }
   },
   "outputs": [],
   "source": [
    "Attributes_MTF_Rwanda['Total_Legality'] = Attributes_MTF_Rwanda['Total_Legality'].astype(str) "
   ]
  },
  {
   "cell_type": "code",
   "execution_count": 61,
   "metadata": {
    "ExecuteTime": {
     "end_time": "2020-12-29T12:43:50.880382Z",
     "start_time": "2020-12-29T12:43:50.854383Z"
    },
    "scrolled": true
   },
   "outputs": [
    {
     "data": {
      "text/plain": [
       "nan    1663\n",
       "1.0    1400\n",
       "2.0     109\n",
       "0.0      41\n",
       "6.0      32\n",
       "3.0      24\n",
       "4.0      14\n",
       "7.0      10\n",
       "5.0       2\n",
       "Name: Total_Legality, dtype: int64"
      ]
     },
     "execution_count": 61,
     "metadata": {},
     "output_type": "execute_result"
    }
   ],
   "source": [
    "Attributes_MTF_Rwanda['Total_Legality'].value_counts()"
   ]
  },
  {
   "cell_type": "code",
   "execution_count": 62,
   "metadata": {
    "ExecuteTime": {
     "end_time": "2020-12-29T12:43:50.911383Z",
     "start_time": "2020-12-29T12:43:50.887381Z"
    },
    "scrolled": true
   },
   "outputs": [
    {
     "data": {
      "text/plain": [
       "No     1575\n",
       "Yes       6\n",
       "Name: Total_Health, dtype: int64"
      ]
     },
     "execution_count": 62,
     "metadata": {},
     "output_type": "execute_result"
    }
   ],
   "source": [
    "Attributes_MTF_Rwanda['Total_Health'].value_counts()"
   ]
  },
  {
   "cell_type": "code",
   "execution_count": 63,
   "metadata": {
    "ExecuteTime": {
     "end_time": "2020-12-29T12:43:50.942383Z",
     "start_time": "2020-12-29T12:43:50.917385Z"
    }
   },
   "outputs": [
    {
     "name": "stdout",
     "output_type": "stream",
     "text": [
      "<class 'pandas.core.frame.DataFrame'>\n",
      "RangeIndex: 3295 entries, 0 to 3294\n",
      "Data columns (total 7 columns):\n",
      " #   Column                               Non-Null Count  Dtype  \n",
      "---  ------                               --------------  -----  \n",
      " 0   Total_Capacity_in_kWh_month          3295 non-null   float64\n",
      " 1   Total_Availability_day_in_hours      1459 non-null   float64\n",
      " 2   Total_Availability_evening_in_hours  1514 non-null   float64\n",
      " 3   Total_Reliability                    538 non-null    float64\n",
      " 4   Total_Quality                        1458 non-null   object \n",
      " 5   Total_Legality                       3295 non-null   object \n",
      " 6   Total_Health                         1581 non-null   object \n",
      "dtypes: float64(4), object(3)\n",
      "memory usage: 180.3+ KB\n"
     ]
    }
   ],
   "source": [
    "Attributes_MTF_Rwanda.info()"
   ]
  },
  {
   "cell_type": "markdown",
   "metadata": {
    "ExecuteTime": {
     "end_time": "2020-12-28T23:56:37.853588Z",
     "start_time": "2020-12-28T23:56:37.840595Z"
    }
   },
   "source": [
    "## Generaing plots"
   ]
  },
  {
   "cell_type": "code",
   "execution_count": 64,
   "metadata": {
    "ExecuteTime": {
     "end_time": "2020-12-29T12:43:50.974381Z",
     "start_time": "2020-12-29T12:43:50.947386Z"
    }
   },
   "outputs": [],
   "source": [
    "X_A = pd.merge(Attributes_MTF_Rwanda, X, left_index=True, right_index=True)\n",
    "X_A['cluster'] = X['cluster']\n",
    "X_A['E_Index'] = HH_MTF_Rwanda['E_Index'].astype(int)"
   ]
  },
  {
   "cell_type": "markdown",
   "metadata": {},
   "source": [
    "### Cap-Av"
   ]
  },
  {
   "cell_type": "code",
   "execution_count": 65,
   "metadata": {
    "ExecuteTime": {
     "end_time": "2020-12-29T12:43:52.434381Z",
     "start_time": "2020-12-29T12:43:50.979384Z"
    },
    "scrolled": true
   },
   "outputs": [
    {
     "data": {
      "image/png": "[encoded data removed]",
      "text/plain": [
       "<Figure size 720x360 with 1 Axes>"
      ]
     },
     "metadata": {},
     "output_type": "display_data"
    }
   ],
   "source": [
    "fig, axes = plt.subplots(figsize=(10, 5))\n",
    "axes.set_ylim(-0.4,X_A['Total_Availability_day_in_hours'].max()+0.4)\n",
    "axes.set_xlim(-1,X_A['Total_Capacity_in_kWh_month'].max())\n",
    "sns.scatterplot(X_A['Total_Capacity_in_kWh_month'], X_A['Total_Availability_day_in_hours'], hue=sorted(X['cluster']), \n",
    "                palette=['#008000','#FF0000','#0000FF'])\n",
    "plt.legend(loc='lower right')\n",
    "plt.title('3 Clusters - Total Capacity  vs Total Availability during the day')\n",
    "plt.xlabel(\"Total Capacity in kWh per month\")\n",
    "plt.ylabel(\"Availability in hours\")\n",
    "plt.savefig('3 Clusters - Capacity vs Availabilty_day.jpg',dpi=300)\n",
    "plt.show()"
   ]
  },
  {
   "cell_type": "markdown",
   "metadata": {},
   "source": [
    "### Cap-Av-E_Index"
   ]
  },
  {
   "cell_type": "code",
   "execution_count": 66,
   "metadata": {
    "ExecuteTime": {
     "end_time": "2020-12-29T12:44:07.267383Z",
     "start_time": "2020-12-29T12:43:52.439382Z"
    }
   },
   "outputs": [
    {
     "data": {
      "image/png": "[encoded data removed]",
      "text/plain": [
       "<Figure size 720x360 with 1 Axes>"
      ]
     },
     "metadata": {},
     "output_type": "display_data"
    }
   ],
   "source": [
    "\n",
    "fig = plt.figure(figsize = (10,5))\n",
    "ax = fig.add_subplot(1,1,1)\n",
    "# set the axes limit according to dataframe values\n",
    "ax.set_ylim(-0.4,X_A['Total_Availability_day_in_hours'].max()+0.4)\n",
    "ax.set_xlim(-1,X_A['Total_Capacity_in_kWh_month'].max())\n",
    "\n",
    "# list of all cluster labels\n",
    "clusters = X_A['cluster'].unique()       \n",
    "\n",
    "for i in range(0,len(clusters)):\n",
    "    cluster = clusters[i]\n",
    "    X_A_cluster = X_A.loc[X_A['cluster']==cluster,:]\n",
    "    \n",
    "    for l, row in X_A_cluster.iterrows():\n",
    "        #add the data point as text\n",
    "        ax.annotate(s=row['E_Index'], \n",
    "                     xy=(row['Total_Capacity_in_kWh_month'],row['Total_Availability_day_in_hours']),\n",
    "                     horizontalalignment='center',\n",
    "                     verticalalignment='center',\n",
    "                     size=7,\n",
    "                     color=customPalette[i]) \n",
    "\n",
    "\n",
    "ax.set_title('3 Clusters - Total Capacity  vs Total Availability during the day showing E_Index on each point')\n",
    "ax.set_xlabel('Total Capacity in kWh per month')\n",
    "ax.set_ylabel('Availability in hours')\n",
    " \n",
    "plt.savefig('3 Clusters - E_Index - Capacity vs Availabilty_day.jpg',dpi=300)\n",
    "plt.show()"
   ]
  },
  {
   "cell_type": "markdown",
   "metadata": {},
   "source": [
    "### Cap-Av_e"
   ]
  },
  {
   "cell_type": "code",
   "execution_count": 67,
   "metadata": {
    "ExecuteTime": {
     "end_time": "2020-12-29T12:44:08.145390Z",
     "start_time": "2020-12-29T12:44:07.271391Z"
    },
    "scrolled": true
   },
   "outputs": [
    {
     "data": {
      "image/png": "[encoded data removed]",
      "text/plain": [
       "<Figure size 720x216 with 1 Axes>"
      ]
     },
     "metadata": {},
     "output_type": "display_data"
    }
   ],
   "source": [
    "fig, axes = plt.subplots(figsize=(10, 3))\n",
    "#axes.set_ylim(0,max(X['size'])+1)\n",
    "#axes.set_xlim(-1,max(X['E_Index'])+1)\n",
    "sns.scatterplot(X_A['Total_Capacity_in_kWh_month'], X_A['Total_Availability_evening_in_hours'], hue=sorted(X['cluster']), \n",
    "                palette=['#008000','#FF0000','#0000FF'])\n",
    "plt.legend(loc='upper right')\n",
    "plt.title('3 Clusters - Total Capacity  vs Total Availability during the evening')\n",
    "plt.xlabel(\"Total Capacity in kWh per month\")\n",
    "plt.ylabel(\"Availability in_hours\")\n",
    "plt.savefig('3 Clusters - Capacity vs Availabilty_evening.jpg',dpi=300)\n",
    "plt.show()"
   ]
  },
  {
   "cell_type": "markdown",
   "metadata": {},
   "source": [
    "### Cap-Av_e-E_Index"
   ]
  },
  {
   "cell_type": "code",
   "execution_count": 68,
   "metadata": {
    "ExecuteTime": {
     "end_time": "2020-12-29T12:44:21.927410Z",
     "start_time": "2020-12-29T12:44:08.150384Z"
    },
    "scrolled": true
   },
   "outputs": [
    {
     "data": {
      "image/png": "[encoded data removed]",
      "text/plain": [
       "<Figure size 720x216 with 1 Axes>"
      ]
     },
     "metadata": {},
     "output_type": "display_data"
    }
   ],
   "source": [
    "\n",
    "fig = plt.figure(figsize = (10,3))\n",
    "ax = fig.add_subplot(1,1,1)\n",
    "# set the axes limit according to dataframe values\n",
    "ax.set_ylim(0.4,X_A['Total_Availability_evening_in_hours'].max()+0.4)\n",
    "ax.set_xlim(-1,X_A['Total_Capacity_in_kWh_month'].max())\n",
    "\n",
    "# list of all cluster labels\n",
    "clusters = X_A['cluster'].unique()       \n",
    "\n",
    "for i in range(0,len(clusters)):\n",
    "    cluster = clusters[i]\n",
    "    X_A_cluster = X_A.loc[X_A['cluster']==cluster,:]\n",
    "    \n",
    "    for l, row in X_A_cluster.iterrows():\n",
    "        #add the data point as text\n",
    "        ax.annotate(s=row['E_Index'], \n",
    "                     xy=(row['Total_Capacity_in_kWh_month'],row['Total_Availability_evening_in_hours']),\n",
    "                     horizontalalignment='center',\n",
    "                     verticalalignment='center',\n",
    "                     size=7,\n",
    "                     color=customPalette[i]) \n",
    "\n",
    "\n",
    "ax.set_title('3 Clusters - Total Capacity  vs Total Availability during the evening showing E_Index on each point')\n",
    "ax.set_xlabel('Total Capacity in kWh per month')\n",
    "ax.set_ylabel('Availability in hours')\n",
    " \n",
    "plt.savefig('3 Clusters - E_Index - Capacity vs Availabilty_evening.jpg',dpi=300)\n",
    "plt.show()"
   ]
  },
  {
   "cell_type": "markdown",
   "metadata": {},
   "source": [
    "### Cap-Re"
   ]
  },
  {
   "cell_type": "code",
   "execution_count": 69,
   "metadata": {
    "ExecuteTime": {
     "end_time": "2020-12-29T12:44:22.782382Z",
     "start_time": "2020-12-29T12:44:21.959396Z"
    }
   },
   "outputs": [
    {
     "data": {
      "image/png": "[encoded data removed]",
      "text/plain": [
       "<Figure size 1008x288 with 1 Axes>"
      ]
     },
     "metadata": {},
     "output_type": "display_data"
    }
   ],
   "source": [
    "fig, axes = plt.subplots(figsize=(14, 4))\n",
    "#axes.set_ylim(0,max(X['size'])+1)\n",
    "#axes.set_xlim(-1,max(X['E_Index'])+1)\n",
    "sns.scatterplot(X_A['Total_Capacity_in_kWh_month'], X_A['Total_Reliability'], hue=sorted(X['cluster']), \n",
    "                palette=['#008000','#FF0000','#0000FF'])\n",
    "plt.legend(loc='upper right')\n",
    "plt.title('3 Clusters - Total Capacity  vs Total Reliability')\n",
    "plt.xlabel(\"Total Capacity\")\n",
    "plt.ylabel(\"Number of electricity disruptions\")\n",
    "plt.savefig('3 Clusters - Capacity vs Reliability.jpg',dpi=300)\n",
    "plt.show()"
   ]
  },
  {
   "cell_type": "markdown",
   "metadata": {},
   "source": [
    "### Cap-Re-E_Index"
   ]
  },
  {
   "cell_type": "code",
   "execution_count": 70,
   "metadata": {
    "ExecuteTime": {
     "end_time": "2020-12-29T12:44:35.547379Z",
     "start_time": "2020-12-29T12:44:22.798386Z"
    }
   },
   "outputs": [
    {
     "data": {
      "image/png": "[encoded data removed]",
      "text/plain": [
       "<Figure size 1008x288 with 1 Axes>"
      ]
     },
     "metadata": {},
     "output_type": "display_data"
    }
   ],
   "source": [
    "fig = plt.figure(figsize = (14,4))\n",
    "ax = fig.add_subplot(1,1,1)\n",
    "# set the axes limit according to dataframe values\n",
    "ax.set_ylim(-1,X_A['Total_Reliability'].max()+1)\n",
    "ax.set_xlim(-1,X_A['Total_Capacity_in_kWh_month'].max())\n",
    "\n",
    "# list of all cluster labels\n",
    "clusters = X_A['cluster'].unique()       \n",
    "\n",
    "for i in range(0,len(clusters)):\n",
    "    cluster = clusters[i]\n",
    "    X_A_cluster = X_A.loc[X_A['cluster']==cluster,:]\n",
    "    \n",
    "    for l, row in X_A_cluster.iterrows():\n",
    "        #add the data point as text\n",
    "        ax.annotate(s=row['E_Index'], \n",
    "                     xy=(row['Total_Capacity_in_kWh_month'],row['Total_Reliability']),\n",
    "                     horizontalalignment='center',\n",
    "                     verticalalignment='center',\n",
    "                     size=7,\n",
    "                     color=customPalette[i]) \n",
    "\n",
    "\n",
    "ax.set_title('3 Clusters - Total Capacity  vs Total Reliability showing E_Index on each point')\n",
    "ax.set_xlabel('Total Capacity in kWh per month')\n",
    "ax.set_ylabel('Number of electricity disruptions')\n",
    " \n",
    "plt.savefig('3 Clusters - E_Index - Capacity vs Total_Reliability.jpg',dpi=300)\n",
    "plt.show()"
   ]
  },
  {
   "cell_type": "markdown",
   "metadata": {},
   "source": [
    "### Cap-Qa"
   ]
  },
  {
   "cell_type": "code",
   "execution_count": 71,
   "metadata": {
    "ExecuteTime": {
     "end_time": "2020-12-29T12:44:36.211386Z",
     "start_time": "2020-12-29T12:44:35.552392Z"
    },
    "scrolled": true
   },
   "outputs": [
    {
     "ename": "NameError",
     "evalue": "name 'X_Af' is not defined",
     "output_type": "error",
     "traceback": [
      "\u001b[1;31m---------------------------------------------------------------------------\u001b[0m",
      "\u001b[1;31mNameError\u001b[0m                                 Traceback (most recent call last)",
      "\u001b[1;32m<ipython-input-71-a5084243abfd>\u001b[0m in \u001b[0;36m<module>\u001b[1;34m\u001b[0m\n\u001b[0;32m      1\u001b[0m \u001b[0mfig\u001b[0m\u001b[1;33m,\u001b[0m \u001b[0maxes\u001b[0m \u001b[1;33m=\u001b[0m \u001b[0mplt\u001b[0m\u001b[1;33m.\u001b[0m\u001b[0msubplots\u001b[0m\u001b[1;33m(\u001b[0m\u001b[0mfigsize\u001b[0m\u001b[1;33m=\u001b[0m\u001b[1;33m(\u001b[0m\u001b[1;36m15\u001b[0m\u001b[1;33m,\u001b[0m\u001b[1;36m1.6\u001b[0m\u001b[1;33m)\u001b[0m\u001b[1;33m)\u001b[0m\u001b[1;33m\u001b[0m\u001b[1;33m\u001b[0m\u001b[0m\n\u001b[1;32m----> 2\u001b[1;33m \u001b[0maxes\u001b[0m\u001b[1;33m.\u001b[0m\u001b[0mset_ylim\u001b[0m\u001b[1;33m(\u001b[0m\u001b[1;33m-\u001b[0m\u001b[1;36m0.4\u001b[0m\u001b[1;33m,\u001b[0m\u001b[0mX_Af\u001b[0m\u001b[1;33m[\u001b[0m\u001b[1;34m'Total_Quality'\u001b[0m\u001b[1;33m]\u001b[0m\u001b[1;33m.\u001b[0m\u001b[0mmax\u001b[0m\u001b[1;33m(\u001b[0m\u001b[1;33m)\u001b[0m\u001b[1;33m+\u001b[0m\u001b[1;36m0.4\u001b[0m\u001b[1;33m)\u001b[0m\u001b[1;33m\u001b[0m\u001b[1;33m\u001b[0m\u001b[0m\n\u001b[0m\u001b[0;32m      3\u001b[0m \u001b[0maxes\u001b[0m\u001b[1;33m.\u001b[0m\u001b[0mset_xlim\u001b[0m\u001b[1;33m(\u001b[0m\u001b[1;33m-\u001b[0m\u001b[1;36m1\u001b[0m\u001b[1;33m,\u001b[0m\u001b[0mX_Af\u001b[0m\u001b[1;33m[\u001b[0m\u001b[1;34m'Total_Capacity_in_kWh_month'\u001b[0m\u001b[1;33m]\u001b[0m\u001b[1;33m.\u001b[0m\u001b[0mmax\u001b[0m\u001b[1;33m(\u001b[0m\u001b[1;33m)\u001b[0m\u001b[1;33m)\u001b[0m\u001b[1;33m\u001b[0m\u001b[1;33m\u001b[0m\u001b[0m\n\u001b[0;32m      4\u001b[0m sns.scatterplot(X_A['Total_Capacity_in_kWh_month'], X_A['Total_Quality'], hue=sorted(X['cluster']), \n\u001b[0;32m      5\u001b[0m                 palette=['#008000','#FF0000','#0000FF'])\n",
      "\u001b[1;31mNameError\u001b[0m: name 'X_Af' is not defined"
     ]
    },
    {
     "data": {
      "image/png": "[encoded data removed]",
      "text/plain": [
       "<Figure size 1080x115.2 with 1 Axes>"
      ]
     },
     "metadata": {},
     "output_type": "display_data"
    }
   ],
   "source": [
    "fig, axes = plt.subplots(figsize=(15,1.6))\n",
    "axes.set_ylim(-0.4,X_Af['Total_Quality'].max()+0.4)\n",
    "axes.set_xlim(-1,X_Af['Total_Capacity_in_kWh_month'].max())\n",
    "sns.scatterplot(X_A['Total_Capacity_in_kWh_month'], X_A['Total_Quality'], hue=sorted(X['cluster']), \n",
    "                palette=['#008000','#FF0000','#0000FF'])\n",
    "plt.legend(loc='upper right')\n",
    "plt.title('3 Clusters - Total Capacity  vs Total Quality')\n",
    "plt.xlabel(\"Total Capacity in kWh per month\")\n",
    "plt.ylabel(\"Damaged appliances\")\n",
    "plt.savefig('3 Clusters - Capacity vs Total_Quality.jpg',dpi=300)\n",
    "plt.show()"
   ]
  },
  {
   "cell_type": "markdown",
   "metadata": {},
   "source": [
    "### Cap-Qa-E_Index"
   ]
  },
  {
   "cell_type": "code",
   "execution_count": null,
   "metadata": {
    "ExecuteTime": {
     "end_time": "2020-12-29T12:44:36.221379Z",
     "start_time": "2020-12-29T12:43:37.656Z"
    }
   },
   "outputs": [],
   "source": [
    "X_Af = X_A\n",
    "X_Af['Total_Quality'] = pd.factorize(X_Af['Total_Quality'])[0]\n",
    "X_Af['Total_Quality'].value_counts()"
   ]
  },
  {
   "cell_type": "code",
   "execution_count": null,
   "metadata": {
    "ExecuteTime": {
     "end_time": "2020-12-29T12:44:36.226382Z",
     "start_time": "2020-12-29T12:43:37.663Z"
    },
    "scrolled": true
   },
   "outputs": [],
   "source": [
    "fig = plt.figure(figsize = (15,1.6))\n",
    "ax = fig.add_subplot(1,1,1)\n",
    "# set the axes limit according to dataframe values\n",
    "ax.set_ylim(-0.4,X_Af['Total_Quality'].max()+0.4)\n",
    "ax.set_xlim(-1,X_Af['Total_Capacity_in_kWh_month'].max())\n",
    "\n",
    "# list of all cluster labels\n",
    "clusters = X_A['cluster'].unique()       \n",
    "\n",
    "for i in range(0,len(clusters)):\n",
    "    cluster = clusters[i]\n",
    "    X_Af_cluster = X_Af.loc[X_Af['cluster']==cluster,:]\n",
    "    \n",
    "    for l, row in X_Af_cluster.iterrows():\n",
    "        #add the data point as text\n",
    "        ax.annotate(s=row['E_Index'], \n",
    "                     xy=(row['Total_Capacity_in_kWh_month'],row['Total_Quality']),\n",
    "                     horizontalalignment='center',\n",
    "                     verticalalignment='center',\n",
    "                     size=7,\n",
    "                     color=customPalette[i]) \n",
    "\n",
    "\n",
    "ax.set_title('3 Clusters - Total Capacity  vs Total Quality showing E_Index on each point')\n",
    "ax.set_xlabel('Total Capacity in kWh per month')\n",
    "ax.set_ylabel('Damaged appliances')\n",
    " \n",
    "plt.savefig('3 Clusters - E_Index - Capacity vs Total_Quality.jpg',dpi=300)\n",
    "plt.show()"
   ]
  },
  {
   "cell_type": "markdown",
   "metadata": {},
   "source": [
    "### Cap-Le"
   ]
  },
  {
   "cell_type": "code",
   "execution_count": null,
   "metadata": {
    "ExecuteTime": {
     "end_time": "2020-12-29T12:44:36.231383Z",
     "start_time": "2020-12-29T12:43:37.672Z"
    }
   },
   "outputs": [],
   "source": [
    "fig, axes = plt.subplots(figsize=(10, 3))\n",
    "axes.set_ylim(0.6,9)\n",
    "axes.set_xlim(-1,max(X_A['Total_Capacity_in_kWh_month'])+1)\n",
    "sns.scatterplot(X_A['Total_Capacity_in_kWh_month'], X_A['Total_Legality'], hue=sorted(X['cluster']), \n",
    "                palette=['#008000','#FF0000','#0000FF'])\n",
    "plt.legend(loc='upper right')\n",
    "plt.title('3 Clusters - Total Capacity vs Total Legality') \n",
    "plt.xlabel(\"Total Capacity in kWh per month\")\n",
    "#plt.ylabel(\"Hours of electricity each day\")\n",
    "plt.savefig('3 Clusters - Capacity vs Total_Legality.jpg',dpi=300)\n",
    "plt.show()"
   ]
  },
  {
   "cell_type": "markdown",
   "metadata": {},
   "source": [
    "### Cap-Le-E_Index"
   ]
  },
  {
   "cell_type": "code",
   "execution_count": null,
   "metadata": {
    "ExecuteTime": {
     "end_time": "2020-12-29T12:44:36.238384Z",
     "start_time": "2020-12-29T12:43:37.686Z"
    }
   },
   "outputs": [],
   "source": [
    "X_Af = X_A\n",
    "X_Af['Total_Legality'] = pd.factorize(X_Af['Total_Legality'])[0]\n",
    "X_Af['Total_Legality'].value_counts()"
   ]
  },
  {
   "cell_type": "code",
   "execution_count": null,
   "metadata": {
    "ExecuteTime": {
     "end_time": "2020-12-29T12:44:36.248402Z",
     "start_time": "2020-12-29T12:43:37.695Z"
    }
   },
   "outputs": [],
   "source": [
    "fig = plt.figure(figsize = (10,3))\n",
    "ax = fig.add_subplot(1,1,1)\n",
    "# set the axes limit according to dataframe values\n",
    "ax.set_ylim(0.6,9)\n",
    "ax.set_xlim(-1,max(X_A['Total_Capacity_in_kWh_month'])+1)\n",
    "\n",
    "# list of all cluster labels\n",
    "clusters = X_A['cluster'].unique()       \n",
    "\n",
    "for i in range(0,len(clusters)):\n",
    "    cluster = clusters[i]\n",
    "    X_Af_cluster = X_Af.loc[X_Af['cluster']==cluster,:]\n",
    "    \n",
    "    for l, row in X_Af_cluster.iterrows():\n",
    "        #add the data point as text\n",
    "        ax.annotate(s=row['E_Index'], \n",
    "                     xy=(row['Total_Capacity_in_kWh_month'],row['Total_Legality']),\n",
    "                     horizontalalignment='center',\n",
    "                     verticalalignment='center',\n",
    "                     size=7,\n",
    "                     color=customPalette[i]) \n",
    "\n",
    "\n",
    "ax.set_title('3 Clusters - Total Capacity  vs Total Legality showing E_Index on each point')\n",
    "ax.set_xlabel('Total Capacity in kWh per month')\n",
    "ax.set_ylabel('Total_Legality')\n",
    " \n",
    "plt.savefig('3 Clusters - E_Index - Capacity vs Total_Legality.jpg',dpi=300)\n",
    "plt.show()"
   ]
  },
  {
   "cell_type": "markdown",
   "metadata": {},
   "source": [
    "### Cap-He"
   ]
  },
  {
   "cell_type": "code",
   "execution_count": null,
   "metadata": {
    "ExecuteTime": {
     "end_time": "2020-12-29T12:44:36.253398Z",
     "start_time": "2020-12-29T12:43:37.704Z"
    },
    "scrolled": true
   },
   "outputs": [],
   "source": [
    "fig, axes = plt.subplots(figsize=(15, 1.6))\n",
    "#axes.set_ylim(-0.3,X_Af['Total_Health'].max()+0.4)\n",
    "axes.set_xlim(-1,X_Af['Total_Capacity_in_kWh_month'].max())\n",
    "sns.scatterplot(X_A['Total_Capacity_in_kWh_month'], X_A['Total_Health'], hue=sorted(X['cluster']), \n",
    "                palette=['#008000','#FF0000','#0000FF'])\n",
    "plt.legend(loc='upper right')\n",
    "plt.title('3 Clusters - Total Capacity vs Total Health')\n",
    "plt.xlabel(\"Total Capacity in kWh per month\")\n",
    "plt.ylabel(\"Accidents caused\")\n",
    "plt.savefig('3 Clusters - Capacity vs Total Health.jpg',dpi=300)\n",
    "plt.show()"
   ]
  },
  {
   "cell_type": "markdown",
   "metadata": {},
   "source": [
    "### Cap-He-E_Index"
   ]
  },
  {
   "cell_type": "code",
   "execution_count": null,
   "metadata": {
    "ExecuteTime": {
     "end_time": "2020-12-29T12:44:36.256383Z",
     "start_time": "2020-12-29T12:43:37.712Z"
    }
   },
   "outputs": [],
   "source": [
    "X_Af = X_A\n",
    "X_Af['Total_Health'] = pd.factorize(X_Af['Total_Health'])[0]\n",
    "X_Af['Total_Health'].value_counts()"
   ]
  },
  {
   "cell_type": "code",
   "execution_count": null,
   "metadata": {
    "ExecuteTime": {
     "end_time": "2020-12-29T12:44:36.260381Z",
     "start_time": "2020-12-29T12:43:37.719Z"
    }
   },
   "outputs": [],
   "source": [
    "fig = plt.figure(figsize = (15,1))\n",
    "ax = fig.add_subplot(1,1,1)\n",
    "# set the axes limit according to dataframe values\n",
    "ax.set_ylim(-0.8,X_Af['Total_Health'].max()+0.4)\n",
    "ax.set_xlim(-1,X_Af['Total_Capacity_in_kWh_month'].max())\n",
    "\n",
    "# list of all cluster labels\n",
    "clusters = X_A['cluster'].unique()       \n",
    "\n",
    "for i in range(0,len(clusters)):\n",
    "    cluster = clusters[i]\n",
    "    X_Af_cluster = X_Af.loc[X_Af['cluster']==cluster,:]\n",
    "    \n",
    "    for l, row in X_Af_cluster.iterrows():\n",
    "        #add the data point as text\n",
    "        ax.annotate(s=row['E_Index'], \n",
    "                     xy=(row['Total_Capacity_in_kWh_month'],row['Total_Health']),\n",
    "                     horizontalalignment='center',\n",
    "                     verticalalignment='center',\n",
    "                     size=7,\n",
    "                     color=customPalette[i]) \n",
    "\n",
    "\n",
    "ax.set_title('3 Clusters - Total Capacity  vs Total Health showing E_Index on each point')\n",
    "ax.set_xlabel('Total Capacity in kWh per month')\n",
    "ax.set_ylabel('Accidents caused')\n",
    " \n",
    "plt.savefig('3 Clusters - E_Index - Capacity vs Total_Health.jpg',dpi=300)\n",
    "plt.show()"
   ]
  },
  {
   "cell_type": "markdown",
   "metadata": {},
   "source": [
    "## Test Markers with labels centered on the cluster means\n"
   ]
  },
  {
   "cell_type": "code",
   "execution_count": null,
   "metadata": {
    "ExecuteTime": {
     "end_time": "2020-12-29T12:44:36.265383Z",
     "start_time": "2020-12-29T12:43:37.727Z"
    }
   },
   "outputs": [],
   "source": [
    "qgrid.show_grid(X_A,column_options=col_options,\n",
    "                               column_definitions=col_defs,\n",
    "                               grid_options={'forceFitColumns': False})"
   ]
  },
  {
   "cell_type": "markdown",
   "metadata": {},
   "source": [
    "## PCA Projection to 2D"
   ]
  },
  {
   "cell_type": "markdown",
   "metadata": {
    "ExecuteTime": {
     "end_time": "2020-12-28T22:18:04.574505Z",
     "start_time": "2020-12-28T22:18:04.555515Z"
    }
   },
   "source": [
    "### Standarizing and scaling the parameters"
   ]
  },
  {
   "cell_type": "markdown",
   "metadata": {},
   "source": [
    "#### Non-categorical variables"
   ]
  },
  {
   "cell_type": "code",
   "execution_count": null,
   "metadata": {
    "ExecuteTime": {
     "end_time": "2020-12-29T12:44:36.267385Z",
     "start_time": "2020-12-29T12:43:37.740Z"
    }
   },
   "outputs": [],
   "source": [
    "from sklearn import preprocessing\n",
    "# Get column names first\n",
    "# Non-categorical variables\n",
    "nonCat_X = X.filter(['C22', 'C64','C88','C117','C119A','C26A','C26B','C68A','C68B','C107A','C107B','C127','C137A','C137B','C172A','C172B','C27A','C27B','C69A','C69B','C108A','C108B','C138A','C138B','C173A','C173B','C29A','C29B','C71A','C71B'])\n",
    "X_names = nonCat_X.columns\n",
    "# Create the Scaler object\n",
    "scaler = preprocessing.StandardScaler()\n",
    "# Fit your data on the scaler object\n",
    "scaled_X = scaler.fit_transform(nonCat_X)\n",
    "scaled_X = pd.DataFrame(scaled_X, columns=X_names)\n",
    "scaled_X.head(5)"
   ]
  },
  {
   "cell_type": "code",
   "execution_count": null,
   "metadata": {
    "ExecuteTime": {
     "end_time": "2020-12-29T12:44:36.270382Z",
     "start_time": "2020-12-29T12:43:37.747Z"
    }
   },
   "outputs": [],
   "source": [
    "X['E_Index'] = HH_MTF_Rwanda['E_Index']"
   ]
  },
  {
   "cell_type": "code",
   "execution_count": null,
   "metadata": {
    "ExecuteTime": {
     "end_time": "2020-12-29T12:44:36.272388Z",
     "start_time": "2020-12-29T12:43:37.753Z"
    }
   },
   "outputs": [],
   "source": [
    "#X.info()"
   ]
  },
  {
   "cell_type": "code",
   "execution_count": null,
   "metadata": {
    "ExecuteTime": {
     "end_time": "2020-12-29T12:44:36.275383Z",
     "start_time": "2020-12-29T12:43:37.759Z"
    }
   },
   "outputs": [],
   "source": [
    "X_dummy = X.drop(['C22', 'C64','C88','C117','C119A','C26A','C26B','C68A','C68B','C107A','C107B','C127','C137A','C137B','C172A','C172B','C27A','C27B','C69A','C69B','C108A','C108B','C138A','C138B','C173A','C173B','C29A','C29B','C71A','C71B'], axis=1)"
   ]
  },
  {
   "cell_type": "code",
   "execution_count": null,
   "metadata": {
    "ExecuteTime": {
     "end_time": "2020-12-29T12:44:36.278383Z",
     "start_time": "2020-12-29T12:43:37.771Z"
    }
   },
   "outputs": [],
   "source": [
    "X_dummy.head()"
   ]
  },
  {
   "cell_type": "code",
   "execution_count": null,
   "metadata": {
    "ExecuteTime": {
     "end_time": "2020-12-29T12:44:36.285383Z",
     "start_time": "2020-12-29T12:43:37.777Z"
    }
   },
   "outputs": [],
   "source": [
    "Xs = scaled_X.join(X_dummy, how='outer')\n",
    "Xs.head()"
   ]
  },
  {
   "cell_type": "code",
   "execution_count": null,
   "metadata": {
    "ExecuteTime": {
     "end_time": "2020-12-29T12:44:36.289386Z",
     "start_time": "2020-12-29T12:43:37.784Z"
    }
   },
   "outputs": [],
   "source": [
    "from sklearn.decomposition import PCA\n",
    "pca = PCA(n_components=2)\n",
    "x_pca = Xs.drop(['label','cluster','E_Index'], axis=1)\n",
    "principalComponents = pca.fit_transform(x_pca)\n",
    "principalDf = pd.DataFrame(data = principalComponents\n",
    "             , columns = ['principal component 1', 'principal component 2'])\n",
    "\n",
    "df_pca = pd.concat([principalDf, X[['cluster']]], axis = 1)\n",
    "df_pca.info()"
   ]
  },
  {
   "cell_type": "code",
   "execution_count": null,
   "metadata": {
    "ExecuteTime": {
     "end_time": "2020-12-29T12:44:36.292378Z",
     "start_time": "2020-12-29T12:43:37.791Z"
    },
    "scrolled": false
   },
   "outputs": [],
   "source": [
    "fig = plt.figure(figsize = (10,8))\n",
    "ax = fig.add_subplot(1,1,1)\n",
    "ax.set_ylim(-1,1)\n",
    "ax.set_xlim(-0.4,0.2)\n",
    "ax.set_xlabel('Principal Component 1', fontsize = 15)\n",
    "ax.set_ylabel('Principal Component 2', fontsize = 15)\n",
    "ax.set_title('2 component PCA with 3 clusters', fontsize = 20)\n",
    "targets = ['A', 'B', 'C']\n",
    "colors = ['#008000','#FF0000','#0000FF']\n",
    "for target, color in zip(targets,colors):\n",
    "    indicesToKeep = df_pca['cluster'] == target\n",
    "    ax.scatter(df_pca.loc[indicesToKeep, 'principal component 1']\n",
    "               , df_pca.loc[indicesToKeep, 'principal component 2']\n",
    "               , c = color\n",
    "               , s = 5)\n",
    "ax.legend(targets)\n",
    "ax.grid()\n",
    "plt.savefig('2D-PCA_3_clusters.jpg',dpi=300)"
   ]
  },
  {
   "cell_type": "code",
   "execution_count": null,
   "metadata": {
    "ExecuteTime": {
     "end_time": "2020-12-29T12:44:36.294383Z",
     "start_time": "2020-12-29T12:43:37.799Z"
    }
   },
   "outputs": [],
   "source": [
    "fig = plt.figure(figsize = (10,8))\n",
    "ax = fig.add_subplot(1,1,1)\n",
    "ax.set_ylim(-0.75,0.25)\n",
    "ax.set_xlim(-0.15,0.1)\n",
    "ax.set_xlabel('Principal Component 1', fontsize = 15)\n",
    "ax.set_ylabel('Principal Component 2', fontsize = 15)\n",
    "ax.set_title('2 component PCA with 3 clusters', fontsize = 20)\n",
    "targets = ['A', 'B', 'C']\n",
    "colors = ['#008000','#FF0000','#0000FF']\n",
    "for target, color in zip(targets,colors):\n",
    "    indicesToKeep = df_pca['cluster'] == target\n",
    "    ax.scatter(df_pca.loc[indicesToKeep, 'principal component 1']\n",
    "               , df_pca.loc[indicesToKeep, 'principal component 2']\n",
    "               , c = color\n",
    "               , s = 5)\n",
    "ax.legend(targets)\n",
    "ax.grid()\n",
    "plt.savefig('2D-PCA_3_clusters.jpg',dpi=300)"
   ]
  },
  {
   "cell_type": "code",
   "execution_count": null,
   "metadata": {
    "ExecuteTime": {
     "end_time": "2020-12-29T12:44:36.298380Z",
     "start_time": "2020-12-29T12:43:37.809Z"
    }
   },
   "outputs": [],
   "source": [
    "df_pca.describe()"
   ]
  },
  {
   "cell_type": "markdown",
   "metadata": {
    "ExecuteTime": {
     "end_time": "2020-06-26T18:58:44.543784Z",
     "start_time": "2020-06-26T18:58:44.538780Z"
    }
   },
   "source": [
    "## Numbered points on the PCA projection"
   ]
  },
  {
   "cell_type": "code",
   "execution_count": null,
   "metadata": {
    "ExecuteTime": {
     "end_time": "2020-12-29T12:44:36.301382Z",
     "start_time": "2020-12-29T12:43:37.821Z"
    },
    "scrolled": false
   },
   "outputs": [],
   "source": [
    "# Create a DataFrame which includes df_pca and the variable C_Index\n",
    "df_pca_C = df_pca\n",
    "df_pca_C['E_Index'] = HH_MTF_Rwanda['E_Index'].astype(int)\n",
    "df_pca_C.head()"
   ]
  },
  {
   "cell_type": "code",
   "execution_count": null,
   "metadata": {
    "ExecuteTime": {
     "end_time": "2020-12-29T12:44:36.306382Z",
     "start_time": "2020-12-29T12:43:37.828Z"
    }
   },
   "outputs": [],
   "source": [
    "qgrid.show_grid(df_pca_C,column_options=col_options,\n",
    "                               column_definitions=col_defs,\n",
    "                               grid_options={'forceFitColumns': False})"
   ]
  },
  {
   "cell_type": "code",
   "execution_count": null,
   "metadata": {
    "ExecuteTime": {
     "end_time": "2020-12-29T12:44:36.309388Z",
     "start_time": "2020-12-29T12:43:37.837Z"
    },
    "scrolled": true
   },
   "outputs": [],
   "source": [
    "#This cell throws an error. However, the plot is properly generated and saved in the folder where the notebook is located.\n",
    "#create a new figure and set the x and y limits\n",
    "fig = plt.figure(figsize = (10,8))\n",
    "ax = fig.add_subplot(1,1,1)\n",
    "ax.set_ylim(-0.6,0.25)\n",
    "ax.set_xlim(-0.125,0.1)\n",
    "\n",
    "# list of all cluster labels\n",
    "clusters = df_pca_C['cluster'].unique()       \n",
    "\n",
    "for i in range(0,len(clusters)):\n",
    "    cluster = clusters[i]\n",
    "    df_pca_cluster = df_pca_C.loc[df_pca_C['cluster']==cluster,:]\n",
    "    \n",
    "    for l, row in df_pca_cluster.iterrows():\n",
    "        #add the data point as text\n",
    "        ax.annotate(s=row['E_Index'], \n",
    "                     xy=(row['principal component 1'],row['principal component 2']),\n",
    "                     horizontalalignment='center',\n",
    "                     verticalalignment='center',\n",
    "                     size=7,\n",
    "                     color=customPalette[i]) \n",
    "\n",
    "        #add label placed at the centroid\n",
    "        plt.annotate(cluster, \n",
    "                  df_pca_C.loc[df_pca_C['cluster']==cluster,['principal component 1','principal component 2']].mean(),\n",
    "                  horizontalalignment='center',\n",
    "                  verticalalignment='center',\n",
    "                  size=16, weight='bold',\n",
    "                  color=customPalette[i])\n",
    "\n",
    "ax.set_title('2 component PCA showing E_Index on each point')\n",
    "ax.set_xlabel('principal component 1')\n",
    "ax.set_ylabel('principal component 2')\n",
    " \n",
    "plt.savefig('2D-PCA-numbered-3_clusters.jpg',dpi=300)\n",
    "plt.show()"
   ]
  }
 ],
 "metadata": {
  "kernelspec": {
   "display_name": "Python [conda env:.conda-PhD]",
   "language": "python",
   "name": "conda-env-.conda-PhD-py"
  },
  "language_info": {
   "codemirror_mode": {
    "name": "ipython",
    "version": 3
   },
   "file_extension": ".py",
   "mimetype": "text/x-python",
   "name": "python",
   "nbconvert_exporter": "python",
   "pygments_lexer": "ipython3",
   "version": "3.7.4"
  },
  "toc": {
   "base_numbering": 1,
   "nav_menu": {},
   "number_sections": true,
   "sideBar": true,
   "skip_h1_title": false,
   "title_cell": "Table of Contents",
   "title_sidebar": "Contents",
   "toc_cell": false,
   "toc_position": {
    "height": "calc(100% - 180px)",
    "left": "10px",
    "top": "150px",
    "width": "240.35px"
   },
   "toc_section_display": true,
   "toc_window_display": true
  },
  "varInspector": {
   "cols": {
    "lenName": 16,
    "lenType": 16,
    "lenVar": 40
   },
   "kernels_config": {
    "python": {
     "delete_cmd_postfix": "",
     "delete_cmd_prefix": "del ",
     "library": "var_list.py",
     "varRefreshCmd": "print(var_dic_list())"
    },
    "r": {
     "delete_cmd_postfix": ") ",
     "delete_cmd_prefix": "rm(",
     "library": "var_list.r",
     "varRefreshCmd": "cat(var_dic_list()) "
    }
   },
   "position": {
    "height": "454.85px",
    "left": "795.567px",
    "right": "20px",
    "top": "120px",
    "width": "350px"
   },
   "types_to_exclude": [
    "module",
    "function",
    "builtin_function_or_method",
    "instance",
    "_Feature"
   ],
   "window_display": false
  }
 },
 "nbformat": 4,
 "nbformat_minor": 4
}
