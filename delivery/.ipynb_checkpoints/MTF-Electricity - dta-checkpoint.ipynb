{
 "cells": [
  {
   "cell_type": "markdown",
   "metadata": {
    "ExecuteTime": {
     "end_time": "2020-12-22T00:00:12.111205Z",
     "start_time": "2020-12-22T00:00:12.104208Z"
    }
   },
   "source": [
    "0 MTF for elecricity"
   ]
  },
  {
   "cell_type": "code",
   "execution_count": 1,
   "metadata": {
    "ExecuteTime": {
     "end_time": "2020-12-29T12:42:41.413785Z",
     "start_time": "2020-12-29T12:42:36.786745Z"
    }
   },
   "outputs": [],
   "source": [
    "import numpy as np\n",
    "import pandas as pd\n",
    "import matplotlib.pyplot as plt\n",
    "from matplotlib.pyplot import pie, axis, show\n",
    "import seaborn as sns\n",
    "sns.set_style('darkgrid')\n",
    "import warnings\n",
    "warnings.filterwarnings(\"ignore\")\n",
    "import math\n",
    "import plotly.express as px"
   ]
  },
  {
   "cell_type": "markdown",
   "metadata": {},
   "source": [
    "## Importing the dataset"
   ]
  },
  {
   "cell_type": "code",
   "execution_count": 2,
   "metadata": {
    "ExecuteTime": {
     "end_time": "2020-12-29T12:42:44.297732Z",
     "start_time": "2020-12-29T12:42:41.417740Z"
    }
   },
   "outputs": [
    {
     "data": {
      "text/plain": [
       "(3295, 730)"
      ]
     },
     "execution_count": 2,
     "metadata": {},
     "output_type": "execute_result"
    }
   ],
   "source": [
    "df = pd.read_stata('data/Main dataset.dta')\n",
    "df.shape"
   ]
  },
  {
   "cell_type": "markdown",
   "metadata": {
    "ExecuteTime": {
     "end_time": "2020-12-22T00:01:32.467079Z",
     "start_time": "2020-12-22T00:01:32.456077Z"
    }
   },
   "source": [
    "## Analysing different Attributes\n",
    "\n",
    "Attributes which are analysed for MTF_Rwanda_Questionnaire_Household: \n",
    "\n",
    "1. Capacity\n",
    "2. Availability\n",
    "3. Reliability\n",
    "4. Quality\n",
    "5. Affordability - not collected in this report\n",
    "6. legality\n",
    "7. Health and safety"
   ]
  },
  {
   "cell_type": "code",
   "execution_count": 3,
   "metadata": {
    "ExecuteTime": {
     "end_time": "2020-12-29T12:42:44.327736Z",
     "start_time": "2020-12-29T12:42:44.304738Z"
    }
   },
   "outputs": [
    {
     "data": {
      "text/plain": [
       "Index(['HHID', 'Cluster', 'strata', 'Province', 'District', 'Sector',\n",
       "       'Cellule', 'Village', 'B1', 'B2',\n",
       "       ...\n",
       "       'T28', 'T28B', 'T28C', 'DATE_START', 'TIME_START', 'DATE_END',\n",
       "       'TIME_END', 'cluster', 'sample_weight', 'Locality'],\n",
       "      dtype='object', length=730)"
      ]
     },
     "execution_count": 3,
     "metadata": {},
     "output_type": "execute_result"
    }
   ],
   "source": [
    "df.columns"
   ]
  },
  {
   "cell_type": "markdown",
   "metadata": {},
   "source": [
    "# Attribute: Capacity"
   ]
  },
  {
   "cell_type": "markdown",
   "metadata": {},
   "source": [
    "To find out the power capacity, we need to know the different sources of power available. From our dataset:\n",
    "    \n",
    "1. C22: Power available from the national grid (kWh)\n",
    "2. C64: Power available from the mini grid (kWh)\n",
    "3. C88: Power available from the generator set (kWh)\n",
    "4. C117: Power available from the inverter (kWh)\n",
    "5. C119: Power available from the batteries (this variable uses a,b,c,d; however b,c,d contain no information) (kWh)\n",
    "6. C151: Power available from solar panel (Not present in the dataset but is there in the survey)\n",
    "7. C154: Power available from solar batteries (Not present in the dataset but is there in the survey)\n",
    "8. Other source: Pico-Hyro (power capacity question not mentioned in the survey)"
   ]
  },
  {
   "cell_type": "code",
   "execution_count": 4,
   "metadata": {
    "ExecuteTime": {
     "end_time": "2020-12-29T12:42:44.359766Z",
     "start_time": "2020-12-29T12:42:44.338742Z"
    },
    "scrolled": false
   },
   "outputs": [
    {
     "name": "stdout",
     "output_type": "stream",
     "text": [
      "<class 'pandas.core.frame.DataFrame'>\n",
      "Int64Index: 3295 entries, 0 to 3294\n",
      "Data columns (total 5 columns):\n",
      " #   Column  Non-Null Count  Dtype  \n",
      "---  ------  --------------  -----  \n",
      " 0   C22     1478 non-null   float64\n",
      " 1   C64     8 non-null      float64\n",
      " 2   C88     1 non-null      float64\n",
      " 3   C117    1 non-null      float64\n",
      " 4   C119A   4 non-null      float64\n",
      "dtypes: float64(5)\n",
      "memory usage: 154.5 KB\n"
     ]
    }
   ],
   "source": [
    "df_capacity = df[['C22', \n",
    "                  'C64',\n",
    "                  'C88',\n",
    "                  'C117',\n",
    "                  'C119A']]\n",
    "df_capacity.info()"
   ]
  },
  {
   "cell_type": "code",
   "execution_count": 5,
   "metadata": {
    "ExecuteTime": {
     "end_time": "2020-12-29T12:42:44.391766Z",
     "start_time": "2020-12-29T12:42:44.364739Z"
    }
   },
   "outputs": [
    {
     "data": {
      "text/plain": [
       "0      NaN\n",
       "1      NaN\n",
       "2      NaN\n",
       "3      NaN\n",
       "4      NaN\n",
       "5      NaN\n",
       "6     9.30\n",
       "7      NaN\n",
       "8    37.21\n",
       "9      NaN\n",
       "Name: C22, dtype: float64"
      ]
     },
     "execution_count": 5,
     "metadata": {},
     "output_type": "execute_result"
    }
   ],
   "source": [
    "df_capacity['C22'][0:10]"
   ]
  },
  {
   "cell_type": "code",
   "execution_count": 6,
   "metadata": {
    "ExecuteTime": {
     "end_time": "2020-12-29T12:42:44.407739Z",
     "start_time": "2020-12-29T12:42:44.398739Z"
    }
   },
   "outputs": [],
   "source": [
    "# renaming the columns\n",
    "df_capacity.columns = ['National_Grid', 'Mini_Grid','Generator','Inverter','Battery']"
   ]
  },
  {
   "cell_type": "markdown",
   "metadata": {},
   "source": [
    "## Total_capacity\n",
    "Total capacity is the sum of capacities of all the power sources.\n",
    "\n",
    "1. Page 14 of MTF Energy Access Country Diagnostic report confirms that the average monthly household consumption of electricity is 20.8 kWh nationwide, 29.2 kWh in urban areas, and 9.9 kWh in rural areas. This means that the values recorded in the MTF survey for capacity are in kWh.\n",
    "\n",
    "2. 26.8% of households households have been assessed as having basic access to electricity supply. The remaining 73.2% have no electricity source"
   ]
  },
  {
   "cell_type": "code",
   "execution_count": 7,
   "metadata": {
    "ExecuteTime": {
     "end_time": "2020-12-29T12:42:44.675733Z",
     "start_time": "2020-12-29T12:42:44.412737Z"
    },
    "scrolled": true
   },
   "outputs": [],
   "source": [
    "lst=[]\n",
    "for i in range(df_capacity.shape[0]):\n",
    "    temp=0\n",
    "    for j in range(df_capacity.shape[1]):\n",
    "        if math.isnan(df_capacity.iat[i,j]):\n",
    "            temp = temp\n",
    "        else:\n",
    "            temp = temp + df_capacity.iat[i,j]\n",
    "    lst.append(temp)\n",
    "\n",
    "# adding list to dataframe\n",
    "df_capacity[\"Total_Capacity_in_kWh_month\"] = lst"
   ]
  },
  {
   "cell_type": "code",
   "execution_count": 8,
   "metadata": {
    "ExecuteTime": {
     "end_time": "2020-12-29T12:42:44.722734Z",
     "start_time": "2020-12-29T12:42:44.683739Z"
    },
    "scrolled": true
   },
   "outputs": [
    {
     "data": {
      "text/html": [
       "<div>\n",
       "<style scoped>\n",
       "    .dataframe tbody tr th:only-of-type {\n",
       "        vertical-align: middle;\n",
       "    }\n",
       "\n",
       "    .dataframe tbody tr th {\n",
       "        vertical-align: top;\n",
       "    }\n",
       "\n",
       "    .dataframe thead th {\n",
       "        text-align: right;\n",
       "    }\n",
       "</style>\n",
       "<table border=\"1\" class=\"dataframe\">\n",
       "  <thead>\n",
       "    <tr style=\"text-align: right;\">\n",
       "      <th></th>\n",
       "      <th>National_Grid</th>\n",
       "      <th>Mini_Grid</th>\n",
       "      <th>Generator</th>\n",
       "      <th>Inverter</th>\n",
       "      <th>Battery</th>\n",
       "      <th>Total_Capacity_in_kWh_month</th>\n",
       "    </tr>\n",
       "  </thead>\n",
       "  <tbody>\n",
       "    <tr>\n",
       "      <th>50</th>\n",
       "      <td>NaN</td>\n",
       "      <td>NaN</td>\n",
       "      <td>NaN</td>\n",
       "      <td>NaN</td>\n",
       "      <td>NaN</td>\n",
       "      <td>0.00</td>\n",
       "    </tr>\n",
       "    <tr>\n",
       "      <th>51</th>\n",
       "      <td>NaN</td>\n",
       "      <td>NaN</td>\n",
       "      <td>NaN</td>\n",
       "      <td>NaN</td>\n",
       "      <td>NaN</td>\n",
       "      <td>0.00</td>\n",
       "    </tr>\n",
       "    <tr>\n",
       "      <th>52</th>\n",
       "      <td>NaN</td>\n",
       "      <td>NaN</td>\n",
       "      <td>NaN</td>\n",
       "      <td>NaN</td>\n",
       "      <td>NaN</td>\n",
       "      <td>0.00</td>\n",
       "    </tr>\n",
       "    <tr>\n",
       "      <th>53</th>\n",
       "      <td>NaN</td>\n",
       "      <td>NaN</td>\n",
       "      <td>NaN</td>\n",
       "      <td>NaN</td>\n",
       "      <td>NaN</td>\n",
       "      <td>0.00</td>\n",
       "    </tr>\n",
       "    <tr>\n",
       "      <th>54</th>\n",
       "      <td>NaN</td>\n",
       "      <td>NaN</td>\n",
       "      <td>NaN</td>\n",
       "      <td>NaN</td>\n",
       "      <td>NaN</td>\n",
       "      <td>0.00</td>\n",
       "    </tr>\n",
       "    <tr>\n",
       "      <th>55</th>\n",
       "      <td>18.60</td>\n",
       "      <td>NaN</td>\n",
       "      <td>NaN</td>\n",
       "      <td>NaN</td>\n",
       "      <td>NaN</td>\n",
       "      <td>18.60</td>\n",
       "    </tr>\n",
       "    <tr>\n",
       "      <th>56</th>\n",
       "      <td>20.93</td>\n",
       "      <td>NaN</td>\n",
       "      <td>NaN</td>\n",
       "      <td>NaN</td>\n",
       "      <td>NaN</td>\n",
       "      <td>20.93</td>\n",
       "    </tr>\n",
       "    <tr>\n",
       "      <th>57</th>\n",
       "      <td>4.65</td>\n",
       "      <td>NaN</td>\n",
       "      <td>NaN</td>\n",
       "      <td>NaN</td>\n",
       "      <td>NaN</td>\n",
       "      <td>4.65</td>\n",
       "    </tr>\n",
       "    <tr>\n",
       "      <th>58</th>\n",
       "      <td>4.65</td>\n",
       "      <td>NaN</td>\n",
       "      <td>NaN</td>\n",
       "      <td>NaN</td>\n",
       "      <td>NaN</td>\n",
       "      <td>4.65</td>\n",
       "    </tr>\n",
       "    <tr>\n",
       "      <th>59</th>\n",
       "      <td>NaN</td>\n",
       "      <td>NaN</td>\n",
       "      <td>NaN</td>\n",
       "      <td>NaN</td>\n",
       "      <td>NaN</td>\n",
       "      <td>0.00</td>\n",
       "    </tr>\n",
       "  </tbody>\n",
       "</table>\n",
       "</div>"
      ],
      "text/plain": [
       "    National_Grid  Mini_Grid  Generator  Inverter  Battery  \\\n",
       "50            NaN        NaN        NaN       NaN      NaN   \n",
       "51            NaN        NaN        NaN       NaN      NaN   \n",
       "52            NaN        NaN        NaN       NaN      NaN   \n",
       "53            NaN        NaN        NaN       NaN      NaN   \n",
       "54            NaN        NaN        NaN       NaN      NaN   \n",
       "55          18.60        NaN        NaN       NaN      NaN   \n",
       "56          20.93        NaN        NaN       NaN      NaN   \n",
       "57           4.65        NaN        NaN       NaN      NaN   \n",
       "58           4.65        NaN        NaN       NaN      NaN   \n",
       "59            NaN        NaN        NaN       NaN      NaN   \n",
       "\n",
       "    Total_Capacity_in_kWh_month  \n",
       "50                         0.00  \n",
       "51                         0.00  \n",
       "52                         0.00  \n",
       "53                         0.00  \n",
       "54                         0.00  \n",
       "55                        18.60  \n",
       "56                        20.93  \n",
       "57                         4.65  \n",
       "58                         4.65  \n",
       "59                         0.00  "
      ]
     },
     "execution_count": 8,
     "metadata": {},
     "output_type": "execute_result"
    }
   ],
   "source": [
    "df_capacity[50:60]"
   ]
  },
  {
   "cell_type": "code",
   "execution_count": 9,
   "metadata": {
    "ExecuteTime": {
     "end_time": "2020-12-29T12:42:44.754741Z",
     "start_time": "2020-12-29T12:42:44.729744Z"
    }
   },
   "outputs": [
    {
     "data": {
      "text/plain": [
       "0.000      1810\n",
       "4.650       287\n",
       "9.300       220\n",
       "18.600      152\n",
       "2.330       137\n",
       "23.260      118\n",
       "13.950      117\n",
       "6.980        84\n",
       "27.910       60\n",
       "46.510       49\n",
       "37.210       39\n",
       "69.770       29\n",
       "11.630       26\n",
       "93.020       23\n",
       "32.560       20\n",
       "55.810       12\n",
       "139.530      11\n",
       "16.280       10\n",
       "5.580         8\n",
       "20.930        6\n",
       "41.860        6\n",
       "186.050       6\n",
       "2.790         5\n",
       "3.260         4\n",
       "3.720         4\n",
       "162.790       4\n",
       "74.420        4\n",
       "116.280       3\n",
       "9.302         2\n",
       "4.651         2\n",
       "83.720        2\n",
       "8.370         2\n",
       "6.050         2\n",
       "34.880        2\n",
       "65.120        2\n",
       "37.205        2\n",
       "11.160        2\n",
       "232.560       2\n",
       "76.740        1\n",
       "10.000        1\n",
       "2.000         1\n",
       "12.000        1\n",
       "400.000       1\n",
       "60.470        1\n",
       "79.070        1\n",
       "4.190         1\n",
       "290.000       1\n",
       "9.301         1\n",
       "279.070       1\n",
       "88.370        1\n",
       "58.140        1\n",
       "25.580        1\n",
       "4.020         1\n",
       "97.670        1\n",
       "325.580       1\n",
       "18.602        1\n",
       "195.350       1\n",
       "5.120         1\n",
       "10.230        1\n",
       "Name: Total_Capacity_in_kWh_month, dtype: int64"
      ]
     },
     "execution_count": 9,
     "metadata": {},
     "output_type": "execute_result"
    }
   ],
   "source": [
    "df_capacity[\"Total_Capacity_in_kWh_month\"].value_counts()"
   ]
  },
  {
   "cell_type": "markdown",
   "metadata": {},
   "source": [
    "The power capacity units provided in the dataset are in monthly kWh. However, for TIER analysis the units are in daily Wh consumption. Therefore, dividing the dataset by 30 and multiplying it by 1000."
   ]
  },
  {
   "cell_type": "code",
   "execution_count": 10,
   "metadata": {
    "ExecuteTime": {
     "end_time": "2020-12-29T12:42:44.785736Z",
     "start_time": "2020-12-29T12:42:44.758740Z"
    }
   },
   "outputs": [],
   "source": [
    "df_capacity[\"Total_Capacity_in_W\"] = df_capacity[\"Total_Capacity_in_kWh_month\"].apply(lambda x: x if math.isnan(x) else (x*1000)/30)"
   ]
  },
  {
   "cell_type": "code",
   "execution_count": 11,
   "metadata": {
    "ExecuteTime": {
     "end_time": "2020-12-29T12:42:44.816743Z",
     "start_time": "2020-12-29T12:42:44.791742Z"
    }
   },
   "outputs": [],
   "source": [
    "# Replacing 0 values again with NaN\n",
    "df_capacity[\"Total_Capacity_in_W\"].replace(0, np.nan, inplace=True)\n",
    "#df_capacity[\"Total_Capacity_in_W\"]"
   ]
  },
  {
   "cell_type": "code",
   "execution_count": 12,
   "metadata": {
    "ExecuteTime": {
     "end_time": "2020-12-29T12:42:44.848736Z",
     "start_time": "2020-12-29T12:42:44.824740Z"
    }
   },
   "outputs": [],
   "source": [
    "#Replacing NaN values with \"Missing_data\" \n",
    "df_capacity[\"Total_Capacity_in_W\"] = df_capacity[\"Total_Capacity_in_W\"].apply(lambda x: \"Missing_data\" if math.isnan(x) else x)"
   ]
  },
  {
   "cell_type": "markdown",
   "metadata": {
    "ExecuteTime": {
     "end_time": "2020-12-22T00:25:11.254237Z",
     "start_time": "2020-12-22T00:25:11.249235Z"
    }
   },
   "source": [
    "### Calculating the tier level"
   ]
  },
  {
   "cell_type": "code",
   "execution_count": 13,
   "metadata": {
    "ExecuteTime": {
     "end_time": "2020-12-29T12:42:44.880738Z",
     "start_time": "2020-12-29T12:42:44.853737Z"
    }
   },
   "outputs": [],
   "source": [
    "def fun_E_capacity(Total_Capacity):\n",
    "    if Total_Capacity == 'Missing_data':\n",
    "        return 0\n",
    "    elif Total_Capacity<3:\n",
    "        return 0\n",
    "    elif 3 <= Total_Capacity < 50:\n",
    "        return 1\n",
    "    elif 50 <= Total_Capacity < 200:\n",
    "        return 2\n",
    "    elif 200 <= Total_Capacity < 800:\n",
    "        return 3\n",
    "    elif 800 <= Total_Capacity < 2000:\n",
    "        return 4\n",
    "    else:\n",
    "        return 5\n",
    "    \n",
    "func = np.vectorize(fun_E_capacity)\n",
    "df_capacity[\"E_capacity\"] = func(df_capacity[\"Total_Capacity_in_W\"])\n",
    "#df_capacity[\"E_capacity\"] "
   ]
  },
  {
   "cell_type": "code",
   "execution_count": 14,
   "metadata": {
    "ExecuteTime": {
     "end_time": "2020-12-29T12:42:45.528747Z",
     "start_time": "2020-12-29T12:42:44.885738Z"
    }
   },
   "outputs": [
    {
     "data": {
      "text/plain": [
       "Text(0.5, 1.0, 'TIER levels based on power capacity')"
      ]
     },
     "execution_count": 14,
     "metadata": {},
     "output_type": "execute_result"
    },
    {
     "data": {
      "image/png": "[encoded data removed]",
      "text/plain": [
       "<Figure size 1296x432 with 2 Axes>"
      ]
     },
     "metadata": {
      "needs_background": "light"
     },
     "output_type": "display_data"
    }
   ],
   "source": [
    "#Pie plot\n",
    "f,ax=plt.subplots(1,2, figsize=(18,6))\n",
    "df_capacity[\"E_capacity\"].value_counts().plot.pie( autopct='%1.0f%%',ax=ax[0])\n",
    "ax[0].set_title('TIER levels based on power capacity')\n",
    "\n",
    "#Boxplot\n",
    "sns.countplot('E_capacity',data=df_capacity,ax=ax[1])\n",
    "ax[1].set_title('TIER levels based on power capacity')"
   ]
  },
  {
   "cell_type": "code",
   "execution_count": 15,
   "metadata": {
    "ExecuteTime": {
     "end_time": "2020-12-29T12:42:45.560739Z",
     "start_time": "2020-12-29T12:42:45.533739Z"
    }
   },
   "outputs": [],
   "source": [
    "#sns.pairplot(df_capacity)"
   ]
  },
  {
   "cell_type": "markdown",
   "metadata": {},
   "source": [
    "# Attribute: Availabilty"
   ]
  },
  {
   "cell_type": "markdown",
   "metadata": {},
   "source": [
    "## Availability: Day and night"
   ]
  },
  {
   "cell_type": "markdown",
   "metadata": {
    "ExecuteTime": {
     "end_time": "2020-12-22T11:23:54.490065Z",
     "start_time": "2020-12-22T11:23:54.466062Z"
    }
   },
   "source": [
    "### Day Total-Availability\n",
    "\n",
    "In this step Total availabilty for all the power sources has been analysed. Taking the worst months into consideration, the missing values in \"worst\" months have been added from the \"typical\" months. This is done as the World bank takes the worst condition into account for enery access assessment."
   ]
  },
  {
   "cell_type": "markdown",
   "metadata": {},
   "source": [
    "Methodology:\n",
    "\n",
    "To understand the attribute more carefully, features from every power souce have been taekn into consideration; \n",
    "\n",
    "* C26A represents the hours of electricity available each day and night from the national grid in the worst months. \n",
    "* Whereas, C26B represents the hours of electricity available each day and night from  the national grid in the typical months.\n",
    "* C68A represents the hours of electricity available each day and night from the mini grid in the worst months.\n",
    "* Whereas, C68B represents the hours of electricity available each day and night from  the mini grid in the typical months.\n",
    "* C107A represents the hours of electricity available each day and night from the generator set in the worst months.\n",
    "* Whereas, C107B represents the hours of electricity available each day and night from  the generator set in the typical months.\n",
    "* C127 represents the hours of electricity available each day from the rechargeable battery.\n",
    "* C137A represents the hours of electricity available each day and night from pico-hydro in the worst months.\n",
    "* Whereas, C137B represents the hours of electricity available each day and night from  pico-hydro in the typical months.\n",
    "* C172A represents the hours of electricity available each day and night from  main solar based devices in the worst months.\n",
    "* Whereas, C172B represents the hours of electricity available each day and night from  main solar based devices in the typical months."
   ]
  },
  {
   "cell_type": "code",
   "execution_count": 16,
   "metadata": {
    "ExecuteTime": {
     "end_time": "2020-12-29T12:42:45.605732Z",
     "start_time": "2020-12-29T12:42:45.566736Z"
    },
    "scrolled": true
   },
   "outputs": [
    {
     "name": "stdout",
     "output_type": "stream",
     "text": [
      "<class 'pandas.core.frame.DataFrame'>\n",
      "Int64Index: 3295 entries, 0 to 3294\n",
      "Data columns (total 11 columns):\n",
      " #   Column  Non-Null Count  Dtype   \n",
      "---  ------  --------------  -----   \n",
      " 0   C26A    652 non-null    category\n",
      " 1   C26B    1591 non-null   category\n",
      " 2   C68A    2 non-null      category\n",
      " 3   C68B    8 non-null      category\n",
      " 4   C107A   1 non-null      category\n",
      " 5   C107B   1 non-null      category\n",
      " 6   C127    4 non-null      category\n",
      " 7   C137A   3 non-null      category\n",
      " 8   C137B   5 non-null      category\n",
      " 9   C172A   39 non-null     category\n",
      " 10  C172B   109 non-null    category\n",
      "dtypes: category(11)\n",
      "memory usage: 224.8 KB\n"
     ]
    }
   ],
   "source": [
    "df_availability_day= df[['C26A','C26B','C68A','C68B','C107A','C107B','C127','C137A','C137B','C172A','C172B']]\n",
    "df_availability_day.info()"
   ]
  },
  {
   "cell_type": "code",
   "execution_count": 17,
   "metadata": {
    "ExecuteTime": {
     "end_time": "2020-12-29T12:42:45.621741Z",
     "start_time": "2020-12-29T12:42:45.610741Z"
    }
   },
   "outputs": [],
   "source": [
    "df_availability_day.columns = ['National_grid_Worst', 'National_grid_Typical','Mini_grid_Worst','Mini_grid_Typical','Generator_set_Worst','Generator_set_Typical','Battery','Pico_hydro_Worst','Pico_hydro_Typical','Solar_device_Worst','Solar_device_Typical']"
   ]
  },
  {
   "cell_type": "code",
   "execution_count": 18,
   "metadata": {
    "ExecuteTime": {
     "end_time": "2020-12-29T12:42:45.652735Z",
     "start_time": "2020-12-29T12:42:45.626736Z"
    }
   },
   "outputs": [
    {
     "data": {
      "text/plain": [
       "65           NaN\n",
       "66           NaN\n",
       "67           NaN\n",
       "68    Don't know\n",
       "69           NaN\n",
       "70           NaN\n",
       "71             2\n",
       "72           NaN\n",
       "73           NaN\n",
       "74            12\n",
       "Name: C26A, dtype: category\n",
       "Categories (25, object): [1 < 2 < 3 < 4 ... 22 < 23 < 24 < Don't know]"
      ]
     },
     "execution_count": 18,
     "metadata": {},
     "output_type": "execute_result"
    }
   ],
   "source": [
    "df['C26A'][65:75]"
   ]
  },
  {
   "cell_type": "code",
   "execution_count": 19,
   "metadata": {
    "ExecuteTime": {
     "end_time": "2020-12-29T12:42:45.684739Z",
     "start_time": "2020-12-29T12:42:45.657741Z"
    }
   },
   "outputs": [
    {
     "data": {
      "text/plain": [
       "112"
      ]
     },
     "execution_count": 19,
     "metadata": {},
     "output_type": "execute_result"
    }
   ],
   "source": [
    "len(df_availability_day[df_availability_day[\"National_grid_Worst\"] == \"Don't know\"])"
   ]
  },
  {
   "cell_type": "code",
   "execution_count": 20,
   "metadata": {
    "ExecuteTime": {
     "end_time": "2020-12-29T12:42:45.716733Z",
     "start_time": "2020-12-29T12:42:45.689737Z"
    }
   },
   "outputs": [],
   "source": [
    "#National Grid\n",
    "df_availability_day['National_grid_Worst'] = pd.to_numeric(df_availability_day['National_grid_Worst'], errors='coerce')\n",
    "df_availability_day['National_grid_Typical'] = pd.to_numeric(df_availability_day['National_grid_Typical'], errors='coerce')\n",
    "df_availability_day['National_grid_Total'] = df_availability_day['National_grid_Worst'].fillna(value=df_availability_day['National_grid_Typical'])"
   ]
  },
  {
   "cell_type": "code",
   "execution_count": 21,
   "metadata": {
    "ExecuteTime": {
     "end_time": "2020-12-29T12:42:45.761735Z",
     "start_time": "2020-12-29T12:42:45.722739Z"
    }
   },
   "outputs": [],
   "source": [
    "#Mini Grid \n",
    "df_availability_day['Mini_grid_Worst'] = pd.to_numeric(df_availability_day['Mini_grid_Worst'], errors='coerce')\n",
    "df_availability_day['Mini_grid_Typical'] = pd.to_numeric(df_availability_day['Mini_grid_Typical'], errors='coerce')\n",
    "df_availability_day['Mini_grid_Total'] = df_availability_day['Mini_grid_Worst'].fillna(value=df_availability_day['Mini_grid_Typical'])"
   ]
  },
  {
   "cell_type": "code",
   "execution_count": 22,
   "metadata": {
    "ExecuteTime": {
     "end_time": "2020-12-29T12:42:45.792737Z",
     "start_time": "2020-12-29T12:42:45.766739Z"
    }
   },
   "outputs": [],
   "source": [
    "#Generator Set\n",
    "df_availability_day['Generator_set_Worst'] = pd.to_numeric(df_availability_day['Generator_set_Worst'], errors='coerce')\n",
    "df_availability_day['Generator_set_Typical'] = pd.to_numeric(df_availability_day['Generator_set_Typical'], errors='coerce')\n",
    "df_availability_day['Generator_set_Total'] = df_availability_day['Generator_set_Worst'].fillna(value=df_availability_day['Generator_set_Typical'])"
   ]
  },
  {
   "cell_type": "code",
   "execution_count": 23,
   "metadata": {
    "ExecuteTime": {
     "end_time": "2020-12-29T12:42:45.824736Z",
     "start_time": "2020-12-29T12:42:45.804736Z"
    }
   },
   "outputs": [],
   "source": [
    "#Pico Hydro\n",
    "df_availability_day['Pico_hydro_Worst'] = pd.to_numeric(df_availability_day['Pico_hydro_Worst'], errors='coerce')\n",
    "df_availability_day['Pico_hydro_Typical'] = pd.to_numeric(df_availability_day['Pico_hydro_Typical'], errors='coerce')\n",
    "df_availability_day['Pico_hydro_Total'] = df_availability_day['Pico_hydro_Worst'].fillna(value=df_availability_day['Pico_hydro_Typical'])"
   ]
  },
  {
   "cell_type": "code",
   "execution_count": 24,
   "metadata": {
    "ExecuteTime": {
     "end_time": "2020-12-29T12:42:45.855734Z",
     "start_time": "2020-12-29T12:42:45.832739Z"
    }
   },
   "outputs": [],
   "source": [
    "#Solar Devicce\n",
    "df_availability_day['Solar_device_Worst'] = pd.to_numeric(df_availability_day['Solar_device_Worst'], errors='coerce')\n",
    "df_availability_day['Solar_device_Typical'] = pd.to_numeric(df_availability_day['Solar_device_Typical'], errors='coerce')\n",
    "df_availability_day['Solar_device_Total'] = df_availability_day['Solar_device_Worst'].fillna(value=df_availability_day['Solar_device_Typical'])"
   ]
  },
  {
   "cell_type": "code",
   "execution_count": 25,
   "metadata": {
    "ExecuteTime": {
     "end_time": "2020-12-29T12:42:45.886738Z",
     "start_time": "2020-12-29T12:42:45.859738Z"
    }
   },
   "outputs": [],
   "source": [
    "#Taking only the total values into consideration\n",
    "df_availability_day = df_availability_day[['National_grid_Total','Mini_grid_Total','Generator_set_Total','Pico_hydro_Total','Solar_device_Total','Battery']]"
   ]
  },
  {
   "cell_type": "code",
   "execution_count": 26,
   "metadata": {
    "ExecuteTime": {
     "end_time": "2020-12-29T12:42:45.918736Z",
     "start_time": "2020-12-29T12:42:45.890737Z"
    }
   },
   "outputs": [],
   "source": [
    "#Changing the string variables into float/int\n",
    "df_availability_day = df_availability_day.replace(to_replace=\"Don't know\",value=0)\n",
    "df_availability_day = df_availability_day.apply(pd.to_numeric, errors='coerce')"
   ]
  },
  {
   "cell_type": "code",
   "execution_count": 27,
   "metadata": {
    "ExecuteTime": {
     "end_time": "2020-12-29T12:42:45.950735Z",
     "start_time": "2020-12-29T12:42:45.925736Z"
    }
   },
   "outputs": [
    {
     "name": "stdout",
     "output_type": "stream",
     "text": [
      "<class 'pandas.core.frame.DataFrame'>\n",
      "Int64Index: 3295 entries, 0 to 3294\n",
      "Data columns (total 6 columns):\n",
      " #   Column               Non-Null Count  Dtype  \n",
      "---  ------               --------------  -----  \n",
      " 0   National_grid_Total  1459 non-null   float64\n",
      " 1   Mini_grid_Total      8 non-null      float64\n",
      " 2   Generator_set_Total  1 non-null      float64\n",
      " 3   Pico_hydro_Total     4 non-null      float64\n",
      " 4   Solar_device_Total   103 non-null    float64\n",
      " 5   Battery              4 non-null      float64\n",
      "dtypes: float64(6)\n",
      "memory usage: 340.2 KB\n"
     ]
    }
   ],
   "source": [
    "df_availability_day.info()"
   ]
  },
  {
   "cell_type": "markdown",
   "metadata": {},
   "source": [
    "### Day Calculating the tiel level"
   ]
  },
  {
   "cell_type": "code",
   "execution_count": 28,
   "metadata": {
    "ExecuteTime": {
     "end_time": "2020-12-29T12:42:46.250734Z",
     "start_time": "2020-12-29T12:42:45.954738Z"
    }
   },
   "outputs": [],
   "source": [
    "lst=[]\n",
    "for i in range(df_availability_day.shape[0]):\n",
    "    temp=0\n",
    "    for j in range(df_availability_day.shape[1]):\n",
    "        if math.isnan(df_availability_day.iat[i,j]):\n",
    "            temp = temp\n",
    "        else:\n",
    "            temp = temp + df_availability_day.iat[i,j]\n",
    "    lst.append(temp)\n",
    "\n",
    "# adding list to dataframe\n",
    "df_availability_day[\"Total_availability\"] = lst"
   ]
  },
  {
   "cell_type": "code",
   "execution_count": 29,
   "metadata": {
    "ExecuteTime": {
     "end_time": "2020-12-29T12:42:46.282740Z",
     "start_time": "2020-12-29T12:42:46.255737Z"
    }
   },
   "outputs": [
    {
     "data": {
      "text/plain": [
       "0"
      ]
     },
     "execution_count": 29,
     "metadata": {},
     "output_type": "execute_result"
    }
   ],
   "source": [
    "len(df_availability_day[df_availability_day[\"Total_availability\"] == \"Don't know\"])"
   ]
  },
  {
   "cell_type": "code",
   "execution_count": 30,
   "metadata": {
    "ExecuteTime": {
     "end_time": "2020-12-29T12:42:46.314738Z",
     "start_time": "2020-12-29T12:42:46.289739Z"
    }
   },
   "outputs": [],
   "source": [
    "df_availability_day['Total_availability'] = df_availability_day.replace(np.nan, 'Missing_data', regex=True)"
   ]
  },
  {
   "cell_type": "code",
   "execution_count": 31,
   "metadata": {
    "ExecuteTime": {
     "end_time": "2020-12-29T12:42:46.345732Z",
     "start_time": "2020-12-29T12:42:46.321736Z"
    }
   },
   "outputs": [
    {
     "data": {
      "text/plain": [
       "Missing_data    1836\n",
       "24.0             292\n",
       "22.0             240\n",
       "23.0             225\n",
       "20.0             204\n",
       "12.0              74\n",
       "21.0              61\n",
       "15.0              51\n",
       "18.0              46\n",
       "10.0              32\n",
       "6.0               29\n",
       "2.0               24\n",
       "5.0               23\n",
       "19.0              22\n",
       "3.0               21\n",
       "16.0              17\n",
       "4.0               16\n",
       "1.0               16\n",
       "14.0              14\n",
       "17.0              14\n",
       "8.0               12\n",
       "13.0              11\n",
       "11.0               7\n",
       "7.0                5\n",
       "9.0                3\n",
       "Name: Total_availability, dtype: int64"
      ]
     },
     "execution_count": 31,
     "metadata": {},
     "output_type": "execute_result"
    }
   ],
   "source": [
    "df_availability_day[\"Total_availability\"].value_counts()"
   ]
  },
  {
   "cell_type": "code",
   "execution_count": 32,
   "metadata": {
    "ExecuteTime": {
     "end_time": "2020-12-29T12:42:46.376737Z",
     "start_time": "2020-12-29T12:42:46.351739Z"
    }
   },
   "outputs": [],
   "source": [
    "# AVAILABILITY: Day\n",
    "#Note: conditions for TIER 1 and 2 are the same\n",
    "\n",
    "def fun_E_availability(Total_availability):\n",
    "    if Total_availability == 'Missing_data':\n",
    "        return 0\n",
    "    elif Total_availability == 0:\n",
    "        return 0\n",
    "    elif 0 < Total_availability < 4:\n",
    "        return 0\n",
    "    elif 4 <= Total_availability < 8:\n",
    "        return 1\n",
    "    elif 8 <= Total_availability < 16:\n",
    "        return 3\n",
    "    elif 16 <= Total_availability < 23:\n",
    "        return 4\n",
    "    else:\n",
    "        return 5\n",
    "    \n",
    "func = np.vectorize(fun_E_availability)\n",
    "df_availability_day[\"E_availability_day\"] = func(df_availability_day[\"Total_availability\"])"
   ]
  },
  {
   "cell_type": "code",
   "execution_count": 33,
   "metadata": {
    "ExecuteTime": {
     "end_time": "2020-12-29T12:42:46.964735Z",
     "start_time": "2020-12-29T12:42:46.383740Z"
    }
   },
   "outputs": [
    {
     "data": {
      "text/plain": [
       "Text(0.5, 1.0, 'TIER levels based on day and night power availability')"
      ]
     },
     "execution_count": 33,
     "metadata": {},
     "output_type": "execute_result"
    },
    {
     "data": {
      "image/png": "[encoded data removed]",
      "text/plain": [
       "<Figure size 1296x432 with 2 Axes>"
      ]
     },
     "metadata": {
      "needs_background": "light"
     },
     "output_type": "display_data"
    }
   ],
   "source": [
    "#Pie plot\n",
    "f,ax=plt.subplots(1,2, figsize=(18,6))\n",
    "df_availability_day['E_availability_day'].value_counts().plot.pie( autopct='%1.0f%%',ax=ax[0])\n",
    "ax[0].set_title('TIER levels based on day and night power availability')\n",
    "\n",
    "#Barplot\n",
    "sns.countplot('E_availability_day',data=df_availability_day,ax=ax[1])\n",
    "ax[1].set_title('TIER levels based on day and night power availability')"
   ]
  },
  {
   "cell_type": "markdown",
   "metadata": {},
   "source": [
    "### Evening Total-Avaliability"
   ]
  },
  {
   "cell_type": "markdown",
   "metadata": {},
   "source": [
    "Methodology:\n",
    "\n",
    "To understand the attribute more carefully, features from every power souce have been taekn into consideration; \n",
    "\n",
    "* C27A represents the hours of electricity available each evening from the national grid in the worst months. \n",
    "* Whereas, C27B represents the hours of electricity available each evening from  the national grid in the typical months.\n",
    "* C69A represents the hours of electricity available each evening from the mini grid in the worst months.\n",
    "* Whereas, C69B represents the hours of electricity available each evening from  the mini grid in the typical months.\n",
    "* C108A represents the hours of electricity available each evening from the generator set in the worst months.\n",
    "* Whereas, C108B represents the hours of electricity available each evening from  the generator set in the typical months.\n",
    "* C138A represents the hours of electricity available each evening from pico-hydro in the worst months.\n",
    "* Whereas, C138B represents the hours of electricity available each evening from  pico-hydro in the typical months.\n",
    "* C173A represents the hours of electricity available each evening from main solar based devices in the worst months.\n",
    "* Whereas, C173B represents the hours of electricity available each evening from  main solar based devices in the typical months."
   ]
  },
  {
   "cell_type": "code",
   "execution_count": 34,
   "metadata": {
    "ExecuteTime": {
     "end_time": "2020-12-29T12:42:46.996741Z",
     "start_time": "2020-12-29T12:42:46.969736Z"
    }
   },
   "outputs": [
    {
     "name": "stdout",
     "output_type": "stream",
     "text": [
      "<class 'pandas.core.frame.DataFrame'>\n",
      "Int64Index: 3295 entries, 0 to 3294\n",
      "Data columns (total 10 columns):\n",
      " #   Column  Non-Null Count  Dtype   \n",
      "---  ------  --------------  -----   \n",
      " 0   C27A    652 non-null    category\n",
      " 1   C27B    1591 non-null   category\n",
      " 2   C69A    2 non-null      category\n",
      " 3   C69B    8 non-null      category\n",
      " 4   C108A   1 non-null      category\n",
      " 5   C108B   1 non-null      category\n",
      " 6   C138A   3 non-null      category\n",
      " 7   C138B   5 non-null      category\n",
      " 8   C173A   39 non-null     category\n",
      " 9   C173B   109 non-null    category\n",
      "dtypes: category(10)\n",
      "memory usage: 219.3 KB\n"
     ]
    }
   ],
   "source": [
    "df_availability_evening= df[['C27A','C27B','C69A','C69B','C108A','C108B','C138A','C138B','C173A','C173B']]\n",
    "df_availability_evening.info()"
   ]
  },
  {
   "cell_type": "code",
   "execution_count": 35,
   "metadata": {
    "ExecuteTime": {
     "end_time": "2020-12-29T12:42:47.012735Z",
     "start_time": "2020-12-29T12:42:47.001737Z"
    }
   },
   "outputs": [],
   "source": [
    "df_availability_evening.columns = ['National_grid_Worst', 'National_grid_Typical','Mini_grid_Worst','Mini_grid_Typical','Generator_set_Worst','Generator_set_Typical','Pico_hydro_Worst','Pico_hydro_Typical','Solar_device_Worst','Solar_device_Typical']"
   ]
  },
  {
   "cell_type": "code",
   "execution_count": 36,
   "metadata": {
    "ExecuteTime": {
     "end_time": "2020-12-29T12:42:47.042739Z",
     "start_time": "2020-12-29T12:42:47.017741Z"
    }
   },
   "outputs": [
    {
     "data": {
      "text/plain": [
       "52"
      ]
     },
     "execution_count": 36,
     "metadata": {},
     "output_type": "execute_result"
    }
   ],
   "source": [
    "len(df_availability_evening[df_availability_evening[\"National_grid_Worst\"] == \"Don't know\"])"
   ]
  },
  {
   "cell_type": "markdown",
   "metadata": {},
   "source": [
    "### Evening Calculating the tier level\n",
    "\n",
    "In this step Total availabilty for all the power sources has been analysed. Taking the worst months into consideration, the missing values in \"worst\" months have been added from the \"typical\" months. This is done as the MTF takes the worst condition into account for enery access assessment."
   ]
  },
  {
   "cell_type": "code",
   "execution_count": 37,
   "metadata": {
    "ExecuteTime": {
     "end_time": "2020-12-29T12:42:47.169735Z",
     "start_time": "2020-12-29T12:42:47.047738Z"
    }
   },
   "outputs": [],
   "source": [
    "#National Grid\n",
    "df_availability_evening['National_grid_Worst'] = pd.to_numeric(df_availability_evening['National_grid_Worst'], errors='coerce')\n",
    "df_availability_evening['National_grid_Typical'] = pd.to_numeric(df_availability_evening['National_grid_Typical'], errors='coerce')\n",
    "df_availability_evening['National_grid_Total'] = df_availability_evening['National_grid_Worst'].fillna(value=df_availability_evening['National_grid_Typical'])\n",
    "\n",
    "#Mini Grid \n",
    "df_availability_evening['Mini_grid_Worst'] = pd.to_numeric(df_availability_evening['Mini_grid_Worst'], errors='coerce')\n",
    "df_availability_evening['Mini_grid_Typical'] = pd.to_numeric(df_availability_evening['Mini_grid_Typical'], errors='coerce')\n",
    "df_availability_evening['Mini_grid_Total'] = df_availability_evening['Mini_grid_Worst'].fillna(value=df_availability_evening['Mini_grid_Typical'])\n",
    "\n",
    "#Generator Set\n",
    "df_availability_evening['Generator_set_Worst'] = pd.to_numeric(df_availability_evening['Generator_set_Worst'], errors='coerce')\n",
    "df_availability_evening['Generator_set_Typical'] = pd.to_numeric(df_availability_evening['Generator_set_Typical'], errors='coerce')\n",
    "df_availability_evening['Generator_set_Total'] = df_availability_evening['Generator_set_Worst'].fillna(value=df_availability_evening['Generator_set_Typical'])\n",
    "\n",
    "#Pico Hydro\n",
    "df_availability_evening['Pico_hydro_Worst'] = pd.to_numeric(df_availability_evening['Pico_hydro_Worst'], errors='coerce')\n",
    "df_availability_evening['Pico_hydro_Typical'] = pd.to_numeric(df_availability_evening['Pico_hydro_Typical'], errors='coerce')\n",
    "df_availability_evening['Pico_hydro_Total'] = df_availability_evening['Pico_hydro_Worst'].fillna(value=df_availability_evening['Pico_hydro_Typical'])\n",
    "\n",
    "#Solar Devicce\n",
    "df_availability_evening['Solar_device_Worst'] = pd.to_numeric(df_availability_evening['Solar_device_Worst'], errors='coerce')\n",
    "df_availability_evening['Solar_device_Typical'] = pd.to_numeric(df_availability_evening['Solar_device_Typical'], errors='coerce')\n",
    "df_availability_evening['Solar_device_Total'] = df_availability_evening['Solar_device_Worst'].fillna(value=df_availability_evening['Solar_device_Typical'])\n",
    "\n",
    "\n",
    "#Taking only the total values into consideration\n",
    "df_availability_evening = df_availability_evening[['National_grid_Total','Mini_grid_Total','Generator_set_Total','Pico_hydro_Total','Solar_device_Total']]"
   ]
  },
  {
   "cell_type": "code",
   "execution_count": 38,
   "metadata": {
    "ExecuteTime": {
     "end_time": "2020-12-29T12:42:47.216735Z",
     "start_time": "2020-12-29T12:42:47.175740Z"
    }
   },
   "outputs": [
    {
     "name": "stdout",
     "output_type": "stream",
     "text": [
      "<class 'pandas.core.frame.DataFrame'>\n",
      "Int64Index: 3295 entries, 0 to 3294\n",
      "Data columns (total 5 columns):\n",
      " #   Column               Non-Null Count  Dtype  \n",
      "---  ------               --------------  -----  \n",
      " 0   National_grid_Total  1514 non-null   float64\n",
      " 1   Mini_grid_Total      8 non-null      float64\n",
      " 2   Generator_set_Total  1 non-null      float64\n",
      " 3   Pico_hydro_Total     5 non-null      float64\n",
      " 4   Solar_device_Total   106 non-null    float64\n",
      "dtypes: float64(5)\n",
      "memory usage: 314.5 KB\n"
     ]
    }
   ],
   "source": [
    "df_availability_evening = df_availability_evening.replace(to_replace=\"Don't know\",value=0)\n",
    "df_availability_evening = df_availability_evening.apply(pd.to_numeric, errors='coerce')\n",
    "df_availability_evening.info()"
   ]
  },
  {
   "cell_type": "code",
   "execution_count": 39,
   "metadata": {
    "ExecuteTime": {
     "end_time": "2020-12-29T12:42:47.248732Z",
     "start_time": "2020-12-29T12:42:47.221742Z"
    }
   },
   "outputs": [
    {
     "data": {
      "text/plain": [
       "4.0    764\n",
       "3.0    394\n",
       "2.0    239\n",
       "1.0    117\n",
       "Name: National_grid_Total, dtype: int64"
      ]
     },
     "execution_count": 39,
     "metadata": {},
     "output_type": "execute_result"
    }
   ],
   "source": [
    "df_availability_evening['National_grid_Total'].value_counts()"
   ]
  },
  {
   "cell_type": "code",
   "execution_count": 40,
   "metadata": {
    "ExecuteTime": {
     "end_time": "2020-12-29T12:42:47.514736Z",
     "start_time": "2020-12-29T12:42:47.255739Z"
    }
   },
   "outputs": [],
   "source": [
    "lst=[]\n",
    "for i in range(df_availability_evening.shape[0]):\n",
    "    temp=0\n",
    "    for j in range(df_availability_evening.shape[1]):\n",
    "        if math.isnan(df_availability_evening.iat[i,j]):\n",
    "            temp = temp\n",
    "        else:\n",
    "            temp = temp + df_availability_evening.iat[i,j]\n",
    "    lst.append(temp)\n",
    "\n",
    "# adding list to dataframe\n",
    "df_availability_evening[\"Total_availability\"] = lst"
   ]
  },
  {
   "cell_type": "code",
   "execution_count": 41,
   "metadata": {
    "ExecuteTime": {
     "end_time": "2020-12-29T12:42:47.546736Z",
     "start_time": "2020-12-29T12:42:47.519739Z"
    }
   },
   "outputs": [
    {
     "data": {
      "text/plain": [
       "0"
      ]
     },
     "execution_count": 41,
     "metadata": {},
     "output_type": "execute_result"
    }
   ],
   "source": [
    "len(df_availability_evening[df_availability_evening[\"Total_availability\"] == 888])"
   ]
  },
  {
   "cell_type": "code",
   "execution_count": 42,
   "metadata": {
    "ExecuteTime": {
     "end_time": "2020-12-29T12:42:47.562736Z",
     "start_time": "2020-12-29T12:42:47.551741Z"
    }
   },
   "outputs": [],
   "source": [
    "df_availability_evening[\"Total_availability\"] = df_availability_evening[\"Total_availability\"].replace(888, np.nan, regex=True)"
   ]
  },
  {
   "cell_type": "code",
   "execution_count": 43,
   "metadata": {
    "ExecuteTime": {
     "end_time": "2020-12-29T12:42:47.593735Z",
     "start_time": "2020-12-29T12:42:47.567746Z"
    }
   },
   "outputs": [],
   "source": [
    "df_availability_evening['Total_availability'] = df_availability_evening.replace(np.nan, 'Missing_data', regex=True)"
   ]
  },
  {
   "cell_type": "code",
   "execution_count": 44,
   "metadata": {
    "ExecuteTime": {
     "end_time": "2020-12-29T12:42:47.624732Z",
     "start_time": "2020-12-29T12:42:47.599741Z"
    }
   },
   "outputs": [],
   "source": [
    "# AVAILABILITY: Evening\n",
    "#Note: conditions for TIER 4 and 5 are the same\n",
    "\n",
    "def fun_E_availability(Total_availability):\n",
    "    if Total_availability == 'Missing_data':\n",
    "        return 0\n",
    "    elif Total_availability == 0:\n",
    "        return 0\n",
    "    elif 0 < Total_availability < 1:\n",
    "        return 0\n",
    "    elif 1 <= Total_availability < 2:\n",
    "        return 1\n",
    "    elif 2 <= Total_availability < 3:\n",
    "        return 2\n",
    "    elif 3 <= Total_availability < 4:\n",
    "        return 3\n",
    "    else:\n",
    "        return 4\n",
    "    \n",
    "func = np.vectorize(fun_E_availability) \n",
    "df_availability_evening[\"E_availability_evening\"] = func(df_availability_evening[\"Total_availability\"])"
   ]
  },
  {
   "cell_type": "code",
   "execution_count": 45,
   "metadata": {
    "ExecuteTime": {
     "end_time": "2020-12-29T12:42:48.211735Z",
     "start_time": "2020-12-29T12:42:47.629737Z"
    }
   },
   "outputs": [
    {
     "data": {
      "text/plain": [
       "Text(0.5, 1.0, 'TIER levels based on evening power availability')"
      ]
     },
     "execution_count": 45,
     "metadata": {},
     "output_type": "execute_result"
    },
    {
     "data": {
      "image/png": "[encoded data removed]",
      "text/plain": [
       "<Figure size 1296x432 with 2 Axes>"
      ]
     },
     "metadata": {
      "needs_background": "light"
     },
     "output_type": "display_data"
    }
   ],
   "source": [
    "#Pie plot\n",
    "f,ax=plt.subplots(1,2, figsize=(18,6))\n",
    "df_availability_evening['E_availability_evening'].value_counts().plot.pie( autopct='%1.0f%%',ax=ax[0])\n",
    "ax[0].set_title('TIER levels based on evening power availability')\n",
    "\n",
    "#Barplot\n",
    "sns.countplot('E_availability_evening',data=df_availability_evening,ax=ax[1])\n",
    "ax[1].set_title('TIER levels based on evening power availability')"
   ]
  },
  {
   "cell_type": "markdown",
   "metadata": {},
   "source": [
    "In the above graph we can see that the evening availability in:\n",
    "\n",
    "1. TIER 1 contributes to 4% of evening availability which is at least 1 hours\n",
    "2. TIER 2 contributes to 8% of evening availability which is at least 2 hours\n",
    "3. TIER 3 contributes to 12% of evening availability which is at least 3 hours\n",
    "4. TIER 4&5 contributes to 24% of evening availability which is at least 4 hours"
   ]
  },
  {
   "cell_type": "markdown",
   "metadata": {},
   "source": [
    "# Attribute: Reliability\n",
    "\n",
    "Methodology:\n",
    "\n",
    "To understand the attribute more carefully, features from all the power sources have been taken into consideration; \n",
    "* C29A represents the electricity disruption from the national grid in the worst months. \n",
    "* Whereas, C29B represents the electricity disruption from the national grid in the actual months.\n",
    "* C71A represents the electricity disruption from the mini grid in the worst months. \n",
    "* Whereas, C71B represents the electricity disruption from the mini grid in the actual months."
   ]
  },
  {
   "cell_type": "code",
   "execution_count": 46,
   "metadata": {
    "ExecuteTime": {
     "end_time": "2020-12-29T12:42:48.242737Z",
     "start_time": "2020-12-29T12:42:48.216737Z"
    }
   },
   "outputs": [
    {
     "name": "stdout",
     "output_type": "stream",
     "text": [
      "<class 'pandas.core.frame.DataFrame'>\n",
      "Int64Index: 3295 entries, 0 to 3294\n",
      "Data columns (total 4 columns):\n",
      " #   Column  Non-Null Count  Dtype   \n",
      "---  ------  --------------  -----   \n",
      " 0   C29A    652 non-null    category\n",
      " 1   C29B    1591 non-null   category\n",
      " 2   C71A    2 non-null      category\n",
      " 3   C71B    8 non-null      category\n",
      "dtypes: category(4)\n",
      "memory usage: 199.7 KB\n"
     ]
    }
   ],
   "source": [
    "df_reliability = df[['C29A','C29B','C71A','C71B']]\n",
    "df_reliability.info()"
   ]
  },
  {
   "cell_type": "code",
   "execution_count": 47,
   "metadata": {
    "ExecuteTime": {
     "end_time": "2020-12-29T12:42:48.258737Z",
     "start_time": "2020-12-29T12:42:48.247740Z"
    }
   },
   "outputs": [],
   "source": [
    "df_reliability.columns = ['National_grid_Worst','National_grid_Typical','Mini_grid_Worst','Mini_grid_Typical']"
   ]
  },
  {
   "cell_type": "markdown",
   "metadata": {},
   "source": [
    "## Total Reliability\n",
    "\n",
    "In this step Total reliability from all the power sources has been analysed. Taking the worst months into consideration, the missing values in \"worst\" months have been added from the \"typical\" months. This is done as the World bank takes the worst condition into account for enery access assessment."
   ]
  },
  {
   "cell_type": "code",
   "execution_count": 48,
   "metadata": {
    "ExecuteTime": {
     "end_time": "2020-12-29T12:42:48.290734Z",
     "start_time": "2020-12-29T12:42:48.263738Z"
    }
   },
   "outputs": [],
   "source": [
    "#National Grid\n",
    "df_reliability['National_grid_Worst'] = pd.to_numeric(df_reliability['National_grid_Worst'], errors='coerce')\n",
    "df_reliability['National_grid_Typical'] = pd.to_numeric(df_reliability['National_grid_Typical'], errors='coerce')\n",
    "df_reliability['National_grid_Total'] = df_reliability['National_grid_Worst'].fillna(value=df_reliability['National_grid_Typical'])\n",
    "\n",
    "#National Grid\n",
    "df_reliability['Mini_grid_Worst'] = pd.to_numeric(df_reliability['Mini_grid_Worst'], errors='coerce')\n",
    "df_reliability['Mini_grid_Typical'] = pd.to_numeric(df_reliability['Mini_grid_Typical'], errors='coerce')\n",
    "df_reliability['Mini_grid_Total'] = df_reliability['Mini_grid_Worst'].fillna(value=df_reliability['Mini_grid_Typical'])\n",
    "\n",
    "#Taking only the total values into consideration\n",
    "#df_rel_new=df_reliability[['National_grid_Total','Mini_grid_Total']]"
   ]
  },
  {
   "cell_type": "code",
   "execution_count": 49,
   "metadata": {
    "ExecuteTime": {
     "end_time": "2020-12-29T12:42:48.336732Z",
     "start_time": "2020-12-29T12:42:48.294737Z"
    }
   },
   "outputs": [
    {
     "data": {
      "text/html": [
       "<div>\n",
       "<style scoped>\n",
       "    .dataframe tbody tr th:only-of-type {\n",
       "        vertical-align: middle;\n",
       "    }\n",
       "\n",
       "    .dataframe tbody tr th {\n",
       "        vertical-align: top;\n",
       "    }\n",
       "\n",
       "    .dataframe thead th {\n",
       "        text-align: right;\n",
       "    }\n",
       "</style>\n",
       "<table border=\"1\" class=\"dataframe\">\n",
       "  <thead>\n",
       "    <tr style=\"text-align: right;\">\n",
       "      <th></th>\n",
       "      <th>National_grid_Worst</th>\n",
       "      <th>National_grid_Typical</th>\n",
       "      <th>Mini_grid_Worst</th>\n",
       "      <th>Mini_grid_Typical</th>\n",
       "      <th>National_grid_Total</th>\n",
       "      <th>Mini_grid_Total</th>\n",
       "    </tr>\n",
       "  </thead>\n",
       "  <tbody>\n",
       "    <tr>\n",
       "      <th>0</th>\n",
       "      <td>NaN</td>\n",
       "      <td>NaN</td>\n",
       "      <td>NaN</td>\n",
       "      <td>NaN</td>\n",
       "      <td>NaN</td>\n",
       "      <td>NaN</td>\n",
       "    </tr>\n",
       "    <tr>\n",
       "      <th>1</th>\n",
       "      <td>NaN</td>\n",
       "      <td>NaN</td>\n",
       "      <td>NaN</td>\n",
       "      <td>NaN</td>\n",
       "      <td>NaN</td>\n",
       "      <td>NaN</td>\n",
       "    </tr>\n",
       "    <tr>\n",
       "      <th>2</th>\n",
       "      <td>NaN</td>\n",
       "      <td>NaN</td>\n",
       "      <td>NaN</td>\n",
       "      <td>NaN</td>\n",
       "      <td>NaN</td>\n",
       "      <td>NaN</td>\n",
       "    </tr>\n",
       "    <tr>\n",
       "      <th>3</th>\n",
       "      <td>NaN</td>\n",
       "      <td>NaN</td>\n",
       "      <td>NaN</td>\n",
       "      <td>NaN</td>\n",
       "      <td>NaN</td>\n",
       "      <td>NaN</td>\n",
       "    </tr>\n",
       "    <tr>\n",
       "      <th>4</th>\n",
       "      <td>NaN</td>\n",
       "      <td>NaN</td>\n",
       "      <td>NaN</td>\n",
       "      <td>NaN</td>\n",
       "      <td>NaN</td>\n",
       "      <td>NaN</td>\n",
       "    </tr>\n",
       "    <tr>\n",
       "      <th>...</th>\n",
       "      <td>...</td>\n",
       "      <td>...</td>\n",
       "      <td>...</td>\n",
       "      <td>...</td>\n",
       "      <td>...</td>\n",
       "      <td>...</td>\n",
       "    </tr>\n",
       "    <tr>\n",
       "      <th>3290</th>\n",
       "      <td>NaN</td>\n",
       "      <td>NaN</td>\n",
       "      <td>NaN</td>\n",
       "      <td>NaN</td>\n",
       "      <td>NaN</td>\n",
       "      <td>NaN</td>\n",
       "    </tr>\n",
       "    <tr>\n",
       "      <th>3291</th>\n",
       "      <td>3.0</td>\n",
       "      <td>1.0</td>\n",
       "      <td>NaN</td>\n",
       "      <td>NaN</td>\n",
       "      <td>3.0</td>\n",
       "      <td>NaN</td>\n",
       "    </tr>\n",
       "    <tr>\n",
       "      <th>3292</th>\n",
       "      <td>1.0</td>\n",
       "      <td>NaN</td>\n",
       "      <td>NaN</td>\n",
       "      <td>NaN</td>\n",
       "      <td>1.0</td>\n",
       "      <td>NaN</td>\n",
       "    </tr>\n",
       "    <tr>\n",
       "      <th>3293</th>\n",
       "      <td>NaN</td>\n",
       "      <td>2.0</td>\n",
       "      <td>NaN</td>\n",
       "      <td>NaN</td>\n",
       "      <td>2.0</td>\n",
       "      <td>NaN</td>\n",
       "    </tr>\n",
       "    <tr>\n",
       "      <th>3294</th>\n",
       "      <td>NaN</td>\n",
       "      <td>NaN</td>\n",
       "      <td>NaN</td>\n",
       "      <td>NaN</td>\n",
       "      <td>NaN</td>\n",
       "      <td>NaN</td>\n",
       "    </tr>\n",
       "  </tbody>\n",
       "</table>\n",
       "<p>3295 rows × 6 columns</p>\n",
       "</div>"
      ],
      "text/plain": [
       "      National_grid_Worst  National_grid_Typical  Mini_grid_Worst  \\\n",
       "0                     NaN                    NaN              NaN   \n",
       "1                     NaN                    NaN              NaN   \n",
       "2                     NaN                    NaN              NaN   \n",
       "3                     NaN                    NaN              NaN   \n",
       "4                     NaN                    NaN              NaN   \n",
       "...                   ...                    ...              ...   \n",
       "3290                  NaN                    NaN              NaN   \n",
       "3291                  3.0                    1.0              NaN   \n",
       "3292                  1.0                    NaN              NaN   \n",
       "3293                  NaN                    2.0              NaN   \n",
       "3294                  NaN                    NaN              NaN   \n",
       "\n",
       "      Mini_grid_Typical  National_grid_Total  Mini_grid_Total  \n",
       "0                   NaN                  NaN              NaN  \n",
       "1                   NaN                  NaN              NaN  \n",
       "2                   NaN                  NaN              NaN  \n",
       "3                   NaN                  NaN              NaN  \n",
       "4                   NaN                  NaN              NaN  \n",
       "...                 ...                  ...              ...  \n",
       "3290                NaN                  NaN              NaN  \n",
       "3291                NaN                  3.0              NaN  \n",
       "3292                NaN                  1.0              NaN  \n",
       "3293                NaN                  2.0              NaN  \n",
       "3294                NaN                  NaN              NaN  \n",
       "\n",
       "[3295 rows x 6 columns]"
      ]
     },
     "execution_count": 49,
     "metadata": {},
     "output_type": "execute_result"
    }
   ],
   "source": [
    "df_reliability = df_reliability.replace(to_replace=\"Don't know\",value=0)\n",
    "df_reliability = df_reliability.apply(pd.to_numeric, errors='coerce')\n",
    "df_reliability"
   ]
  },
  {
   "cell_type": "code",
   "execution_count": 50,
   "metadata": {
    "ExecuteTime": {
     "end_time": "2020-12-29T12:42:48.672736Z",
     "start_time": "2020-12-29T12:42:48.340738Z"
    }
   },
   "outputs": [],
   "source": [
    "lst=[]\n",
    "for i in range(df_reliability.shape[0]):\n",
    "    temp=0\n",
    "    for j in range(df_reliability.shape[1]):\n",
    "        if math.isnan(df_reliability.iat[i,j]):\n",
    "            temp = temp\n",
    "        else:\n",
    "            temp = temp + df_reliability.iat[i,j]\n",
    "    lst.append(temp)\n",
    "\n",
    "# adding list to dataframe\n",
    "df_reliability[\"Total_reliability\"] = lst"
   ]
  },
  {
   "cell_type": "code",
   "execution_count": 51,
   "metadata": {
    "ExecuteTime": {
     "end_time": "2020-12-29T12:42:48.736735Z",
     "start_time": "2020-12-29T12:42:48.677742Z"
    }
   },
   "outputs": [
    {
     "data": {
      "text/html": [
       "<div>\n",
       "<style scoped>\n",
       "    .dataframe tbody tr th:only-of-type {\n",
       "        vertical-align: middle;\n",
       "    }\n",
       "\n",
       "    .dataframe tbody tr th {\n",
       "        vertical-align: top;\n",
       "    }\n",
       "\n",
       "    .dataframe thead th {\n",
       "        text-align: right;\n",
       "    }\n",
       "</style>\n",
       "<table border=\"1\" class=\"dataframe\">\n",
       "  <thead>\n",
       "    <tr style=\"text-align: right;\">\n",
       "      <th></th>\n",
       "      <th>National_grid_Worst</th>\n",
       "      <th>National_grid_Typical</th>\n",
       "      <th>Mini_grid_Worst</th>\n",
       "      <th>Mini_grid_Typical</th>\n",
       "      <th>National_grid_Total</th>\n",
       "      <th>Mini_grid_Total</th>\n",
       "      <th>Total_reliability</th>\n",
       "    </tr>\n",
       "  </thead>\n",
       "  <tbody>\n",
       "    <tr>\n",
       "      <th>0</th>\n",
       "      <td>NaN</td>\n",
       "      <td>NaN</td>\n",
       "      <td>NaN</td>\n",
       "      <td>NaN</td>\n",
       "      <td>NaN</td>\n",
       "      <td>NaN</td>\n",
       "      <td>Missing_data</td>\n",
       "    </tr>\n",
       "    <tr>\n",
       "      <th>1</th>\n",
       "      <td>NaN</td>\n",
       "      <td>NaN</td>\n",
       "      <td>NaN</td>\n",
       "      <td>NaN</td>\n",
       "      <td>NaN</td>\n",
       "      <td>NaN</td>\n",
       "      <td>Missing_data</td>\n",
       "    </tr>\n",
       "    <tr>\n",
       "      <th>2</th>\n",
       "      <td>NaN</td>\n",
       "      <td>NaN</td>\n",
       "      <td>NaN</td>\n",
       "      <td>NaN</td>\n",
       "      <td>NaN</td>\n",
       "      <td>NaN</td>\n",
       "      <td>Missing_data</td>\n",
       "    </tr>\n",
       "    <tr>\n",
       "      <th>3</th>\n",
       "      <td>NaN</td>\n",
       "      <td>NaN</td>\n",
       "      <td>NaN</td>\n",
       "      <td>NaN</td>\n",
       "      <td>NaN</td>\n",
       "      <td>NaN</td>\n",
       "      <td>Missing_data</td>\n",
       "    </tr>\n",
       "    <tr>\n",
       "      <th>4</th>\n",
       "      <td>NaN</td>\n",
       "      <td>NaN</td>\n",
       "      <td>NaN</td>\n",
       "      <td>NaN</td>\n",
       "      <td>NaN</td>\n",
       "      <td>NaN</td>\n",
       "      <td>Missing_data</td>\n",
       "    </tr>\n",
       "    <tr>\n",
       "      <th>...</th>\n",
       "      <td>...</td>\n",
       "      <td>...</td>\n",
       "      <td>...</td>\n",
       "      <td>...</td>\n",
       "      <td>...</td>\n",
       "      <td>...</td>\n",
       "      <td>...</td>\n",
       "    </tr>\n",
       "    <tr>\n",
       "      <th>3290</th>\n",
       "      <td>NaN</td>\n",
       "      <td>NaN</td>\n",
       "      <td>NaN</td>\n",
       "      <td>NaN</td>\n",
       "      <td>NaN</td>\n",
       "      <td>NaN</td>\n",
       "      <td>Missing_data</td>\n",
       "    </tr>\n",
       "    <tr>\n",
       "      <th>3291</th>\n",
       "      <td>3.0</td>\n",
       "      <td>1.0</td>\n",
       "      <td>NaN</td>\n",
       "      <td>NaN</td>\n",
       "      <td>3.0</td>\n",
       "      <td>NaN</td>\n",
       "      <td>3</td>\n",
       "    </tr>\n",
       "    <tr>\n",
       "      <th>3292</th>\n",
       "      <td>1.0</td>\n",
       "      <td>NaN</td>\n",
       "      <td>NaN</td>\n",
       "      <td>NaN</td>\n",
       "      <td>1.0</td>\n",
       "      <td>NaN</td>\n",
       "      <td>1</td>\n",
       "    </tr>\n",
       "    <tr>\n",
       "      <th>3293</th>\n",
       "      <td>NaN</td>\n",
       "      <td>2.0</td>\n",
       "      <td>NaN</td>\n",
       "      <td>NaN</td>\n",
       "      <td>2.0</td>\n",
       "      <td>NaN</td>\n",
       "      <td>Missing_data</td>\n",
       "    </tr>\n",
       "    <tr>\n",
       "      <th>3294</th>\n",
       "      <td>NaN</td>\n",
       "      <td>NaN</td>\n",
       "      <td>NaN</td>\n",
       "      <td>NaN</td>\n",
       "      <td>NaN</td>\n",
       "      <td>NaN</td>\n",
       "      <td>Missing_data</td>\n",
       "    </tr>\n",
       "  </tbody>\n",
       "</table>\n",
       "<p>3295 rows × 7 columns</p>\n",
       "</div>"
      ],
      "text/plain": [
       "      National_grid_Worst  National_grid_Typical  Mini_grid_Worst  \\\n",
       "0                     NaN                    NaN              NaN   \n",
       "1                     NaN                    NaN              NaN   \n",
       "2                     NaN                    NaN              NaN   \n",
       "3                     NaN                    NaN              NaN   \n",
       "4                     NaN                    NaN              NaN   \n",
       "...                   ...                    ...              ...   \n",
       "3290                  NaN                    NaN              NaN   \n",
       "3291                  3.0                    1.0              NaN   \n",
       "3292                  1.0                    NaN              NaN   \n",
       "3293                  NaN                    2.0              NaN   \n",
       "3294                  NaN                    NaN              NaN   \n",
       "\n",
       "      Mini_grid_Typical  National_grid_Total  Mini_grid_Total  \\\n",
       "0                   NaN                  NaN              NaN   \n",
       "1                   NaN                  NaN              NaN   \n",
       "2                   NaN                  NaN              NaN   \n",
       "3                   NaN                  NaN              NaN   \n",
       "4                   NaN                  NaN              NaN   \n",
       "...                 ...                  ...              ...   \n",
       "3290                NaN                  NaN              NaN   \n",
       "3291                NaN                  3.0              NaN   \n",
       "3292                NaN                  1.0              NaN   \n",
       "3293                NaN                  2.0              NaN   \n",
       "3294                NaN                  NaN              NaN   \n",
       "\n",
       "     Total_reliability  \n",
       "0         Missing_data  \n",
       "1         Missing_data  \n",
       "2         Missing_data  \n",
       "3         Missing_data  \n",
       "4         Missing_data  \n",
       "...                ...  \n",
       "3290      Missing_data  \n",
       "3291                 3  \n",
       "3292                 1  \n",
       "3293      Missing_data  \n",
       "3294      Missing_data  \n",
       "\n",
       "[3295 rows x 7 columns]"
      ]
     },
     "execution_count": 51,
     "metadata": {},
     "output_type": "execute_result"
    }
   ],
   "source": [
    "df_reliability['Total_reliability'] = df_reliability.replace(np.nan, 'Missing_data', regex=True)\n",
    "df_reliability"
   ]
  },
  {
   "cell_type": "code",
   "execution_count": 52,
   "metadata": {
    "ExecuteTime": {
     "end_time": "2020-12-29T12:42:48.768732Z",
     "start_time": "2020-12-29T12:42:48.740738Z"
    }
   },
   "outputs": [
    {
     "data": {
      "text/plain": [
       "Missing_data    2757\n",
       "1.0              207\n",
       "2.0              150\n",
       "3.0               90\n",
       "4.0               42\n",
       "5.0               27\n",
       "6.0               11\n",
       "8.0                5\n",
       "10.0               4\n",
       "7.0                2\n",
       "Name: Total_reliability, dtype: int64"
      ]
     },
     "execution_count": 52,
     "metadata": {},
     "output_type": "execute_result"
    }
   ],
   "source": [
    "df_reliability['Total_reliability'].value_counts()"
   ]
  },
  {
   "cell_type": "markdown",
   "metadata": {},
   "source": [
    "## Calculating the tier level"
   ]
  },
  {
   "cell_type": "code",
   "execution_count": 53,
   "metadata": {
    "ExecuteTime": {
     "end_time": "2020-12-29T12:42:48.799731Z",
     "start_time": "2020-12-29T12:42:48.774737Z"
    }
   },
   "outputs": [],
   "source": [
    "#Note: conditions for TIER 3 and 4 are the same and for TIER 0,1 and 2 are the same\n",
    "\n",
    "def fun_E_reliability(Total_reliability):\n",
    "    if Total_reliability == 'Missing_data':\n",
    "        return 0\n",
    "    elif Total_reliability == 0:\n",
    "        return 0\n",
    "    elif 0 < Total_reliability <= 3:\n",
    "        return 5\n",
    "    elif 3 < Total_reliability <= 14:\n",
    "        return 3\n",
    "    else:\n",
    "        return 0\n",
    "    \n",
    "func = np.vectorize(fun_E_reliability)\n",
    "df_reliability[\"E_reliability\"] = func(df_reliability[\"Total_reliability\"])"
   ]
  },
  {
   "cell_type": "code",
   "execution_count": 54,
   "metadata": {
    "ExecuteTime": {
     "end_time": "2020-12-29T12:42:49.260732Z",
     "start_time": "2020-12-29T12:42:48.805739Z"
    }
   },
   "outputs": [
    {
     "data": {
      "text/plain": [
       "Text(0.5, 1.0, 'TIER levels based on reliability')"
      ]
     },
     "execution_count": 54,
     "metadata": {},
     "output_type": "execute_result"
    },
    {
     "data": {
      "image/png": "[encoded data removed]",
      "text/plain": [
       "<Figure size 1296x432 with 2 Axes>"
      ]
     },
     "metadata": {
      "needs_background": "light"
     },
     "output_type": "display_data"
    }
   ],
   "source": [
    "#Pie plot\n",
    "f,ax=plt.subplots(1,2, figsize=(18,6))\n",
    "df_reliability[\"E_reliability\"].value_counts().plot.pie( autopct='%1.0f%%',ax=ax[0])\n",
    "ax[0].set_title('TIER levels based on reliability')\n",
    "\n",
    "#Barplot\n",
    "sns.countplot('E_reliability',data=df_reliability,ax=ax[1])\n",
    "ax[1].set_title('TIER levels based on reliability')"
   ]
  },
  {
   "cell_type": "markdown",
   "metadata": {
    "ExecuteTime": {
     "end_time": "2020-12-22T13:50:55.907152Z",
     "start_time": "2020-12-22T13:50:55.887154Z"
    }
   },
   "source": [
    "# Attribute: Quality\n",
    "\n",
    "Methodology:\n",
    "\n",
    "To understand the attribute more carefully, features from all the power sources have been taekn into consideration; \n",
    "\n",
    "* C39 represents the damaged appliances from the national grid. \n",
    "* C81 represents the damaged appliances from the mini grid.\n",
    "* C110 represents the damaged appliances from the generator set.\n",
    "* C140 represents the damaged appliances from the Pico-hydro."
   ]
  },
  {
   "cell_type": "code",
   "execution_count": 55,
   "metadata": {
    "ExecuteTime": {
     "end_time": "2020-12-29T12:42:49.276736Z",
     "start_time": "2020-12-29T12:42:49.265742Z"
    }
   },
   "outputs": [],
   "source": [
    "df_quality = df[['C39','C81','C110','C140']]"
   ]
  },
  {
   "cell_type": "code",
   "execution_count": 56,
   "metadata": {
    "ExecuteTime": {
     "end_time": "2020-12-29T12:42:49.307732Z",
     "start_time": "2020-12-29T12:42:49.281740Z"
    }
   },
   "outputs": [
    {
     "data": {
      "text/plain": [
       "400            No\n",
       "401            No\n",
       "402            No\n",
       "403            No\n",
       "404    Don?t know\n",
       "405            No\n",
       "406            No\n",
       "407            No\n",
       "408           Yes\n",
       "409            No\n",
       "Name: C39, dtype: category\n",
       "Categories (3, object): [Yes < No < Don?t know]"
      ]
     },
     "execution_count": 56,
     "metadata": {},
     "output_type": "execute_result"
    }
   ],
   "source": [
    "df[\"C39\"][400:410]"
   ]
  },
  {
   "cell_type": "code",
   "execution_count": 57,
   "metadata": {
    "ExecuteTime": {
     "end_time": "2020-12-29T12:42:49.480735Z",
     "start_time": "2020-12-29T12:42:49.312736Z"
    }
   },
   "outputs": [
    {
     "data": {
      "text/plain": [
       "133"
      ]
     },
     "execution_count": 57,
     "metadata": {},
     "output_type": "execute_result"
    }
   ],
   "source": [
    "len(df[df[\"C39\"] == \"Don?t know\"])"
   ]
  },
  {
   "cell_type": "code",
   "execution_count": 58,
   "metadata": {
    "ExecuteTime": {
     "end_time": "2020-12-29T12:42:49.498738Z",
     "start_time": "2020-12-29T12:42:49.487739Z"
    }
   },
   "outputs": [],
   "source": [
    "df_quality.columns = ['National_grid', 'Mini_grid','Generator_set','Pico_hydro']"
   ]
  },
  {
   "cell_type": "code",
   "execution_count": 59,
   "metadata": {
    "ExecuteTime": {
     "end_time": "2020-12-29T12:42:49.528733Z",
     "start_time": "2020-12-29T12:42:49.505737Z"
    }
   },
   "outputs": [],
   "source": [
    "df_quality = df_quality.replace(to_replace=\"Don?t know\",value='Missing_data')"
   ]
  },
  {
   "cell_type": "code",
   "execution_count": 60,
   "metadata": {
    "ExecuteTime": {
     "end_time": "2020-12-29T12:42:49.559735Z",
     "start_time": "2020-12-29T12:42:49.534738Z"
    }
   },
   "outputs": [],
   "source": [
    "df_quality = df_quality.replace(np.nan, 'Missing_data', regex=True)"
   ]
  },
  {
   "cell_type": "code",
   "execution_count": 61,
   "metadata": {
    "ExecuteTime": {
     "end_time": "2020-12-29T12:42:49.590732Z",
     "start_time": "2020-12-29T12:42:49.564736Z"
    }
   },
   "outputs": [
    {
     "name": "stdout",
     "output_type": "stream",
     "text": [
      "<class 'pandas.core.frame.DataFrame'>\n",
      "Int64Index: 3295 entries, 0 to 3294\n",
      "Data columns (total 4 columns):\n",
      " #   Column         Non-Null Count  Dtype   \n",
      "---  ------         --------------  -----   \n",
      " 0   National_grid  1591 non-null   category\n",
      " 1   Mini_grid      8 non-null      category\n",
      " 2   Generator_set  1 non-null      category\n",
      " 3   Pico_hydro     5 non-null      category\n",
      "dtypes: category(4)\n",
      "memory usage: 199.0 KB\n"
     ]
    }
   ],
   "source": [
    "df_quality.info()"
   ]
  },
  {
   "cell_type": "code",
   "execution_count": 62,
   "metadata": {
    "ExecuteTime": {
     "end_time": "2020-12-29T12:42:49.622732Z",
     "start_time": "2020-12-29T12:42:49.597739Z"
    }
   },
   "outputs": [],
   "source": [
    "#Note: conditions for TIER 3 and 4 are the same and for TIER 0,1 and 2 are the same\n",
    "\n",
    "def fun_E_quality(quality):\n",
    "    if quality == 'Missing_data':\n",
    "        return 0\n",
    "    elif quality == \"Yes\":\n",
    "        return 5\n",
    "    else: \n",
    "        return 0\n",
    "\n",
    "    \n",
    "func = np.vectorize(fun_E_quality)\n",
    "df_quality[\"E_quality\"] = func(df_quality['National_grid'])"
   ]
  },
  {
   "cell_type": "code",
   "execution_count": 63,
   "metadata": {
    "ExecuteTime": {
     "end_time": "2020-12-29T12:42:50.084737Z",
     "start_time": "2020-12-29T12:42:49.626737Z"
    }
   },
   "outputs": [
    {
     "data": {
      "text/plain": [
       "Text(0.5, 1.0, 'TIER levels based on reliability')"
      ]
     },
     "execution_count": 63,
     "metadata": {},
     "output_type": "execute_result"
    },
    {
     "data": {
      "image/png": "[encoded data removed]",
      "text/plain": [
       "<Figure size 1296x432 with 2 Axes>"
      ]
     },
     "metadata": {
      "needs_background": "light"
     },
     "output_type": "display_data"
    }
   ],
   "source": [
    "#Pie plot\n",
    "f,ax=plt.subplots(1,2, figsize=(18,6))\n",
    "df_quality[\"E_quality\"].value_counts().plot.pie( autopct='%1.0f%%',ax=ax[0])\n",
    "ax[0].set_title('TIER levels based on reliability')\n",
    "\n",
    "#Barplot\n",
    "sns.countplot('E_quality',data=df_quality,ax=ax[1])\n",
    "ax[1].set_title('TIER levels based on reliability')"
   ]
  },
  {
   "cell_type": "markdown",
   "metadata": {
    "ExecuteTime": {
     "end_time": "2020-12-22T16:14:50.843500Z",
     "start_time": "2020-12-22T16:14:50.832501Z"
    }
   },
   "source": [
    "# Attibute: Affordability\n",
    "No data about income was collected"
   ]
  },
  {
   "cell_type": "markdown",
   "metadata": {},
   "source": [
    "# Attribute: Legality\n",
    "\n",
    "Methodology:\n",
    "\n",
    "To understand the attribute more carefully, features from all the power sources have been taekn into consideration; \n",
    "\n",
    "* C17 represents the electricity bill payment for using the national grid. \n",
    "* C57 represents the electricity bill payment for using the mini grid."
   ]
  },
  {
   "cell_type": "code",
   "execution_count": 64,
   "metadata": {
    "ExecuteTime": {
     "end_time": "2020-12-29T12:42:50.115732Z",
     "start_time": "2020-12-29T12:42:50.090749Z"
    }
   },
   "outputs": [],
   "source": [
    "df_legality = df[['C17','C57']]\n",
    "df_legality.columns = ['Legality_National_grid','Legality_Mini_grid']"
   ]
  },
  {
   "cell_type": "code",
   "execution_count": 65,
   "metadata": {
    "ExecuteTime": {
     "end_time": "2020-12-29T12:42:50.146735Z",
     "start_time": "2020-12-29T12:42:50.120738Z"
    }
   },
   "outputs": [
    {
     "data": {
      "text/plain": [
       "No bill for electricity                    2\n",
       "Fixed monthly fee                          2\n",
       "Other                                      1\n",
       "Pay based on lights and appliances used    1\n",
       "Name: Legality_Mini_grid, dtype: int64"
      ]
     },
     "execution_count": 65,
     "metadata": {},
     "output_type": "execute_result"
    }
   ],
   "source": [
    "df_legality['Legality_Mini_grid'].value_counts()"
   ]
  },
  {
   "cell_type": "code",
   "execution_count": 66,
   "metadata": {
    "ExecuteTime": {
     "end_time": "2020-12-29T12:42:50.178737Z",
     "start_time": "2020-12-29T12:42:50.151740Z"
    }
   },
   "outputs": [
    {
     "data": {
      "text/plain": [
       "Pre-paid                                   1400\n",
       "Fixed monthly fee                           109\n",
       "Pay based on lights and appliances used      41\n",
       "No bill for electricity                      32\n",
       "Other                                        24\n",
       "Monthly bill                                 14\n",
       "We never used electricity                    10\n",
       "Utility estimates consumption                 2\n",
       "Name: Legality_National_grid, dtype: int64"
      ]
     },
     "execution_count": 66,
     "metadata": {},
     "output_type": "execute_result"
    }
   ],
   "source": [
    "df_legality['Legality_National_grid'].value_counts()"
   ]
  },
  {
   "cell_type": "code",
   "execution_count": 67,
   "metadata": {
    "ExecuteTime": {
     "end_time": "2020-12-29T12:42:50.194738Z",
     "start_time": "2020-12-29T12:42:50.185740Z"
    }
   },
   "outputs": [],
   "source": [
    "# Values vor mini-grid will be neglected"
   ]
  },
  {
   "cell_type": "code",
   "execution_count": 68,
   "metadata": {
    "ExecuteTime": {
     "end_time": "2020-12-29T12:42:50.242743Z",
     "start_time": "2020-12-29T12:42:50.222742Z"
    }
   },
   "outputs": [],
   "source": [
    "df_legality['Legality_National_grid_f'] = pd.factorize(df_legality['Legality_National_grid'])[0]"
   ]
  },
  {
   "cell_type": "code",
   "execution_count": 69,
   "metadata": {
    "ExecuteTime": {
     "end_time": "2020-12-29T12:42:50.274739Z",
     "start_time": "2020-12-29T12:42:50.255741Z"
    }
   },
   "outputs": [
    {
     "data": {
      "text/plain": [
       "-1    1663\n",
       " 1    1400\n",
       " 2     109\n",
       " 0      41\n",
       " 6      32\n",
       " 3      24\n",
       " 4      14\n",
       " 7      10\n",
       " 5       2\n",
       "Name: Legality_National_grid_f, dtype: int64"
      ]
     },
     "execution_count": 69,
     "metadata": {},
     "output_type": "execute_result"
    }
   ],
   "source": [
    "df_legality['Legality_National_grid_f'].value_counts()"
   ]
  },
  {
   "cell_type": "code",
   "execution_count": 70,
   "metadata": {
    "ExecuteTime": {
     "end_time": "2020-12-29T12:42:50.305736Z",
     "start_time": "2020-12-29T12:42:50.280766Z"
    }
   },
   "outputs": [],
   "source": [
    "def fun_E_legality(National_grid):\n",
    "    if National_grid == -1:\n",
    "        return 0\n",
    "    elif National_grid == 6 or National_grid == 7:\n",
    "        return 0\n",
    "    else:\n",
    "        return 5\n",
    "    \n",
    "func = np.vectorize(fun_E_legality)\n",
    "# \"C17f\" = Naional_grid\n",
    "df_legality[\"E_legality\"] = func(df_legality[\"Legality_National_grid_f\"])"
   ]
  },
  {
   "cell_type": "code",
   "execution_count": 71,
   "metadata": {
    "ExecuteTime": {
     "end_time": "2020-12-29T12:42:50.828735Z",
     "start_time": "2020-12-29T12:42:50.310737Z"
    }
   },
   "outputs": [
    {
     "data": {
      "text/plain": [
       "Text(0.5, 1.0, 'TIER levels based on reliability')"
      ]
     },
     "execution_count": 71,
     "metadata": {},
     "output_type": "execute_result"
    },
    {
     "data": {
      "image/png": "[encoded data removed]",
      "text/plain": [
       "<Figure size 1296x432 with 2 Axes>"
      ]
     },
     "metadata": {
      "needs_background": "light"
     },
     "output_type": "display_data"
    }
   ],
   "source": [
    "#Pie plot\n",
    "f,ax=plt.subplots(1,2, figsize=(18,6))\n",
    "df_legality['E_legality'].value_counts().plot.pie( autopct='%1.0f%%',ax=ax[0])\n",
    "ax[0].set_title('TIER levels based on reliability')\n",
    "\n",
    "#Barplot\n",
    "sns.countplot('E_legality',data=df_legality,ax=ax[1])\n",
    "ax[1].set_title('TIER levels based on reliability')"
   ]
  },
  {
   "cell_type": "markdown",
   "metadata": {},
   "source": [
    "# Attribute: Health and Safety\n",
    "\n",
    "Methodology:\n",
    "\n",
    "To understand the attribute more carefully, features from all the power sources have been taekn into consideration; \n",
    "\n",
    "* C41 represents the accidents caused using the national grid. \n",
    "* C83 represents the accidents caused using the mini grid.\n",
    "* C112 represents the accidents caused using the generator set.\n",
    "* C130 represents the accidents caused using the battery.\n",
    "* C142 represents the accidents caused using the Pico-hydro.\n",
    "* C175 represents the accidents caused using the solar based devices."
   ]
  },
  {
   "cell_type": "code",
   "execution_count": 72,
   "metadata": {
    "ExecuteTime": {
     "end_time": "2020-12-29T12:42:50.843737Z",
     "start_time": "2020-12-29T12:42:50.833738Z"
    }
   },
   "outputs": [],
   "source": [
    "df_health= df[['C41','C83','C112','C130','C142','C175']]"
   ]
  },
  {
   "cell_type": "code",
   "execution_count": 73,
   "metadata": {
    "ExecuteTime": {
     "end_time": "2020-12-29T12:42:50.874741Z",
     "start_time": "2020-12-29T12:42:50.849737Z"
    },
    "scrolled": true
   },
   "outputs": [
    {
     "data": {
      "text/plain": [
       "No     1575\n",
       "Yes       6\n",
       "Name: C41, dtype: int64"
      ]
     },
     "execution_count": 73,
     "metadata": {},
     "output_type": "execute_result"
    }
   ],
   "source": [
    "df['C41'].value_counts()"
   ]
  },
  {
   "cell_type": "code",
   "execution_count": 74,
   "metadata": {
    "ExecuteTime": {
     "end_time": "2020-12-29T12:42:50.890740Z",
     "start_time": "2020-12-29T12:42:50.879742Z"
    }
   },
   "outputs": [],
   "source": [
    "df_health.columns = ['National_grid', 'Mini_grid','Generator_set','Battery','Pico_hydro','Solar_devices']"
   ]
  },
  {
   "cell_type": "code",
   "execution_count": 75,
   "metadata": {
    "ExecuteTime": {
     "end_time": "2020-12-29T12:42:50.922734Z",
     "start_time": "2020-12-29T12:42:50.895739Z"
    }
   },
   "outputs": [
    {
     "name": "stdout",
     "output_type": "stream",
     "text": [
      "<class 'pandas.core.frame.DataFrame'>\n",
      "Int64Index: 3295 entries, 0 to 3294\n",
      "Data columns (total 6 columns):\n",
      " #   Column         Non-Null Count  Dtype   \n",
      "---  ------         --------------  -----   \n",
      " 0   National_grid  1581 non-null   category\n",
      " 1   Mini_grid      8 non-null      category\n",
      " 2   Generator_set  1 non-null      category\n",
      " 3   Battery        4 non-null      category\n",
      " 4   Pico_hydro     5 non-null      category\n",
      " 5   Solar_devices  110 non-null    category\n",
      "dtypes: category(6)\n",
      "memory usage: 205.6 KB\n"
     ]
    }
   ],
   "source": [
    "df_health = df_health.replace(np.nan, 'Missing_data')\n",
    "df_health.info()"
   ]
  },
  {
   "cell_type": "code",
   "execution_count": 76,
   "metadata": {
    "ExecuteTime": {
     "end_time": "2020-12-29T12:42:50.954739Z",
     "start_time": "2020-12-29T12:42:50.927738Z"
    }
   },
   "outputs": [
    {
     "data": {
      "text/plain": [
       "No     1575\n",
       "Yes       6\n",
       "Name: National_grid, dtype: int64"
      ]
     },
     "execution_count": 76,
     "metadata": {},
     "output_type": "execute_result"
    }
   ],
   "source": [
    "df_health[\"National_grid\"].value_counts()"
   ]
  },
  {
   "cell_type": "code",
   "execution_count": 77,
   "metadata": {
    "ExecuteTime": {
     "end_time": "2020-12-29T12:42:50.986740Z",
     "start_time": "2020-12-29T12:42:50.959737Z"
    }
   },
   "outputs": [],
   "source": [
    "def fun_E_health(National_grid):\n",
    "    if National_grid == 'No':\n",
    "        return 5\n",
    "    elif National_grid=='Yes' :\n",
    "        return 0    \n",
    "    else:\n",
    "        return 0\n",
    "    \n",
    "func = np.vectorize(fun_E_health)\n",
    "df_health[\"E_health\"] = func(df_health[\"National_grid\"])"
   ]
  },
  {
   "cell_type": "code",
   "execution_count": 78,
   "metadata": {
    "ExecuteTime": {
     "end_time": "2020-12-29T12:42:51.448740Z",
     "start_time": "2020-12-29T12:42:50.992736Z"
    },
    "scrolled": true
   },
   "outputs": [
    {
     "data": {
      "text/plain": [
       "Text(0.5, 1.0, 'TIER levels based on reliability')"
      ]
     },
     "execution_count": 78,
     "metadata": {},
     "output_type": "execute_result"
    },
    {
     "data": {
      "image/png": "[encoded data removed]",
      "text/plain": [
       "<Figure size 1296x432 with 2 Axes>"
      ]
     },
     "metadata": {
      "needs_background": "light"
     },
     "output_type": "display_data"
    }
   ],
   "source": [
    "#Pie plot\n",
    "f,ax=plt.subplots(1,2, figsize=(18,6))\n",
    "df_health['E_health'].value_counts().plot.pie( autopct='%1.0f%%',ax=ax[0])\n",
    "ax[0].set_title('TIER levels based on reliability')\n",
    "\n",
    "#Barplot\n",
    "sns.countplot('E_health',data=df_health,ax=ax[1])\n",
    "ax[1].set_title('TIER levels based on reliability')"
   ]
  },
  {
   "cell_type": "markdown",
   "metadata": {},
   "source": [
    "# Total Atributes"
   ]
  },
  {
   "cell_type": "code",
   "execution_count": 79,
   "metadata": {
    "ExecuteTime": {
     "end_time": "2020-12-29T12:42:51.982734Z",
     "start_time": "2020-12-29T12:42:51.453738Z"
    }
   },
   "outputs": [
    {
     "data": {
      "text/plain": [
       "Index(['Total_Capacity_in_kWh_month', 'Total_Availability_day_in_hours',\n",
       "       'Total_Availability_evening_in_hours', 'Total_Reliability',\n",
       "       'Total_Quality', 'Total_Legality', 'Total_Health'],\n",
       "      dtype='object')"
      ]
     },
     "execution_count": 79,
     "metadata": {},
     "output_type": "execute_result"
    }
   ],
   "source": [
    "df_Attributes = pd.DataFrame([df_capacity[\"Total_Capacity_in_kWh_month\"],df_availability_day['National_grid_Total'],df_availability_evening[\"Total_availability\"],df_reliability['Total_reliability'],df_quality['National_grid'],df_legality['Legality_National_grid_f'],df_health[\"National_grid\"]])\n",
    "Attributes_MTF_Rwanda = df_Attributes.T\n",
    "Attributes_MTF_Rwanda.columns = ['Total_Capacity_in_kWh_month','Total_Availability_day_in_hours','Total_Availability_evening_in_hours','Total_Reliability','Total_Quality','Total_Legality','Total_Health']\n",
    "\n",
    "Attributes_MTF_Rwanda.to_csv('Attributes_MTF_Rwanda.csv')\n",
    "Attributes_MTF_Rwanda.columns"
   ]
  },
  {
   "cell_type": "markdown",
   "metadata": {},
   "source": [
    "# Calculating E_Index"
   ]
  },
  {
   "cell_type": "code",
   "execution_count": 80,
   "metadata": {
    "ExecuteTime": {
     "end_time": "2020-12-29T12:42:52.238740Z",
     "start_time": "2020-12-29T12:42:51.987735Z"
    }
   },
   "outputs": [
    {
     "data": {
      "text/plain": [
       "Index(['E_capacity', 'E_availability_day', 'E_availability_evening',\n",
       "       'E_reliability', 'E_quality', 'E_legality', 'E_health'],\n",
       "      dtype='object')"
      ]
     },
     "execution_count": 80,
     "metadata": {},
     "output_type": "execute_result"
    }
   ],
   "source": [
    "# Filling the index table\n",
    "df_MTF = pd.DataFrame([df_capacity[\"E_capacity\"], df_availability_day['E_availability_day'], df_availability_evening['E_availability_evening'], df_reliability[\"E_reliability\"], df_quality[\"E_quality\"], df_legality['E_legality'], df_health['E_health']])\n",
    "HH_MTF_Rwanda = df_MTF.T\n",
    "HH_MTF_Rwanda.columns"
   ]
  },
  {
   "cell_type": "code",
   "execution_count": 81,
   "metadata": {
    "ExecuteTime": {
     "end_time": "2020-12-29T12:42:52.270739Z",
     "start_time": "2020-12-29T12:42:52.243740Z"
    }
   },
   "outputs": [
    {
     "data": {
      "text/plain": [
       "0    1810\n",
       "3     746\n",
       "2     451\n",
       "4     192\n",
       "5      96\n",
       "Name: E_capacity, dtype: int64"
      ]
     },
     "execution_count": 81,
     "metadata": {},
     "output_type": "execute_result"
    }
   ],
   "source": [
    "HH_MTF_Rwanda['E_capacity'].value_counts()"
   ]
  },
  {
   "cell_type": "code",
   "execution_count": 82,
   "metadata": {
    "ExecuteTime": {
     "end_time": "2020-12-29T12:42:52.286737Z",
     "start_time": "2020-12-29T12:42:52.275754Z"
    }
   },
   "outputs": [
    {
     "data": {
      "text/plain": [
       "array([0, 0, 0, ..., 3, 2, 0])"
      ]
     },
     "execution_count": 82,
     "metadata": {},
     "output_type": "execute_result"
    }
   ],
   "source": [
    "HH_MTF_Rwanda['E_capacity'].values"
   ]
  },
  {
   "cell_type": "code",
   "execution_count": 83,
   "metadata": {
    "ExecuteTime": {
     "end_time": "2020-12-29T12:42:52.332735Z",
     "start_time": "2020-12-29T12:42:52.291740Z"
    }
   },
   "outputs": [
    {
     "data": {
      "text/plain": [
       "1.0"
      ]
     },
     "execution_count": 83,
     "metadata": {},
     "output_type": "execute_result"
    }
   ],
   "source": [
    "w_capacity_0 = len(HH_MTF_Rwanda[HH_MTF_Rwanda[\"E_capacity\"] == 0])/len(HH_MTF_Rwanda[\"E_capacity\"])\n",
    "w_capacity_1 = len(HH_MTF_Rwanda[HH_MTF_Rwanda[\"E_capacity\"] == 1])/len(HH_MTF_Rwanda[\"E_capacity\"])\n",
    "w_capacity_2 = len(HH_MTF_Rwanda[HH_MTF_Rwanda[\"E_capacity\"] == 2])/len(HH_MTF_Rwanda[\"E_capacity\"])\n",
    "w_capacity_3 = len(HH_MTF_Rwanda[HH_MTF_Rwanda[\"E_capacity\"] == 3])/len(HH_MTF_Rwanda[\"E_capacity\"])\n",
    "w_capacity_4 = len(HH_MTF_Rwanda[HH_MTF_Rwanda[\"E_capacity\"] == 4])/len(HH_MTF_Rwanda[\"E_capacity\"])\n",
    "w_capacity_5 = len(HH_MTF_Rwanda[HH_MTF_Rwanda[\"E_capacity\"] == 5])/len(HH_MTF_Rwanda[\"E_capacity\"])\n",
    "\n",
    "w_capacity_5+w_capacity_4+w_capacity_3+w_capacity_2+w_capacity_1+w_capacity_0"
   ]
  },
  {
   "cell_type": "code",
   "execution_count": 84,
   "metadata": {
    "ExecuteTime": {
     "end_time": "2020-12-29T12:42:52.378736Z",
     "start_time": "2020-12-29T12:42:52.339735Z"
    }
   },
   "outputs": [
    {
     "data": {
      "text/plain": [
       "1.0"
      ]
     },
     "execution_count": 84,
     "metadata": {},
     "output_type": "execute_result"
    }
   ],
   "source": [
    "w_availability_day_0 = len(HH_MTF_Rwanda[HH_MTF_Rwanda[\"E_availability_day\"] == 0])/len(HH_MTF_Rwanda[\"E_availability_day\"])\n",
    "w_availability_day_1 = len(HH_MTF_Rwanda[HH_MTF_Rwanda[\"E_availability_day\"] == 1])/len(HH_MTF_Rwanda[\"E_availability_day\"])\n",
    "w_availability_day_2 = len(HH_MTF_Rwanda[HH_MTF_Rwanda[\"E_availability_day\"] == 2])/len(HH_MTF_Rwanda[\"E_availability_day\"])\n",
    "w_availability_day_3 = len(HH_MTF_Rwanda[HH_MTF_Rwanda[\"E_availability_day\"] == 3])/len(HH_MTF_Rwanda[\"E_availability_day\"])\n",
    "w_availability_day_4 = len(HH_MTF_Rwanda[HH_MTF_Rwanda[\"E_availability_day\"] == 4])/len(HH_MTF_Rwanda[\"E_availability_day\"])\n",
    "w_availability_day_5 = len(HH_MTF_Rwanda[HH_MTF_Rwanda[\"E_availability_day\"] == 5])/len(HH_MTF_Rwanda[\"E_availability_day\"])\n",
    "\n",
    "w_availability_day_5+w_availability_day_4+w_availability_day_3+w_availability_day_2+w_availability_day_1+w_availability_day_0"
   ]
  },
  {
   "cell_type": "code",
   "execution_count": 85,
   "metadata": {
    "ExecuteTime": {
     "end_time": "2020-12-29T12:42:52.410734Z",
     "start_time": "2020-12-29T12:42:52.383741Z"
    }
   },
   "outputs": [
    {
     "data": {
      "text/plain": [
       "1.0"
      ]
     },
     "execution_count": 85,
     "metadata": {},
     "output_type": "execute_result"
    }
   ],
   "source": [
    "w_availability_evening_0 = len(HH_MTF_Rwanda[HH_MTF_Rwanda[\"E_availability_evening\"] == 0])/len(HH_MTF_Rwanda[\"E_availability_evening\"])\n",
    "w_availability_evening_1 = len(HH_MTF_Rwanda[HH_MTF_Rwanda[\"E_availability_evening\"] == 1])/len(HH_MTF_Rwanda[\"E_availability_evening\"])\n",
    "w_availability_evening_2 = len(HH_MTF_Rwanda[HH_MTF_Rwanda[\"E_availability_evening\"] == 2])/len(HH_MTF_Rwanda[\"E_availability_evening\"])\n",
    "w_availability_evening_3 = len(HH_MTF_Rwanda[HH_MTF_Rwanda[\"E_availability_evening\"] == 3])/len(HH_MTF_Rwanda[\"E_availability_evening\"])\n",
    "w_availability_evening_4 = len(HH_MTF_Rwanda[HH_MTF_Rwanda[\"E_availability_evening\"] == 4])/len(HH_MTF_Rwanda[\"E_availability_evening\"])\n",
    "w_availability_evening_5 = len(HH_MTF_Rwanda[HH_MTF_Rwanda[\"E_availability_evening\"] == 5])/len(HH_MTF_Rwanda[\"E_availability_evening\"])\n",
    "\n",
    "w_availability_evening_5+w_availability_evening_4+w_availability_evening_3+w_availability_evening_2+w_availability_evening_1+w_availability_evening_0"
   ]
  },
  {
   "cell_type": "code",
   "execution_count": 86,
   "metadata": {
    "ExecuteTime": {
     "end_time": "2020-12-29T12:42:52.458736Z",
     "start_time": "2020-12-29T12:42:52.415742Z"
    }
   },
   "outputs": [
    {
     "data": {
      "text/plain": [
       "1.0"
      ]
     },
     "execution_count": 86,
     "metadata": {},
     "output_type": "execute_result"
    }
   ],
   "source": [
    "w_reliability_0 = len(HH_MTF_Rwanda[HH_MTF_Rwanda[\"E_reliability\"] == 0])/len(HH_MTF_Rwanda[\"E_reliability\"])\n",
    "w_reliability_1 = len(HH_MTF_Rwanda[HH_MTF_Rwanda[\"E_reliability\"] == 1])/len(HH_MTF_Rwanda[\"E_reliability\"])\n",
    "w_reliability_2 = len(HH_MTF_Rwanda[HH_MTF_Rwanda[\"E_reliability\"] == 2])/len(HH_MTF_Rwanda[\"E_reliability\"])\n",
    "w_reliability_3 = len(HH_MTF_Rwanda[HH_MTF_Rwanda[\"E_reliability\"] == 3])/len(HH_MTF_Rwanda[\"E_reliability\"])\n",
    "w_reliability_4 = len(HH_MTF_Rwanda[HH_MTF_Rwanda[\"E_reliability\"] == 4])/len(HH_MTF_Rwanda[\"E_reliability\"])\n",
    "w_reliability_5 = len(HH_MTF_Rwanda[HH_MTF_Rwanda[\"E_reliability\"] == 5])/len(HH_MTF_Rwanda[\"E_reliability\"])\n",
    "\n",
    "w_reliability_5+w_reliability_4+w_reliability_3+w_reliability_2+w_reliability_1+w_reliability_0"
   ]
  },
  {
   "cell_type": "code",
   "execution_count": 87,
   "metadata": {
    "ExecuteTime": {
     "end_time": "2020-12-29T12:42:52.505733Z",
     "start_time": "2020-12-29T12:42:52.464738Z"
    }
   },
   "outputs": [
    {
     "data": {
      "text/plain": [
       "1.0"
      ]
     },
     "execution_count": 87,
     "metadata": {},
     "output_type": "execute_result"
    }
   ],
   "source": [
    "w_quality_0 = len(HH_MTF_Rwanda[HH_MTF_Rwanda[\"E_quality\"] == 0])/len(HH_MTF_Rwanda[\"E_quality\"])\n",
    "w_quality_1 = len(HH_MTF_Rwanda[HH_MTF_Rwanda[\"E_quality\"] == 1])/len(HH_MTF_Rwanda[\"E_quality\"])\n",
    "w_quality_2 = len(HH_MTF_Rwanda[HH_MTF_Rwanda[\"E_quality\"] == 2])/len(HH_MTF_Rwanda[\"E_quality\"])\n",
    "w_quality_3 = len(HH_MTF_Rwanda[HH_MTF_Rwanda[\"E_quality\"] == 3])/len(HH_MTF_Rwanda[\"E_quality\"])\n",
    "w_quality_4 = len(HH_MTF_Rwanda[HH_MTF_Rwanda[\"E_quality\"] == 4])/len(HH_MTF_Rwanda[\"E_quality\"])\n",
    "w_quality_5 = len(HH_MTF_Rwanda[HH_MTF_Rwanda[\"E_quality\"] == 5])/len(HH_MTF_Rwanda[\"E_quality\"])\n",
    "\n",
    "w_quality_5+w_quality_4+w_quality_3+w_quality_2+w_quality_1+w_quality_0"
   ]
  },
  {
   "cell_type": "code",
   "execution_count": 88,
   "metadata": {
    "ExecuteTime": {
     "end_time": "2020-12-29T12:42:52.552735Z",
     "start_time": "2020-12-29T12:42:52.509738Z"
    }
   },
   "outputs": [
    {
     "data": {
      "text/plain": [
       "1.0"
      ]
     },
     "execution_count": 88,
     "metadata": {},
     "output_type": "execute_result"
    }
   ],
   "source": [
    "w_legality_0 = len(HH_MTF_Rwanda[HH_MTF_Rwanda[\"E_legality\"] == 0])/len(HH_MTF_Rwanda[\"E_legality\"])\n",
    "w_legality_1 = len(HH_MTF_Rwanda[HH_MTF_Rwanda[\"E_legality\"] == 1])/len(HH_MTF_Rwanda[\"E_legality\"])\n",
    "w_legality_2 = len(HH_MTF_Rwanda[HH_MTF_Rwanda[\"E_legality\"] == 2])/len(HH_MTF_Rwanda[\"E_legality\"])\n",
    "w_legality_3 = len(HH_MTF_Rwanda[HH_MTF_Rwanda[\"E_legality\"] == 3])/len(HH_MTF_Rwanda[\"E_legality\"])\n",
    "w_legality_4 = len(HH_MTF_Rwanda[HH_MTF_Rwanda[\"E_legality\"] == 4])/len(HH_MTF_Rwanda[\"E_legality\"])\n",
    "w_legality_5 = len(HH_MTF_Rwanda[HH_MTF_Rwanda[\"E_legality\"] == 5])/len(HH_MTF_Rwanda[\"E_legality\"])\n",
    "\n",
    "w_legality_5+w_legality_4+w_legality_3+w_legality_2+w_legality_1+w_legality_0"
   ]
  },
  {
   "cell_type": "code",
   "execution_count": 89,
   "metadata": {
    "ExecuteTime": {
     "end_time": "2020-12-29T12:42:52.600732Z",
     "start_time": "2020-12-29T12:42:52.559740Z"
    }
   },
   "outputs": [
    {
     "data": {
      "text/plain": [
       "1.0"
      ]
     },
     "execution_count": 89,
     "metadata": {},
     "output_type": "execute_result"
    }
   ],
   "source": [
    "w_health_0 = len(HH_MTF_Rwanda[HH_MTF_Rwanda[\"E_health\"] == 0])/len(HH_MTF_Rwanda[\"E_health\"])\n",
    "w_health_1 = len(HH_MTF_Rwanda[HH_MTF_Rwanda[\"E_health\"] == 1])/len(HH_MTF_Rwanda[\"E_health\"])\n",
    "w_health_2 = len(HH_MTF_Rwanda[HH_MTF_Rwanda[\"E_health\"] == 2])/len(HH_MTF_Rwanda[\"E_health\"])\n",
    "w_health_3 = len(HH_MTF_Rwanda[HH_MTF_Rwanda[\"E_health\"] == 3])/len(HH_MTF_Rwanda[\"E_health\"])\n",
    "w_health_4 = len(HH_MTF_Rwanda[HH_MTF_Rwanda[\"E_health\"] == 4])/len(HH_MTF_Rwanda[\"E_health\"])\n",
    "w_health_5 = len(HH_MTF_Rwanda[HH_MTF_Rwanda[\"E_health\"] == 5])/len(HH_MTF_Rwanda[\"E_health\"])\n",
    "\n",
    "w_health_5+w_health_4+w_health_3+w_health_2+w_health_1+w_health_0"
   ]
  },
  {
   "cell_type": "code",
   "execution_count": 90,
   "metadata": {
    "ExecuteTime": {
     "end_time": "2020-12-29T12:42:52.615740Z",
     "start_time": "2020-12-29T12:42:52.605737Z"
    }
   },
   "outputs": [],
   "source": [
    "# initiate the column w_index\n",
    "#HH_MTF_Rwanda['w_index'] = HH_MTF_Rwanda[\"E_capacity\"]"
   ]
  },
  {
   "cell_type": "code",
   "execution_count": 91,
   "metadata": {
    "ExecuteTime": {
     "end_time": "2020-12-29T12:42:52.692738Z",
     "start_time": "2020-12-29T12:42:52.621737Z"
    }
   },
   "outputs": [
    {
     "data": {
      "text/plain": [
       "0       0.000000\n",
       "1       0.000000\n",
       "2       0.000000\n",
       "3       0.000000\n",
       "4       0.000000\n",
       "          ...   \n",
       "3290    0.000000\n",
       "3291    0.058270\n",
       "3292    0.087405\n",
       "3293    0.058270\n",
       "3294    0.000000\n",
       "Name: w_capacity_i, Length: 3295, dtype: float64"
      ]
     },
     "execution_count": 91,
     "metadata": {},
     "output_type": "execute_result"
    }
   ],
   "source": [
    "# find all the indices where c1 is equal to 'Value' using .loc, and assign your desired value in c2 at those indices\n",
    "#df.loc[df['c1'] == 'Value', 'c2'] = 10\n",
    "HH_MTF_Rwanda['w_capacity_i'] = HH_MTF_Rwanda.loc[HH_MTF_Rwanda[\"E_capacity\"] == 0, 'w_capacity_index'] = w_capacity_0*HH_MTF_Rwanda[\"E_capacity\"]\n",
    "HH_MTF_Rwanda['w_capacity_i'] = HH_MTF_Rwanda.loc[HH_MTF_Rwanda[\"E_capacity\"] == 1, 'w_capacity_index'] = w_capacity_1*HH_MTF_Rwanda[\"E_capacity\"]\n",
    "HH_MTF_Rwanda['w_capacity_i'] = HH_MTF_Rwanda.loc[HH_MTF_Rwanda[\"E_capacity\"] == 2, 'w_capacity_index'] = w_capacity_2*HH_MTF_Rwanda[\"E_capacity\"]\n",
    "HH_MTF_Rwanda['w_capacity_i'] = HH_MTF_Rwanda.loc[HH_MTF_Rwanda[\"E_capacity\"] == 3, 'w_capacity_index'] = w_capacity_3*HH_MTF_Rwanda[\"E_capacity\"]\n",
    "HH_MTF_Rwanda['w_capacity_i'] = HH_MTF_Rwanda.loc[HH_MTF_Rwanda[\"E_capacity\"] == 4, 'w_capacity_index'] = w_capacity_4*HH_MTF_Rwanda[\"E_capacity\"]\n",
    "HH_MTF_Rwanda['w_capacity_i'] = HH_MTF_Rwanda.loc[HH_MTF_Rwanda[\"E_capacity\"] == 5, 'w_capacity_index'] = w_capacity_5*HH_MTF_Rwanda[\"E_capacity\"]\n",
    "HH_MTF_Rwanda['w_capacity_i']"
   ]
  },
  {
   "cell_type": "code",
   "execution_count": 92,
   "metadata": {
    "ExecuteTime": {
     "end_time": "2020-12-29T12:42:52.770735Z",
     "start_time": "2020-12-29T12:42:52.699737Z"
    }
   },
   "outputs": [
    {
     "data": {
      "text/plain": [
       "0       0.000000\n",
       "1       0.000000\n",
       "2       0.000000\n",
       "3       0.000000\n",
       "4       0.000000\n",
       "          ...   \n",
       "3290    0.000000\n",
       "3291    0.470713\n",
       "3292    0.627618\n",
       "3293    0.784522\n",
       "3294    0.000000\n",
       "Name: w_availability_day_i, Length: 3295, dtype: float64"
      ]
     },
     "execution_count": 92,
     "metadata": {},
     "output_type": "execute_result"
    }
   ],
   "source": [
    "HH_MTF_Rwanda['w_availability_day_i'] = HH_MTF_Rwanda.loc[HH_MTF_Rwanda[\"E_availability_day\"] == 0, 'w_availability_day_index'] = w_availability_day_0*HH_MTF_Rwanda[\"E_availability_day\"]\n",
    "HH_MTF_Rwanda['w_availability_day_i'] = HH_MTF_Rwanda.loc[HH_MTF_Rwanda[\"E_availability_day\"] == 1, 'w_availability_day_index'] = w_availability_day_1*HH_MTF_Rwanda[\"E_availability_day\"]\n",
    "HH_MTF_Rwanda['w_availability_day_i'] = HH_MTF_Rwanda.loc[HH_MTF_Rwanda[\"E_availability_day\"] == 2, 'w_availability_day_index'] = w_availability_day_2*HH_MTF_Rwanda[\"E_availability_day\"]\n",
    "HH_MTF_Rwanda['w_availability_day_i'] = HH_MTF_Rwanda.loc[HH_MTF_Rwanda[\"E_availability_day\"] == 3, 'w_availability_day_index'] = w_availability_day_3*HH_MTF_Rwanda[\"E_availability_day\"]\n",
    "HH_MTF_Rwanda['w_availability_day_i'] = HH_MTF_Rwanda.loc[HH_MTF_Rwanda[\"E_availability_day\"] == 4, 'w_availability_day_index'] = w_availability_day_4*HH_MTF_Rwanda[\"E_availability_day\"]\n",
    "HH_MTF_Rwanda['w_availability_day_i'] = HH_MTF_Rwanda.loc[HH_MTF_Rwanda[\"E_availability_day\"] == 5, 'w_availability_day_index'] = w_availability_day_5*HH_MTF_Rwanda[\"E_availability_day\"]\n",
    "HH_MTF_Rwanda['w_availability_day_i']"
   ]
  },
  {
   "cell_type": "code",
   "execution_count": 93,
   "metadata": {
    "ExecuteTime": {
     "end_time": "2020-12-29T12:42:52.848735Z",
     "start_time": "2020-12-29T12:42:52.775738Z"
    }
   },
   "outputs": [
    {
     "data": {
      "text/plain": [
       "0       0.0\n",
       "1       0.0\n",
       "2       0.0\n",
       "3       0.0\n",
       "4       0.0\n",
       "       ... \n",
       "3290    0.0\n",
       "3291    0.0\n",
       "3292    0.0\n",
       "3293    0.0\n",
       "3294    0.0\n",
       "Name: w_availability_evening_i, Length: 3295, dtype: float64"
      ]
     },
     "execution_count": 93,
     "metadata": {},
     "output_type": "execute_result"
    }
   ],
   "source": [
    "HH_MTF_Rwanda['w_availability_evening_i'] = HH_MTF_Rwanda.loc[HH_MTF_Rwanda[\"E_availability_evening\"] == 0, 'w_availability_evening_index'] = w_availability_evening_0*HH_MTF_Rwanda[\"E_availability_evening\"]\n",
    "HH_MTF_Rwanda['w_availability_evening_i'] = HH_MTF_Rwanda.loc[HH_MTF_Rwanda[\"E_availability_evening\"] == 1, 'w_availability_evening_index'] = w_availability_evening_1*HH_MTF_Rwanda[\"E_availability_evening\"]\n",
    "HH_MTF_Rwanda['w_availability_evening_i'] = HH_MTF_Rwanda.loc[HH_MTF_Rwanda[\"E_availability_evening\"] == 2, 'w_availability_evening_index'] = w_availability_evening_2*HH_MTF_Rwanda[\"E_availability_evening\"]\n",
    "HH_MTF_Rwanda['w_availability_evening_i'] = HH_MTF_Rwanda.loc[HH_MTF_Rwanda[\"E_availability_evening\"] == 3, 'w_availability_evening_index'] = w_availability_evening_3*HH_MTF_Rwanda[\"E_availability_evening\"]\n",
    "HH_MTF_Rwanda['w_availability_evening_i'] = HH_MTF_Rwanda.loc[HH_MTF_Rwanda[\"E_availability_evening\"] == 4, 'w_availability_evening_index'] = w_availability_evening_4*HH_MTF_Rwanda[\"E_availability_evening\"]\n",
    "HH_MTF_Rwanda['w_availability_evening_i'] = HH_MTF_Rwanda.loc[HH_MTF_Rwanda[\"E_availability_evening\"] == 5, 'w_availability_evening_index'] = w_availability_evening_5*HH_MTF_Rwanda[\"E_availability_evening\"]\n",
    "HH_MTF_Rwanda['w_availability_evening_i']"
   ]
  },
  {
   "cell_type": "code",
   "execution_count": 94,
   "metadata": {
    "ExecuteTime": {
     "end_time": "2020-12-29T12:42:52.928753Z",
     "start_time": "2020-12-29T12:42:52.853742Z"
    }
   },
   "outputs": [
    {
     "data": {
      "text/plain": [
       "0       0.0000\n",
       "1       0.0000\n",
       "2       0.0000\n",
       "3       0.0000\n",
       "4       0.0000\n",
       "         ...  \n",
       "3290    0.0000\n",
       "3291    0.6783\n",
       "3292    0.6783\n",
       "3293    0.0000\n",
       "3294    0.0000\n",
       "Name: w_reliability_i, Length: 3295, dtype: float64"
      ]
     },
     "execution_count": 94,
     "metadata": {},
     "output_type": "execute_result"
    }
   ],
   "source": [
    "HH_MTF_Rwanda['w_reliability_i'] = HH_MTF_Rwanda.loc[HH_MTF_Rwanda[\"E_reliability\"] == 0, 'w_reliability_index'] = w_reliability_0*HH_MTF_Rwanda[\"E_reliability\"]\n",
    "HH_MTF_Rwanda['w_reliability_i'] = HH_MTF_Rwanda.loc[HH_MTF_Rwanda[\"E_reliability\"] == 1, 'w_reliability_index'] = w_reliability_1*HH_MTF_Rwanda[\"E_reliability\"]\n",
    "HH_MTF_Rwanda['w_reliability_i'] = HH_MTF_Rwanda.loc[HH_MTF_Rwanda[\"E_reliability\"] == 2, 'w_reliability_index'] = w_reliability_2*HH_MTF_Rwanda[\"E_reliability\"]\n",
    "HH_MTF_Rwanda['w_reliability_i'] = HH_MTF_Rwanda.loc[HH_MTF_Rwanda[\"E_reliability\"] == 3, 'w_reliability_index'] = w_reliability_3*HH_MTF_Rwanda[\"E_reliability\"]\n",
    "HH_MTF_Rwanda['w_reliability_i'] = HH_MTF_Rwanda.loc[HH_MTF_Rwanda[\"E_reliability\"] == 4, 'w_reliability_index'] = w_reliability_4*HH_MTF_Rwanda[\"E_reliability\"]\n",
    "HH_MTF_Rwanda['w_reliability_i'] = HH_MTF_Rwanda.loc[HH_MTF_Rwanda[\"E_reliability\"] == 5, 'w_reliability_index'] = w_reliability_5*HH_MTF_Rwanda[\"E_reliability\"]\n",
    "HH_MTF_Rwanda['w_reliability_i']"
   ]
  },
  {
   "cell_type": "code",
   "execution_count": 95,
   "metadata": {
    "ExecuteTime": {
     "end_time": "2020-12-29T12:42:53.024740Z",
     "start_time": "2020-12-29T12:42:52.934737Z"
    }
   },
   "outputs": [
    {
     "data": {
      "text/plain": [
       "0       0.000000\n",
       "1       0.000000\n",
       "2       0.000000\n",
       "3       0.000000\n",
       "4       0.000000\n",
       "          ...   \n",
       "3290    0.000000\n",
       "3291    0.520486\n",
       "3292    0.000000\n",
       "3293    0.000000\n",
       "3294    0.000000\n",
       "Name: w_quality_i, Length: 3295, dtype: float64"
      ]
     },
     "execution_count": 95,
     "metadata": {},
     "output_type": "execute_result"
    }
   ],
   "source": [
    "HH_MTF_Rwanda['w_quality_i'] = HH_MTF_Rwanda.loc[HH_MTF_Rwanda[\"E_quality\"] == 0, 'w_quality_index'] = w_quality_0*HH_MTF_Rwanda[\"E_quality\"]\n",
    "HH_MTF_Rwanda['w_quality_i'] = HH_MTF_Rwanda.loc[HH_MTF_Rwanda[\"E_quality\"] == 1, 'w_quality_index'] = w_quality_1*HH_MTF_Rwanda[\"E_quality\"]\n",
    "HH_MTF_Rwanda['w_quality_i'] = HH_MTF_Rwanda.loc[HH_MTF_Rwanda[\"E_quality\"] == 2, 'w_quality_index'] = w_quality_2*HH_MTF_Rwanda[\"E_quality\"]\n",
    "HH_MTF_Rwanda['w_quality_i'] = HH_MTF_Rwanda.loc[HH_MTF_Rwanda[\"E_quality\"] == 3, 'w_quality_index'] = w_quality_3*HH_MTF_Rwanda[\"E_quality\"]\n",
    "HH_MTF_Rwanda['w_quality_i'] = HH_MTF_Rwanda.loc[HH_MTF_Rwanda[\"E_quality\"] == 4, 'w_quality_index'] = w_quality_4*HH_MTF_Rwanda[\"E_quality\"]\n",
    "HH_MTF_Rwanda['w_quality_i'] = HH_MTF_Rwanda.loc[HH_MTF_Rwanda[\"E_quality\"] == 5, 'w_quality_index'] = w_quality_5*HH_MTF_Rwanda[\"E_quality\"]\n",
    "HH_MTF_Rwanda['w_quality_i']"
   ]
  },
  {
   "cell_type": "code",
   "execution_count": 96,
   "metadata": {
    "ExecuteTime": {
     "end_time": "2020-12-29T12:42:53.120760Z",
     "start_time": "2020-12-29T12:42:53.031737Z"
    }
   },
   "outputs": [
    {
     "data": {
      "text/plain": [
       "0       2.412747\n",
       "1       0.000000\n",
       "2       0.000000\n",
       "3       0.000000\n",
       "4       0.000000\n",
       "          ...   \n",
       "3290    0.000000\n",
       "3291    2.412747\n",
       "3292    2.412747\n",
       "3293    2.412747\n",
       "3294    0.000000\n",
       "Name: w_legality_i, Length: 3295, dtype: float64"
      ]
     },
     "execution_count": 96,
     "metadata": {},
     "output_type": "execute_result"
    }
   ],
   "source": [
    "HH_MTF_Rwanda['w_legality_i'] = HH_MTF_Rwanda.loc[HH_MTF_Rwanda[\"E_legality\"] == 0, 'w_legality_index'] = w_legality_0*HH_MTF_Rwanda[\"E_legality\"]\n",
    "HH_MTF_Rwanda['w_legality_i'] = HH_MTF_Rwanda.loc[HH_MTF_Rwanda[\"E_legality\"] == 1, 'w_legality_index'] = w_legality_1*HH_MTF_Rwanda[\"E_legality\"]\n",
    "HH_MTF_Rwanda['w_legality_i'] = HH_MTF_Rwanda.loc[HH_MTF_Rwanda[\"E_legality\"] == 2, 'w_legality_index'] = w_legality_2*HH_MTF_Rwanda[\"E_legality\"]\n",
    "HH_MTF_Rwanda['w_legality_i'] = HH_MTF_Rwanda.loc[HH_MTF_Rwanda[\"E_legality\"] == 3, 'w_legality_index'] = w_legality_3*HH_MTF_Rwanda[\"E_legality\"]\n",
    "HH_MTF_Rwanda['w_legality_i'] = HH_MTF_Rwanda.loc[HH_MTF_Rwanda[\"E_legality\"] == 4, 'w_legality_index'] = w_legality_4*HH_MTF_Rwanda[\"E_legality\"]\n",
    "HH_MTF_Rwanda['w_legality_i'] = HH_MTF_Rwanda.loc[HH_MTF_Rwanda[\"E_legality\"] == 5, 'w_legality_index'] = w_legality_5*HH_MTF_Rwanda[\"E_legality\"]\n",
    "HH_MTF_Rwanda['w_legality_i']"
   ]
  },
  {
   "cell_type": "code",
   "execution_count": 97,
   "metadata": {
    "ExecuteTime": {
     "end_time": "2020-12-29T12:42:53.214737Z",
     "start_time": "2020-12-29T12:42:53.129756Z"
    }
   },
   "outputs": [
    {
     "data": {
      "text/plain": [
       "0       0.000000\n",
       "1       0.000000\n",
       "2       0.000000\n",
       "3       0.000000\n",
       "4       0.000000\n",
       "          ...   \n",
       "3290    0.000000\n",
       "3291    2.389985\n",
       "3292    2.389985\n",
       "3293    2.389985\n",
       "3294    0.000000\n",
       "Name: w_health_i, Length: 3295, dtype: float64"
      ]
     },
     "execution_count": 97,
     "metadata": {},
     "output_type": "execute_result"
    }
   ],
   "source": [
    "HH_MTF_Rwanda['w_health_i'] = HH_MTF_Rwanda.loc[HH_MTF_Rwanda[\"E_health\"] == 0, 'w_health_index'] = w_health_0*HH_MTF_Rwanda[\"E_health\"]\n",
    "HH_MTF_Rwanda['w_health_i'] = HH_MTF_Rwanda.loc[HH_MTF_Rwanda[\"E_health\"] == 1, 'w_health_index'] = w_health_1*HH_MTF_Rwanda[\"E_health\"]\n",
    "HH_MTF_Rwanda['w_health_i'] = HH_MTF_Rwanda.loc[HH_MTF_Rwanda[\"E_health\"] == 2, 'w_health_index'] = w_health_2*HH_MTF_Rwanda[\"E_health\"]\n",
    "HH_MTF_Rwanda['w_health_i'] = HH_MTF_Rwanda.loc[HH_MTF_Rwanda[\"E_health\"] == 3, 'w_health_index'] = w_health_3*HH_MTF_Rwanda[\"E_health\"]\n",
    "HH_MTF_Rwanda['w_health_i'] = HH_MTF_Rwanda.loc[HH_MTF_Rwanda[\"E_health\"] == 4, 'w_health_index'] = w_health_4*HH_MTF_Rwanda[\"E_health\"]\n",
    "HH_MTF_Rwanda['w_health_i'] = HH_MTF_Rwanda.loc[HH_MTF_Rwanda[\"E_health\"] == 5, 'w_health_index'] = w_health_5*HH_MTF_Rwanda[\"E_health\"]\n",
    "HH_MTF_Rwanda['w_health_i']"
   ]
  },
  {
   "cell_type": "code",
   "execution_count": 98,
   "metadata": {
    "ExecuteTime": {
     "end_time": "2020-12-29T12:42:53.246764Z",
     "start_time": "2020-12-29T12:42:53.221737Z"
    }
   },
   "outputs": [],
   "source": [
    "HH_MTF_Rwanda['E_Index'] = HH_MTF_Rwanda['w_capacity_i'] + (HH_MTF_Rwanda['w_availability_day_i'] + HH_MTF_Rwanda['w_availability_evening_i'])/2 + HH_MTF_Rwanda['w_reliability_i'] + HH_MTF_Rwanda['w_quality_i'] + HH_MTF_Rwanda['w_legality_i'] + HH_MTF_Rwanda['w_health_i']"
   ]
  },
  {
   "cell_type": "code",
   "execution_count": 99,
   "metadata": {
    "ExecuteTime": {
     "end_time": "2020-12-29T12:42:53.278740Z",
     "start_time": "2020-12-29T12:42:53.252738Z"
    }
   },
   "outputs": [
    {
     "data": {
      "text/plain": [
       "0       2.4\n",
       "1       0.0\n",
       "2       0.0\n",
       "3       0.0\n",
       "4       0.0\n",
       "       ... \n",
       "3290    0.0\n",
       "3291    6.3\n",
       "3292    5.9\n",
       "3293    5.3\n",
       "3294    0.0\n",
       "Name: E_Index, Length: 3295, dtype: float64"
      ]
     },
     "execution_count": 99,
     "metadata": {},
     "output_type": "execute_result"
    }
   ],
   "source": [
    "HH_MTF_Rwanda['E_Index'] = HH_MTF_Rwanda['E_Index'].round(1)\n",
    "HH_MTF_Rwanda['E_Index']"
   ]
  },
  {
   "cell_type": "code",
   "execution_count": 100,
   "metadata": {
    "ExecuteTime": {
     "end_time": "2020-12-29T12:42:53.435731Z",
     "start_time": "2020-12-29T12:42:53.284740Z"
    }
   },
   "outputs": [],
   "source": [
    "HH_MTF_Rwanda.to_csv('HH_MTF_Rwanda.csv')"
   ]
  }
 ],
 "metadata": {
  "kernelspec": {
   "display_name": "Python [conda env:.conda-PhD]",
   "language": "python",
   "name": "conda-env-.conda-PhD-py"
  },
  "language_info": {
   "codemirror_mode": {
    "name": "ipython",
    "version": 3
   },
   "file_extension": ".py",
   "mimetype": "text/x-python",
   "name": "python",
   "nbconvert_exporter": "python",
   "pygments_lexer": "ipython3",
   "version": "3.7.4"
  },
  "toc": {
   "base_numbering": 1,
   "nav_menu": {},
   "number_sections": true,
   "sideBar": true,
   "skip_h1_title": false,
   "title_cell": "Table of Contents",
   "title_sidebar": "Contents",
   "toc_cell": false,
   "toc_position": {
    "height": "calc(100% - 180px)",
    "left": "10px",
    "top": "150px",
    "width": "259.333px"
   },
   "toc_section_display": true,
   "toc_window_display": true
  },
  "varInspector": {
   "cols": {
    "lenName": 16,
    "lenType": 16,
    "lenVar": 40
   },
   "kernels_config": {
    "python": {
     "delete_cmd_postfix": "",
     "delete_cmd_prefix": "del ",
     "library": "var_list.py",
     "varRefreshCmd": "print(var_dic_list())"
    },
    "r": {
     "delete_cmd_postfix": ") ",
     "delete_cmd_prefix": "rm(",
     "library": "var_list.r",
     "varRefreshCmd": "cat(var_dic_list()) "
    }
   },
   "position": {
    "height": "571.85px",
    "left": "1102px",
    "right": "20px",
    "top": "120px",
    "width": "350px"
   },
   "types_to_exclude": [
    "module",
    "function",
    "builtin_function_or_method",
    "instance",
    "_Feature"
   ],
   "window_display": false
  }
 },
 "nbformat": 4,
 "nbformat_minor": 4
}
